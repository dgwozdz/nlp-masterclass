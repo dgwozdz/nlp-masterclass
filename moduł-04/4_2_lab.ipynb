{
 "cells": [
  {
   "cell_type": "code",
   "execution_count": null,
   "metadata": {
    "id": "5Ymykb1WaG7f"
   },
   "outputs": [],
   "source": [
    "#@title Copyright 2020 Alina Wróblewska { display-mode: \"form\" }\n",
    "#\n",
    "# Licensed under the Apache License, Version 2.0 (the \"License\");\n",
    "# you may not use this file except in compliance with the License.\n",
    "# You may obtain a copy of the License at\n",
    "#\n",
    "# https://www.apache.org/licenses/LICENSE-2.0\n",
    "#\n",
    "# Unless required by applicable law or agreed to in writing, software\n",
    "# distributed under the License is distributed on an \"AS IS\" BASIS,\n",
    "# WITHOUT WARRANTIES OR CONDITIONS OF ANY KIND, either express or implied.\n",
    "# See the License for the specific language governing permissions and\n",
    "# limitations under the License."
   ]
  },
  {
   "cell_type": "markdown",
   "metadata": {
    "id": "My1tNOJ8W_Fx"
   },
   "source": [
    "# Tagowanie\n",
    "Autor: Alina Wróblewska"
   ]
  },
  {
   "cell_type": "code",
   "execution_count": null,
   "metadata": {
    "id": "RXMSpzsAhOtq"
   },
   "outputs": [],
   "source": [
    "# W folerze 'zasoby' będą pobrane zasoby, tzn. dane, modele, \n",
    "# a do pozostałych folderów będą wpisywane predykcje.\n",
    "import os\n",
    "os.makedirs('zasoby', exist_ok=True)\n",
    "os.makedirs('predykcje', exist_ok=True)\n",
    "os.makedirs('predykcje/segmentatacja_gold', exist_ok=True)"
   ]
  },
  {
   "cell_type": "markdown",
   "metadata": {
    "id": "q49bsQmyLOsY"
   },
   "source": [
    "## Przetwarzania plików CoNLL-U\n",
    "\n",
    "\n",
    "Format CoNLL-U:\n",
    "*   każdemu segmentowi odpowiada jedna linia,\n",
    "*   zdania oddzielone są pustymi liniami,\n",
    "*   każde zdanie poprzedzone jest metadanymi zapisanymi w liniach rozpoczynających się znakiem `#`,\n",
    "*   w przypadku segmentów składających się z kilku wyrazów (np. im --> in dem w niemieckim) występuje dodatkowa linia odpowiadająca temu słowu,\n",
    "*   linia zawierająca opis pojedynczego segmentu składa się z 10 kolumn:\n",
    " 1.   ID: numer kolejny słowa w zdaniu,\n",
    " 2.   ORTH: forma tekstowa,\n",
    " 3.   **LEMMA**: lemat,\n",
    " 4. **UPOS**: [uniwersalna część mowy](https://universaldependencies.org/u/pos/index.html),\n",
    " 5. **XPOS**: tag właściwy dla danego języka,\n",
    " 6. **UFEATS**: [uniwersalne cechy morfologiczne](https://universaldependencies.org/u/feat/index.html),\n",
    " 7. HEAD: id nadrzędnika,\n",
    " 8. DEPREL: etykieta relacji zależnościowej.\n",
    "\n",
    "Do przetwarzania/zwracania plików w formacie CoNLL-U wykorzystamy bibliotekę [spacy-conll](https://pypi.org/project/spacy-conll/)."
   ]
  },
  {
   "cell_type": "code",
   "execution_count": null,
   "metadata": {
    "colab": {
     "base_uri": "https://localhost:8080/"
    },
    "id": "Oc6Uw1uehXDN",
    "outputId": "ff488cb6-d392-46c5-866e-e75129d7b6ad"
   },
   "outputs": [
    {
     "name": "stdout",
     "output_type": "stream",
     "text": [
      "Collecting spacy\n",
      "\u001b[?25l  Downloading https://files.pythonhosted.org/packages/50/b2/12466d3018bb84b039139ef76436ea7a01e98125c2aee6a81e527eb4ebe1/spacy-2.3.4-cp36-cp36m-manylinux2014_x86_64.whl (10.4MB)\n",
      "\u001b[K     |████████████████████████████████| 10.4MB 5.8MB/s \n",
      "\u001b[?25hCollecting thinc<7.5.0,>=7.4.1\n",
      "\u001b[?25l  Downloading https://files.pythonhosted.org/packages/21/76/f947dc01e8c37b59c86ac8d69adcc2411dd6b8e5036dc07353f1e5433501/thinc-7.4.4-cp36-cp36m-manylinux2014_x86_64.whl (1.1MB)\n",
      "\u001b[K     |████████████████████████████████| 1.1MB 53.3MB/s \n",
      "\u001b[?25hRequirement already satisfied, skipping upgrade: srsly<1.1.0,>=1.0.2 in /usr/local/lib/python3.6/dist-packages (from spacy) (1.0.4)\n",
      "Requirement already satisfied, skipping upgrade: murmurhash<1.1.0,>=0.28.0 in /usr/local/lib/python3.6/dist-packages (from spacy) (1.0.4)\n",
      "Requirement already satisfied, skipping upgrade: requests<3.0.0,>=2.13.0 in /usr/local/lib/python3.6/dist-packages (from spacy) (2.23.0)\n",
      "Requirement already satisfied, skipping upgrade: plac<1.2.0,>=0.9.6 in /usr/local/lib/python3.6/dist-packages (from spacy) (1.1.3)\n",
      "Requirement already satisfied, skipping upgrade: catalogue<1.1.0,>=0.0.7 in /usr/local/lib/python3.6/dist-packages (from spacy) (1.0.0)\n",
      "Requirement already satisfied, skipping upgrade: cymem<2.1.0,>=2.0.2 in /usr/local/lib/python3.6/dist-packages (from spacy) (2.0.4)\n",
      "Requirement already satisfied, skipping upgrade: setuptools in /usr/local/lib/python3.6/dist-packages (from spacy) (50.3.2)\n",
      "Requirement already satisfied, skipping upgrade: tqdm<5.0.0,>=4.38.0 in /usr/local/lib/python3.6/dist-packages (from spacy) (4.41.1)\n",
      "Requirement already satisfied, skipping upgrade: blis<0.8.0,>=0.4.0; python_version >= \"3.6\" in /usr/local/lib/python3.6/dist-packages (from spacy) (0.4.1)\n",
      "Requirement already satisfied, skipping upgrade: wasabi<1.1.0,>=0.4.0 in /usr/local/lib/python3.6/dist-packages (from spacy) (0.8.0)\n",
      "Requirement already satisfied, skipping upgrade: preshed<3.1.0,>=3.0.2 in /usr/local/lib/python3.6/dist-packages (from spacy) (3.0.4)\n",
      "Requirement already satisfied, skipping upgrade: numpy>=1.15.0 in /usr/local/lib/python3.6/dist-packages (from spacy) (1.18.5)\n",
      "Requirement already satisfied, skipping upgrade: urllib3!=1.25.0,!=1.25.1,<1.26,>=1.21.1 in /usr/local/lib/python3.6/dist-packages (from requests<3.0.0,>=2.13.0->spacy) (1.24.3)\n",
      "Requirement already satisfied, skipping upgrade: chardet<4,>=3.0.2 in /usr/local/lib/python3.6/dist-packages (from requests<3.0.0,>=2.13.0->spacy) (3.0.4)\n",
      "Requirement already satisfied, skipping upgrade: certifi>=2017.4.17 in /usr/local/lib/python3.6/dist-packages (from requests<3.0.0,>=2.13.0->spacy) (2020.11.8)\n",
      "Requirement already satisfied, skipping upgrade: idna<3,>=2.5 in /usr/local/lib/python3.6/dist-packages (from requests<3.0.0,>=2.13.0->spacy) (2.10)\n",
      "Requirement already satisfied, skipping upgrade: importlib-metadata>=0.20; python_version < \"3.8\" in /usr/local/lib/python3.6/dist-packages (from catalogue<1.1.0,>=0.0.7->spacy) (2.0.0)\n",
      "Requirement already satisfied, skipping upgrade: zipp>=0.5 in /usr/local/lib/python3.6/dist-packages (from importlib-metadata>=0.20; python_version < \"3.8\"->catalogue<1.1.0,>=0.0.7->spacy) (3.4.0)\n",
      "Installing collected packages: thinc, spacy\n",
      "  Found existing installation: thinc 7.4.0\n",
      "    Uninstalling thinc-7.4.0:\n",
      "      Successfully uninstalled thinc-7.4.0\n",
      "  Found existing installation: spacy 2.2.4\n",
      "    Uninstalling spacy-2.2.4:\n",
      "      Successfully uninstalled spacy-2.2.4\n",
      "Successfully installed spacy-2.3.4 thinc-7.4.4\n"
     ]
    }
   ],
   "source": [
    "!pip install spacy==2.3.2"
   ]
  },
  {
   "cell_type": "code",
   "execution_count": null,
   "metadata": {
    "colab": {
     "base_uri": "https://localhost:8080/"
    },
    "id": "LAZuf63OhyK3",
    "outputId": "f7ffee5b-074e-4e4c-d94b-56d34b9dc8a2"
   },
   "outputs": [
    {
     "name": "stdout",
     "output_type": "stream",
     "text": [
      "Collecting pl_core_news_sm==2.3.0\n",
      "\u001b[?25l  Downloading https://github.com/explosion/spacy-models/releases/download/pl_core_news_sm-2.3.0/pl_core_news_sm-2.3.0.tar.gz (48.7MB)\n",
      "\u001b[K     |████████████████████████████████| 48.7MB 1.2MB/s \n",
      "\u001b[?25hRequirement already satisfied: spacy<2.4.0,>=2.3.0 in /usr/local/lib/python3.6/dist-packages (from pl_core_news_sm==2.3.0) (2.3.4)\n",
      "Requirement already satisfied: srsly<1.1.0,>=1.0.2 in /usr/local/lib/python3.6/dist-packages (from spacy<2.4.0,>=2.3.0->pl_core_news_sm==2.3.0) (1.0.4)\n",
      "Requirement already satisfied: plac<1.2.0,>=0.9.6 in /usr/local/lib/python3.6/dist-packages (from spacy<2.4.0,>=2.3.0->pl_core_news_sm==2.3.0) (1.1.3)\n",
      "Requirement already satisfied: murmurhash<1.1.0,>=0.28.0 in /usr/local/lib/python3.6/dist-packages (from spacy<2.4.0,>=2.3.0->pl_core_news_sm==2.3.0) (1.0.4)\n",
      "Requirement already satisfied: wasabi<1.1.0,>=0.4.0 in /usr/local/lib/python3.6/dist-packages (from spacy<2.4.0,>=2.3.0->pl_core_news_sm==2.3.0) (0.8.0)\n",
      "Requirement already satisfied: numpy>=1.15.0 in /usr/local/lib/python3.6/dist-packages (from spacy<2.4.0,>=2.3.0->pl_core_news_sm==2.3.0) (1.18.5)\n",
      "Requirement already satisfied: preshed<3.1.0,>=3.0.2 in /usr/local/lib/python3.6/dist-packages (from spacy<2.4.0,>=2.3.0->pl_core_news_sm==2.3.0) (3.0.4)\n",
      "Requirement already satisfied: blis<0.8.0,>=0.4.0; python_version >= \"3.6\" in /usr/local/lib/python3.6/dist-packages (from spacy<2.4.0,>=2.3.0->pl_core_news_sm==2.3.0) (0.4.1)\n",
      "Requirement already satisfied: catalogue<1.1.0,>=0.0.7 in /usr/local/lib/python3.6/dist-packages (from spacy<2.4.0,>=2.3.0->pl_core_news_sm==2.3.0) (1.0.0)\n",
      "Requirement already satisfied: requests<3.0.0,>=2.13.0 in /usr/local/lib/python3.6/dist-packages (from spacy<2.4.0,>=2.3.0->pl_core_news_sm==2.3.0) (2.23.0)\n",
      "Requirement already satisfied: setuptools in /usr/local/lib/python3.6/dist-packages (from spacy<2.4.0,>=2.3.0->pl_core_news_sm==2.3.0) (50.3.2)\n",
      "Requirement already satisfied: cymem<2.1.0,>=2.0.2 in /usr/local/lib/python3.6/dist-packages (from spacy<2.4.0,>=2.3.0->pl_core_news_sm==2.3.0) (2.0.4)\n",
      "Requirement already satisfied: thinc<7.5.0,>=7.4.1 in /usr/local/lib/python3.6/dist-packages (from spacy<2.4.0,>=2.3.0->pl_core_news_sm==2.3.0) (7.4.3)\n",
      "Requirement already satisfied: tqdm<5.0.0,>=4.38.0 in /usr/local/lib/python3.6/dist-packages (from spacy<2.4.0,>=2.3.0->pl_core_news_sm==2.3.0) (4.41.1)\n",
      "Requirement already satisfied: importlib-metadata>=0.20; python_version < \"3.8\" in /usr/local/lib/python3.6/dist-packages (from catalogue<1.1.0,>=0.0.7->spacy<2.4.0,>=2.3.0->pl_core_news_sm==2.3.0) (2.0.0)\n",
      "Requirement already satisfied: chardet<4,>=3.0.2 in /usr/local/lib/python3.6/dist-packages (from requests<3.0.0,>=2.13.0->spacy<2.4.0,>=2.3.0->pl_core_news_sm==2.3.0) (3.0.4)\n",
      "Requirement already satisfied: urllib3!=1.25.0,!=1.25.1,<1.26,>=1.21.1 in /usr/local/lib/python3.6/dist-packages (from requests<3.0.0,>=2.13.0->spacy<2.4.0,>=2.3.0->pl_core_news_sm==2.3.0) (1.24.3)\n",
      "Requirement already satisfied: idna<3,>=2.5 in /usr/local/lib/python3.6/dist-packages (from requests<3.0.0,>=2.13.0->spacy<2.4.0,>=2.3.0->pl_core_news_sm==2.3.0) (2.10)\n",
      "Requirement already satisfied: certifi>=2017.4.17 in /usr/local/lib/python3.6/dist-packages (from requests<3.0.0,>=2.13.0->spacy<2.4.0,>=2.3.0->pl_core_news_sm==2.3.0) (2020.11.8)\n",
      "Requirement already satisfied: zipp>=0.5 in /usr/local/lib/python3.6/dist-packages (from importlib-metadata>=0.20; python_version < \"3.8\"->catalogue<1.1.0,>=0.0.7->spacy<2.4.0,>=2.3.0->pl_core_news_sm==2.3.0) (3.4.0)\n",
      "Building wheels for collected packages: pl-core-news-sm\n",
      "  Building wheel for pl-core-news-sm (setup.py) ... \u001b[?25l\u001b[?25hdone\n",
      "  Created wheel for pl-core-news-sm: filename=pl_core_news_sm-2.3.0-cp36-none-any.whl size=48719489 sha256=5a26bf8c2539660e87554382884e3056db2a564621348a078d13281449d8a8f3\n",
      "  Stored in directory: /tmp/pip-ephem-wheel-cache-pwf964qm/wheels/ce/7a/53/aab09c53056da9fefa67b44d57202e9bd556825e12ca89fff1\n",
      "Successfully built pl-core-news-sm\n",
      "Installing collected packages: pl-core-news-sm\n",
      "Successfully installed pl-core-news-sm-2.3.0\n",
      "\u001b[38;5;2m✔ Download and installation successful\u001b[0m\n",
      "You can now load the model via spacy.load('pl_core_news_sm')\n"
     ]
    }
   ],
   "source": [
    "# Pobranie podstawowego modelu spaCy\n",
    "!python -m spacy download pl_core_news_sm"
   ]
  },
  {
   "cell_type": "markdown",
   "metadata": {
    "id": "heOy8o00lQep"
   },
   "source": [
    "Uruchom ponownie środowisko wykonawcze!"
   ]
  },
  {
   "cell_type": "code",
   "execution_count": null,
   "metadata": {
    "id": "tCxhCauch09c"
   },
   "outputs": [],
   "source": [
    "# Wczytanie modelu podstawowego spaCy\n",
    "import spacy\n",
    "nlp = spacy.load(\"pl_core_news_sm\")"
   ]
  },
  {
   "cell_type": "code",
   "execution_count": null,
   "metadata": {
    "id": "51MWssVQJlpM"
   },
   "outputs": [],
   "source": [
    "# Przetworzenie zdania\n",
    "doc = nlp(\"To jest słoń, którego sfotografowaliśmy.\")"
   ]
  },
  {
   "cell_type": "code",
   "execution_count": null,
   "metadata": {
    "colab": {
     "base_uri": "https://localhost:8080/"
    },
    "id": "T6V07bwOin_b",
    "outputId": "73e5d174-691c-4a7f-dfa9-9848b4e70725"
   },
   "outputs": [
    {
     "name": "stdout",
     "output_type": "stream",
     "text": [
      "SEGMENT              LEMAT                UPOS                \n",
      "To                   to                   VERB                \n",
      "jest                 być                  VERB                \n",
      "słoń                 słoń                 NOUN                \n",
      ",                    ,                    PUNCT               \n",
      "którego              który                ADJ                 \n",
      "sfotografowaliśmy    sfotografować        VERB                \n",
      ".                    .                    PUNCT               \n"
     ]
    }
   ],
   "source": [
    "print(\"{:20} {:20} {:20}\".format('SEGMENT', 'LEMAT', 'UPOS'))\n",
    "for token in doc:\n",
    "    print(\"{:20} {:20} {:20}\".format(token.text, token.lemma_, token.pos_))"
   ]
  },
  {
   "cell_type": "code",
   "execution_count": null,
   "metadata": {
    "colab": {
     "base_uri": "https://localhost:8080/"
    },
    "id": "jjH8g_ejJ_Eo",
    "outputId": "562a268d-8afc-4d74-84ad-b1362a28a387"
   },
   "outputs": [
    {
     "name": "stdout",
     "output_type": "stream",
     "text": [
      "SEGMENT              LEMAT                UPOS                \n",
      "Tośmy                tośmy                NOUN                \n",
      "sfotografowali       sfotografować        VERB                \n",
      "słonia               słoń                 NOUN                \n",
      "!                    !                    PUNCT               \n"
     ]
    }
   ],
   "source": [
    "doc = nlp(\"Tośmy sfotografowali słonia!\")\n",
    "print(\"{:20} {:20} {:20}\".format('SEGMENT', 'LEMAT', 'UPOS'))\n",
    "for token in doc:\n",
    "    print(\"{:20} {:20} {:20}\".format(token.text, token.lemma_, token.pos_))"
   ]
  },
  {
   "cell_type": "code",
   "execution_count": null,
   "metadata": {
    "colab": {
     "base_uri": "https://localhost:8080/"
    },
    "id": "JDQzuXJ8iqoU",
    "outputId": "24cb5a0f-0023-416c-a7fc-601940b7b2d1"
   },
   "outputs": [
    {
     "name": "stdout",
     "output_type": "stream",
     "text": [
      "Collecting spacy-conll\n",
      "  Downloading https://files.pythonhosted.org/packages/e9/58/a666c5bf086d082ebd83954cadcb803e342e6ce4a8c3fd270820ce79341c/spacy_conll-2.0.0-py3-none-any.whl\n",
      "Requirement already satisfied: packaging in /usr/local/lib/python3.6/dist-packages (from spacy-conll) (20.4)\n",
      "Requirement already satisfied: spacy>=2.0 in /usr/local/lib/python3.6/dist-packages (from spacy-conll) (2.3.4)\n",
      "Requirement already satisfied: pyparsing>=2.0.2 in /usr/local/lib/python3.6/dist-packages (from packaging->spacy-conll) (2.4.7)\n",
      "Requirement already satisfied: six in /usr/local/lib/python3.6/dist-packages (from packaging->spacy-conll) (1.15.0)\n",
      "Requirement already satisfied: thinc<7.5.0,>=7.4.1 in /usr/local/lib/python3.6/dist-packages (from spacy>=2.0->spacy-conll) (7.4.4)\n",
      "Requirement already satisfied: tqdm<5.0.0,>=4.38.0 in /usr/local/lib/python3.6/dist-packages (from spacy>=2.0->spacy-conll) (4.41.1)\n",
      "Requirement already satisfied: requests<3.0.0,>=2.13.0 in /usr/local/lib/python3.6/dist-packages (from spacy>=2.0->spacy-conll) (2.23.0)\n",
      "Requirement already satisfied: cymem<2.1.0,>=2.0.2 in /usr/local/lib/python3.6/dist-packages (from spacy>=2.0->spacy-conll) (2.0.4)\n",
      "Requirement already satisfied: setuptools in /usr/local/lib/python3.6/dist-packages (from spacy>=2.0->spacy-conll) (50.3.2)\n",
      "Requirement already satisfied: murmurhash<1.1.0,>=0.28.0 in /usr/local/lib/python3.6/dist-packages (from spacy>=2.0->spacy-conll) (1.0.4)\n",
      "Requirement already satisfied: wasabi<1.1.0,>=0.4.0 in /usr/local/lib/python3.6/dist-packages (from spacy>=2.0->spacy-conll) (0.8.0)\n",
      "Requirement already satisfied: srsly<1.1.0,>=1.0.2 in /usr/local/lib/python3.6/dist-packages (from spacy>=2.0->spacy-conll) (1.0.4)\n",
      "Requirement already satisfied: catalogue<1.1.0,>=0.0.7 in /usr/local/lib/python3.6/dist-packages (from spacy>=2.0->spacy-conll) (1.0.0)\n",
      "Requirement already satisfied: numpy>=1.15.0 in /usr/local/lib/python3.6/dist-packages (from spacy>=2.0->spacy-conll) (1.18.5)\n",
      "Requirement already satisfied: preshed<3.1.0,>=3.0.2 in /usr/local/lib/python3.6/dist-packages (from spacy>=2.0->spacy-conll) (3.0.4)\n",
      "Requirement already satisfied: plac<1.2.0,>=0.9.6 in /usr/local/lib/python3.6/dist-packages (from spacy>=2.0->spacy-conll) (1.1.3)\n",
      "Requirement already satisfied: blis<0.8.0,>=0.4.0; python_version >= \"3.6\" in /usr/local/lib/python3.6/dist-packages (from spacy>=2.0->spacy-conll) (0.4.1)\n",
      "Requirement already satisfied: certifi>=2017.4.17 in /usr/local/lib/python3.6/dist-packages (from requests<3.0.0,>=2.13.0->spacy>=2.0->spacy-conll) (2020.11.8)\n",
      "Requirement already satisfied: chardet<4,>=3.0.2 in /usr/local/lib/python3.6/dist-packages (from requests<3.0.0,>=2.13.0->spacy>=2.0->spacy-conll) (3.0.4)\n",
      "Requirement already satisfied: idna<3,>=2.5 in /usr/local/lib/python3.6/dist-packages (from requests<3.0.0,>=2.13.0->spacy>=2.0->spacy-conll) (2.10)\n",
      "Requirement already satisfied: urllib3!=1.25.0,!=1.25.1,<1.26,>=1.21.1 in /usr/local/lib/python3.6/dist-packages (from requests<3.0.0,>=2.13.0->spacy>=2.0->spacy-conll) (1.24.3)\n",
      "Requirement already satisfied: importlib-metadata>=0.20; python_version < \"3.8\" in /usr/local/lib/python3.6/dist-packages (from catalogue<1.1.0,>=0.0.7->spacy>=2.0->spacy-conll) (2.0.0)\n",
      "Requirement already satisfied: zipp>=0.5 in /usr/local/lib/python3.6/dist-packages (from importlib-metadata>=0.20; python_version < \"3.8\"->catalogue<1.1.0,>=0.0.7->spacy>=2.0->spacy-conll) (3.4.0)\n",
      "Installing collected packages: spacy-conll\n",
      "Successfully installed spacy-conll-2.0.0\n"
     ]
    }
   ],
   "source": [
    "# Instalacja biblioteki spacy-conll do przetwarzania plików conll\n",
    "! pip install spacy-conll"
   ]
  },
  {
   "cell_type": "markdown",
   "metadata": {
    "id": "E4_VIL4aoui_"
   },
   "source": [
    "Biblioteka ```spacy-conll``` umożliwia przetwarzanie wstępnie posegmentowanych plików:\n",
    "\n",
    "Funkcja ```init_parser``` do inicjowania parsera akceptuje wstępnie posegmentowane wejście (```is_tokenized=True```)"
   ]
  },
  {
   "cell_type": "code",
   "execution_count": null,
   "metadata": {
    "id": "GhQ1HFHUnxOU"
   },
   "outputs": [],
   "source": [
    "from spacy_conll import init_parser\n",
    "nlp = init_parser('spacy', 'pl_core_news_sm', is_tokenized=True)"
   ]
  },
  {
   "cell_type": "code",
   "execution_count": null,
   "metadata": {
    "id": "k5Ksd3VEKVdM"
   },
   "outputs": [],
   "source": [
    "doc = nlp('To jest słoń , którego sfotografowali śmy .')"
   ]
  },
  {
   "cell_type": "code",
   "execution_count": null,
   "metadata": {
    "colab": {
     "base_uri": "https://localhost:8080/"
    },
    "id": "oFJagntYoLfG",
    "outputId": "4a504beb-6ed6-4a1d-ec59-e5c82aa5472d"
   },
   "outputs": [
    {
     "name": "stdout",
     "output_type": "stream",
     "text": [
      "SEGMENT              LEMAT                UPOS                \n",
      "To                   to                   VERB                \n",
      "jest                 być                  VERB                \n",
      "słoń                 słoń                 NOUN                \n",
      ",                    ,                    PUNCT               \n",
      "którego              który                ADJ                 \n",
      "sfotografowali       sfotografować        VERB                \n",
      "śmy                  być                  AUX                 \n",
      ".                    .                    PUNCT               \n"
     ]
    }
   ],
   "source": [
    "print(\"{:20} {:20} {:20}\".format('SEGMENT', 'LEMAT', 'UPOS'))\n",
    "for token in doc:\n",
    "    print(\"{:20} {:20} {:20}\".format(token.text, token.lemma_, token.pos_))"
   ]
  },
  {
   "cell_type": "code",
   "execution_count": null,
   "metadata": {
    "colab": {
     "base_uri": "https://localhost:8080/"
    },
    "id": "FylL3UtIKbSK",
    "outputId": "1a7c0b28-98eb-4d12-fe41-d64458d93edb"
   },
   "outputs": [
    {
     "name": "stdout",
     "output_type": "stream",
     "text": [
      "SEGMENT              LEMAT                UPOS                \n",
      "To                   to                   PART                \n",
      "śmy                  być                  AUX                 \n",
      "sfotografowali       sfotografować        VERB                \n",
      "słonia               słoń                 NOUN                \n",
      "!                    !                    PUNCT               \n"
     ]
    }
   ],
   "source": [
    "doc = nlp('To śmy sfotografowali słonia !')\n",
    "print(\"{:20} {:20} {:20}\".format('SEGMENT', 'LEMAT', 'UPOS'))\n",
    "for token in doc:\n",
    "    print(\"{:20} {:20} {:20}\".format(token.text, token.lemma_, token.pos_))"
   ]
  },
  {
   "cell_type": "markdown",
   "metadata": {
    "id": "DS-Xe25XqMtL"
   },
   "source": [
    "Przy pomocy skryptu uruchamianego z wiersza poleceń ```parse-as-conll``` można przetworzyć string albo plik tekstowy i wpisać wynik do pliku CoNLL."
   ]
  },
  {
   "cell_type": "code",
   "execution_count": null,
   "metadata": {
    "id": "rLsG3skui-Z_"
   },
   "outputs": [],
   "source": [
    "!parse-as-conll --model_or_lang 'pl_core_news_sm' --input_str 'To jest słoń, którego sfotografowaliśmy.' --output_file 'test.conllu' --include_headers"
   ]
  },
  {
   "cell_type": "code",
   "execution_count": null,
   "metadata": {
    "colab": {
     "base_uri": "https://localhost:8080/"
    },
    "id": "3oxgzoXdmdO0",
    "outputId": "ede5aaff-5f68-4d9d-a247-a8683dbb5345"
   },
   "outputs": [
    {
     "name": "stdout",
     "output_type": "stream",
     "text": [
      "# sent_id = 1\n",
      "# text = To jest słoń, którego sfotografowaliśmy.\n",
      "1\tTo\tto\tVERB\tPRED\t_\t0\tROOT\t_\t_\n",
      "2\tjest\tbyć\tVERB\tFIN\t_\t1\taux\t_\t_\n",
      "3\tsłoń\tsłoń\tNOUN\tSUBST\t_\t1\tnsubj\t_\tSpaceAfter=No\n",
      "4\t,\t,\tPUNCT\tINTERP\t_\t6\tpunct\t_\t_\n",
      "5\tktórego\tktóry\tADJ\tADJ\t_\t6\tobj\t_\t_\n",
      "6\tsfotografowaliśmy\tsfotografować\tVERB\tPRAET\t_\t3\tacl\t_\tSpaceAfter=No\n",
      "7\t.\t.\tPUNCT\tINTERP\t_\t1\tpunct\t_\tSpaceAfter=No\n"
     ]
    }
   ],
   "source": [
    "! head test.conllu"
   ]
  },
  {
   "cell_type": "code",
   "execution_count": null,
   "metadata": {
    "colab": {
     "base_uri": "https://localhost:8080/"
    },
    "id": "l5XTfZgOlphQ",
    "outputId": "b8d1d5dd-5717-4f53-f58a-b4e68e21d033"
   },
   "outputs": [
    {
     "name": "stdout",
     "output_type": "stream",
     "text": [
      "--2020-12-08 09:34:30--  http://mozart.ipipan.waw.pl/~alina/zasoby/data/PDBUD_test.txt\n",
      "Resolving mozart.ipipan.waw.pl (mozart.ipipan.waw.pl)... 213.135.36.148\n",
      "Connecting to mozart.ipipan.waw.pl (mozart.ipipan.waw.pl)|213.135.36.148|:80... connected.\n",
      "HTTP request sent, awaiting response... 200 OK\n",
      "Length: 208260 (203K) [text/plain]\n",
      "Saving to: ‘zasoby/PDBUD_test.txt’\n",
      "\n",
      "PDBUD_test.txt      100%[===================>] 203.38K   186KB/s    in 1.1s    \n",
      "\n",
      "2020-12-08 09:34:32 (186 KB/s) - ‘zasoby/PDBUD_test.txt’ saved [208260/208260]\n",
      "\n"
     ]
    }
   ],
   "source": [
    "! wget -P zasoby http://mozart.ipipan.waw.pl/~alina/zasoby/data/PDBUD_test.txt"
   ]
  },
  {
   "cell_type": "code",
   "execution_count": null,
   "metadata": {
    "colab": {
     "base_uri": "https://localhost:8080/"
    },
    "id": "kLox_K8uiBtD",
    "outputId": "716e98b8-cb3b-407a-b6e3-448a1e078d87"
   },
   "outputs": [
    {
     "name": "stdout",
     "output_type": "stream",
     "text": [
      "Mężczyzna w czapce kuca na chodniku pod ścianą budynku, a koło niego jest pięć kotów.\n",
      "Chłopak biegnie, asekurując jadącego obok rowerem chłopca w kasku na głowie.\n",
      "Kilkanaście dziewczynek w białych sukienkach i kokardach na głowie stoi obok siebie na scenie.\n",
      "Uśmiechnięta dziewczynka o jasnych włosach zjeżdża na zjeżdżalni.\n",
      "Jasnowłose dziecko jedzie po chodniku na czerwonej hulajnodze.\n",
      "Brudny samochód terenowy stoi zapadnięty w błocie.\n",
      "Dwaj mężczyźni z wędkami stoją na plaży w pobliżu łodzi.\n",
      "Dwie osoby skaczą nad śniegiem na deskach snowboardowych w pobliżu drewnianych budynków.\n",
      "Małpa stoi zwrócona w kierunku innej skaczącej w jej stronę małpy.\n",
      "Na boisku trzech piłkarzy podskakuje do piłki podczas meczu.\n"
     ]
    }
   ],
   "source": [
    "!head -n 10 zasoby/PDBUD_test.txt"
   ]
  },
  {
   "cell_type": "code",
   "execution_count": null,
   "metadata": {
    "colab": {
     "base_uri": "https://localhost:8080/"
    },
    "id": "d3nxxE_ti_YN",
    "outputId": "13670cde-58bb-40ca-de0b-cfd627561cdf"
   },
   "outputs": [
    {
     "name": "stdout",
     "output_type": "stream",
     "text": [
      "\n",
      "real\t0m16.186s\n",
      "user\t0m15.281s\n",
      "sys\t0m1.005s\n"
     ]
    }
   ],
   "source": [
    "! time parse-as-conll --model_or_lang 'pl_core_news_sm' --input_file 'zasoby/PDBUD_test.txt' --output_file 'predykcje/PDBUD_test_spaCy_baseline.conllu' --include_headers"
   ]
  },
  {
   "cell_type": "code",
   "execution_count": null,
   "metadata": {
    "colab": {
     "base_uri": "https://localhost:8080/"
    },
    "id": "MJ9JB4vomkN1",
    "outputId": "cacccdc6-5a90-4cc8-b627-b52f1fd2f274"
   },
   "outputs": [
    {
     "name": "stdout",
     "output_type": "stream",
     "text": [
      "2\tsię\tsię\tPART\tQUB\t_\t1\texpl:pv\t_\tSpaceAfter=No\n",
      "3\t,\t,\tPUNCT\tINTERP\t_\t5\tpunct\t_\t_\n",
      "4\tże\tże\tSCONJ\tCOMP\t_\t5\tmark\t_\t_\n",
      "5\tprzemówił\tprzemówić\tVERB\tPRAET\t_\t1\tccomp\t_\t_\n",
      "6\ttu\ttu\tADV\tADV\t_\t5\tadvmod\t_\t_\n",
      "7\tdziś\tdziś\tADV\tADV\t_\t8\tadvmod\t_\t_\n",
      "8\tprawdziwy\tprawdziwy\tADJ\tADJ\t_\t10\tamod\t_\t_\n",
      "9\tsocjaldemokratyczny\tsocjaldemokratyczny\tADJ\tADJ\t_\t10\tamod\t_\t_\n",
      "10\tszef\tszef\tNOUN\tSUBST\t_\t5\tnsubj\t_\t_\n",
      "11\trządu\trząd\tNOUN\tSUBST\t_\t10\tnmod\t_\tSpaceAfter=No\n",
      "12\t.\t.\tPUNCT\tINTERP\t_\t1\tpunct\t_\tSpaceAfter=No\n",
      "\n",
      "# sent_id = 2415\n",
      "# text = Chciałbym podziękować swojemu oponentowi, panu Bushill-Matthewsowi za profesjonalny sposób przewodniczenia negocjacjom, koleżankom i kolegom z innych grup za ich pomoc pod względem politycznym, a prezydencji francuskiej za jej wyrafinowane podejście.\n",
      "1\tChciałbym\tchciałbym\tADJ\tADJ\t_\t0\tROOT\t_\t_\n",
      "2\tpodziękować\tpodziękować\tVERB\tINF\t_\t1\txcomp\t_\t_\n",
      "3\tswojemu\tswój\tADJ\tADJ\t_\t4\tamod\t_\t_\n",
      "4\toponentowi\toponent\tNOUN\tSUBST\t_\t2\tobj\t_\tSpaceAfter=No\n",
      "5\t,\t,\tPUNCT\tINTERP\t_\t7\tpunct\t_\t_\n",
      "6\tpanu\tpan\tNOUN\tSUBST\t_\t7\tnsubj\t_\t_\n",
      "7\tBushill\tbushill\tNOUN\tSUBST\t_\t1\tconj\t_\tSpaceAfter=No\n",
      "8\t-\t-\tPUNCT\tINTERP\t_\t7\tpunct\t_\tSpaceAfter=No\n",
      "9\tMatthewsowi\tmatthewsowi\tNOUN\tSUBST\t_\t8\tcase\t_\t_\n",
      "10\tza\tza\tADP\tPREP\t_\t12\tcase\t_\t_\n",
      "11\tprofesjonalny\tprofesjonalny\tADJ\tADJ\t_\t12\tamod\t_\t_\n",
      "12\tsposób\tsposób\tNOUN\tSUBST\t_\t7\tobl\t_\t_\n",
      "13\tprzewodniczenia\tprzewodniczenia\tNOUN\tGER\t_\t12\tnmod\t_\t_\n",
      "14\tnegocjacjom\tnegocjacje\tNOUN\tSUBST\t_\t13\tnmod\t_\tSpaceAfter=No\n",
      "15\t,\t,\tPUNCT\tINTERP\t_\t16\tpunct\t_\t_\n",
      "16\tkoleżankom\tkoleżanka\tNOUN\tSUBST\t_\t14\tconj\t_\t_\n",
      "17\ti\ti\tCCONJ\tCONJ\t_\t18\tcc\t_\t_\n",
      "18\tkolegom\tkolega\tNOUN\tSUBST\t_\t14\tconj\t_\t_\n",
      "19\tz\tz\tADP\tPREP\t_\t21\tcase\t_\t_\n",
      "20\tinnych\tinny\tADJ\tADJ\t_\t21\tamod\t_\t_\n",
      "21\tgrup\tgrupa\tNOUN\tSUBST\t_\t18\tnmod\t_\t_\n",
      "22\tza\tza\tADP\tPREP\t_\t24\tcase\t_\t_\n",
      "23\tich\ton\tPRON\tPPRON3\t_\t24\tnmod\t_\t_\n",
      "24\tpomoc\tpomoc\tNOUN\tSUBST\t_\t21\tnmod\t_\t_\n",
      "25\tpod\tpod\tADP\tPREP\t_\t26\tcase\t_\t_\n",
      "26\twzględem\twzgląd\tNOUN\tSUBST\t_\t7\tobl\t_\t_\n",
      "27\tpolitycznym\tpolityczny\tADJ\tADJ\t_\t26\tamod\t_\tSpaceAfter=No\n",
      "28\t,\t,\tPUNCT\tINTERP\t_\t7\tpunct\t_\t_\n",
      "29\ta\ta\tCCONJ\tCONJ\t_\t7\tdep\t_\t_\n",
      "30\tprezydencji\tprezydencja\tNOUN\tSUBST\t_\t7\tobj\t_\t_\n",
      "31\tfrancuskiej\tfrancuski\tADJ\tADJ\t_\t30\tamod\t_\t_\n",
      "32\tza\tza\tADP\tPREP\t_\t33\tcase\t_\t_\n",
      "33\tjej\ton\tPRON\tPPRON3\t_\t35\tnmod\t_\t_\n",
      "34\twyrafinowane\twyrafinowany\tADJ\tADJ\t_\t35\tamod\t_\t_\n",
      "35\tpodejście\tpodejście\tNOUN\tSUBST\t_\t30\tnmod\t_\tSpaceAfter=No\n",
      "36\t.\t.\tPUNCT\tINTERP\t_\t1\tpunct\t_\tSpaceAfter=No\n"
     ]
    }
   ],
   "source": [
    "! tail -n 50 predykcje/PDBUD_test_spaCy_baseline.conllu"
   ]
  },
  {
   "cell_type": "markdown",
   "metadata": {
    "id": "XQpJR0U9__iE"
   },
   "source": [
    "# Analizator morfologiczny [Morfeusz](http://morfeusz.sgjp.pl) w Pythonie\n",
    "*   analizator i generator morfologiczny opracowany w IPI PAN\n",
    "*   wersja demo: http://morfeusz.sgjp.pl/demo\n",
    "*   można go wbudować w tworzone programy\n",
    "*   przy pomocy dodatkowych modułów można go użyć z poziomu Pythona i Javy\n",
    "*   dystrybuowany z dwoma słownikami: SGJP lub Polimorf\n",
    "*   Tutorial Morfeusza (K. Krasnowska-Kieraś): http://clarin-pl.eu/wp-content/uploads/2019/10/Morfeusz2.pdf\n",
    "\n"
   ]
  },
  {
   "cell_type": "markdown",
   "metadata": {
    "id": "4r9mW8slZ104"
   },
   "source": [
    "### Instalacja\n",
    "Instalujemy bibliotekę pythonową Morfeusza z pakietów Ubuntu ([instalacja dla innych systemów](http://morfeusz.sgjp.pl/download/))"
   ]
  },
  {
   "cell_type": "code",
   "execution_count": null,
   "metadata": {
    "colab": {
     "base_uri": "https://localhost:8080/"
    },
    "id": "8O52QgV4OoWe",
    "outputId": "d6a3a547-17f4-45f2-cb34-8d16a693b053"
   },
   "outputs": [
    {
     "name": "stdout",
     "output_type": "stream",
     "text": [
      "--2020-12-08 09:40:30--  http://download.sgjp.pl/apt/sgjp.gpg.key\n",
      "Resolving download.sgjp.pl (download.sgjp.pl)... 193.0.67.154\n",
      "Connecting to download.sgjp.pl (download.sgjp.pl)|193.0.67.154|:80... connected.\n",
      "HTTP request sent, awaiting response... 200 OK\n",
      "Length: 1029 (1.0K) [application/pgp-keys]\n",
      "Saving to: ‘STDOUT’\n",
      "\n",
      "-                   100%[===================>]   1.00K  --.-KB/s    in 0s      \n",
      "\n",
      "2020-12-08 09:40:31 (195 MB/s) - written to stdout [1029/1029]\n",
      "\n",
      "OK\n",
      "Get:1 https://cloud.r-project.org/bin/linux/ubuntu bionic-cran40/ InRelease [3,626 B]\n",
      "Ign:2 https://developer.download.nvidia.com/compute/cuda/repos/ubuntu1804/x86_64  InRelease\n",
      "Get:3 http://security.ubuntu.com/ubuntu bionic-security InRelease [88.7 kB]\n",
      "Ign:4 https://developer.download.nvidia.com/compute/machine-learning/repos/ubuntu1804/x86_64  InRelease\n",
      "Hit:5 https://developer.download.nvidia.com/compute/cuda/repos/ubuntu1804/x86_64  Release\n",
      "Hit:6 https://developer.download.nvidia.com/compute/machine-learning/repos/ubuntu1804/x86_64  Release\n",
      "Get:7 http://ppa.launchpad.net/c2d4u.team/c2d4u4.0+/ubuntu bionic InRelease [15.9 kB]\n",
      "Get:9 http://download.sgjp.pl/apt/ubuntu bionic InRelease [1,979 B]\n",
      "Hit:11 http://archive.ubuntu.com/ubuntu bionic InRelease\n",
      "Get:12 http://download.sgjp.pl/apt/ubuntu bionic/main amd64 Packages [1,935 B]\n",
      "Get:13 http://archive.ubuntu.com/ubuntu bionic-updates InRelease [88.7 kB]\n",
      "Get:14 http://security.ubuntu.com/ubuntu bionic-security/universe amd64 Packages [1,370 kB]\n",
      "Get:15 http://ppa.launchpad.net/graphics-drivers/ppa/ubuntu bionic InRelease [21.3 kB]\n",
      "Get:16 http://archive.ubuntu.com/ubuntu bionic-backports InRelease [74.6 kB]\n",
      "Get:17 http://ppa.launchpad.net/c2d4u.team/c2d4u4.0+/ubuntu bionic/main Sources [1,696 kB]\n",
      "Get:18 http://archive.ubuntu.com/ubuntu bionic-updates/universe amd64 Packages [2,134 kB]\n",
      "Get:19 http://archive.ubuntu.com/ubuntu bionic-updates/main amd64 Packages [2,243 kB]\n",
      "Get:20 http://ppa.launchpad.net/c2d4u.team/c2d4u4.0+/ubuntu bionic/main amd64 Packages [868 kB]\n",
      "Get:21 http://ppa.launchpad.net/graphics-drivers/ppa/ubuntu bionic/main amd64 Packages [46.5 kB]\n",
      "Fetched 8,654 kB in 6s (1,370 kB/s)\n",
      "Reading package lists... Done\n",
      "Hit:1 https://cloud.r-project.org/bin/linux/ubuntu bionic-cran40/ InRelease\n",
      "Ign:2 https://developer.download.nvidia.com/compute/cuda/repos/ubuntu1804/x86_64  InRelease\n",
      "Ign:3 https://developer.download.nvidia.com/compute/machine-learning/repos/ubuntu1804/x86_64  InRelease\n",
      "Hit:4 http://security.ubuntu.com/ubuntu bionic-security InRelease\n",
      "Hit:5 https://developer.download.nvidia.com/compute/cuda/repos/ubuntu1804/x86_64  Release\n",
      "Hit:6 https://developer.download.nvidia.com/compute/machine-learning/repos/ubuntu1804/x86_64  Release\n",
      "Hit:7 http://ppa.launchpad.net/c2d4u.team/c2d4u4.0+/ubuntu bionic InRelease\n",
      "Hit:10 http://archive.ubuntu.com/ubuntu bionic InRelease\n",
      "Hit:11 http://download.sgjp.pl/apt/ubuntu bionic InRelease\n",
      "Hit:12 http://ppa.launchpad.net/graphics-drivers/ppa/ubuntu bionic InRelease\n",
      "Hit:13 http://archive.ubuntu.com/ubuntu bionic-updates InRelease\n",
      "Hit:14 http://archive.ubuntu.com/ubuntu bionic-backports InRelease\n",
      "Reading package lists... Done\n",
      "Building dependency tree       \n",
      "Reading state information... Done\n",
      "16 packages can be upgraded. Run 'apt list --upgradable' to see them.\n",
      "Reading package lists... Done\n",
      "Building dependency tree       \n",
      "Reading state information... Done\n",
      "The following additional packages will be installed:\n",
      "  morfeusz2-dictionary-sgjp\n",
      "Suggested packages:\n",
      "  morfeusz2-dictionary-polimorf\n",
      "The following NEW packages will be installed:\n",
      "  libmorfeusz2 morfeusz2-dictionary-sgjp\n",
      "0 upgraded, 2 newly installed, 0 to remove and 16 not upgraded.\n",
      "Need to get 4,853 kB of archives.\n",
      "After this operation, 19.9 MB of additional disk space will be used.\n",
      "Get:1 http://download.sgjp.pl/apt/ubuntu bionic/main amd64 morfeusz2-dictionary-sgjp all 20201206 [4,715 kB]\n",
      "Get:2 http://download.sgjp.pl/apt/ubuntu bionic/main amd64 libmorfeusz2 amd64 1.9.16-18.04 [138 kB]\n",
      "Fetched 4,853 kB in 3s (1,622 kB/s)\n",
      "debconf: unable to initialize frontend: Dialog\n",
      "debconf: (No usable dialog-like program is installed, so the dialog based frontend cannot be used. at /usr/share/perl5/Debconf/FrontEnd/Dialog.pm line 76, <> line 2.)\n",
      "debconf: falling back to frontend: Readline\n",
      "debconf: unable to initialize frontend: Readline\n",
      "debconf: (This frontend requires a controlling tty.)\n",
      "debconf: falling back to frontend: Teletype\n",
      "dpkg-preconfigure: unable to re-open stdin: \n",
      "Selecting previously unselected package morfeusz2-dictionary-sgjp.\n",
      "(Reading database ... 144865 files and directories currently installed.)\n",
      "Preparing to unpack .../morfeusz2-dictionary-sgjp_20201206_all.deb ...\n",
      "Unpacking morfeusz2-dictionary-sgjp (20201206) ...\n",
      "Selecting previously unselected package libmorfeusz2.\n",
      "Preparing to unpack .../libmorfeusz2_1.9.16-18.04_amd64.deb ...\n",
      "Unpacking libmorfeusz2 (1.9.16-18.04) ...\n",
      "Setting up morfeusz2-dictionary-sgjp (20201206) ...\n",
      "Setting up libmorfeusz2 (1.9.16-18.04) ...\n",
      "Processing triggers for libc-bin (2.27-3ubuntu1.2) ...\n",
      "/sbin/ldconfig.real: /usr/local/lib/python3.6/dist-packages/ideep4py/lib/libmkldnn.so.0 is not a symbolic link\n",
      "\n",
      "Reading package lists... Done\n",
      "Building dependency tree       \n",
      "Reading state information... Done\n",
      "The following NEW packages will be installed:\n",
      "  python3-morfeusz2\n",
      "0 upgraded, 1 newly installed, 0 to remove and 16 not upgraded.\n",
      "Need to get 120 kB of archives.\n",
      "After this operation, 518 kB of additional disk space will be used.\n",
      "Get:1 http://download.sgjp.pl/apt/ubuntu bionic/main amd64 python3-morfeusz2 amd64 1.9.16-18.04 [120 kB]\n",
      "Fetched 120 kB in 2s (78.8 kB/s)\n",
      "debconf: unable to initialize frontend: Dialog\n",
      "debconf: (No usable dialog-like program is installed, so the dialog based frontend cannot be used. at /usr/share/perl5/Debconf/FrontEnd/Dialog.pm line 76, <> line 1.)\n",
      "debconf: falling back to frontend: Readline\n",
      "debconf: unable to initialize frontend: Readline\n",
      "debconf: (This frontend requires a controlling tty.)\n",
      "debconf: falling back to frontend: Teletype\n",
      "dpkg-preconfigure: unable to re-open stdin: \n",
      "Selecting previously unselected package python3-morfeusz2.\n",
      "(Reading database ... 144870 files and directories currently installed.)\n",
      "Preparing to unpack .../python3-morfeusz2_1.9.16-18.04_amd64.deb ...\n",
      "Unpacking python3-morfeusz2 (1.9.16-18.04) ...\n",
      "Setting up python3-morfeusz2 (1.9.16-18.04) ...\n"
     ]
    }
   ],
   "source": [
    "!wget -O - http://download.sgjp.pl/apt/sgjp.gpg.key|sudo apt-key add -\n",
    "!sudo apt-add-repository http://download.sgjp.pl/apt/ubuntu\n",
    "!sudo apt update\n",
    "!sudo apt install libmorfeusz2\n",
    "!sudo apt install python3-morfeusz2\n",
    "!wget http://download.sgjp.pl/morfeusz/20210221/Linux/18.04/64/morfeusz2-1.9.17-cp37-cp37m-linux_x86_64.whl -O morfeusz2-1.9.17-cp37-cp37m-linux_x86_64.whl\n",
    "!python3 -m pip install --upgrade --force-reinstall morfeusz2-1.9.17-cp37-cp37m-linux_x86_64.whl"
   ]
  },
  {
   "cell_type": "markdown",
   "metadata": {
    "id": "JxLI0dXTAoqS"
   },
   "source": [
    "### Klasa `Morfeusz`\n",
    "Biblioteka `morfeusz2` udostępnia klasę `Morfeusz` implementującą analizator i generator morfologiczny ([dokumentacja](http://sgjp.pl/morfeusz/download/Morfeusz2.pdf))."
   ]
  },
  {
   "cell_type": "code",
   "execution_count": null,
   "metadata": {
    "id": "2TuwYmzeDIVd"
   },
   "outputs": [],
   "source": [
    "import morfeusz2\n",
    "m = morfeusz2.Morfeusz()"
   ]
  },
  {
   "cell_type": "markdown",
   "metadata": {
    "id": "15Wp5XbebGFY"
   },
   "source": [
    "### Analiza morfologiczna"
   ]
  },
  {
   "cell_type": "code",
   "execution_count": null,
   "metadata": {
    "colab": {
     "base_uri": "https://localhost:8080/"
    },
    "id": "W4GcZGTCFWFO",
    "outputId": "8756d995-e529-4a75-9373-d126cd741c05"
   },
   "outputs": [
    {
     "name": "stdout",
     "output_type": "stream",
     "text": [
      "(0, 1, ('Kolo', 'kolo', 'subst:sg:nom:m1', ['nazwa_pospolita'], ['pot.']))\n",
      "(0, 1, ('Kolo', 'kolo', 'subst:sg:voc:m1', ['nazwa_pospolita'], ['pot.']))\n",
      "(0, 1, ('Kolo', 'Kolo:s1', 'subst:sg:nom:m1', ['nazwisko'], []))\n",
      "(0, 1, ('Kolo', 'Kolo:s1', 'subst:sg:voc:m1', ['nazwisko'], []))\n",
      "(0, 1, ('Kolo', 'Kolo:s2', 'subst:sg.pl:nom.gen.dat.acc.inst.loc.voc:f', ['nazwisko'], []))\n",
      "(0, 1, ('Kolo', 'kola', 'subst:sg:voc:f', ['nazwa_pospolita'], []))\n",
      "(1, 2, ('pojechał', 'pojechać', 'praet:sg:m1.m2.m3:perf', [], []))\n",
      "(2, 3, ('na', 'na:i', 'interj', [], []))\n",
      "(2, 3, ('na', 'na:p', 'prep:acc', [], []))\n",
      "(2, 3, ('na', 'na:p', 'prep:loc', [], []))\n",
      "(3, 4, ('wakacje', 'wakacje', 'subst:pl:nom.acc.voc:n:pt', ['nazwa_pospolita'], []))\n",
      "(4, 5, ('do', 'do:p', 'prep:gen', [], []))\n",
      "(4, 5, ('do', 'do:s', 'subst:sg.pl:nom.gen.dat.acc.inst.loc.voc:n:ncol', ['nazwa_pospolita'], ['muz.']))\n",
      "(5, 6, ('Włoch', 'Włoch:s1', 'subst:sg:nom:m1', ['nazwa_pospolita'], []))\n",
      "(5, 6, ('Włoch', 'Włoch:s2', 'subst:sg:nom:m1', ['nazwisko'], []))\n",
      "(5, 6, ('Włoch', 'Włoch:s3', 'subst:sg.pl:nom.gen.dat.acc.inst.loc.voc:f', ['nazwisko'], []))\n",
      "(5, 6, ('Włoch', 'Włochy:s1', 'subst:pl:gen:n:pt', ['nazwa_geograficzna'], []))\n",
      "(5, 6, ('Włoch', 'Włochy:s2', 'subst:pl:gen:n:pt', ['nazwa_geograficzna'], []))\n",
      "(6, 7, ('autostopem', 'autostop', 'subst:sg:inst:m3', ['nazwa_pospolita'], []))\n",
      "(7, 8, ('.', '.', 'interp', [], []))\n"
     ]
    }
   ],
   "source": [
    "for a in m.analyse('Kolo pojechał na wakacje do Włoch autostopem.'):\n",
    "    print(a)"
   ]
  },
  {
   "cell_type": "markdown",
   "metadata": {
    "id": "gxciox9cBAjK"
   },
   "source": [
    "Graf analizy morfologicznej reprezentowany jest jako lista krotek (`tuple`) . Każda krotka zawiera:\n",
    " * indeks początku segmentu w grafie,\n",
    " * indeks końca segmentu w grafie,\n",
    " * interpretację morfologiczną (zagnieżdżoną krotkę):\n",
    "   * formę tekstową,\n",
    "   * lemat,\n",
    "   * tag (znacznik morfologiczny),\n",
    "   * kategorię nazw własnych,\n",
    "   * listę kwalifikatorów stylistycznych i dziedzinowych."
   ]
  },
  {
   "cell_type": "markdown",
   "metadata": {
    "id": "bfLu8HJEDYFw"
   },
   "source": [
    "Morfeusz domyślnie używa „spakowanej” notacji dla znaczników. Np. `praet:sg:m1.m2.m3:perf` należy odczytać jako skrót dla wszystkich kombinacji wartości oddzielonych kropkami na poszczególnych pozycjach:\n",
    "  * `praet:sg:m1:perf`\n",
    "  * `praet:sg:m2:perf`\n",
    "  * `praet:sg:m3:perf`"
   ]
  },
  {
   "cell_type": "markdown",
   "metadata": {
    "id": "6VRtvru2bNqn"
   },
   "source": [
    "### Generowanie morfologiczne"
   ]
  },
  {
   "cell_type": "code",
   "execution_count": null,
   "metadata": {
    "colab": {
     "base_uri": "https://localhost:8080/"
    },
    "id": "K3xosg0ERVYf",
    "outputId": "eded1009-cea0-4d9c-d9bb-f56d02114d3e"
   },
   "outputs": [
    {
     "name": "stdout",
     "output_type": "stream",
     "text": [
      "Lista form wyrazowych lematu brat:\n",
      "('brat', 'brat', 'subst:sg:nom:m1', ['nazwa_pospolita'], [])\n",
      "('brata', 'brat', 'subst:sg:gen.acc:m1', ['nazwa_pospolita'], [])\n",
      "('bratu', 'brat', 'subst:sg:dat:m1', ['nazwa_pospolita'], [])\n",
      "('bratem', 'brat', 'subst:sg:inst:m1', ['nazwa_pospolita'], [])\n",
      "('bracie', 'brat', 'subst:sg:loc:m1', ['nazwa_pospolita'], [])\n",
      "('bracie', 'brat', 'subst:sg:voc:m1', ['nazwa_pospolita'], [])\n",
      "('bracia', 'brat', 'subst:pl:nom.voc:m1', ['nazwa_pospolita'], [])\n",
      "('braci', 'brat', 'subst:pl:gen.acc:m1', ['nazwa_pospolita'], [])\n",
      "('braciom', 'brat', 'subst:pl:dat:m1', ['nazwa_pospolita'], [])\n",
      "('braćmi', 'brat', 'subst:pl:inst:m1', ['nazwa_pospolita'], [])\n",
      "('braciach', 'brat', 'subst:pl:loc:m1', ['nazwa_pospolita'], [])\n",
      "('b', 'brat', 'brev:pun', [], [])\n",
      "('braty', 'brat', 'depr:pl:nom.acc.voc:m2', ['nazwa_pospolita'], [])\n"
     ]
    }
   ],
   "source": [
    "print(\"Lista form wyrazowych lematu brat:\")\n",
    "for g in m.generate('brat'):\n",
    "    print(g)"
   ]
  },
  {
   "cell_type": "markdown",
   "metadata": {
    "id": "_Os_pc_UZNhG"
   },
   "source": [
    "#  Model morfeuszowy spaCy dla polskiego\n",
    "\n",
    "*   Wymaga zainstalowania biblioteki Morfeusz2\n",
    "*   Tagi i lemmaty zwracane przez Morfeusza są ujednoznaczniane przez tager Toygger\n",
    "*   Modele morfeuszowe spaCy dla polskiego dostępne są na http://zil.ipipan.waw.pl/SpacyPL\n",
    "*   Notatnik z instruktarzem: https://nbviewer.jupyter.org/github/ipipan/spacy-pl/blob/master/spaCy_PL_morfeusz_demo.ipynb\n",
    "\n"
   ]
  },
  {
   "cell_type": "markdown",
   "metadata": {
    "id": "NZNGwLDtbdXP"
   },
   "source": [
    "### Instalacja"
   ]
  },
  {
   "cell_type": "code",
   "execution_count": null,
   "metadata": {
    "colab": {
     "base_uri": "https://localhost:8080/"
    },
    "id": "7QfV-1M7ZMb5",
    "outputId": "9fde99e0-7d5c-4b63-ccc7-4cf6d161bc2f"
   },
   "outputs": [
    {
     "name": "stdout",
     "output_type": "stream",
     "text": [
      "--2020-12-08 09:46:45--  http://mozart.ipipan.waw.pl/~alina/zasoby/data/pl_spacy_model_morfeusz-0.1.3.tar.gz\n",
      "Resolving mozart.ipipan.waw.pl (mozart.ipipan.waw.pl)... 213.135.36.148\n",
      "Connecting to mozart.ipipan.waw.pl (mozart.ipipan.waw.pl)|213.135.36.148|:80... connected.\n",
      "HTTP request sent, awaiting response... 200 OK\n",
      "Length: 229068993 (218M) [application/x-gzip]\n",
      "Saving to: ‘zasoby/pl_spacy_model_morfeusz-0.1.3.tar.gz’\n",
      "\n",
      "pl_spacy_model_morf 100%[===================>] 218.46M  10.0MB/s    in 27s     \n",
      "\n",
      "2020-12-08 09:47:13 (8.16 MB/s) - ‘zasoby/pl_spacy_model_morfeusz-0.1.3.tar.gz’ saved [229068993/229068993]\n",
      "\n"
     ]
    }
   ],
   "source": [
    "! wget -P zasoby http://mozart.ipipan.waw.pl/~alina/zasoby/data/pl_spacy_model_morfeusz-0.1.3.tar.gz"
   ]
  },
  {
   "cell_type": "code",
   "execution_count": null,
   "metadata": {
    "colab": {
     "base_uri": "https://localhost:8080/"
    },
    "id": "Us4ZrIWJauxK",
    "outputId": "66f8c8f5-31dc-4b1c-95fa-093841e7e431"
   },
   "outputs": [
    {
     "name": "stdout",
     "output_type": "stream",
     "text": [
      "Processing ./zasoby/pl_spacy_model_morfeusz-0.1.3.tar.gz\n",
      "Collecting spacy==2.3.2\n",
      "\u001b[?25l  Downloading https://files.pythonhosted.org/packages/10/b5/c7a92c7ce5d4b353b70b4b5b4385687206c8b230ddfe08746ab0fd310a3a/spacy-2.3.2-cp36-cp36m-manylinux1_x86_64.whl (9.9MB)\n",
      "\u001b[K     |████████████████████████████████| 10.0MB 4.7MB/s \n",
      "\u001b[?25hCollecting distance\n",
      "\u001b[?25l  Downloading https://files.pythonhosted.org/packages/5c/1a/883e47df323437aefa0d0a92ccfb38895d9416bd0b56262c2e46a47767b8/Distance-0.1.3.tar.gz (180kB)\n",
      "\u001b[K     |████████████████████████████████| 184kB 52.7MB/s \n",
      "\u001b[?25hRequirement already satisfied: keras==2.4.3 in /usr/local/lib/python3.6/dist-packages (from pl-spacy-model-morfeusz==0.1.3) (2.4.3)\n",
      "Requirement already satisfied: numpy in /usr/local/lib/python3.6/dist-packages (from pl-spacy-model-morfeusz==0.1.3) (1.18.5)\n",
      "Collecting tensorflow==2.3.1\n",
      "\u001b[?25l  Downloading https://files.pythonhosted.org/packages/ad/ad/769c195c72ac72040635c66cd9ba7b0f4b4fc1ac67e59b99fa6988446c22/tensorflow-2.3.1-cp36-cp36m-manylinux2010_x86_64.whl (320.4MB)\n",
      "\u001b[K     |████████████████████████████████| 320.4MB 54kB/s \n",
      "\u001b[?25hRequirement already satisfied: plac<1.2.0,>=0.9.6 in /usr/local/lib/python3.6/dist-packages (from spacy==2.3.2->pl-spacy-model-morfeusz==0.1.3) (1.1.3)\n",
      "Requirement already satisfied: preshed<3.1.0,>=3.0.2 in /usr/local/lib/python3.6/dist-packages (from spacy==2.3.2->pl-spacy-model-morfeusz==0.1.3) (3.0.4)\n",
      "Requirement already satisfied: setuptools in /usr/local/lib/python3.6/dist-packages (from spacy==2.3.2->pl-spacy-model-morfeusz==0.1.3) (50.3.2)\n",
      "Requirement already satisfied: blis<0.5.0,>=0.4.0 in /usr/local/lib/python3.6/dist-packages (from spacy==2.3.2->pl-spacy-model-morfeusz==0.1.3) (0.4.1)\n",
      "Requirement already satisfied: murmurhash<1.1.0,>=0.28.0 in /usr/local/lib/python3.6/dist-packages (from spacy==2.3.2->pl-spacy-model-morfeusz==0.1.3) (1.0.4)\n",
      "Requirement already satisfied: tqdm<5.0.0,>=4.38.0 in /usr/local/lib/python3.6/dist-packages (from spacy==2.3.2->pl-spacy-model-morfeusz==0.1.3) (4.41.1)\n",
      "Requirement already satisfied: wasabi<1.1.0,>=0.4.0 in /usr/local/lib/python3.6/dist-packages (from spacy==2.3.2->pl-spacy-model-morfeusz==0.1.3) (0.8.0)\n",
      "Requirement already satisfied: srsly<1.1.0,>=1.0.2 in /usr/local/lib/python3.6/dist-packages (from spacy==2.3.2->pl-spacy-model-morfeusz==0.1.3) (1.0.4)\n",
      "Requirement already satisfied: catalogue<1.1.0,>=0.0.7 in /usr/local/lib/python3.6/dist-packages (from spacy==2.3.2->pl-spacy-model-morfeusz==0.1.3) (1.0.0)\n",
      "Collecting thinc==7.4.1\n",
      "\u001b[?25l  Downloading https://files.pythonhosted.org/packages/10/ae/ef3ae5e93639c0ef8e3eb32e3c18341e511b3c515fcfc603f4b808087651/thinc-7.4.1-cp36-cp36m-manylinux1_x86_64.whl (2.1MB)\n",
      "\u001b[K     |████████████████████████████████| 2.1MB 56.3MB/s \n",
      "\u001b[?25hRequirement already satisfied: requests<3.0.0,>=2.13.0 in /usr/local/lib/python3.6/dist-packages (from spacy==2.3.2->pl-spacy-model-morfeusz==0.1.3) (2.23.0)\n",
      "Requirement already satisfied: cymem<2.1.0,>=2.0.2 in /usr/local/lib/python3.6/dist-packages (from spacy==2.3.2->pl-spacy-model-morfeusz==0.1.3) (2.0.4)\n",
      "Requirement already satisfied: scipy>=0.14 in /usr/local/lib/python3.6/dist-packages (from keras==2.4.3->pl-spacy-model-morfeusz==0.1.3) (1.4.1)\n",
      "Requirement already satisfied: pyyaml in /usr/local/lib/python3.6/dist-packages (from keras==2.4.3->pl-spacy-model-morfeusz==0.1.3) (3.13)\n",
      "Requirement already satisfied: h5py in /usr/local/lib/python3.6/dist-packages (from keras==2.4.3->pl-spacy-model-morfeusz==0.1.3) (2.10.0)\n",
      "Requirement already satisfied: keras-preprocessing<1.2,>=1.1.1 in /usr/local/lib/python3.6/dist-packages (from tensorflow==2.3.1->pl-spacy-model-morfeusz==0.1.3) (1.1.2)\n",
      "Requirement already satisfied: tensorboard<3,>=2.3.0 in /usr/local/lib/python3.6/dist-packages (from tensorflow==2.3.1->pl-spacy-model-morfeusz==0.1.3) (2.3.0)\n",
      "Requirement already satisfied: grpcio>=1.8.6 in /usr/local/lib/python3.6/dist-packages (from tensorflow==2.3.1->pl-spacy-model-morfeusz==0.1.3) (1.33.2)\n",
      "Requirement already satisfied: wrapt>=1.11.1 in /usr/local/lib/python3.6/dist-packages (from tensorflow==2.3.1->pl-spacy-model-morfeusz==0.1.3) (1.12.1)\n",
      "Requirement already satisfied: opt-einsum>=2.3.2 in /usr/local/lib/python3.6/dist-packages (from tensorflow==2.3.1->pl-spacy-model-morfeusz==0.1.3) (3.3.0)\n",
      "Requirement already satisfied: gast==0.3.3 in /usr/local/lib/python3.6/dist-packages (from tensorflow==2.3.1->pl-spacy-model-morfeusz==0.1.3) (0.3.3)\n",
      "Requirement already satisfied: wheel>=0.26 in /usr/local/lib/python3.6/dist-packages (from tensorflow==2.3.1->pl-spacy-model-morfeusz==0.1.3) (0.35.1)\n",
      "Requirement already satisfied: astunparse==1.6.3 in /usr/local/lib/python3.6/dist-packages (from tensorflow==2.3.1->pl-spacy-model-morfeusz==0.1.3) (1.6.3)\n",
      "Requirement already satisfied: termcolor>=1.1.0 in /usr/local/lib/python3.6/dist-packages (from tensorflow==2.3.1->pl-spacy-model-morfeusz==0.1.3) (1.1.0)\n",
      "Requirement already satisfied: google-pasta>=0.1.8 in /usr/local/lib/python3.6/dist-packages (from tensorflow==2.3.1->pl-spacy-model-morfeusz==0.1.3) (0.2.0)\n",
      "Requirement already satisfied: six>=1.12.0 in /usr/local/lib/python3.6/dist-packages (from tensorflow==2.3.1->pl-spacy-model-morfeusz==0.1.3) (1.15.0)\n",
      "Requirement already satisfied: absl-py>=0.7.0 in /usr/local/lib/python3.6/dist-packages (from tensorflow==2.3.1->pl-spacy-model-morfeusz==0.1.3) (0.10.0)\n",
      "Requirement already satisfied: protobuf>=3.9.2 in /usr/local/lib/python3.6/dist-packages (from tensorflow==2.3.1->pl-spacy-model-morfeusz==0.1.3) (3.12.4)\n",
      "Requirement already satisfied: tensorflow-estimator<2.4.0,>=2.3.0 in /usr/local/lib/python3.6/dist-packages (from tensorflow==2.3.1->pl-spacy-model-morfeusz==0.1.3) (2.3.0)\n",
      "Requirement already satisfied: importlib-metadata>=0.20; python_version < \"3.8\" in /usr/local/lib/python3.6/dist-packages (from catalogue<1.1.0,>=0.0.7->spacy==2.3.2->pl-spacy-model-morfeusz==0.1.3) (2.0.0)\n",
      "Requirement already satisfied: chardet<4,>=3.0.2 in /usr/local/lib/python3.6/dist-packages (from requests<3.0.0,>=2.13.0->spacy==2.3.2->pl-spacy-model-morfeusz==0.1.3) (3.0.4)\n",
      "Requirement already satisfied: idna<3,>=2.5 in /usr/local/lib/python3.6/dist-packages (from requests<3.0.0,>=2.13.0->spacy==2.3.2->pl-spacy-model-morfeusz==0.1.3) (2.10)\n",
      "Requirement already satisfied: certifi>=2017.4.17 in /usr/local/lib/python3.6/dist-packages (from requests<3.0.0,>=2.13.0->spacy==2.3.2->pl-spacy-model-morfeusz==0.1.3) (2020.11.8)\n",
      "Requirement already satisfied: urllib3!=1.25.0,!=1.25.1,<1.26,>=1.21.1 in /usr/local/lib/python3.6/dist-packages (from requests<3.0.0,>=2.13.0->spacy==2.3.2->pl-spacy-model-morfeusz==0.1.3) (1.24.3)\n",
      "Requirement already satisfied: werkzeug>=0.11.15 in /usr/local/lib/python3.6/dist-packages (from tensorboard<3,>=2.3.0->tensorflow==2.3.1->pl-spacy-model-morfeusz==0.1.3) (1.0.1)\n",
      "Requirement already satisfied: google-auth<2,>=1.6.3 in /usr/local/lib/python3.6/dist-packages (from tensorboard<3,>=2.3.0->tensorflow==2.3.1->pl-spacy-model-morfeusz==0.1.3) (1.17.2)\n",
      "Requirement already satisfied: markdown>=2.6.8 in /usr/local/lib/python3.6/dist-packages (from tensorboard<3,>=2.3.0->tensorflow==2.3.1->pl-spacy-model-morfeusz==0.1.3) (3.3.3)\n",
      "Requirement already satisfied: google-auth-oauthlib<0.5,>=0.4.1 in /usr/local/lib/python3.6/dist-packages (from tensorboard<3,>=2.3.0->tensorflow==2.3.1->pl-spacy-model-morfeusz==0.1.3) (0.4.2)\n",
      "Requirement already satisfied: tensorboard-plugin-wit>=1.6.0 in /usr/local/lib/python3.6/dist-packages (from tensorboard<3,>=2.3.0->tensorflow==2.3.1->pl-spacy-model-morfeusz==0.1.3) (1.7.0)\n",
      "Requirement already satisfied: zipp>=0.5 in /usr/local/lib/python3.6/dist-packages (from importlib-metadata>=0.20; python_version < \"3.8\"->catalogue<1.1.0,>=0.0.7->spacy==2.3.2->pl-spacy-model-morfeusz==0.1.3) (3.4.0)\n",
      "Requirement already satisfied: pyasn1-modules>=0.2.1 in /usr/local/lib/python3.6/dist-packages (from google-auth<2,>=1.6.3->tensorboard<3,>=2.3.0->tensorflow==2.3.1->pl-spacy-model-morfeusz==0.1.3) (0.2.8)\n",
      "Requirement already satisfied: rsa<5,>=3.1.4; python_version >= \"3\" in /usr/local/lib/python3.6/dist-packages (from google-auth<2,>=1.6.3->tensorboard<3,>=2.3.0->tensorflow==2.3.1->pl-spacy-model-morfeusz==0.1.3) (4.6)\n",
      "Requirement already satisfied: cachetools<5.0,>=2.0.0 in /usr/local/lib/python3.6/dist-packages (from google-auth<2,>=1.6.3->tensorboard<3,>=2.3.0->tensorflow==2.3.1->pl-spacy-model-morfeusz==0.1.3) (4.1.1)\n",
      "Requirement already satisfied: requests-oauthlib>=0.7.0 in /usr/local/lib/python3.6/dist-packages (from google-auth-oauthlib<0.5,>=0.4.1->tensorboard<3,>=2.3.0->tensorflow==2.3.1->pl-spacy-model-morfeusz==0.1.3) (1.3.0)\n",
      "Requirement already satisfied: pyasn1<0.5.0,>=0.4.6 in /usr/local/lib/python3.6/dist-packages (from pyasn1-modules>=0.2.1->google-auth<2,>=1.6.3->tensorboard<3,>=2.3.0->tensorflow==2.3.1->pl-spacy-model-morfeusz==0.1.3) (0.4.8)\n",
      "Requirement already satisfied: oauthlib>=3.0.0 in /usr/local/lib/python3.6/dist-packages (from requests-oauthlib>=0.7.0->google-auth-oauthlib<0.5,>=0.4.1->tensorboard<3,>=2.3.0->tensorflow==2.3.1->pl-spacy-model-morfeusz==0.1.3) (3.1.0)\n",
      "Building wheels for collected packages: pl-spacy-model-morfeusz, distance\n",
      "  Building wheel for pl-spacy-model-morfeusz (setup.py) ... \u001b[?25l\u001b[?25hdone\n",
      "  Created wheel for pl-spacy-model-morfeusz: filename=pl_spacy_model_morfeusz-0.1.3-cp36-none-any.whl size=229138615 sha256=4f9ebefed696b96de380bc4b9ff98aad3c4cc0128256e694e955431a5185b433\n",
      "  Stored in directory: /root/.cache/pip/wheels/9c/e8/f2/42317970badff72e337a282a28ad5d714491776d6d8ec1f86d\n",
      "  Building wheel for distance (setup.py) ... \u001b[?25l\u001b[?25hdone\n",
      "  Created wheel for distance: filename=Distance-0.1.3-cp36-none-any.whl size=16262 sha256=1a6303b2eab7ba4332cfdd6bd35ab7b36b72c72dfea884a157cf762bf3dcdeea\n",
      "  Stored in directory: /root/.cache/pip/wheels/d5/aa/e1/dbba9e7b6d397d645d0f12db1c66dbae9c5442b39b001db18e\n",
      "Successfully built pl-spacy-model-morfeusz distance\n",
      "Installing collected packages: thinc, spacy, distance, tensorflow, pl-spacy-model-morfeusz\n",
      "  Found existing installation: thinc 7.4.4\n",
      "    Uninstalling thinc-7.4.4:\n",
      "      Successfully uninstalled thinc-7.4.4\n",
      "  Found existing installation: spacy 2.3.4\n",
      "    Uninstalling spacy-2.3.4:\n",
      "      Successfully uninstalled spacy-2.3.4\n",
      "  Found existing installation: tensorflow 2.3.0\n",
      "    Uninstalling tensorflow-2.3.0:\n",
      "      Successfully uninstalled tensorflow-2.3.0\n",
      "Successfully installed distance-0.1.3 pl-spacy-model-morfeusz-0.1.3 spacy-2.3.2 tensorflow-2.3.1 thinc-7.4.1\n"
     ]
    }
   ],
   "source": [
    "! python -m pip install zasoby/pl_spacy_model_morfeusz-0.1.3.tar.gz"
   ]
  },
  {
   "cell_type": "code",
   "execution_count": null,
   "metadata": {},
   "outputs": [],
   "source": [
    "!python3 -m spacy link pl_spacy_model_morfeusz pl_spacy_model_morfeusz"
   ]
  },
  {
   "cell_type": "markdown",
   "metadata": {
    "id": "CuhHbqlWjipS"
   },
   "source": [
    "### Predykcja"
   ]
  },
  {
   "cell_type": "code",
   "execution_count": null,
   "metadata": {
    "id": "AFptJjwraveL"
   },
   "outputs": [],
   "source": [
    "import spacy\n",
    "nlp = spacy.load(\"pl_spacy_model_morfeusz\")"
   ]
  },
  {
   "cell_type": "code",
   "execution_count": null,
   "metadata": {
    "id": "wMKqsf14a1nw"
   },
   "outputs": [],
   "source": [
    "doc = nlp(\"To jest słoń, którego sfotografowaliśmy.\")"
   ]
  },
  {
   "cell_type": "code",
   "execution_count": null,
   "metadata": {
    "colab": {
     "base_uri": "https://localhost:8080/"
    },
    "id": "ppzMV2eAa30t",
    "outputId": "497f63dc-372c-46c6-be86-58ba3e6a4aeb"
   },
   "outputs": [
    {
     "name": "stdout",
     "output_type": "stream",
     "text": [
      "SEGMENT         LEMAT           UPOS            TAG            \n",
      "To              to              VERB            pred           \n",
      "jest            być             VERB            fin:sg:ter:imperf\n",
      "słoń            słoń            NOUN            subst:sg:nom:m2\n",
      ",               ,               PUNCT           interp         \n",
      "którego         który           ADJ             adj:sg:acc:m2:pos\n",
      "sfotografowali  sfotografować   VERB            praet:pl:m1:perf\n",
      "śmy             być             AUX             aglt:pl:pri:imperf:nwok\n",
      ".               .               PUNCT           interp         \n"
     ]
    }
   ],
   "source": [
    "# Atrubuty tokenów https://spacy.io/api/token\n",
    "print(\"{:15} {:15} {:15} {:15}\".format('SEGMENT', 'LEMAT', 'UPOS', 'TAG'))\n",
    "for token in doc:\n",
    "    print(\"{:15} {:15} {:15} {:15}\".format(token.text, token.lemma_, token.pos_, ':'.join([token.tag_, token._.feats]).rstrip(\":\")))"
   ]
  },
  {
   "cell_type": "code",
   "execution_count": null,
   "metadata": {
    "colab": {
     "base_uri": "https://localhost:8080/"
    },
    "id": "kKlNNb5ngyoz",
    "outputId": "aae07b2f-d1a6-48d4-e64f-7ffa014de3d0"
   },
   "outputs": [
    {
     "name": "stdout",
     "output_type": "stream",
     "text": [
      "SEGMENT         LEMAT           UPOS            TAG            \n",
      "To              to              SCONJ           comp           \n",
      "śmy             być             AUX             aglt:pl:pri:imperf:nwok\n",
      "sfotografowali  sfotografować   VERB            praet:pl:m1:perf\n",
      "słonia          słoń            NOUN            subst:sg:acc:m2\n",
      "!               !               PUNCT           interp         \n"
     ]
    }
   ],
   "source": [
    "doc2 = nlp(\"Tośmy sfotografowali słonia!\")\n",
    "print(\"{:15} {:15} {:15} {:15}\".format('SEGMENT', 'LEMAT', 'UPOS', 'TAG'))\n",
    "for token in doc2:\n",
    "    print(\"{:15} {:15} {:15} {:15}\".format(token.text, token.lemma_, token.pos_, ':'.join([token.tag_, token._.feats]).rstrip(\":\")))"
   ]
  },
  {
   "cell_type": "code",
   "execution_count": null,
   "metadata": {
    "colab": {
     "base_uri": "https://localhost:8080/"
    },
    "id": "MdXR6qy2AjzM",
    "outputId": "c382d47d-839a-45da-8502-5170811b8ddc"
   },
   "outputs": [
    {
     "name": "stdout",
     "output_type": "stream",
     "text": [
      "2020-12-08 09:52:49.422941: I tensorflow/stream_executor/platform/default/dso_loader.cc:48] Successfully opened dynamic library libcudart.so.10.1\n",
      "2020-12-08 09:52:52.219327: I tensorflow/stream_executor/platform/default/dso_loader.cc:48] Successfully opened dynamic library libcuda.so.1\n",
      "2020-12-08 09:52:52.221627: I tensorflow/stream_executor/cuda/cuda_gpu_executor.cc:982] successful NUMA node read from SysFS had negative value (-1), but there must be at least one NUMA node, so returning NUMA node zero\n",
      "2020-12-08 09:52:52.222162: I tensorflow/core/common_runtime/gpu/gpu_device.cc:1716] Found device 0 with properties: \n",
      "pciBusID: 0000:00:04.0 name: Tesla P100-PCIE-16GB computeCapability: 6.0\n",
      "coreClock: 1.3285GHz coreCount: 56 deviceMemorySize: 15.90GiB deviceMemoryBandwidth: 681.88GiB/s\n",
      "2020-12-08 09:52:52.222197: I tensorflow/stream_executor/platform/default/dso_loader.cc:48] Successfully opened dynamic library libcudart.so.10.1\n",
      "2020-12-08 09:52:52.222255: I tensorflow/stream_executor/platform/default/dso_loader.cc:48] Successfully opened dynamic library libcublas.so.10\n",
      "2020-12-08 09:52:52.222311: I tensorflow/stream_executor/platform/default/dso_loader.cc:48] Successfully opened dynamic library libcufft.so.10\n",
      "2020-12-08 09:52:52.222346: I tensorflow/stream_executor/platform/default/dso_loader.cc:48] Successfully opened dynamic library libcurand.so.10\n",
      "2020-12-08 09:52:52.222380: I tensorflow/stream_executor/platform/default/dso_loader.cc:48] Successfully opened dynamic library libcusolver.so.10\n",
      "2020-12-08 09:52:52.222411: I tensorflow/stream_executor/platform/default/dso_loader.cc:48] Successfully opened dynamic library libcusparse.so.10\n",
      "2020-12-08 09:52:52.222451: I tensorflow/stream_executor/platform/default/dso_loader.cc:48] Successfully opened dynamic library libcudnn.so.7\n",
      "2020-12-08 09:52:52.222507: I tensorflow/stream_executor/cuda/cuda_gpu_executor.cc:982] successful NUMA node read from SysFS had negative value (-1), but there must be at least one NUMA node, so returning NUMA node zero\n",
      "2020-12-08 09:52:52.223028: I tensorflow/stream_executor/cuda/cuda_gpu_executor.cc:982] successful NUMA node read from SysFS had negative value (-1), but there must be at least one NUMA node, so returning NUMA node zero\n",
      "2020-12-08 09:52:52.223509: I tensorflow/core/common_runtime/gpu/gpu_device.cc:1858] Adding visible gpu devices: 0\n",
      "2020-12-08 09:52:52.223736: I tensorflow/core/platform/cpu_feature_guard.cc:142] This TensorFlow binary is optimized with oneAPI Deep Neural Network Library (oneDNN)to use the following CPU instructions in performance-critical operations:  AVX2 FMA\n",
      "To enable them in other operations, rebuild TensorFlow with the appropriate compiler flags.\n",
      "2020-12-08 09:52:52.227927: I tensorflow/core/platform/profile_utils/cpu_utils.cc:104] CPU Frequency: 2200000000 Hz\n",
      "2020-12-08 09:52:52.228104: I tensorflow/compiler/xla/service/service.cc:168] XLA service 0x28872c0 initialized for platform Host (this does not guarantee that XLA will be used). Devices:\n",
      "2020-12-08 09:52:52.228131: I tensorflow/compiler/xla/service/service.cc:176]   StreamExecutor device (0): Host, Default Version\n",
      "2020-12-08 09:52:52.324477: I tensorflow/stream_executor/cuda/cuda_gpu_executor.cc:982] successful NUMA node read from SysFS had negative value (-1), but there must be at least one NUMA node, so returning NUMA node zero\n",
      "2020-12-08 09:52:52.325126: I tensorflow/compiler/xla/service/service.cc:168] XLA service 0x2887480 initialized for platform CUDA (this does not guarantee that XLA will be used). Devices:\n",
      "2020-12-08 09:52:52.325178: I tensorflow/compiler/xla/service/service.cc:176]   StreamExecutor device (0): Tesla P100-PCIE-16GB, Compute Capability 6.0\n",
      "2020-12-08 09:52:52.325387: I tensorflow/stream_executor/cuda/cuda_gpu_executor.cc:982] successful NUMA node read from SysFS had negative value (-1), but there must be at least one NUMA node, so returning NUMA node zero\n",
      "2020-12-08 09:52:52.325904: I tensorflow/core/common_runtime/gpu/gpu_device.cc:1716] Found device 0 with properties: \n",
      "pciBusID: 0000:00:04.0 name: Tesla P100-PCIE-16GB computeCapability: 6.0\n",
      "coreClock: 1.3285GHz coreCount: 56 deviceMemorySize: 15.90GiB deviceMemoryBandwidth: 681.88GiB/s\n",
      "2020-12-08 09:52:52.325953: I tensorflow/stream_executor/platform/default/dso_loader.cc:48] Successfully opened dynamic library libcudart.so.10.1\n",
      "2020-12-08 09:52:52.325969: I tensorflow/stream_executor/platform/default/dso_loader.cc:48] Successfully opened dynamic library libcublas.so.10\n",
      "2020-12-08 09:52:52.325986: I tensorflow/stream_executor/platform/default/dso_loader.cc:48] Successfully opened dynamic library libcufft.so.10\n",
      "2020-12-08 09:52:52.326004: I tensorflow/stream_executor/platform/default/dso_loader.cc:48] Successfully opened dynamic library libcurand.so.10\n",
      "2020-12-08 09:52:52.326023: I tensorflow/stream_executor/platform/default/dso_loader.cc:48] Successfully opened dynamic library libcusolver.so.10\n",
      "2020-12-08 09:52:52.326038: I tensorflow/stream_executor/platform/default/dso_loader.cc:48] Successfully opened dynamic library libcusparse.so.10\n",
      "2020-12-08 09:52:52.326062: I tensorflow/stream_executor/platform/default/dso_loader.cc:48] Successfully opened dynamic library libcudnn.so.7\n",
      "2020-12-08 09:52:52.326115: I tensorflow/stream_executor/cuda/cuda_gpu_executor.cc:982] successful NUMA node read from SysFS had negative value (-1), but there must be at least one NUMA node, so returning NUMA node zero\n",
      "2020-12-08 09:52:52.326667: I tensorflow/stream_executor/cuda/cuda_gpu_executor.cc:982] successful NUMA node read from SysFS had negative value (-1), but there must be at least one NUMA node, so returning NUMA node zero\n",
      "2020-12-08 09:52:52.327137: I tensorflow/core/common_runtime/gpu/gpu_device.cc:1858] Adding visible gpu devices: 0\n",
      "2020-12-08 09:52:52.327194: I tensorflow/stream_executor/platform/default/dso_loader.cc:48] Successfully opened dynamic library libcudart.so.10.1\n",
      "2020-12-08 09:52:53.058460: I tensorflow/core/common_runtime/gpu/gpu_device.cc:1257] Device interconnect StreamExecutor with strength 1 edge matrix:\n",
      "2020-12-08 09:52:53.058516: I tensorflow/core/common_runtime/gpu/gpu_device.cc:1263]      0 \n",
      "2020-12-08 09:52:53.058527: I tensorflow/core/common_runtime/gpu/gpu_device.cc:1276] 0:   N \n",
      "2020-12-08 09:52:53.058676: I tensorflow/stream_executor/cuda/cuda_gpu_executor.cc:982] successful NUMA node read from SysFS had negative value (-1), but there must be at least one NUMA node, so returning NUMA node zero\n",
      "2020-12-08 09:52:53.059215: I tensorflow/stream_executor/cuda/cuda_gpu_executor.cc:982] successful NUMA node read from SysFS had negative value (-1), but there must be at least one NUMA node, so returning NUMA node zero\n",
      "2020-12-08 09:52:53.059730: W tensorflow/core/common_runtime/gpu/gpu_bfc_allocator.cc:39] Overriding allow_growth setting because the TF_FORCE_GPU_ALLOW_GROWTH environment variable is set. Original config value was 0.\n",
      "2020-12-08 09:52:53.059775: I tensorflow/core/common_runtime/gpu/gpu_device.cc:1402] Created TensorFlow device (/job:localhost/replica:0/task:0/device:GPU:0 with 14350 MB memory) -> physical GPU (device: 0, name: Tesla P100-PCIE-16GB, pci bus id: 0000:00:04.0, compute capability: 6.0)\n",
      "2020-12-08 09:53:00.161800: I tensorflow/stream_executor/platform/default/dso_loader.cc:48] Successfully opened dynamic library libcublas.so.10\n",
      "2020-12-08 09:53:00.468480: I tensorflow/stream_executor/platform/default/dso_loader.cc:48] Successfully opened dynamic library libcudnn.so.7\n"
     ]
    }
   ],
   "source": [
    "!parse-as-conll --model_or_lang 'pl_spacy_model_morfeusz' --input_file 'zasoby/PDBUD_test.txt' --output_file 'predykcje/PDBUD_test_spaCy_Morfeusz.conllu' --include_headers"
   ]
  },
  {
   "cell_type": "code",
   "execution_count": null,
   "metadata": {
    "colab": {
     "base_uri": "https://localhost:8080/"
    },
    "id": "Q031_R84X5q5",
    "outputId": "21d129f1-320d-49be-90da-f8b93927bbc8"
   },
   "outputs": [
    {
     "name": "stdout",
     "output_type": "stream",
     "text": [
      "# sent_id = 1\n",
      "# text = Mężczyzna w czapce kuca na chodniku pod ścianą budynku, a koło niego jest pięć kotów.\n",
      "1\tMężczyzna\tmężczyzna\tNOUN\tsubst\t_\t4\tnsubj\t_\t_\n",
      "2\tw\tw\tADP\tprep\t_\t3\tcase\t_\t_\n",
      "3\tczapce\tczapka\tNOUN\tsubst\t_\t1\tnmod\t_\t_\n",
      "4\tkuca\tkucać\tVERB\tfin\t_\t0\tROOT\t_\t_\n",
      "5\tna\tna\tADP\tprep\t_\t6\tcase\t_\t_\n",
      "6\tchodniku\tchodnik\tNOUN\tsubst\t_\t4\tobl\t_\t_\n",
      "7\tpod\tpod\tADP\tprep\t_\t8\tcase\t_\t_\n",
      "8\tścianą\tściana\tNOUN\tsubst\t_\t4\tobl\t_\t_\n",
      "9\tbudynku\tbudynek\tNOUN\tsubst\t_\t8\tnmod\t_\tSpaceAfter=No\n",
      "10\t,\t,\tPUNCT\tinterp\t_\t14\tpunct\t_\t_\n",
      "11\ta\ta\tCCONJ\tconj\t_\t14\tcc\t_\t_\n",
      "12\tkoło\tkoło\tADP\tprep\t_\t13\tcase\t_\t_\n",
      "13\tniego\ton\tPRON\tppron3\t_\t14\tobl\t_\t_\n",
      "14\tjest\tbyć\tVERB\tfin\t_\t4\tconj\t_\t_\n",
      "15\tpięć\tpięć\tNUM\tnum\t_\t16\tnummod:gov\t_\t_\n",
      "16\tkotów\tkot\tNOUN\tsubst\t_\t14\tnsubj\t_\tSpaceAfter=No\n",
      "17\t.\t.\tPUNCT\tinterp\t_\t4\tpunct\t_\tSpaceAfter=No\n",
      "\n",
      "# sent_id = 2\n",
      "# text = Chłopak biegnie, asekurując jadącego obok rowerem chłopca w kasku na głowie.\n",
      "1\tChłopak\tchłopak\tNOUN\tsubst\t_\t2\tnsubj\t_\t_\n",
      "2\tbiegnie\tbiec\tVERB\tfin\t_\t0\tROOT\t_\tSpaceAfter=No\n",
      "3\t,\t,\tPUNCT\tinterp\t_\t4\tpunct\t_\t_\n",
      "4\tasekurując\tasekurować\tVERB\tpcon\t_\t2\tadvcl\t_\t_\n",
      "5\tjadącego\tjechać\tVERB\tpact\t_\t8\tacl\t_\t_\n",
      "6\tobok\tobok\tADV\tadv\t_\t7\tcase\t_\t_\n",
      "7\trowerem\trower\tNOUN\tsubst\t_\t5\tobl\t_\t_\n",
      "8\tchłopca\tchłopiec\tNOUN\tsubst\t_\t4\tobj\t_\t_\n",
      "9\tw\tw\tADP\tprep\t_\t10\tcase\t_\t_\n",
      "10\tkasku\tkask\tNOUN\tsubst\t_\t8\tnmod\t_\t_\n",
      "11\tna\tna\tADP\tprep\t_\t12\tcase\t_\t_\n",
      "12\tgłowie\tgłowa\tNOUN\tsubst\t_\t10\tnmod\t_\tSpaceAfter=No\n",
      "13\t.\t.\tPUNCT\tinterp\t_\t2\tpunct\t_\tSpaceAfter=No\n",
      "\n",
      "# sent_id = 3\n",
      "# text = Kilkanaście dziewczynek w białych sukienkach i kokardach na głowie stoi obok siebie na scenie.\n",
      "1\tKilkanaście\tkilkanaście\tNUM\tnum\t_\t2\tdet:numgov\t_\t_\n",
      "2\tdziewczynek\tdziewczynka\tNOUN\tsubst\t_\t10\tnsubj\t_\t_\n",
      "3\tw\tw\tADP\tprep\t_\t5\tcase\t_\t_\n",
      "4\tbiałych\tbiały\tADJ\tadj\t_\t5\tamod\t_\t_\n",
      "5\tsukienkach\tsukienka\tNOUN\tsubst\t_\t2\tnmod\t_\t_\n",
      "6\ti\ti\tCCONJ\tconj\t_\t7\tcc\t_\t_\n",
      "7\tkokardach\tkokarda\tNOUN\tsubst\t_\t5\tconj\t_\t_\n",
      "8\tna\tna\tADP\tprep\t_\t9\tcase\t_\t_\n",
      "9\tgłowie\tgłowa\tNOUN\tsubst\t_\t7\tnmod\t_\t_\n",
      "10\tstoi\tstać\tVERB\tfin\t_\t0\tROOT\t_\t_\n",
      "11\tobok\tobok\tADP\tprep\t_\t12\tcase\t_\t_\n",
      "12\tsiebie\tsiebie\tPRON\tsiebie\t_\t10\tobl\t_\t_\n"
     ]
    }
   ],
   "source": [
    "!head -n 50 predykcje/PDBUD_test_spaCy_Morfeusz.conllu"
   ]
  },
  {
   "cell_type": "markdown",
   "metadata": {
    "id": "nI6cpGRSl58_"
   },
   "source": [
    "# COMBO\n",
    "\n",
    "*  COMBO to niezależny od języka system wstępnego przetwarzania języka naturalnego, który wykorzystuje algorytmy sieci neuronowych.\n",
    "*  Moduły COMBO:\n",
    " * tager (predykcja uniwersalnych części mowy i specyficznych dla języka tagów),\n",
    " * analizator morfologiczny (predykcja list cech gramatycznych), \n",
    " * lematyzator (predykcja lematów),\n",
    " * parser zależnościowy (predykcja krawędzi w drzewie i etykiet, tj. typów relacji zależnościowych),\n",
    " * moduł etykietowania ról semantycznych (predykcja ról semantycznych, np. Time, Place, Recipient),\n",
    " * moduł obliczanie zanurzeń zdań (ang. sentence embeddings).\n",
    "*  https://github.com/ipipan/combo\n",
    "*  Zalety COMBO:\n",
    " *  łatwy do instalacji pakiet Pythonowy oparty na platformie AllenNLP i bibliotece PyTorch,\n",
    " *  łatwy do konfigurowania system, który umożliwia trenowanie modeli różniących się zakresem cech wejściowych, zakresem predykcji, rodzajem reprezentowania danych wejściowych (np. zanurzenia typu fastText, BERT),\n",
    " *  pozwala na trenowanie modeli na bankach drzew zależnościowych w formacie CoNLL (drzewa mogą być zaanotowane zgodnie ze schematem UD albo innym, specyficznym dla języka),\n",
    " *  system typu end-to-end z równocześnie trenowanymi modułami predykcyjnymi, dlatego trenowanie COMBO jest znacznie szybsze niż ,,potokowe” trenowanie systemów (np. Stanza)."
   ]
  },
  {
   "cell_type": "markdown",
   "metadata": {
    "id": "0SkDX_V5ip0l"
   },
   "source": [
    "### Instalacja"
   ]
  },
  {
   "cell_type": "code",
   "execution_count": null,
   "metadata": {
    "colab": {
     "base_uri": "https://localhost:8080/"
    },
    "id": "epKjjcpP1JNm",
    "outputId": "e48000e4-2d3f-4160-b239-f753576f9dd1"
   },
   "outputs": [
    {
     "name": "stdout",
     "output_type": "stream",
     "text": [
      "--2020-12-08 10:14:44--  http://mozart.ipipan.waw.pl/~alina/zasoby/data/COMBO-0.0.1.tar.gz\n",
      "Resolving mozart.ipipan.waw.pl (mozart.ipipan.waw.pl)... 213.135.36.148\n",
      "Connecting to mozart.ipipan.waw.pl (mozart.ipipan.waw.pl)|213.135.36.148|:80... connected.\n",
      "HTTP request sent, awaiting response... 200 OK\n",
      "Length: 33675 (33K) [application/x-gzip]\n",
      "Saving to: ‘zasoby/COMBO-0.0.1.tar.gz’\n",
      "\n",
      "COMBO-0.0.1.tar.gz  100%[===================>]  32.89K   204KB/s    in 0.2s    \n",
      "\n",
      "2020-12-08 10:14:45 (204 KB/s) - ‘zasoby/COMBO-0.0.1.tar.gz’ saved [33675/33675]\n",
      "\n"
     ]
    }
   ],
   "source": [
    "# Pobieramy instalację COMBO skompilowaną w środowisku wirtualnym\n",
    "!wget -P zasoby http://mozart.ipipan.waw.pl/~alina/zasoby/data/COMBO-0.0.1.tar.gz "
   ]
  },
  {
   "cell_type": "code",
   "execution_count": null,
   "metadata": {
    "colab": {
     "base_uri": "https://localhost:8080/"
    },
    "id": "-Gyjzg3Z5MH1",
    "outputId": "e3ff12dd-6a9a-4813-beab-68754f5471e8"
   },
   "outputs": [
    {
     "name": "stdout",
     "output_type": "stream",
     "text": [
      "Collecting urllib3==1.25.11\n",
      "\u001b[?25l  Downloading https://files.pythonhosted.org/packages/56/aa/4ef5aa67a9a62505db124a5cb5262332d1d4153462eb8fd89c9fa41e5d92/urllib3-1.25.11-py2.py3-none-any.whl (127kB)\n",
      "\r",
      "\u001b[K     |██▋                             | 10kB 21.8MB/s eta 0:00:01\r",
      "\u001b[K     |█████▏                          | 20kB 22.7MB/s eta 0:00:01\r",
      "\u001b[K     |███████▊                        | 30kB 12.1MB/s eta 0:00:01\r",
      "\u001b[K     |██████████▎                     | 40kB 9.7MB/s eta 0:00:01\r",
      "\u001b[K     |████████████▉                   | 51kB 7.6MB/s eta 0:00:01\r",
      "\u001b[K     |███████████████▍                | 61kB 8.1MB/s eta 0:00:01\r",
      "\u001b[K     |██████████████████              | 71kB 8.4MB/s eta 0:00:01\r",
      "\u001b[K     |████████████████████▌           | 81kB 8.3MB/s eta 0:00:01\r",
      "\u001b[K     |███████████████████████         | 92kB 8.2MB/s eta 0:00:01\r",
      "\u001b[K     |█████████████████████████▋      | 102kB 8.7MB/s eta 0:00:01\r",
      "\u001b[K     |████████████████████████████▏   | 112kB 8.7MB/s eta 0:00:01\r",
      "\u001b[K     |██████████████████████████████▊ | 122kB 8.7MB/s eta 0:00:01\r",
      "\u001b[K     |████████████████████████████████| 133kB 8.7MB/s \n",
      "\u001b[31mERROR: datascience 0.10.6 has requirement folium==0.2.1, but you'll have folium 0.8.3 which is incompatible.\u001b[0m\n",
      "\u001b[?25hInstalling collected packages: urllib3\n",
      "  Found existing installation: urllib3 1.24.3\n",
      "    Uninstalling urllib3-1.24.3:\n",
      "      Successfully uninstalled urllib3-1.24.3\n",
      "Successfully installed urllib3-1.25.11\n"
     ]
    }
   ],
   "source": [
    "!python -m pip install urllib3==1.25.11"
   ]
  },
  {
   "cell_type": "code",
   "execution_count": null,
   "metadata": {
    "colab": {
     "base_uri": "https://localhost:8080/"
    },
    "id": "Y6JCpCsJ1zn7",
    "outputId": "c61909e3-c07b-48dc-d9fb-39ae83494e6f"
   },
   "outputs": [
    {
     "name": "stdout",
     "output_type": "stream",
     "text": [
      "Processing ./zasoby/COMBO-0.0.1.tar.gz\n",
      "Collecting absl-py==0.9.0\n",
      "\u001b[?25l  Downloading https://files.pythonhosted.org/packages/1a/53/9243c600e047bd4c3df9e69cfabc1e8004a82cac2e0c484580a78a94ba2a/absl-py-0.9.0.tar.gz (104kB)\n",
      "\u001b[K     |████████████████████████████████| 112kB 9.8MB/s \n",
      "\u001b[?25hCollecting allennlp==1.2.0\n",
      "\u001b[?25l  Downloading https://files.pythonhosted.org/packages/b5/14/f0f9dd1ce012e7723742821b95b33dd9bdc53befe209600608bc7be1f650/allennlp-1.2.0-py3-none-any.whl (498kB)\n",
      "\u001b[K     |████████████████████████████████| 501kB 14.4MB/s \n",
      "\u001b[?25hCollecting conllu==2.3.2\n",
      "  Downloading https://files.pythonhosted.org/packages/a8/03/4a952eb39cdc8da80a6a2416252e71784dda6bf9d726ab98065fff2aeb73/conllu-2.3.2-py2.py3-none-any.whl\n",
      "Collecting dataclasses-json==0.5.2\n",
      "  Downloading https://files.pythonhosted.org/packages/e5/a8/c0cc9483b88f6412a17b535d2f2b599b82caa8ba794b1aa62ee4e5191208/dataclasses_json-0.5.2-py3-none-any.whl\n",
      "Collecting joblib==0.14.1\n",
      "\u001b[?25l  Downloading https://files.pythonhosted.org/packages/28/5c/cf6a2b65a321c4a209efcdf64c2689efae2cb62661f8f6f4bb28547cf1bf/joblib-0.14.1-py2.py3-none-any.whl (294kB)\n",
      "\u001b[K     |████████████████████████████████| 296kB 31.6MB/s \n",
      "\u001b[?25hCollecting jsonnet==0.15.0\n",
      "\u001b[?25l  Downloading https://files.pythonhosted.org/packages/33/b8/a8588d4010f13716a324f55d23999259bad9db2320f4fe919a66b2f651f3/jsonnet-0.15.0.tar.gz (255kB)\n",
      "\u001b[K     |████████████████████████████████| 256kB 31.6MB/s \n",
      "\u001b[?25hRequirement already satisfied: requests==2.23.0 in /usr/local/lib/python3.6/dist-packages (from COMBO==0.0.1) (2.23.0)\n",
      "Collecting overrides==3.1.0\n",
      "  Downloading https://files.pythonhosted.org/packages/ff/b1/10f69c00947518e6676bbd43e739733048de64b8dd998e9c2d5a71f44c5d/overrides-3.1.0.tar.gz\n",
      "Collecting tensorboard==2.1.0\n",
      "\u001b[?25l  Downloading https://files.pythonhosted.org/packages/40/23/53ffe290341cd0855d595b0a2e7485932f473798af173bbe3a584b99bb06/tensorboard-2.1.0-py3-none-any.whl (3.8MB)\n",
      "\u001b[K     |████████████████████████████████| 3.8MB 33.4MB/s \n",
      "\u001b[?25hCollecting torch==1.6.0\n",
      "\u001b[?25l  Downloading https://files.pythonhosted.org/packages/38/53/914885a93a44b96c0dd1c36f36ff10afe341f091230aad68f7228d61db1e/torch-1.6.0-cp36-cp36m-manylinux1_x86_64.whl (748.8MB)\n",
      "\u001b[K     |████████████████████████████████| 748.8MB 20kB/s \n",
      "\u001b[?25hCollecting tqdm==4.43.0\n",
      "\u001b[?25l  Downloading https://files.pythonhosted.org/packages/47/55/fd9170ba08a1a64a18a7f8a18f088037316f2a41be04d2fe6ece5a653e8f/tqdm-4.43.0-py2.py3-none-any.whl (59kB)\n",
      "\u001b[K     |████████████████████████████████| 61kB 9.4MB/s \n",
      "\u001b[?25hCollecting transformers<3.5,>=3.4.0\n",
      "\u001b[?25l  Downloading https://files.pythonhosted.org/packages/2c/4e/4f1ede0fd7a36278844a277f8d53c21f88f37f3754abf76a5d6224f76d4a/transformers-3.4.0-py3-none-any.whl (1.3MB)\n",
      "\u001b[K     |████████████████████████████████| 1.3MB 52.6MB/s \n",
      "\u001b[?25hRequirement already satisfied: urllib3>=1.25.11 in /usr/local/lib/python3.6/dist-packages (from COMBO==0.0.1) (1.25.11)\n",
      "Requirement already satisfied: dataclasses in /usr/local/lib/python3.6/dist-packages (from COMBO==0.0.1) (0.8)\n",
      "Requirement already satisfied: six in /usr/local/lib/python3.6/dist-packages (from absl-py==0.9.0->COMBO==0.0.1) (1.15.0)\n",
      "Requirement already satisfied: scipy in /usr/local/lib/python3.6/dist-packages (from allennlp==1.2.0->COMBO==0.0.1) (1.4.1)\n",
      "Requirement already satisfied: h5py in /usr/local/lib/python3.6/dist-packages (from allennlp==1.2.0->COMBO==0.0.1) (2.10.0)\n",
      "Requirement already satisfied: pytest in /usr/local/lib/python3.6/dist-packages (from allennlp==1.2.0->COMBO==0.0.1) (3.6.4)\n",
      "Requirement already satisfied: numpy in /usr/local/lib/python3.6/dist-packages (from allennlp==1.2.0->COMBO==0.0.1) (1.18.5)\n",
      "Requirement already satisfied: nltk in /usr/local/lib/python3.6/dist-packages (from allennlp==1.2.0->COMBO==0.0.1) (3.2.5)\n",
      "Collecting boto3<2.0,>=1.14\n",
      "\u001b[?25l  Downloading https://files.pythonhosted.org/packages/18/53/697c9f571b4822388acdb21d85090482abd0e55b3c6f2d89f81fbfdc14c1/boto3-1.16.31-py2.py3-none-any.whl (129kB)\n",
      "\u001b[K     |████████████████████████████████| 133kB 57.2MB/s \n",
      "\u001b[?25hCollecting jsonpickle\n",
      "  Downloading https://files.pythonhosted.org/packages/ee/d5/1cc282dc23346a43aab461bf2e8c36593aacd34242bee1a13fa750db0cfe/jsonpickle-1.4.2-py2.py3-none-any.whl\n",
      "Requirement already satisfied: scikit-learn in /usr/local/lib/python3.6/dist-packages (from allennlp==1.2.0->COMBO==0.0.1) (0.22.2.post1)\n",
      "Requirement already satisfied: filelock<3.1,>=3.0 in /usr/local/lib/python3.6/dist-packages (from allennlp==1.2.0->COMBO==0.0.1) (3.0.12)\n",
      "Requirement already satisfied: spacy<2.4,>=2.1.0 in /usr/local/lib/python3.6/dist-packages (from allennlp==1.2.0->COMBO==0.0.1) (2.2.4)\n",
      "Collecting tensorboardX>=1.2\n",
      "\u001b[?25l  Downloading https://files.pythonhosted.org/packages/af/0c/4f41bcd45db376e6fe5c619c01100e9b7531c55791b7244815bac6eac32c/tensorboardX-2.1-py2.py3-none-any.whl (308kB)\n",
      "\u001b[K     |████████████████████████████████| 317kB 56.7MB/s \n",
      "\u001b[?25hCollecting stringcase<2.0.0,==1.2.0\n",
      "  Downloading https://files.pythonhosted.org/packages/f3/1f/1241aa3d66e8dc1612427b17885f5fcd9c9ee3079fc0d28e9a3aeeb36fa3/stringcase-1.2.0.tar.gz\n",
      "Collecting marshmallow-enum<2.0.0,>=1.5.1\n",
      "  Downloading https://files.pythonhosted.org/packages/c6/59/ef3a3dc499be447098d4a89399beb869f813fee1b5a57d5d79dee2c1bf51/marshmallow_enum-1.5.1-py2.py3-none-any.whl\n",
      "Collecting marshmallow<4.0.0,>=3.3.0\n",
      "\u001b[?25l  Downloading https://files.pythonhosted.org/packages/28/02/547bdbd753be4e1977c212f17239045902cd3544060c33684d163aa12025/marshmallow-3.9.1-py2.py3-none-any.whl (46kB)\n",
      "\u001b[K     |████████████████████████████████| 51kB 8.2MB/s \n",
      "\u001b[?25hCollecting typing-inspect>=0.4.0\n",
      "  Downloading https://files.pythonhosted.org/packages/42/1c/66402db44184904a2f14722d317a4da0b5c8c78acfc3faf74362566635c5/typing_inspect-0.6.0-py3-none-any.whl\n",
      "Requirement already satisfied: idna<3,>=2.5 in /usr/local/lib/python3.6/dist-packages (from requests==2.23.0->COMBO==0.0.1) (2.10)\n",
      "Requirement already satisfied: chardet<4,>=3.0.2 in /usr/local/lib/python3.6/dist-packages (from requests==2.23.0->COMBO==0.0.1) (3.0.4)\n",
      "Requirement already satisfied: certifi>=2017.4.17 in /usr/local/lib/python3.6/dist-packages (from requests==2.23.0->COMBO==0.0.1) (2020.11.8)\n",
      "Requirement already satisfied: markdown>=2.6.8 in /usr/local/lib/python3.6/dist-packages (from tensorboard==2.1.0->COMBO==0.0.1) (3.3.3)\n",
      "Requirement already satisfied: werkzeug>=0.11.15 in /usr/local/lib/python3.6/dist-packages (from tensorboard==2.1.0->COMBO==0.0.1) (1.0.1)\n",
      "Requirement already satisfied: protobuf>=3.6.0 in /usr/local/lib/python3.6/dist-packages (from tensorboard==2.1.0->COMBO==0.0.1) (3.12.4)\n",
      "Requirement already satisfied: grpcio>=1.24.3 in /usr/local/lib/python3.6/dist-packages (from tensorboard==2.1.0->COMBO==0.0.1) (1.33.2)\n",
      "Requirement already satisfied: google-auth-oauthlib<0.5,>=0.4.1 in /usr/local/lib/python3.6/dist-packages (from tensorboard==2.1.0->COMBO==0.0.1) (0.4.2)\n",
      "Requirement already satisfied: google-auth<2,>=1.6.3 in /usr/local/lib/python3.6/dist-packages (from tensorboard==2.1.0->COMBO==0.0.1) (1.17.2)\n",
      "Requirement already satisfied: wheel>=0.26; python_version >= \"3\" in /usr/local/lib/python3.6/dist-packages (from tensorboard==2.1.0->COMBO==0.0.1) (0.35.1)\n",
      "Requirement already satisfied: setuptools>=41.0.0 in /usr/local/lib/python3.6/dist-packages (from tensorboard==2.1.0->COMBO==0.0.1) (50.3.2)\n",
      "Requirement already satisfied: future in /usr/local/lib/python3.6/dist-packages (from torch==1.6.0->COMBO==0.0.1) (0.16.0)\n",
      "Collecting sentencepiece!=0.1.92\n",
      "\u001b[?25l  Downloading https://files.pythonhosted.org/packages/e5/2d/6d4ca4bef9a67070fa1cac508606328329152b1df10bdf31fb6e4e727894/sentencepiece-0.1.94-cp36-cp36m-manylinux2014_x86_64.whl (1.1MB)\n",
      "\u001b[K     |████████████████████████████████| 1.1MB 47.9MB/s \n",
      "\u001b[?25hCollecting sacremoses\n",
      "\u001b[?25l  Downloading https://files.pythonhosted.org/packages/7d/34/09d19aff26edcc8eb2a01bed8e98f13a1537005d31e95233fd48216eed10/sacremoses-0.0.43.tar.gz (883kB)\n",
      "\u001b[K     |████████████████████████████████| 890kB 48.6MB/s \n",
      "\u001b[?25hCollecting tokenizers==0.9.2\n",
      "\u001b[?25l  Downloading https://files.pythonhosted.org/packages/7c/a5/78be1a55b2ac8d6a956f0a211d372726e2b1dd2666bb537fea9b03abd62c/tokenizers-0.9.2-cp36-cp36m-manylinux1_x86_64.whl (2.9MB)\n",
      "\u001b[K     |████████████████████████████████| 2.9MB 48.2MB/s \n",
      "\u001b[?25hRequirement already satisfied: regex!=2019.12.17 in /usr/local/lib/python3.6/dist-packages (from transformers<3.5,>=3.4.0->COMBO==0.0.1) (2019.12.20)\n",
      "Requirement already satisfied: packaging in /usr/local/lib/python3.6/dist-packages (from transformers<3.5,>=3.4.0->COMBO==0.0.1) (20.4)\n",
      "Requirement already satisfied: attrs>=17.4.0 in /usr/local/lib/python3.6/dist-packages (from pytest->allennlp==1.2.0->COMBO==0.0.1) (20.3.0)\n",
      "Requirement already satisfied: atomicwrites>=1.0 in /usr/local/lib/python3.6/dist-packages (from pytest->allennlp==1.2.0->COMBO==0.0.1) (1.4.0)\n",
      "Requirement already satisfied: py>=1.5.0 in /usr/local/lib/python3.6/dist-packages (from pytest->allennlp==1.2.0->COMBO==0.0.1) (1.9.0)\n",
      "Requirement already satisfied: more-itertools>=4.0.0 in /usr/local/lib/python3.6/dist-packages (from pytest->allennlp==1.2.0->COMBO==0.0.1) (8.6.0)\n",
      "Requirement already satisfied: pluggy<0.8,>=0.5 in /usr/local/lib/python3.6/dist-packages (from pytest->allennlp==1.2.0->COMBO==0.0.1) (0.7.1)\n",
      "Collecting botocore<1.20.0,>=1.19.31\n",
      "\u001b[?25l  Downloading https://files.pythonhosted.org/packages/95/df/b4268d55a03654ca97a33b58cd681fb8ccbc7040c7604a5b465c38f17bc4/botocore-1.19.31-py2.py3-none-any.whl (7.0MB)\n",
      "\u001b[K     |████████████████████████████████| 7.0MB 50.4MB/s \n",
      "\u001b[?25hCollecting jmespath<1.0.0,>=0.7.1\n",
      "  Downloading https://files.pythonhosted.org/packages/07/cb/5f001272b6faeb23c1c9e0acc04d48eaaf5c862c17709d20e3469c6e0139/jmespath-0.10.0-py2.py3-none-any.whl\n",
      "Collecting s3transfer<0.4.0,>=0.3.0\n",
      "\u001b[?25l  Downloading https://files.pythonhosted.org/packages/69/79/e6afb3d8b0b4e96cefbdc690f741d7dd24547ff1f94240c997a26fa908d3/s3transfer-0.3.3-py2.py3-none-any.whl (69kB)\n",
      "\u001b[K     |████████████████████████████████| 71kB 11.0MB/s \n",
      "\u001b[?25hRequirement already satisfied: importlib-metadata; python_version < \"3.8\" in /usr/local/lib/python3.6/dist-packages (from jsonpickle->allennlp==1.2.0->COMBO==0.0.1) (2.0.0)\n",
      "Requirement already satisfied: thinc==7.4.0 in /usr/local/lib/python3.6/dist-packages (from spacy<2.4,>=2.1.0->allennlp==1.2.0->COMBO==0.0.1) (7.4.0)\n",
      "Requirement already satisfied: srsly<1.1.0,>=1.0.2 in /usr/local/lib/python3.6/dist-packages (from spacy<2.4,>=2.1.0->allennlp==1.2.0->COMBO==0.0.1) (1.0.4)\n",
      "Requirement already satisfied: preshed<3.1.0,>=3.0.2 in /usr/local/lib/python3.6/dist-packages (from spacy<2.4,>=2.1.0->allennlp==1.2.0->COMBO==0.0.1) (3.0.4)\n",
      "Requirement already satisfied: catalogue<1.1.0,>=0.0.7 in /usr/local/lib/python3.6/dist-packages (from spacy<2.4,>=2.1.0->allennlp==1.2.0->COMBO==0.0.1) (1.0.0)\n",
      "Requirement already satisfied: cymem<2.1.0,>=2.0.2 in /usr/local/lib/python3.6/dist-packages (from spacy<2.4,>=2.1.0->allennlp==1.2.0->COMBO==0.0.1) (2.0.4)\n",
      "Requirement already satisfied: wasabi<1.1.0,>=0.4.0 in /usr/local/lib/python3.6/dist-packages (from spacy<2.4,>=2.1.0->allennlp==1.2.0->COMBO==0.0.1) (0.8.0)\n",
      "Requirement already satisfied: blis<0.5.0,>=0.4.0 in /usr/local/lib/python3.6/dist-packages (from spacy<2.4,>=2.1.0->allennlp==1.2.0->COMBO==0.0.1) (0.4.1)\n",
      "Requirement already satisfied: plac<1.2.0,>=0.9.6 in /usr/local/lib/python3.6/dist-packages (from spacy<2.4,>=2.1.0->allennlp==1.2.0->COMBO==0.0.1) (1.1.3)\n",
      "Requirement already satisfied: murmurhash<1.1.0,>=0.28.0 in /usr/local/lib/python3.6/dist-packages (from spacy<2.4,>=2.1.0->allennlp==1.2.0->COMBO==0.0.1) (1.0.4)\n",
      "Collecting mypy-extensions>=0.3.0\n",
      "  Downloading https://files.pythonhosted.org/packages/5c/eb/975c7c080f3223a5cdaff09612f3a5221e4ba534f7039db34c35d95fa6a5/mypy_extensions-0.4.3-py2.py3-none-any.whl\n",
      "Requirement already satisfied: typing-extensions>=3.7.4 in /usr/local/lib/python3.6/dist-packages (from typing-inspect>=0.4.0->dataclasses-json==0.5.2->COMBO==0.0.1) (3.7.4.3)\n",
      "Requirement already satisfied: requests-oauthlib>=0.7.0 in /usr/local/lib/python3.6/dist-packages (from google-auth-oauthlib<0.5,>=0.4.1->tensorboard==2.1.0->COMBO==0.0.1) (1.3.0)\n",
      "Requirement already satisfied: cachetools<5.0,>=2.0.0 in /usr/local/lib/python3.6/dist-packages (from google-auth<2,>=1.6.3->tensorboard==2.1.0->COMBO==0.0.1) (4.1.1)\n",
      "Requirement already satisfied: rsa<5,>=3.1.4; python_version >= \"3\" in /usr/local/lib/python3.6/dist-packages (from google-auth<2,>=1.6.3->tensorboard==2.1.0->COMBO==0.0.1) (4.6)\n",
      "Requirement already satisfied: pyasn1-modules>=0.2.1 in /usr/local/lib/python3.6/dist-packages (from google-auth<2,>=1.6.3->tensorboard==2.1.0->COMBO==0.0.1) (0.2.8)\n",
      "Requirement already satisfied: click in /usr/local/lib/python3.6/dist-packages (from sacremoses->transformers<3.5,>=3.4.0->COMBO==0.0.1) (7.1.2)\n",
      "Requirement already satisfied: pyparsing>=2.0.2 in /usr/local/lib/python3.6/dist-packages (from packaging->transformers<3.5,>=3.4.0->COMBO==0.0.1) (2.4.7)\n",
      "Requirement already satisfied: python-dateutil<3.0.0,>=2.1 in /usr/local/lib/python3.6/dist-packages (from botocore<1.20.0,>=1.19.31->boto3<2.0,>=1.14->allennlp==1.2.0->COMBO==0.0.1) (2.8.1)\n",
      "Requirement already satisfied: zipp>=0.5 in /usr/local/lib/python3.6/dist-packages (from importlib-metadata; python_version < \"3.8\"->jsonpickle->allennlp==1.2.0->COMBO==0.0.1) (3.4.0)\n",
      "Requirement already satisfied: oauthlib>=3.0.0 in /usr/local/lib/python3.6/dist-packages (from requests-oauthlib>=0.7.0->google-auth-oauthlib<0.5,>=0.4.1->tensorboard==2.1.0->COMBO==0.0.1) (3.1.0)\n",
      "Requirement already satisfied: pyasn1>=0.1.3 in /usr/local/lib/python3.6/dist-packages (from rsa<5,>=3.1.4; python_version >= \"3\"->google-auth<2,>=1.6.3->tensorboard==2.1.0->COMBO==0.0.1) (0.4.8)\n",
      "Building wheels for collected packages: COMBO, absl-py, jsonnet, overrides, stringcase, sacremoses\n",
      "  Building wheel for COMBO (setup.py) ... \u001b[?25l\u001b[?25hdone\n",
      "  Created wheel for COMBO: filename=COMBO-0.0.1-cp36-none-any.whl size=45027 sha256=c35d861d29a4e587e7c89b860fa9bbf28546191c5c41054b8ed0a8b06517cb8c\n",
      "  Stored in directory: /root/.cache/pip/wheels/a0/00/24/3c7fc1554a416f19c0d0e2b61db3b23ae982bdbf1181ba9c77\n",
      "  Building wheel for absl-py (setup.py) ... \u001b[?25l\u001b[?25hdone\n",
      "  Created wheel for absl-py: filename=absl_py-0.9.0-cp36-none-any.whl size=121933 sha256=d220d8e006d3cb89e53153507a78a2dd2b3af37c20ed821c560550fb27c53b68\n",
      "  Stored in directory: /root/.cache/pip/wheels/8e/28/49/fad4e7f0b9a1227708cbbee4487ac8558a7334849cb81c813d\n",
      "  Building wheel for jsonnet (setup.py) ... \u001b[?25l\u001b[?25hdone\n",
      "  Created wheel for jsonnet: filename=jsonnet-0.15.0-cp36-cp36m-linux_x86_64.whl size=3319797 sha256=2d6568643599f85a896388ac1019c178604af16b22eb1be77296c96faf080ea0\n",
      "  Stored in directory: /root/.cache/pip/wheels/57/63/2e/da89cfe1ba08550bd7262d5d9c027edc313980c3b85b3b0a38\n",
      "  Building wheel for overrides (setup.py) ... \u001b[?25l\u001b[?25hdone\n",
      "  Created wheel for overrides: filename=overrides-3.1.0-cp36-none-any.whl size=10174 sha256=4faa9fae6bd90632e5442e5142d7f1beec0f8777a46281ccdc9ddee3e4311ae6\n",
      "  Stored in directory: /root/.cache/pip/wheels/5c/24/13/6ef8600e6f147c95e595f1289a86a3cc82ed65df57582c65a9\n",
      "  Building wheel for stringcase (setup.py) ... \u001b[?25l\u001b[?25hdone\n",
      "  Created wheel for stringcase: filename=stringcase-1.2.0-cp36-none-any.whl size=3578 sha256=93ff6f256a498f7953e02bbfa3390e6a07ffebf5640a3f8646e01e0d6f6e43b7\n",
      "  Stored in directory: /root/.cache/pip/wheels/a0/16/a0/16e2c81dbd47503b5a35583dfabde5a93b4cf98dbf0033dad5\n",
      "  Building wheel for sacremoses (setup.py) ... \u001b[?25l\u001b[?25hdone\n",
      "  Created wheel for sacremoses: filename=sacremoses-0.0.43-cp36-none-any.whl size=893257 sha256=a490462f6d7968b34a9b437c4df7e5b6aa788bc145a98c6a8e17bdd11bd6b8be\n",
      "  Stored in directory: /root/.cache/pip/wheels/29/3c/fd/7ce5c3f0666dab31a50123635e6fb5e19ceb42ce38d4e58f45\n",
      "Successfully built COMBO absl-py jsonnet overrides stringcase sacremoses\n",
      "\u001b[31mERROR: torchvision 0.8.1+cu101 has requirement torch==1.7.0, but you'll have torch 1.6.0 which is incompatible.\u001b[0m\n",
      "\u001b[31mERROR: tensorflow 2.3.0 has requirement tensorboard<3,>=2.3.0, but you'll have tensorboard 2.1.0 which is incompatible.\u001b[0m\n",
      "Installing collected packages: absl-py, tqdm, overrides, sentencepiece, joblib, sacremoses, tokenizers, transformers, jsonnet, jmespath, botocore, s3transfer, boto3, jsonpickle, torch, tensorboardX, allennlp, conllu, stringcase, marshmallow, marshmallow-enum, mypy-extensions, typing-inspect, dataclasses-json, tensorboard, COMBO\n",
      "  Found existing installation: absl-py 0.10.0\n",
      "    Uninstalling absl-py-0.10.0:\n",
      "      Successfully uninstalled absl-py-0.10.0\n",
      "  Found existing installation: tqdm 4.41.1\n",
      "    Uninstalling tqdm-4.41.1:\n",
      "      Successfully uninstalled tqdm-4.41.1\n",
      "  Found existing installation: joblib 0.17.0\n",
      "    Uninstalling joblib-0.17.0:\n",
      "      Successfully uninstalled joblib-0.17.0\n",
      "  Found existing installation: torch 1.7.0+cu101\n",
      "    Uninstalling torch-1.7.0+cu101:\n",
      "      Successfully uninstalled torch-1.7.0+cu101\n",
      "  Found existing installation: tensorboard 2.3.0\n",
      "    Uninstalling tensorboard-2.3.0:\n",
      "      Successfully uninstalled tensorboard-2.3.0\n",
      "Successfully installed COMBO-0.0.1 absl-py-0.9.0 allennlp-1.2.0 boto3-1.16.31 botocore-1.19.31 conllu-2.3.2 dataclasses-json-0.5.2 jmespath-0.10.0 joblib-0.14.1 jsonnet-0.15.0 jsonpickle-1.4.2 marshmallow-3.9.1 marshmallow-enum-1.5.1 mypy-extensions-0.4.3 overrides-3.1.0 s3transfer-0.3.3 sacremoses-0.0.43 sentencepiece-0.1.94 stringcase-1.2.0 tensorboard-2.1.0 tensorboardX-2.1 tokenizers-0.9.2 torch-1.6.0 tqdm-4.43.0 transformers-3.4.0 typing-inspect-0.6.0\n"
     ]
    }
   ],
   "source": [
    "! python -m pip install zasoby/COMBO-0.0.1.tar.gz"
   ]
  },
  {
   "cell_type": "code",
   "execution_count": null,
   "metadata": {
    "id": "ByI3A-bGu96c"
   },
   "outputs": [],
   "source": [
    "# Pythonowa wersja COMBO, która jest zintegrowana z modelem segmentacji spaCy dla angielskiego (dzieli po spacjach)\n",
    "import combo.predict as predict"
   ]
  },
  {
   "cell_type": "code",
   "execution_count": null,
   "metadata": {
    "colab": {
     "base_uri": "https://localhost:8080/",
     "height": 328,
     "referenced_widgets": [
      "7d39b2e58e34452fb6591dce09422000",
      "f837d08e7fb143b7910d88ead17fbe06",
      "6513873c2cdc4e92ae07884adf21591c",
      "8248c84813674de291a66bc9068c74c7",
      "5823e20aa8124d19880a4bd11c2aee50",
      "bc6b44d697334f659c1aaf2934bc9210",
      "53c67a941c664c32b522217396e754e8",
      "d399ea5612ab4d1684187f12b6da81c6",
      "1443138bd2674de19ed2cc5dfac35759",
      "94d0234565c44744947fe4709e4cad54",
      "e0afb5872088410db417c5af34f04b6d",
      "8f5e1ae0c5f249cb9dc57c570796cc63",
      "95d56de49d2a4f2191b4d02b73e175a2",
      "684a5d50772e4cc68304d5cc98db9778",
      "81a0af7aa95d453f88de56959768c7a9",
      "c96fc9e3397a461f9d57e6a9d38fe99f",
      "fef23606eef148588c71db312b629117",
      "69e08946e9264c67b903f1d607d93eb7",
      "3f1ae8fdae40490db11fd0f782ac2cdc",
      "f559450eda9249139a22845a18cdf409",
      "4dc3913ea769468ba6c580fd51840c56",
      "c4b055dc0f6b46088b4482d69169f95b",
      "e8683fe3f1d2456085ff6b3b6b36d611",
      "6f9a84876edd4efcb2b4c40e3800d9ba",
      "cdb906c2a17a4d0b9c39574e6f0d21d1",
      "25d1dfbdb8534be3989194f855743b57",
      "3767e21a2173471787d4956ab5e0cbe0",
      "85dfe7e2319d4459a7bcd674b514b899",
      "07c8e5f53a814d1ba01d273f284b0c1f",
      "22b6349af6144cb2b203e6731ff8adf8",
      "399d0da8d1e146429573cd0fb09c861e",
      "50e044ae87d140a7ba43cb2ff707429e",
      "4f352d5955004dcaaa17f369a29811fe",
      "ec3cedfc787c4b58806f97b10353b012",
      "c81b863fb0fc4dcfa43b5c86f2fdc990",
      "6560ab8e34b24721819da537469f60f0",
      "a1924967abe248908998c9be6bc8ec47",
      "4550565f6f524bbf89b80b7d4e83d55e",
      "745b9313308c4f9cbbf2d863c105ffba",
      "2257f74efed44670ade54cde100ff1c2",
      "1d80adc196e14eef8a2bd6c4dfbb69b0",
      "fd97291f044a44539ac85c4361a5afe8",
      "54231a3187be4332b308f518718e41dc",
      "a9a3bb9ef53d4db9bea5d9012846d56b",
      "093f4e62d12048dda6472d31352fa2ba",
      "8e72f25df3964a7391c9574e5e0a031c",
      "f5e3fc03508049b9840da6775fb9d6be",
      "d437a040dcf949c799a73b2d82110f8a"
     ]
    },
    "id": "SitTznMzw9vL",
    "outputId": "a977278c-44f2-4cd1-ba6e-6f69ec1a1df8"
   },
   "outputs": [
    {
     "name": "stderr",
     "output_type": "stream",
     "text": [
      "100%|██████████| 32708/32708 [00:59<00:00, 549.04it/s] \n"
     ]
    },
    {
     "data": {
      "application/vnd.jupyter.widget-view+json": {
       "model_id": "7d39b2e58e34452fb6591dce09422000",
       "version_major": 2,
       "version_minor": 0
      },
      "text/plain": [
       "HBox(children=(FloatProgress(value=0.0, description='Downloading', max=464.0, style=ProgressStyle(description_…"
      ]
     },
     "metadata": {
      "tags": []
     },
     "output_type": "display_data"
    },
    {
     "name": "stdout",
     "output_type": "stream",
     "text": [
      "\n"
     ]
    },
    {
     "data": {
      "application/vnd.jupyter.widget-view+json": {
       "model_id": "1443138bd2674de19ed2cc5dfac35759",
       "version_major": 2,
       "version_minor": 0
      },
      "text/plain": [
       "HBox(children=(FloatProgress(value=0.0, description='Downloading', max=906984.0, style=ProgressStyle(descripti…"
      ]
     },
     "metadata": {
      "tags": []
     },
     "output_type": "display_data"
    },
    {
     "name": "stdout",
     "output_type": "stream",
     "text": [
      "\n"
     ]
    },
    {
     "data": {
      "application/vnd.jupyter.widget-view+json": {
       "model_id": "fef23606eef148588c71db312b629117",
       "version_major": 2,
       "version_minor": 0
      },
      "text/plain": [
       "HBox(children=(FloatProgress(value=0.0, description='Downloading', max=555571.0, style=ProgressStyle(descripti…"
      ]
     },
     "metadata": {
      "tags": []
     },
     "output_type": "display_data"
    },
    {
     "name": "stdout",
     "output_type": "stream",
     "text": [
      "\n"
     ]
    },
    {
     "data": {
      "application/vnd.jupyter.widget-view+json": {
       "model_id": "cdb906c2a17a4d0b9c39574e6f0d21d1",
       "version_major": 2,
       "version_minor": 0
      },
      "text/plain": [
       "HBox(children=(FloatProgress(value=0.0, description='Downloading', max=129.0, style=ProgressStyle(description_…"
      ]
     },
     "metadata": {
      "tags": []
     },
     "output_type": "display_data"
    },
    {
     "name": "stdout",
     "output_type": "stream",
     "text": [
      "\n"
     ]
    },
    {
     "data": {
      "application/vnd.jupyter.widget-view+json": {
       "model_id": "4f352d5955004dcaaa17f369a29811fe",
       "version_major": 2,
       "version_minor": 0
      },
      "text/plain": [
       "HBox(children=(FloatProgress(value=0.0, description='Downloading', max=229.0, style=ProgressStyle(description_…"
      ]
     },
     "metadata": {
      "tags": []
     },
     "output_type": "display_data"
    },
    {
     "name": "stdout",
     "output_type": "stream",
     "text": [
      "\n"
     ]
    },
    {
     "data": {
      "application/vnd.jupyter.widget-view+json": {
       "model_id": "1d80adc196e14eef8a2bd6c4dfbb69b0",
       "version_major": 2,
       "version_minor": 0
      },
      "text/plain": [
       "HBox(children=(FloatProgress(value=0.0, description='Downloading', max=654201076.0, style=ProgressStyle(descri…"
      ]
     },
     "metadata": {
      "tags": []
     },
     "output_type": "display_data"
    },
    {
     "name": "stdout",
     "output_type": "stream",
     "text": [
      "\n"
     ]
    }
   ],
   "source": [
    "# Wczytujemy model COMBO wspomagany kontekstowymi zanurzeniami słownymi z modelu HerBERT https://huggingface.co/allegro/herbert-base-cased\n",
    "nlp = predict.SemanticMultitaskPredictor.from_pretrained(\"polish-herbert-base\")"
   ]
  },
  {
   "cell_type": "code",
   "execution_count": null,
   "metadata": {
    "id": "quDWHqGcxNbU"
   },
   "outputs": [],
   "source": [
    "sentence = nlp(\"To jest słoń, którego sfotografowaliśmy.\")"
   ]
  },
  {
   "cell_type": "code",
   "execution_count": null,
   "metadata": {
    "colab": {
     "base_uri": "https://localhost:8080/"
    },
    "id": "soHXqzBtxPJY",
    "outputId": "086f7893-7791-4d4f-9b8e-29b7de61b777"
   },
   "outputs": [
    {
     "name": "stdout",
     "output_type": "stream",
     "text": [
      "SEGMENT              LEMAT                UPOS            XPOS                 FEATS          \n",
      "To                   to                   AUX             pred                 Mood=Ind|Tense=Pres|VerbForm=Fin|VerbType=Quasi\n",
      "jest                 być                  AUX             fin:sg:ter:imperf    Aspect=Imp|Mood=Ind|Number=Sing|Person=3|Tense=Pres|VerbForm=Fin|Voice=Act\n",
      "słoń                 słoń                 NOUN            subst:sg:nom:m2      Animacy=Nhum|Case=Nom|Gender=Masc|Number=Sing\n",
      ",                    ,                    PUNCT           interp               PunctType=Comm \n",
      "którego              który                DET             adj:sg:acc:m2:pos    Animacy=Nhum|Case=Acc|Gender=Masc|Number=Sing|PronType=Rel\n",
      "sfotografowaliśmy    sfotografowalić      VERB            fin:pl:pri:perf      Aspect=Perf|Mood=Ind|Number=Plur|Person=1|Tense=Fut|VerbForm=Fin|Voice=Act\n",
      ".                    .                    PUNCT           interp               PunctType=Peri \n"
     ]
    }
   ],
   "source": [
    "print(\"{:20} {:20} {:15} {:20} {:15}\".format('SEGMENT', 'LEMAT', 'UPOS', 'XPOS', 'FEATS'))\n",
    "for token in sentence.tokens:\n",
    "    print(\"{:20} {:20} {:15} {:20} {:15}\".format(token.token, token.lemma, token.upostag, token.xpostag, token.feats))"
   ]
  },
  {
   "cell_type": "markdown",
   "metadata": {
    "id": "JKV5zHZKx7pU"
   },
   "source": [
    "Konsolowa wersja COMBO wymaga pobrania modelu COMBO"
   ]
  },
  {
   "cell_type": "code",
   "execution_count": null,
   "metadata": {
    "colab": {
     "base_uri": "https://localhost:8080/"
    },
    "id": "T4Zv0-grx6iM",
    "outputId": "9b9b527f-c168-4858-d75e-61c789271bc3"
   },
   "outputs": [
    {
     "name": "stdout",
     "output_type": "stream",
     "text": [
      "--2020-12-08 10:22:47--  http://mozart.ipipan.waw.pl/~mklimaszewski/models/polish-herbert-base.tar.gz\n",
      "Resolving mozart.ipipan.waw.pl (mozart.ipipan.waw.pl)... 213.135.36.148\n",
      "Connecting to mozart.ipipan.waw.pl (mozart.ipipan.waw.pl)|213.135.36.148|:80... connected.\n",
      "HTTP request sent, awaiting response... 200 OK\n",
      "Length: 334925644 (319M) [application/x-gzip]\n",
      "Saving to: ‘zasoby/polish-herbert-base.tar.gz’\n",
      "\n",
      "polish-herbert-base 100%[===================>] 319.41M  12.7MB/s    in 57s     \n",
      "\n",
      "2020-12-08 10:23:45 (5.57 MB/s) - ‘zasoby/polish-herbert-base.tar.gz’ saved [334925644/334925644]\n",
      "\n"
     ]
    }
   ],
   "source": [
    "# model COMBO \n",
    "! wget -P zasoby http://mozart.ipipan.waw.pl/~mklimaszewski/models/polish-herbert-base.tar.gz"
   ]
  },
  {
   "cell_type": "code",
   "execution_count": null,
   "metadata": {
    "colab": {
     "base_uri": "https://localhost:8080/"
    },
    "id": "akPF1w0iyULZ",
    "outputId": "afa363f3-173f-42cb-fa75-ae0986fa7081"
   },
   "outputs": [
    {
     "name": "stdout",
     "output_type": "stream",
     "text": [
      "--2020-12-08 10:24:08--  http://mozart.ipipan.waw.pl/~alina/zasoby/data/PDBUD_test.conllu\n",
      "Resolving mozart.ipipan.waw.pl (mozart.ipipan.waw.pl)... 213.135.36.148\n",
      "Connecting to mozart.ipipan.waw.pl (mozart.ipipan.waw.pl)|213.135.36.148|:80... connected.\n",
      "HTTP request sent, awaiting response... 200 OK\n",
      "Length: 3486186 (3.3M)\n",
      "Saving to: ‘zasoby/PDBUD_test.conllu’\n",
      "\n",
      "PDBUD_test.conllu   100%[===================>]   3.32M  2.57MB/s    in 1.3s    \n",
      "\n",
      "2020-12-08 10:24:10 (2.57 MB/s) - ‘zasoby/PDBUD_test.conllu’ saved [3486186/3486186]\n",
      "\n"
     ]
    }
   ],
   "source": [
    "# korpus wzorcowy\n",
    "! wget -P zasoby http://mozart.ipipan.waw.pl/~alina/zasoby/data/PDBUD_test.conllu"
   ]
  },
  {
   "cell_type": "code",
   "execution_count": null,
   "metadata": {
    "id": "TvmkSmL99i8U"
   },
   "outputs": [],
   "source": [
    "!combo --mode predict --model_path zasoby/polish-herbert-base.tar.gz --input_file zasoby/PDBUD_test.conllu --output_file predykcje/segmentatacja_gold/PDBUD_test_COMBO.conllu"
   ]
  },
  {
   "cell_type": "code",
   "execution_count": null,
   "metadata": {
    "colab": {
     "base_uri": "https://localhost:8080/"
    },
    "id": "sMJEGFWK8UAP",
    "outputId": "42d1f737-de0f-486d-faf0-e3aebce29f09"
   },
   "outputs": [
    {
     "name": "stdout",
     "output_type": "stream",
     "text": [
      "# sent_id = test-s1\n",
      "# text = Mężczyzna w czapce kuca na chodniku pod ścianą budynku, a koło niego jest pięć kotów.\n",
      "# orig_file_sentence = CDScorpus_1961_B#1197\n",
      "1\tMężczyzna\tmężczyzna\tNOUN\tsubst:sg:nom:m1\tAnimacy=Hum|Case=Nom|Gender=Masc|Number=Sing\t4\tnsubj\t4:nsubj\t_\n",
      "2\tw\tw\tADP\tprep:loc:nwok\tAdpType=Prep|Variant=Short\t3\tcase\t3:case\tCase=Loc\n",
      "3\tczapce\tczapka\tNOUN\tsubst:sg:loc:f\tCase=Loc|Gender=Fem|Number=Sing\t1\tnmod\t1:nmod\t_\n",
      "4\tkuca\tkucać\tVERB\tfin:sg:ter:imperf\tAspect=Imp|Mood=Ind|Number=Sing|Person=3|Tense=Pres|VerbForm=Fin|Voice=Act\t0\troot\t0:root\t_\n",
      "5\tna\tna\tADP\tprep:loc\tAdpType=Prep\t6\tcase\t6:case\tCase=Loc\n",
      "6\tchodniku\tchodnik\tNOUN\tsubst:sg:loc:m3\tAnimacy=Inan|Case=Loc|Gender=Masc|Number=Sing\t4\tobl\t4:obl\t_\n",
      "7\tpod\tpod\tADP\tprep:inst:nwok\tAdpType=Prep|Variant=Short\t8\tcase\t8:case\tCase=Ins\n",
      "8\tścianą\tściana\tNOUN\tsubst:sg:inst:f\tCase=Ins|Gender=Fem|Number=Sing\t6\tnmod\t4:obl\t_\n",
      "9\tbudynku\tbudynek\tNOUN\tsubst:sg:gen:m3\tAnimacy=Inan|Case=Gen|Gender=Masc|Number=Sing\t8\tnmod\t8:nmod\tSpaceAfter=No\n",
      "10\t,\t,\tPUNCT\tinterp\tPunctType=Comm\t14\tpunct\t14:punct\t_\n",
      "11\ta\ta\tCCONJ\tconj\t_\t14\tcc\t14:cc\t_\n",
      "12\tkoło\tkoło\tADP\tprep:gen\tAdpType=Prep\t13\tcase\t13:case\tCase=Gen\n",
      "13\tniego\ton\tPRON\tppron3:sg:gen:m1:ter:akc:praep\tAnimacy=Hum|Case=Gen|Gender=Masc|Number=Sing|Person=3|PrepCase=Pre|PronType=Prs|Variant=Long\t14\tobl\t14:obl\t_\n",
      "14\tjest\tbyć\tVERB\tfin:sg:ter:imperf\tAspect=Imp|Mood=Ind|Number=Sing|Person=3|Tense=Pres|VerbForm=Fin|Voice=Act\t4\tconj\t0:root|4:conj\t_\n",
      "15\tpięć\tpięć\tNUM\tnum:pl:nom:m2:rec\tAnimacy=Nhum|Case=Nom|Gender=Masc|NumForm=Word|Number=Plur\t16\tnummod:gov\t16:nummod:gov\t_\n",
      "16\tkotów\tkot\tNOUN\tsubst:pl:gen:m2\tAnimacy=Nhum|Case=Gen|Gender=Masc|Number=Plur\t14\tnsubj\t14:nsubj\tSpaceAfter=No\n",
      "17\t.\t.\tPUNCT\tinterp\tPunctType=Peri\t4\tpunct\t4:punct\t_\n",
      "\n",
      "# sent_id = test-s2\n",
      "# text = Chłopak biegnie, asekurując jadącego obok rowerem chłopca w kasku na głowie.\n",
      "# orig_file_sentence = CDScorpus_7401_A#741\n",
      "1\tChłopak\tchłopak\tNOUN\tsubst:sg:nom:m1\tAnimacy=Hum|Case=Nom|Gender=Masc|Number=Sing\t2\tnsubj\t2:nsubj\t_\n",
      "2\tbiegnie\tbiec\tVERB\tfin:sg:ter:imperf\tAspect=Imp|Mood=Ind|Number=Sing|Person=3|Tense=Pres|VerbForm=Fin|Voice=Act\t0\troot\t0:root\tSpaceAfter=No\n",
      "3\t,\t,\tPUNCT\tinterp\tPunctType=Comm\t4\tpunct\t4:punct\t_\n",
      "4\tasekurując\tasekurować\tVERB\tpcon:imperf\tAspect=Imp|Tense=Pres|VerbForm=Conv|Voice=Act\t2\tadvcl\t2:advcl\t_\n",
      "5\tjadącego\tjechać\tADJ\tpact:sg:acc:m1:imperf:aff\tAnimacy=Hum|Aspect=Imp|Case=Acc|Gender=Masc|Number=Sing|Polarity=Pos|VerbForm=Part|Voice=Act\t8\tacl\t8:acl\t_\n",
      "6\tobok\tobok\tADV\tadv\t_\t5\tadvmod\t5:advmod\t_\n",
      "7\trowerem\trower\tNOUN\tsubst:sg:inst:m3\tAnimacy=Inan|Case=Ins|Gender=Masc|Number=Sing\t5\tiobj\t5:iobj\t_\n",
      "8\tchłopca\tchłopiec\tNOUN\tsubst:sg:acc:m1\tAnimacy=Hum|Case=Acc|Gender=Masc|Number=Sing\t4\tobj\t4:obj\t_\n",
      "9\tw\tw\tADP\tprep:loc:nwok\tAdpType=Prep|Variant=Short\t10\tcase\t10:case\tCase=Loc\n",
      "10\tkasku\tkask\tNOUN\tsubst:sg:loc:m3\tAnimacy=Inan|Case=Loc|Gender=Masc|Number=Sing\t8\tnmod\t8:nmod\t_\n",
      "11\tna\tna\tADP\tprep:loc\tAdpType=Prep\t12\tcase\t12:case\tCase=Loc\n",
      "12\tgłowie\tgłowa\tNOUN\tsubst:sg:loc:f\tCase=Loc|Gender=Fem|Number=Sing\t10\tnmod\t10:nmod\tSpaceAfter=No\n",
      "13\t.\t.\tPUNCT\tinterp\tPunctType=Peri\t2\tpunct\t2:punct\t_\n",
      "\n",
      "# sent_id = test-s3\n",
      "# text = Kilkanaście dziewczynek w białych sukienkach i kokardach na głowie stoi obok siebie na scenie.\n",
      "# orig_file_sentence = CDScorpus_9211_A#922\n",
      "1\tKilkanaście\tkilkanaście\tDET\tnum:pl:nom:f:rec\tCase=Nom|Gender=Fem|NumType=Card|Number=Plur|PronType=Ind\t2\tdet:numgov\t2:det:numgov\t_\n",
      "2\tdziewczynek\tdziewczynka\tNOUN\tsubst:pl:gen:f\tCase=Gen|Gender=Fem|Number=Plur\t10\tnsubj\t10:nsubj\t_\n",
      "3\tw\tw\tADP\tprep:loc:nwok\tAdpType=Prep|Variant=Short\t5\tcase\t5:case|7:case\tCase=Loc\n",
      "4\tbiałych\tbiały\tADJ\tadj:pl:loc:f:pos\tCase=Loc|Degree=Pos|Gender=Fem|Number=Plur\t5\tamod\t5:amod\t_\n",
      "5\tsukienkach\tsukienka\tNOUN\tsubst:pl:loc:f\tCase=Loc|Gender=Fem|Number=Plur\t2\tnmod\t2:nmod\t_\n",
      "6\ti\ti\tCCONJ\tconj\t_\t7\tcc\t7:cc\t_\n",
      "7\tkokardach\tkokarda\tNOUN\tsubst:pl:loc:f\tCase=Loc|Gender=Fem|Number=Plur\t5\tconj\t2:nmod|5:conj\t_\n",
      "8\tna\tna\tADP\tprep:loc\tAdpType=Prep\t9\tcase\t9:case\tCase=Loc\n",
      "9\tgłowie\tgłowa\tNOUN\tsubst:sg:loc:f\tCase=Loc|Gender=Fem|Number=Sing\t7\tnmod\t7:nmod\t_\n"
     ]
    }
   ],
   "source": [
    "! head -n 50 predykcje/segmentatacja_gold/PDBUD_test_COMBO.conllu"
   ]
  },
  {
   "cell_type": "markdown",
   "metadata": {
    "id": "qa2fdLFqLtYf"
   },
   "source": [
    "# Ewaluacja – miary\n",
    "\n",
    "Skuteczność narzędzia NLP możne mierzyć kilkoma metrykami (miarami) używanymi w uczeniu maszynowym:\n",
    "![Screenshot 2020-11-26 at 10.35.44.png](data:image/png;base64,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)\n",
    "\n",
    "* $TP$: przykłady prawdziwie pozytywne,\n",
    "* $FP$: przykłady fałszywie pozytywne,\n",
    "* $FN$: przykłady fałszywie negatywne,\n",
    "* $TN$: przykłady prawdziwie negatywne."
   ]
  },
  {
   "cell_type": "markdown",
   "metadata": {
    "id": "uwTitPdDsQhq"
   },
   "source": [
    "\n",
    "### Accuracy (dokładność)\n",
    "\n",
    "Odsetek instancji, którym klasyfikator przypisał prawidłową kategorię.\n",
    "\n",
    "$A = \\frac{\\mathit{TP+TN}}{\\mathit{TP+FP+TN+FN}} = \\frac{\\mathit{\\#correct}}{\\mathit{\\#total}}$\n"
   ]
  },
  {
   "cell_type": "code",
   "execution_count": null,
   "metadata": {
    "colab": {
     "base_uri": "https://localhost:8080/"
    },
    "id": "RLSqGUSvdNUR",
    "outputId": "d0f2d327-4bcf-41c7-a8ba-b61434ce93f1"
   },
   "outputs": [
    {
     "name": "stdout",
     "output_type": "stream",
     "text": [
      "0.6\n"
     ]
    }
   ],
   "source": [
    "from sklearn.metrics import accuracy_score\n",
    "\n",
    "print(accuracy_score([1, 2, 3, 2, 1], [1, 2, 3, 4, 5]))"
   ]
  },
  {
   "cell_type": "markdown",
   "metadata": {
    "id": "2riz6pEDeLit"
   },
   "source": [
    "### Precision, recall i F-mesure\n",
    "\n",
    "\n",
    "**Precision** to ddsetek instancji wykrytych przez system, które są rzeczywiście poprawne.\n",
    "\n",
    "$P = \\frac{\\mathit{TP}}{TP+FP}$\n",
    "\n",
    "**Recall** to odsetek instancji w danych wejściowych, które zostały poprawnie zidentyfikowane przez system.\n",
    "\n",
    "$R = \\frac{\\mathit{TP}}{TP+FN}$\n",
    "\n",
    "**F(1)-measure** to średnia harmoniczna wartości precision i recall:\n",
    "\n",
    "$F = \\frac{2PR}{P + R}$\n"
   ]
  },
  {
   "cell_type": "code",
   "execution_count": null,
   "metadata": {
    "colab": {
     "base_uri": "https://localhost:8080/"
    },
    "id": "dYj6yvOFpFXB",
    "outputId": "32a101b5-f7c9-4d7a-a99d-b7fc8eba7ba8"
   },
   "outputs": [
    {
     "name": "stdout",
     "output_type": "stream",
     "text": [
      "accuracy_score   0.80\n",
      "precision_score  1.00\n",
      "recall_score     0.50\n",
      "f1_score         0.67\n"
     ]
    }
   ],
   "source": [
    "from sklearn.metrics import precision_score, recall_score, f1_score\n",
    "\n",
    "y_gold = [0, 0, 0, 0, 0, 0, 1, 1, 1, 1]\n",
    "y_pred = [0, 0, 0, 0, 0, 0, 0, 0, 1, 1]\n",
    "\n",
    "for metric in (accuracy_score, precision_score, recall_score, f1_score):\n",
    "    print('{:16} {:.2f}'.format(metric.__name__, metric(y_gold, y_pred)))"
   ]
  },
  {
   "cell_type": "code",
   "execution_count": null,
   "metadata": {
    "colab": {
     "base_uri": "https://localhost:8080/"
    },
    "id": "DQ3vWNaTrKMn",
    "outputId": "f20a7ec6-ddb9-494c-c1f9-8d885524100a"
   },
   "outputs": [
    {
     "name": "stdout",
     "output_type": "stream",
     "text": [
      "accuracy_score   0.70\n",
      "precision_score  0.57\n",
      "recall_score     1.00\n",
      "f1_score         0.73\n"
     ]
    }
   ],
   "source": [
    "y_gold = [0, 0, 0, 0, 0, 0, 1, 1, 1, 1]\n",
    "y_pred = [0, 0, 0, 1, 1, 1, 1, 1, 1, 1]\n",
    "\n",
    "for metric in (accuracy_score, precision_score, recall_score, f1_score):\n",
    "    print('{:16} {:.2f}'.format(metric.__name__, metric(y_gold, y_pred)))"
   ]
  },
  {
   "cell_type": "markdown",
   "metadata": {
    "id": "zcfHzw0csVGK"
   },
   "source": [
    "### Klasyfikacja wieloklasowa (*multiclass classification*)\n"
   ]
  },
  {
   "cell_type": "markdown",
   "metadata": {
    "id": "-2U1pMZaVuxu"
   },
   "source": [
    "#### Micro\n",
    "\n",
    "Zliczamy $TP$, $FP$ i $FN$ globalnie dla wszystkich danych. W ten sposób każda instancja ma taki sam wpływ na wynik końcowy. Każdy przykład zaklasyfikowany niepoprawnie jest uznawany jednocześnie za $FP$ i $FN$.\n",
    "\n",
    "$TP =\\mathit{\\#correct}$\n",
    "\n",
    "$FP = FN = \\mathit{\\#total} - \\mathit{\\#correct}$\n",
    "\n",
    "W efekcie precision, recall i F-measure w wersji micro są równe sobie nawzajem i mierze accuracy:\n",
    "\n",
    "$P_{mic} = \\frac{TP}{TP + FP} = \\frac{\\mathit{\\#correct}}{\\mathit{\\#total}} = A$\n",
    "\n",
    "$R_{mic} = \\frac{TP}{TP + FN} = \\frac{\\mathit{\\#correct}}{\\mathit{\\#total}} = A$\n",
    "\n",
    "$F_{mic} = \\frac{2 P_{mic}R_{mic}}{P_{mic}+R_{mic}} = \\frac{2 A^2}{2A} = A$"
   ]
  },
  {
   "cell_type": "code",
   "execution_count": null,
   "metadata": {
    "colab": {
     "base_uri": "https://localhost:8080/"
    },
    "id": "l4uj8FkS6hf5",
    "outputId": "1bdb3581-dc7c-4b1a-965e-443afc4f3efe"
   },
   "outputs": [
    {
     "name": "stdout",
     "output_type": "stream",
     "text": [
      "0.5833333333333334\n",
      "0.5833333333333334\n",
      "0.5833333333333334\n",
      "0.5833333333333334\n"
     ]
    }
   ],
   "source": [
    "y_gold = [0, 0, 0, 0, 1, 1, 1, 1, 2, 2, 2, 2]\n",
    "y_pred = [0, 0, 0, 1, 1, 1, 0, 2, 2, 2, 0, 0]\n",
    "\n",
    "print(accuracy_score(y_gold, y_pred))\n",
    "print(precision_score(y_gold, y_pred, average=\"micro\"))\n",
    "print(recall_score(y_gold, y_pred, average=\"micro\"))\n",
    "print(f1_score(y_gold, y_pred, average=\"micro\"))"
   ]
  },
  {
   "cell_type": "markdown",
   "metadata": {
    "id": "OsONAapY6eEi"
   },
   "source": [
    "#### Macro\n",
    "\n",
    "Obliczamy miary precision, recall i F-measure dla każdej klasy osobno i obliczamy ich średnie (standardowo nieważone, możliwy jest również wariant ważony, aby zmniejszyć wpływ mniej reprezentowanych klas na wynik)."
   ]
  },
  {
   "cell_type": "code",
   "execution_count": null,
   "metadata": {
    "colab": {
     "base_uri": "https://localhost:8080/"
    },
    "id": "u47PryxC-RO-",
    "outputId": "2613cf50-d066-44a9-efc8-88554cf22526"
   },
   "outputs": [
    {
     "name": "stdout",
     "output_type": "stream",
     "text": [
      "0.5833333333333334\n",
      "0.611111111111111\n",
      "0.5833333333333334\n",
      "0.580952380952381\n"
     ]
    }
   ],
   "source": [
    "y_gold = [0, 0, 0, 0, 1, 1, 1, 1, 2, 2, 2, 2]\n",
    "y_pred = [0, 0, 0, 1, 1, 1, 0, 2, 2, 2, 0, 0]\n",
    "\n",
    "print(accuracy_score(y_gold, y_pred))\n",
    "print(precision_score(y_gold, y_pred, average=\"macro\"))\n",
    "print(recall_score(y_gold, y_pred, average=\"macro\"))\n",
    "print(f1_score(y_gold, y_pred, average=\"macro\"))"
   ]
  },
  {
   "cell_type": "markdown",
   "metadata": {
    "id": "aWonRcKR62gb"
   },
   "source": [
    "### Tablica pomyłek (ang. confusion matrix)\n",
    "\n",
    "Macierz zliczająca, ile razy instancję klasy X zaklasyfikowano jako klasę Y. Wartości na przekątnej odpowiadają prawidłowym klasyfikacjom.\n",
    "\n",
    "W przykładzie poniżej kolejne wiersze macierzy należy odczytywać następująco:\n",
    " * **3** razy zaklasyfikowano 0 jako 0, **1** raz zaklasyfikowano 0 jako 1, **0** razy zaklasyfikowano 0 jako 2;\n",
    " * **1** raz zaklasyfikowano 1 jako 0, **2** razy zaklasyfikowano 1 jako 1, **1** raz zaklasyfikowano 1 jako 2;\n",
    " * **2** razy zaklasyfikowano 2 jako 0, **1** raz zaklasyfikowano 2 jako 1, **1** raz zaklasyfikowano 2 jako 2;\n",
    " "
   ]
  },
  {
   "cell_type": "code",
   "execution_count": null,
   "metadata": {
    "colab": {
     "base_uri": "https://localhost:8080/"
    },
    "id": "3c7Z5H867Hx9",
    "outputId": "a84563a3-b8bb-43ea-e5b1-01e74d69d209"
   },
   "outputs": [
    {
     "name": "stdout",
     "output_type": "stream",
     "text": [
      "[[3 1 0]\n",
      " [1 2 1]\n",
      " [2 1 1]]\n"
     ]
    }
   ],
   "source": [
    "from sklearn.metrics import confusion_matrix\n",
    "\n",
    "y_gold = [0, 0, 0, 0, 1, 1, 1, 1, 2, 2, 2, 2]\n",
    "y_pred = [0, 0, 0, 1, 1, 1, 0, 2, 2, 0, 0, 1]\n",
    "\n",
    "print(confusion_matrix(y_gold, y_pred))"
   ]
  },
  {
   "cell_type": "markdown",
   "metadata": {
    "id": "u_Xba1bfEK1p"
   },
   "source": [
    "## Zadanie 1: Ewaluacja tagerów\n",
    "Zaimplementuj ewaluację wydajnościową (czas predykcji) oraz jakościową (wykorzystaj poznane miary ewaluacyjne) uniwersalnych tagów (UPOS) i lematów (LEMMA) zwróconych przez modele spaCy (pl_core_news_sm) i COMBO. Wykorzystaj wzorcowy zbiór testowy http://mozart.ipipan.waw.pl/~alina/zasoby/data/PDBUD_test.conllu. Ponieważ nie testujemy jakości segmentacji i nie chcemy, żeby błędna segmentacja miała wpływ na jakość predykcji tagów i lematów, to segmentacja zdań w plikach wejściowych powinna być zgodna z segmentacją PDBUD_test.conllu.\n",
    "\n",
    "(nie testujemy modelu morfeuszowego spaCy, bo on nie akceptuje wstępnie posegmentowanego wejścia)"
   ]
  }
 ],
 "metadata": {
  "accelerator": "GPU",
  "colab": {
   "collapsed_sections": [
    "0AOlke7Er65V",
    "ZjRSVfGtesCc",
    "-lDEDZA8LVji",
    "OsONAapY6eEi",
    "aWonRcKR62gb"
   ],
   "name": "4_2_lab.ipynb",
   "provenance": []
  },
  "kernelspec": {
   "display_name": "Python 3",
   "language": "python",
   "name": "python3"
  },
  "language_info": {
   "codemirror_mode": {
    "name": "ipython",
    "version": 3
   },
   "file_extension": ".py",
   "mimetype": "text/x-python",
   "name": "python",
   "nbconvert_exporter": "python",
   "pygments_lexer": "ipython3",
   "version": "3.6.9"
  },
  "widgets": {
   "application/vnd.jupyter.widget-state+json": {
    "07c8e5f53a814d1ba01d273f284b0c1f": {
     "model_module": "@jupyter-widgets/controls",
     "model_name": "ProgressStyleModel",
     "state": {
      "_model_module": "@jupyter-widgets/controls",
      "_model_module_version": "1.5.0",
      "_model_name": "ProgressStyleModel",
      "_view_count": null,
      "_view_module": "@jupyter-widgets/base",
      "_view_module_version": "1.2.0",
      "_view_name": "StyleView",
      "bar_color": null,
      "description_width": "initial"
     }
    },
    "093f4e62d12048dda6472d31352fa2ba": {
     "model_module": "@jupyter-widgets/controls",
     "model_name": "ProgressStyleModel",
     "state": {
      "_model_module": "@jupyter-widgets/controls",
      "_model_module_version": "1.5.0",
      "_model_name": "ProgressStyleModel",
      "_view_count": null,
      "_view_module": "@jupyter-widgets/base",
      "_view_module_version": "1.2.0",
      "_view_name": "StyleView",
      "bar_color": null,
      "description_width": "initial"
     }
    },
    "1443138bd2674de19ed2cc5dfac35759": {
     "model_module": "@jupyter-widgets/controls",
     "model_name": "HBoxModel",
     "state": {
      "_dom_classes": [],
      "_model_module": "@jupyter-widgets/controls",
      "_model_module_version": "1.5.0",
      "_model_name": "HBoxModel",
      "_view_count": null,
      "_view_module": "@jupyter-widgets/controls",
      "_view_module_version": "1.5.0",
      "_view_name": "HBoxView",
      "box_style": "",
      "children": [
       "IPY_MODEL_e0afb5872088410db417c5af34f04b6d",
       "IPY_MODEL_8f5e1ae0c5f249cb9dc57c570796cc63"
      ],
      "layout": "IPY_MODEL_94d0234565c44744947fe4709e4cad54"
     }
    },
    "1d80adc196e14eef8a2bd6c4dfbb69b0": {
     "model_module": "@jupyter-widgets/controls",
     "model_name": "HBoxModel",
     "state": {
      "_dom_classes": [],
      "_model_module": "@jupyter-widgets/controls",
      "_model_module_version": "1.5.0",
      "_model_name": "HBoxModel",
      "_view_count": null,
      "_view_module": "@jupyter-widgets/controls",
      "_view_module_version": "1.5.0",
      "_view_name": "HBoxView",
      "box_style": "",
      "children": [
       "IPY_MODEL_54231a3187be4332b308f518718e41dc",
       "IPY_MODEL_a9a3bb9ef53d4db9bea5d9012846d56b"
      ],
      "layout": "IPY_MODEL_fd97291f044a44539ac85c4361a5afe8"
     }
    },
    "2257f74efed44670ade54cde100ff1c2": {
     "model_module": "@jupyter-widgets/base",
     "model_name": "LayoutModel",
     "state": {
      "_model_module": "@jupyter-widgets/base",
      "_model_module_version": "1.2.0",
      "_model_name": "LayoutModel",
      "_view_count": null,
      "_view_module": "@jupyter-widgets/base",
      "_view_module_version": "1.2.0",
      "_view_name": "LayoutView",
      "align_content": null,
      "align_items": null,
      "align_self": null,
      "border": null,
      "bottom": null,
      "display": null,
      "flex": null,
      "flex_flow": null,
      "grid_area": null,
      "grid_auto_columns": null,
      "grid_auto_flow": null,
      "grid_auto_rows": null,
      "grid_column": null,
      "grid_gap": null,
      "grid_row": null,
      "grid_template_areas": null,
      "grid_template_columns": null,
      "grid_template_rows": null,
      "height": null,
      "justify_content": null,
      "justify_items": null,
      "left": null,
      "margin": null,
      "max_height": null,
      "max_width": null,
      "min_height": null,
      "min_width": null,
      "object_fit": null,
      "object_position": null,
      "order": null,
      "overflow": null,
      "overflow_x": null,
      "overflow_y": null,
      "padding": null,
      "right": null,
      "top": null,
      "visibility": null,
      "width": null
     }
    },
    "22b6349af6144cb2b203e6731ff8adf8": {
     "model_module": "@jupyter-widgets/base",
     "model_name": "LayoutModel",
     "state": {
      "_model_module": "@jupyter-widgets/base",
      "_model_module_version": "1.2.0",
      "_model_name": "LayoutModel",
      "_view_count": null,
      "_view_module": "@jupyter-widgets/base",
      "_view_module_version": "1.2.0",
      "_view_name": "LayoutView",
      "align_content": null,
      "align_items": null,
      "align_self": null,
      "border": null,
      "bottom": null,
      "display": null,
      "flex": null,
      "flex_flow": null,
      "grid_area": null,
      "grid_auto_columns": null,
      "grid_auto_flow": null,
      "grid_auto_rows": null,
      "grid_column": null,
      "grid_gap": null,
      "grid_row": null,
      "grid_template_areas": null,
      "grid_template_columns": null,
      "grid_template_rows": null,
      "height": null,
      "justify_content": null,
      "justify_items": null,
      "left": null,
      "margin": null,
      "max_height": null,
      "max_width": null,
      "min_height": null,
      "min_width": null,
      "object_fit": null,
      "object_position": null,
      "order": null,
      "overflow": null,
      "overflow_x": null,
      "overflow_y": null,
      "padding": null,
      "right": null,
      "top": null,
      "visibility": null,
      "width": null
     }
    },
    "25d1dfbdb8534be3989194f855743b57": {
     "model_module": "@jupyter-widgets/base",
     "model_name": "LayoutModel",
     "state": {
      "_model_module": "@jupyter-widgets/base",
      "_model_module_version": "1.2.0",
      "_model_name": "LayoutModel",
      "_view_count": null,
      "_view_module": "@jupyter-widgets/base",
      "_view_module_version": "1.2.0",
      "_view_name": "LayoutView",
      "align_content": null,
      "align_items": null,
      "align_self": null,
      "border": null,
      "bottom": null,
      "display": null,
      "flex": null,
      "flex_flow": null,
      "grid_area": null,
      "grid_auto_columns": null,
      "grid_auto_flow": null,
      "grid_auto_rows": null,
      "grid_column": null,
      "grid_gap": null,
      "grid_row": null,
      "grid_template_areas": null,
      "grid_template_columns": null,
      "grid_template_rows": null,
      "height": null,
      "justify_content": null,
      "justify_items": null,
      "left": null,
      "margin": null,
      "max_height": null,
      "max_width": null,
      "min_height": null,
      "min_width": null,
      "object_fit": null,
      "object_position": null,
      "order": null,
      "overflow": null,
      "overflow_x": null,
      "overflow_y": null,
      "padding": null,
      "right": null,
      "top": null,
      "visibility": null,
      "width": null
     }
    },
    "3767e21a2173471787d4956ab5e0cbe0": {
     "model_module": "@jupyter-widgets/controls",
     "model_name": "FloatProgressModel",
     "state": {
      "_dom_classes": [],
      "_model_module": "@jupyter-widgets/controls",
      "_model_module_version": "1.5.0",
      "_model_name": "FloatProgressModel",
      "_view_count": null,
      "_view_module": "@jupyter-widgets/controls",
      "_view_module_version": "1.5.0",
      "_view_name": "ProgressView",
      "bar_style": "success",
      "description": "Downloading: 100%",
      "description_tooltip": null,
      "layout": "IPY_MODEL_22b6349af6144cb2b203e6731ff8adf8",
      "max": 129,
      "min": 0,
      "orientation": "horizontal",
      "style": "IPY_MODEL_07c8e5f53a814d1ba01d273f284b0c1f",
      "value": 129
     }
    },
    "399d0da8d1e146429573cd0fb09c861e": {
     "model_module": "@jupyter-widgets/controls",
     "model_name": "DescriptionStyleModel",
     "state": {
      "_model_module": "@jupyter-widgets/controls",
      "_model_module_version": "1.5.0",
      "_model_name": "DescriptionStyleModel",
      "_view_count": null,
      "_view_module": "@jupyter-widgets/base",
      "_view_module_version": "1.2.0",
      "_view_name": "StyleView",
      "description_width": ""
     }
    },
    "3f1ae8fdae40490db11fd0f782ac2cdc": {
     "model_module": "@jupyter-widgets/controls",
     "model_name": "FloatProgressModel",
     "state": {
      "_dom_classes": [],
      "_model_module": "@jupyter-widgets/controls",
      "_model_module_version": "1.5.0",
      "_model_name": "FloatProgressModel",
      "_view_count": null,
      "_view_module": "@jupyter-widgets/controls",
      "_view_module_version": "1.5.0",
      "_view_name": "ProgressView",
      "bar_style": "success",
      "description": "Downloading: 100%",
      "description_tooltip": null,
      "layout": "IPY_MODEL_c4b055dc0f6b46088b4482d69169f95b",
      "max": 555571,
      "min": 0,
      "orientation": "horizontal",
      "style": "IPY_MODEL_4dc3913ea769468ba6c580fd51840c56",
      "value": 555571
     }
    },
    "4550565f6f524bbf89b80b7d4e83d55e": {
     "model_module": "@jupyter-widgets/base",
     "model_name": "LayoutModel",
     "state": {
      "_model_module": "@jupyter-widgets/base",
      "_model_module_version": "1.2.0",
      "_model_name": "LayoutModel",
      "_view_count": null,
      "_view_module": "@jupyter-widgets/base",
      "_view_module_version": "1.2.0",
      "_view_name": "LayoutView",
      "align_content": null,
      "align_items": null,
      "align_self": null,
      "border": null,
      "bottom": null,
      "display": null,
      "flex": null,
      "flex_flow": null,
      "grid_area": null,
      "grid_auto_columns": null,
      "grid_auto_flow": null,
      "grid_auto_rows": null,
      "grid_column": null,
      "grid_gap": null,
      "grid_row": null,
      "grid_template_areas": null,
      "grid_template_columns": null,
      "grid_template_rows": null,
      "height": null,
      "justify_content": null,
      "justify_items": null,
      "left": null,
      "margin": null,
      "max_height": null,
      "max_width": null,
      "min_height": null,
      "min_width": null,
      "object_fit": null,
      "object_position": null,
      "order": null,
      "overflow": null,
      "overflow_x": null,
      "overflow_y": null,
      "padding": null,
      "right": null,
      "top": null,
      "visibility": null,
      "width": null
     }
    },
    "4dc3913ea769468ba6c580fd51840c56": {
     "model_module": "@jupyter-widgets/controls",
     "model_name": "ProgressStyleModel",
     "state": {
      "_model_module": "@jupyter-widgets/controls",
      "_model_module_version": "1.5.0",
      "_model_name": "ProgressStyleModel",
      "_view_count": null,
      "_view_module": "@jupyter-widgets/base",
      "_view_module_version": "1.2.0",
      "_view_name": "StyleView",
      "bar_color": null,
      "description_width": "initial"
     }
    },
    "4f352d5955004dcaaa17f369a29811fe": {
     "model_module": "@jupyter-widgets/controls",
     "model_name": "HBoxModel",
     "state": {
      "_dom_classes": [],
      "_model_module": "@jupyter-widgets/controls",
      "_model_module_version": "1.5.0",
      "_model_name": "HBoxModel",
      "_view_count": null,
      "_view_module": "@jupyter-widgets/controls",
      "_view_module_version": "1.5.0",
      "_view_name": "HBoxView",
      "box_style": "",
      "children": [
       "IPY_MODEL_c81b863fb0fc4dcfa43b5c86f2fdc990",
       "IPY_MODEL_6560ab8e34b24721819da537469f60f0"
      ],
      "layout": "IPY_MODEL_ec3cedfc787c4b58806f97b10353b012"
     }
    },
    "50e044ae87d140a7ba43cb2ff707429e": {
     "model_module": "@jupyter-widgets/base",
     "model_name": "LayoutModel",
     "state": {
      "_model_module": "@jupyter-widgets/base",
      "_model_module_version": "1.2.0",
      "_model_name": "LayoutModel",
      "_view_count": null,
      "_view_module": "@jupyter-widgets/base",
      "_view_module_version": "1.2.0",
      "_view_name": "LayoutView",
      "align_content": null,
      "align_items": null,
      "align_self": null,
      "border": null,
      "bottom": null,
      "display": null,
      "flex": null,
      "flex_flow": null,
      "grid_area": null,
      "grid_auto_columns": null,
      "grid_auto_flow": null,
      "grid_auto_rows": null,
      "grid_column": null,
      "grid_gap": null,
      "grid_row": null,
      "grid_template_areas": null,
      "grid_template_columns": null,
      "grid_template_rows": null,
      "height": null,
      "justify_content": null,
      "justify_items": null,
      "left": null,
      "margin": null,
      "max_height": null,
      "max_width": null,
      "min_height": null,
      "min_width": null,
      "object_fit": null,
      "object_position": null,
      "order": null,
      "overflow": null,
      "overflow_x": null,
      "overflow_y": null,
      "padding": null,
      "right": null,
      "top": null,
      "visibility": null,
      "width": null
     }
    },
    "53c67a941c664c32b522217396e754e8": {
     "model_module": "@jupyter-widgets/controls",
     "model_name": "DescriptionStyleModel",
     "state": {
      "_model_module": "@jupyter-widgets/controls",
      "_model_module_version": "1.5.0",
      "_model_name": "DescriptionStyleModel",
      "_view_count": null,
      "_view_module": "@jupyter-widgets/base",
      "_view_module_version": "1.2.0",
      "_view_name": "StyleView",
      "description_width": ""
     }
    },
    "54231a3187be4332b308f518718e41dc": {
     "model_module": "@jupyter-widgets/controls",
     "model_name": "FloatProgressModel",
     "state": {
      "_dom_classes": [],
      "_model_module": "@jupyter-widgets/controls",
      "_model_module_version": "1.5.0",
      "_model_name": "FloatProgressModel",
      "_view_count": null,
      "_view_module": "@jupyter-widgets/controls",
      "_view_module_version": "1.5.0",
      "_view_name": "ProgressView",
      "bar_style": "success",
      "description": "Downloading: 100%",
      "description_tooltip": null,
      "layout": "IPY_MODEL_8e72f25df3964a7391c9574e5e0a031c",
      "max": 654201076,
      "min": 0,
      "orientation": "horizontal",
      "style": "IPY_MODEL_093f4e62d12048dda6472d31352fa2ba",
      "value": 654201076
     }
    },
    "5823e20aa8124d19880a4bd11c2aee50": {
     "model_module": "@jupyter-widgets/controls",
     "model_name": "ProgressStyleModel",
     "state": {
      "_model_module": "@jupyter-widgets/controls",
      "_model_module_version": "1.5.0",
      "_model_name": "ProgressStyleModel",
      "_view_count": null,
      "_view_module": "@jupyter-widgets/base",
      "_view_module_version": "1.2.0",
      "_view_name": "StyleView",
      "bar_color": null,
      "description_width": "initial"
     }
    },
    "6513873c2cdc4e92ae07884adf21591c": {
     "model_module": "@jupyter-widgets/controls",
     "model_name": "FloatProgressModel",
     "state": {
      "_dom_classes": [],
      "_model_module": "@jupyter-widgets/controls",
      "_model_module_version": "1.5.0",
      "_model_name": "FloatProgressModel",
      "_view_count": null,
      "_view_module": "@jupyter-widgets/controls",
      "_view_module_version": "1.5.0",
      "_view_name": "ProgressView",
      "bar_style": "success",
      "description": "Downloading: 100%",
      "description_tooltip": null,
      "layout": "IPY_MODEL_bc6b44d697334f659c1aaf2934bc9210",
      "max": 464,
      "min": 0,
      "orientation": "horizontal",
      "style": "IPY_MODEL_5823e20aa8124d19880a4bd11c2aee50",
      "value": 464
     }
    },
    "6560ab8e34b24721819da537469f60f0": {
     "model_module": "@jupyter-widgets/controls",
     "model_name": "HTMLModel",
     "state": {
      "_dom_classes": [],
      "_model_module": "@jupyter-widgets/controls",
      "_model_module_version": "1.5.0",
      "_model_name": "HTMLModel",
      "_view_count": null,
      "_view_module": "@jupyter-widgets/controls",
      "_view_module_version": "1.5.0",
      "_view_name": "HTMLView",
      "description": "",
      "description_tooltip": null,
      "layout": "IPY_MODEL_2257f74efed44670ade54cde100ff1c2",
      "placeholder": "​",
      "style": "IPY_MODEL_745b9313308c4f9cbbf2d863c105ffba",
      "value": " 229/229 [00:00&lt;00:00, 570B/s]"
     }
    },
    "684a5d50772e4cc68304d5cc98db9778": {
     "model_module": "@jupyter-widgets/base",
     "model_name": "LayoutModel",
     "state": {
      "_model_module": "@jupyter-widgets/base",
      "_model_module_version": "1.2.0",
      "_model_name": "LayoutModel",
      "_view_count": null,
      "_view_module": "@jupyter-widgets/base",
      "_view_module_version": "1.2.0",
      "_view_name": "LayoutView",
      "align_content": null,
      "align_items": null,
      "align_self": null,
      "border": null,
      "bottom": null,
      "display": null,
      "flex": null,
      "flex_flow": null,
      "grid_area": null,
      "grid_auto_columns": null,
      "grid_auto_flow": null,
      "grid_auto_rows": null,
      "grid_column": null,
      "grid_gap": null,
      "grid_row": null,
      "grid_template_areas": null,
      "grid_template_columns": null,
      "grid_template_rows": null,
      "height": null,
      "justify_content": null,
      "justify_items": null,
      "left": null,
      "margin": null,
      "max_height": null,
      "max_width": null,
      "min_height": null,
      "min_width": null,
      "object_fit": null,
      "object_position": null,
      "order": null,
      "overflow": null,
      "overflow_x": null,
      "overflow_y": null,
      "padding": null,
      "right": null,
      "top": null,
      "visibility": null,
      "width": null
     }
    },
    "69e08946e9264c67b903f1d607d93eb7": {
     "model_module": "@jupyter-widgets/base",
     "model_name": "LayoutModel",
     "state": {
      "_model_module": "@jupyter-widgets/base",
      "_model_module_version": "1.2.0",
      "_model_name": "LayoutModel",
      "_view_count": null,
      "_view_module": "@jupyter-widgets/base",
      "_view_module_version": "1.2.0",
      "_view_name": "LayoutView",
      "align_content": null,
      "align_items": null,
      "align_self": null,
      "border": null,
      "bottom": null,
      "display": null,
      "flex": null,
      "flex_flow": null,
      "grid_area": null,
      "grid_auto_columns": null,
      "grid_auto_flow": null,
      "grid_auto_rows": null,
      "grid_column": null,
      "grid_gap": null,
      "grid_row": null,
      "grid_template_areas": null,
      "grid_template_columns": null,
      "grid_template_rows": null,
      "height": null,
      "justify_content": null,
      "justify_items": null,
      "left": null,
      "margin": null,
      "max_height": null,
      "max_width": null,
      "min_height": null,
      "min_width": null,
      "object_fit": null,
      "object_position": null,
      "order": null,
      "overflow": null,
      "overflow_x": null,
      "overflow_y": null,
      "padding": null,
      "right": null,
      "top": null,
      "visibility": null,
      "width": null
     }
    },
    "6f9a84876edd4efcb2b4c40e3800d9ba": {
     "model_module": "@jupyter-widgets/base",
     "model_name": "LayoutModel",
     "state": {
      "_model_module": "@jupyter-widgets/base",
      "_model_module_version": "1.2.0",
      "_model_name": "LayoutModel",
      "_view_count": null,
      "_view_module": "@jupyter-widgets/base",
      "_view_module_version": "1.2.0",
      "_view_name": "LayoutView",
      "align_content": null,
      "align_items": null,
      "align_self": null,
      "border": null,
      "bottom": null,
      "display": null,
      "flex": null,
      "flex_flow": null,
      "grid_area": null,
      "grid_auto_columns": null,
      "grid_auto_flow": null,
      "grid_auto_rows": null,
      "grid_column": null,
      "grid_gap": null,
      "grid_row": null,
      "grid_template_areas": null,
      "grid_template_columns": null,
      "grid_template_rows": null,
      "height": null,
      "justify_content": null,
      "justify_items": null,
      "left": null,
      "margin": null,
      "max_height": null,
      "max_width": null,
      "min_height": null,
      "min_width": null,
      "object_fit": null,
      "object_position": null,
      "order": null,
      "overflow": null,
      "overflow_x": null,
      "overflow_y": null,
      "padding": null,
      "right": null,
      "top": null,
      "visibility": null,
      "width": null
     }
    },
    "745b9313308c4f9cbbf2d863c105ffba": {
     "model_module": "@jupyter-widgets/controls",
     "model_name": "DescriptionStyleModel",
     "state": {
      "_model_module": "@jupyter-widgets/controls",
      "_model_module_version": "1.5.0",
      "_model_name": "DescriptionStyleModel",
      "_view_count": null,
      "_view_module": "@jupyter-widgets/base",
      "_view_module_version": "1.2.0",
      "_view_name": "StyleView",
      "description_width": ""
     }
    },
    "7d39b2e58e34452fb6591dce09422000": {
     "model_module": "@jupyter-widgets/controls",
     "model_name": "HBoxModel",
     "state": {
      "_dom_classes": [],
      "_model_module": "@jupyter-widgets/controls",
      "_model_module_version": "1.5.0",
      "_model_name": "HBoxModel",
      "_view_count": null,
      "_view_module": "@jupyter-widgets/controls",
      "_view_module_version": "1.5.0",
      "_view_name": "HBoxView",
      "box_style": "",
      "children": [
       "IPY_MODEL_6513873c2cdc4e92ae07884adf21591c",
       "IPY_MODEL_8248c84813674de291a66bc9068c74c7"
      ],
      "layout": "IPY_MODEL_f837d08e7fb143b7910d88ead17fbe06"
     }
    },
    "81a0af7aa95d453f88de56959768c7a9": {
     "model_module": "@jupyter-widgets/controls",
     "model_name": "DescriptionStyleModel",
     "state": {
      "_model_module": "@jupyter-widgets/controls",
      "_model_module_version": "1.5.0",
      "_model_name": "DescriptionStyleModel",
      "_view_count": null,
      "_view_module": "@jupyter-widgets/base",
      "_view_module_version": "1.2.0",
      "_view_name": "StyleView",
      "description_width": ""
     }
    },
    "8248c84813674de291a66bc9068c74c7": {
     "model_module": "@jupyter-widgets/controls",
     "model_name": "HTMLModel",
     "state": {
      "_dom_classes": [],
      "_model_module": "@jupyter-widgets/controls",
      "_model_module_version": "1.5.0",
      "_model_name": "HTMLModel",
      "_view_count": null,
      "_view_module": "@jupyter-widgets/controls",
      "_view_module_version": "1.5.0",
      "_view_name": "HTMLView",
      "description": "",
      "description_tooltip": null,
      "layout": "IPY_MODEL_d399ea5612ab4d1684187f12b6da81c6",
      "placeholder": "​",
      "style": "IPY_MODEL_53c67a941c664c32b522217396e754e8",
      "value": " 464/464 [00:04&lt;00:00, 111B/s]"
     }
    },
    "85dfe7e2319d4459a7bcd674b514b899": {
     "model_module": "@jupyter-widgets/controls",
     "model_name": "HTMLModel",
     "state": {
      "_dom_classes": [],
      "_model_module": "@jupyter-widgets/controls",
      "_model_module_version": "1.5.0",
      "_model_name": "HTMLModel",
      "_view_count": null,
      "_view_module": "@jupyter-widgets/controls",
      "_view_module_version": "1.5.0",
      "_view_name": "HTMLView",
      "description": "",
      "description_tooltip": null,
      "layout": "IPY_MODEL_50e044ae87d140a7ba43cb2ff707429e",
      "placeholder": "​",
      "style": "IPY_MODEL_399d0da8d1e146429573cd0fb09c861e",
      "value": " 129/129 [00:01&lt;00:00, 120B/s]"
     }
    },
    "8e72f25df3964a7391c9574e5e0a031c": {
     "model_module": "@jupyter-widgets/base",
     "model_name": "LayoutModel",
     "state": {
      "_model_module": "@jupyter-widgets/base",
      "_model_module_version": "1.2.0",
      "_model_name": "LayoutModel",
      "_view_count": null,
      "_view_module": "@jupyter-widgets/base",
      "_view_module_version": "1.2.0",
      "_view_name": "LayoutView",
      "align_content": null,
      "align_items": null,
      "align_self": null,
      "border": null,
      "bottom": null,
      "display": null,
      "flex": null,
      "flex_flow": null,
      "grid_area": null,
      "grid_auto_columns": null,
      "grid_auto_flow": null,
      "grid_auto_rows": null,
      "grid_column": null,
      "grid_gap": null,
      "grid_row": null,
      "grid_template_areas": null,
      "grid_template_columns": null,
      "grid_template_rows": null,
      "height": null,
      "justify_content": null,
      "justify_items": null,
      "left": null,
      "margin": null,
      "max_height": null,
      "max_width": null,
      "min_height": null,
      "min_width": null,
      "object_fit": null,
      "object_position": null,
      "order": null,
      "overflow": null,
      "overflow_x": null,
      "overflow_y": null,
      "padding": null,
      "right": null,
      "top": null,
      "visibility": null,
      "width": null
     }
    },
    "8f5e1ae0c5f249cb9dc57c570796cc63": {
     "model_module": "@jupyter-widgets/controls",
     "model_name": "HTMLModel",
     "state": {
      "_dom_classes": [],
      "_model_module": "@jupyter-widgets/controls",
      "_model_module_version": "1.5.0",
      "_model_name": "HTMLModel",
      "_view_count": null,
      "_view_module": "@jupyter-widgets/controls",
      "_view_module_version": "1.5.0",
      "_view_name": "HTMLView",
      "description": "",
      "description_tooltip": null,
      "layout": "IPY_MODEL_c96fc9e3397a461f9d57e6a9d38fe99f",
      "placeholder": "​",
      "style": "IPY_MODEL_81a0af7aa95d453f88de56959768c7a9",
      "value": " 907k/907k [00:02&lt;00:00, 374kB/s]"
     }
    },
    "94d0234565c44744947fe4709e4cad54": {
     "model_module": "@jupyter-widgets/base",
     "model_name": "LayoutModel",
     "state": {
      "_model_module": "@jupyter-widgets/base",
      "_model_module_version": "1.2.0",
      "_model_name": "LayoutModel",
      "_view_count": null,
      "_view_module": "@jupyter-widgets/base",
      "_view_module_version": "1.2.0",
      "_view_name": "LayoutView",
      "align_content": null,
      "align_items": null,
      "align_self": null,
      "border": null,
      "bottom": null,
      "display": null,
      "flex": null,
      "flex_flow": null,
      "grid_area": null,
      "grid_auto_columns": null,
      "grid_auto_flow": null,
      "grid_auto_rows": null,
      "grid_column": null,
      "grid_gap": null,
      "grid_row": null,
      "grid_template_areas": null,
      "grid_template_columns": null,
      "grid_template_rows": null,
      "height": null,
      "justify_content": null,
      "justify_items": null,
      "left": null,
      "margin": null,
      "max_height": null,
      "max_width": null,
      "min_height": null,
      "min_width": null,
      "object_fit": null,
      "object_position": null,
      "order": null,
      "overflow": null,
      "overflow_x": null,
      "overflow_y": null,
      "padding": null,
      "right": null,
      "top": null,
      "visibility": null,
      "width": null
     }
    },
    "95d56de49d2a4f2191b4d02b73e175a2": {
     "model_module": "@jupyter-widgets/controls",
     "model_name": "ProgressStyleModel",
     "state": {
      "_model_module": "@jupyter-widgets/controls",
      "_model_module_version": "1.5.0",
      "_model_name": "ProgressStyleModel",
      "_view_count": null,
      "_view_module": "@jupyter-widgets/base",
      "_view_module_version": "1.2.0",
      "_view_name": "StyleView",
      "bar_color": null,
      "description_width": "initial"
     }
    },
    "a1924967abe248908998c9be6bc8ec47": {
     "model_module": "@jupyter-widgets/controls",
     "model_name": "ProgressStyleModel",
     "state": {
      "_model_module": "@jupyter-widgets/controls",
      "_model_module_version": "1.5.0",
      "_model_name": "ProgressStyleModel",
      "_view_count": null,
      "_view_module": "@jupyter-widgets/base",
      "_view_module_version": "1.2.0",
      "_view_name": "StyleView",
      "bar_color": null,
      "description_width": "initial"
     }
    },
    "a9a3bb9ef53d4db9bea5d9012846d56b": {
     "model_module": "@jupyter-widgets/controls",
     "model_name": "HTMLModel",
     "state": {
      "_dom_classes": [],
      "_model_module": "@jupyter-widgets/controls",
      "_model_module_version": "1.5.0",
      "_model_name": "HTMLModel",
      "_view_count": null,
      "_view_module": "@jupyter-widgets/controls",
      "_view_module_version": "1.5.0",
      "_view_name": "HTMLView",
      "description": "",
      "description_tooltip": null,
      "layout": "IPY_MODEL_d437a040dcf949c799a73b2d82110f8a",
      "placeholder": "​",
      "style": "IPY_MODEL_f5e3fc03508049b9840da6775fb9d6be",
      "value": " 654M/654M [00:11&lt;00:00, 57.7MB/s]"
     }
    },
    "bc6b44d697334f659c1aaf2934bc9210": {
     "model_module": "@jupyter-widgets/base",
     "model_name": "LayoutModel",
     "state": {
      "_model_module": "@jupyter-widgets/base",
      "_model_module_version": "1.2.0",
      "_model_name": "LayoutModel",
      "_view_count": null,
      "_view_module": "@jupyter-widgets/base",
      "_view_module_version": "1.2.0",
      "_view_name": "LayoutView",
      "align_content": null,
      "align_items": null,
      "align_self": null,
      "border": null,
      "bottom": null,
      "display": null,
      "flex": null,
      "flex_flow": null,
      "grid_area": null,
      "grid_auto_columns": null,
      "grid_auto_flow": null,
      "grid_auto_rows": null,
      "grid_column": null,
      "grid_gap": null,
      "grid_row": null,
      "grid_template_areas": null,
      "grid_template_columns": null,
      "grid_template_rows": null,
      "height": null,
      "justify_content": null,
      "justify_items": null,
      "left": null,
      "margin": null,
      "max_height": null,
      "max_width": null,
      "min_height": null,
      "min_width": null,
      "object_fit": null,
      "object_position": null,
      "order": null,
      "overflow": null,
      "overflow_x": null,
      "overflow_y": null,
      "padding": null,
      "right": null,
      "top": null,
      "visibility": null,
      "width": null
     }
    },
    "c4b055dc0f6b46088b4482d69169f95b": {
     "model_module": "@jupyter-widgets/base",
     "model_name": "LayoutModel",
     "state": {
      "_model_module": "@jupyter-widgets/base",
      "_model_module_version": "1.2.0",
      "_model_name": "LayoutModel",
      "_view_count": null,
      "_view_module": "@jupyter-widgets/base",
      "_view_module_version": "1.2.0",
      "_view_name": "LayoutView",
      "align_content": null,
      "align_items": null,
      "align_self": null,
      "border": null,
      "bottom": null,
      "display": null,
      "flex": null,
      "flex_flow": null,
      "grid_area": null,
      "grid_auto_columns": null,
      "grid_auto_flow": null,
      "grid_auto_rows": null,
      "grid_column": null,
      "grid_gap": null,
      "grid_row": null,
      "grid_template_areas": null,
      "grid_template_columns": null,
      "grid_template_rows": null,
      "height": null,
      "justify_content": null,
      "justify_items": null,
      "left": null,
      "margin": null,
      "max_height": null,
      "max_width": null,
      "min_height": null,
      "min_width": null,
      "object_fit": null,
      "object_position": null,
      "order": null,
      "overflow": null,
      "overflow_x": null,
      "overflow_y": null,
      "padding": null,
      "right": null,
      "top": null,
      "visibility": null,
      "width": null
     }
    },
    "c81b863fb0fc4dcfa43b5c86f2fdc990": {
     "model_module": "@jupyter-widgets/controls",
     "model_name": "FloatProgressModel",
     "state": {
      "_dom_classes": [],
      "_model_module": "@jupyter-widgets/controls",
      "_model_module_version": "1.5.0",
      "_model_name": "FloatProgressModel",
      "_view_count": null,
      "_view_module": "@jupyter-widgets/controls",
      "_view_module_version": "1.5.0",
      "_view_name": "ProgressView",
      "bar_style": "success",
      "description": "Downloading: 100%",
      "description_tooltip": null,
      "layout": "IPY_MODEL_4550565f6f524bbf89b80b7d4e83d55e",
      "max": 229,
      "min": 0,
      "orientation": "horizontal",
      "style": "IPY_MODEL_a1924967abe248908998c9be6bc8ec47",
      "value": 229
     }
    },
    "c96fc9e3397a461f9d57e6a9d38fe99f": {
     "model_module": "@jupyter-widgets/base",
     "model_name": "LayoutModel",
     "state": {
      "_model_module": "@jupyter-widgets/base",
      "_model_module_version": "1.2.0",
      "_model_name": "LayoutModel",
      "_view_count": null,
      "_view_module": "@jupyter-widgets/base",
      "_view_module_version": "1.2.0",
      "_view_name": "LayoutView",
      "align_content": null,
      "align_items": null,
      "align_self": null,
      "border": null,
      "bottom": null,
      "display": null,
      "flex": null,
      "flex_flow": null,
      "grid_area": null,
      "grid_auto_columns": null,
      "grid_auto_flow": null,
      "grid_auto_rows": null,
      "grid_column": null,
      "grid_gap": null,
      "grid_row": null,
      "grid_template_areas": null,
      "grid_template_columns": null,
      "grid_template_rows": null,
      "height": null,
      "justify_content": null,
      "justify_items": null,
      "left": null,
      "margin": null,
      "max_height": null,
      "max_width": null,
      "min_height": null,
      "min_width": null,
      "object_fit": null,
      "object_position": null,
      "order": null,
      "overflow": null,
      "overflow_x": null,
      "overflow_y": null,
      "padding": null,
      "right": null,
      "top": null,
      "visibility": null,
      "width": null
     }
    },
    "cdb906c2a17a4d0b9c39574e6f0d21d1": {
     "model_module": "@jupyter-widgets/controls",
     "model_name": "HBoxModel",
     "state": {
      "_dom_classes": [],
      "_model_module": "@jupyter-widgets/controls",
      "_model_module_version": "1.5.0",
      "_model_name": "HBoxModel",
      "_view_count": null,
      "_view_module": "@jupyter-widgets/controls",
      "_view_module_version": "1.5.0",
      "_view_name": "HBoxView",
      "box_style": "",
      "children": [
       "IPY_MODEL_3767e21a2173471787d4956ab5e0cbe0",
       "IPY_MODEL_85dfe7e2319d4459a7bcd674b514b899"
      ],
      "layout": "IPY_MODEL_25d1dfbdb8534be3989194f855743b57"
     }
    },
    "d399ea5612ab4d1684187f12b6da81c6": {
     "model_module": "@jupyter-widgets/base",
     "model_name": "LayoutModel",
     "state": {
      "_model_module": "@jupyter-widgets/base",
      "_model_module_version": "1.2.0",
      "_model_name": "LayoutModel",
      "_view_count": null,
      "_view_module": "@jupyter-widgets/base",
      "_view_module_version": "1.2.0",
      "_view_name": "LayoutView",
      "align_content": null,
      "align_items": null,
      "align_self": null,
      "border": null,
      "bottom": null,
      "display": null,
      "flex": null,
      "flex_flow": null,
      "grid_area": null,
      "grid_auto_columns": null,
      "grid_auto_flow": null,
      "grid_auto_rows": null,
      "grid_column": null,
      "grid_gap": null,
      "grid_row": null,
      "grid_template_areas": null,
      "grid_template_columns": null,
      "grid_template_rows": null,
      "height": null,
      "justify_content": null,
      "justify_items": null,
      "left": null,
      "margin": null,
      "max_height": null,
      "max_width": null,
      "min_height": null,
      "min_width": null,
      "object_fit": null,
      "object_position": null,
      "order": null,
      "overflow": null,
      "overflow_x": null,
      "overflow_y": null,
      "padding": null,
      "right": null,
      "top": null,
      "visibility": null,
      "width": null
     }
    },
    "d437a040dcf949c799a73b2d82110f8a": {
     "model_module": "@jupyter-widgets/base",
     "model_name": "LayoutModel",
     "state": {
      "_model_module": "@jupyter-widgets/base",
      "_model_module_version": "1.2.0",
      "_model_name": "LayoutModel",
      "_view_count": null,
      "_view_module": "@jupyter-widgets/base",
      "_view_module_version": "1.2.0",
      "_view_name": "LayoutView",
      "align_content": null,
      "align_items": null,
      "align_self": null,
      "border": null,
      "bottom": null,
      "display": null,
      "flex": null,
      "flex_flow": null,
      "grid_area": null,
      "grid_auto_columns": null,
      "grid_auto_flow": null,
      "grid_auto_rows": null,
      "grid_column": null,
      "grid_gap": null,
      "grid_row": null,
      "grid_template_areas": null,
      "grid_template_columns": null,
      "grid_template_rows": null,
      "height": null,
      "justify_content": null,
      "justify_items": null,
      "left": null,
      "margin": null,
      "max_height": null,
      "max_width": null,
      "min_height": null,
      "min_width": null,
      "object_fit": null,
      "object_position": null,
      "order": null,
      "overflow": null,
      "overflow_x": null,
      "overflow_y": null,
      "padding": null,
      "right": null,
      "top": null,
      "visibility": null,
      "width": null
     }
    },
    "e0afb5872088410db417c5af34f04b6d": {
     "model_module": "@jupyter-widgets/controls",
     "model_name": "FloatProgressModel",
     "state": {
      "_dom_classes": [],
      "_model_module": "@jupyter-widgets/controls",
      "_model_module_version": "1.5.0",
      "_model_name": "FloatProgressModel",
      "_view_count": null,
      "_view_module": "@jupyter-widgets/controls",
      "_view_module_version": "1.5.0",
      "_view_name": "ProgressView",
      "bar_style": "success",
      "description": "Downloading: 100%",
      "description_tooltip": null,
      "layout": "IPY_MODEL_684a5d50772e4cc68304d5cc98db9778",
      "max": 906984,
      "min": 0,
      "orientation": "horizontal",
      "style": "IPY_MODEL_95d56de49d2a4f2191b4d02b73e175a2",
      "value": 906984
     }
    },
    "e8683fe3f1d2456085ff6b3b6b36d611": {
     "model_module": "@jupyter-widgets/controls",
     "model_name": "DescriptionStyleModel",
     "state": {
      "_model_module": "@jupyter-widgets/controls",
      "_model_module_version": "1.5.0",
      "_model_name": "DescriptionStyleModel",
      "_view_count": null,
      "_view_module": "@jupyter-widgets/base",
      "_view_module_version": "1.2.0",
      "_view_name": "StyleView",
      "description_width": ""
     }
    },
    "ec3cedfc787c4b58806f97b10353b012": {
     "model_module": "@jupyter-widgets/base",
     "model_name": "LayoutModel",
     "state": {
      "_model_module": "@jupyter-widgets/base",
      "_model_module_version": "1.2.0",
      "_model_name": "LayoutModel",
      "_view_count": null,
      "_view_module": "@jupyter-widgets/base",
      "_view_module_version": "1.2.0",
      "_view_name": "LayoutView",
      "align_content": null,
      "align_items": null,
      "align_self": null,
      "border": null,
      "bottom": null,
      "display": null,
      "flex": null,
      "flex_flow": null,
      "grid_area": null,
      "grid_auto_columns": null,
      "grid_auto_flow": null,
      "grid_auto_rows": null,
      "grid_column": null,
      "grid_gap": null,
      "grid_row": null,
      "grid_template_areas": null,
      "grid_template_columns": null,
      "grid_template_rows": null,
      "height": null,
      "justify_content": null,
      "justify_items": null,
      "left": null,
      "margin": null,
      "max_height": null,
      "max_width": null,
      "min_height": null,
      "min_width": null,
      "object_fit": null,
      "object_position": null,
      "order": null,
      "overflow": null,
      "overflow_x": null,
      "overflow_y": null,
      "padding": null,
      "right": null,
      "top": null,
      "visibility": null,
      "width": null
     }
    },
    "f559450eda9249139a22845a18cdf409": {
     "model_module": "@jupyter-widgets/controls",
     "model_name": "HTMLModel",
     "state": {
      "_dom_classes": [],
      "_model_module": "@jupyter-widgets/controls",
      "_model_module_version": "1.5.0",
      "_model_name": "HTMLModel",
      "_view_count": null,
      "_view_module": "@jupyter-widgets/controls",
      "_view_module_version": "1.5.0",
      "_view_name": "HTMLView",
      "description": "",
      "description_tooltip": null,
      "layout": "IPY_MODEL_6f9a84876edd4efcb2b4c40e3800d9ba",
      "placeholder": "​",
      "style": "IPY_MODEL_e8683fe3f1d2456085ff6b3b6b36d611",
      "value": " 556k/556k [00:01&lt;00:00, 397kB/s]"
     }
    },
    "f5e3fc03508049b9840da6775fb9d6be": {
     "model_module": "@jupyter-widgets/controls",
     "model_name": "DescriptionStyleModel",
     "state": {
      "_model_module": "@jupyter-widgets/controls",
      "_model_module_version": "1.5.0",
      "_model_name": "DescriptionStyleModel",
      "_view_count": null,
      "_view_module": "@jupyter-widgets/base",
      "_view_module_version": "1.2.0",
      "_view_name": "StyleView",
      "description_width": ""
     }
    },
    "f837d08e7fb143b7910d88ead17fbe06": {
     "model_module": "@jupyter-widgets/base",
     "model_name": "LayoutModel",
     "state": {
      "_model_module": "@jupyter-widgets/base",
      "_model_module_version": "1.2.0",
      "_model_name": "LayoutModel",
      "_view_count": null,
      "_view_module": "@jupyter-widgets/base",
      "_view_module_version": "1.2.0",
      "_view_name": "LayoutView",
      "align_content": null,
      "align_items": null,
      "align_self": null,
      "border": null,
      "bottom": null,
      "display": null,
      "flex": null,
      "flex_flow": null,
      "grid_area": null,
      "grid_auto_columns": null,
      "grid_auto_flow": null,
      "grid_auto_rows": null,
      "grid_column": null,
      "grid_gap": null,
      "grid_row": null,
      "grid_template_areas": null,
      "grid_template_columns": null,
      "grid_template_rows": null,
      "height": null,
      "justify_content": null,
      "justify_items": null,
      "left": null,
      "margin": null,
      "max_height": null,
      "max_width": null,
      "min_height": null,
      "min_width": null,
      "object_fit": null,
      "object_position": null,
      "order": null,
      "overflow": null,
      "overflow_x": null,
      "overflow_y": null,
      "padding": null,
      "right": null,
      "top": null,
      "visibility": null,
      "width": null
     }
    },
    "fd97291f044a44539ac85c4361a5afe8": {
     "model_module": "@jupyter-widgets/base",
     "model_name": "LayoutModel",
     "state": {
      "_model_module": "@jupyter-widgets/base",
      "_model_module_version": "1.2.0",
      "_model_name": "LayoutModel",
      "_view_count": null,
      "_view_module": "@jupyter-widgets/base",
      "_view_module_version": "1.2.0",
      "_view_name": "LayoutView",
      "align_content": null,
      "align_items": null,
      "align_self": null,
      "border": null,
      "bottom": null,
      "display": null,
      "flex": null,
      "flex_flow": null,
      "grid_area": null,
      "grid_auto_columns": null,
      "grid_auto_flow": null,
      "grid_auto_rows": null,
      "grid_column": null,
      "grid_gap": null,
      "grid_row": null,
      "grid_template_areas": null,
      "grid_template_columns": null,
      "grid_template_rows": null,
      "height": null,
      "justify_content": null,
      "justify_items": null,
      "left": null,
      "margin": null,
      "max_height": null,
      "max_width": null,
      "min_height": null,
      "min_width": null,
      "object_fit": null,
      "object_position": null,
      "order": null,
      "overflow": null,
      "overflow_x": null,
      "overflow_y": null,
      "padding": null,
      "right": null,
      "top": null,
      "visibility": null,
      "width": null
     }
    },
    "fef23606eef148588c71db312b629117": {
     "model_module": "@jupyter-widgets/controls",
     "model_name": "HBoxModel",
     "state": {
      "_dom_classes": [],
      "_model_module": "@jupyter-widgets/controls",
      "_model_module_version": "1.5.0",
      "_model_name": "HBoxModel",
      "_view_count": null,
      "_view_module": "@jupyter-widgets/controls",
      "_view_module_version": "1.5.0",
      "_view_name": "HBoxView",
      "box_style": "",
      "children": [
       "IPY_MODEL_3f1ae8fdae40490db11fd0f782ac2cdc",
       "IPY_MODEL_f559450eda9249139a22845a18cdf409"
      ],
      "layout": "IPY_MODEL_69e08946e9264c67b903f1d607d93eb7"
     }
    }
   }
  }
 },
 "nbformat": 4,
 "nbformat_minor": 1
}
