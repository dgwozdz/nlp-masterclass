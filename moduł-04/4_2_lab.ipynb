{
  "nbformat": 4,
  "nbformat_minor": 0,
  "metadata": {
    "accelerator": "GPU",
    "colab": {
      "name": "4_2_lab.ipynb",
      "provenance": [],
      "collapsed_sections": [
        "0AOlke7Er65V",
        "ZjRSVfGtesCc",
        "-lDEDZA8LVji",
        "OsONAapY6eEi",
        "aWonRcKR62gb"
      ]
    },
    "kernelspec": {
      "display_name": "Python 3",
      "language": "python",
      "name": "python3"
    },
    "language_info": {
      "codemirror_mode": {
        "name": "ipython",
        "version": 3
      },
      "file_extension": ".py",
      "mimetype": "text/x-python",
      "name": "python",
      "nbconvert_exporter": "python",
      "pygments_lexer": "ipython3",
      "version": "3.6.9"
    },
    "widgets": {
      "application/vnd.jupyter.widget-state+json": {
        "028a419a58d1454ba9ae9e078b27500e": {
          "model_module": "@jupyter-widgets/controls",
          "model_name": "HBoxModel",
          "state": {
            "_view_name": "HBoxView",
            "_dom_classes": [],
            "_model_name": "HBoxModel",
            "_view_module": "@jupyter-widgets/controls",
            "_model_module_version": "1.5.0",
            "_view_count": null,
            "_view_module_version": "1.5.0",
            "box_style": "",
            "layout": "IPY_MODEL_74aaa98c740148ccbf99c051c4796c04",
            "_model_module": "@jupyter-widgets/controls",
            "children": [
              "IPY_MODEL_544bcc3e615d48e59130f89b38128f0d",
              "IPY_MODEL_bda79d093a544019befe247717b1085e"
            ]
          }
        },
        "74aaa98c740148ccbf99c051c4796c04": {
          "model_module": "@jupyter-widgets/base",
          "model_name": "LayoutModel",
          "state": {
            "_view_name": "LayoutView",
            "grid_template_rows": null,
            "right": null,
            "justify_content": null,
            "_view_module": "@jupyter-widgets/base",
            "overflow": null,
            "_model_module_version": "1.2.0",
            "_view_count": null,
            "flex_flow": null,
            "width": null,
            "min_width": null,
            "border": null,
            "align_items": null,
            "bottom": null,
            "_model_module": "@jupyter-widgets/base",
            "top": null,
            "grid_column": null,
            "overflow_y": null,
            "overflow_x": null,
            "grid_auto_flow": null,
            "grid_area": null,
            "grid_template_columns": null,
            "flex": null,
            "_model_name": "LayoutModel",
            "justify_items": null,
            "grid_row": null,
            "max_height": null,
            "align_content": null,
            "visibility": null,
            "align_self": null,
            "height": null,
            "min_height": null,
            "padding": null,
            "grid_auto_rows": null,
            "grid_gap": null,
            "max_width": null,
            "order": null,
            "_view_module_version": "1.2.0",
            "grid_template_areas": null,
            "object_position": null,
            "object_fit": null,
            "grid_auto_columns": null,
            "margin": null,
            "display": null,
            "left": null
          }
        },
        "544bcc3e615d48e59130f89b38128f0d": {
          "model_module": "@jupyter-widgets/controls",
          "model_name": "FloatProgressModel",
          "state": {
            "_view_name": "ProgressView",
            "style": "IPY_MODEL_3b9ec41adcb047789c82efa301614642",
            "_dom_classes": [],
            "description": "Downloading: 100%",
            "_model_name": "FloatProgressModel",
            "bar_style": "success",
            "max": 472,
            "_view_module": "@jupyter-widgets/controls",
            "_model_module_version": "1.5.0",
            "value": 472,
            "_view_count": null,
            "_view_module_version": "1.5.0",
            "orientation": "horizontal",
            "min": 0,
            "description_tooltip": null,
            "_model_module": "@jupyter-widgets/controls",
            "layout": "IPY_MODEL_8d6ca080f0cf49879d4f5e28c50a2a9d"
          }
        },
        "bda79d093a544019befe247717b1085e": {
          "model_module": "@jupyter-widgets/controls",
          "model_name": "HTMLModel",
          "state": {
            "_view_name": "HTMLView",
            "style": "IPY_MODEL_b7a25cf1942b44ec91e39a53846e22cc",
            "_dom_classes": [],
            "description": "",
            "_model_name": "HTMLModel",
            "placeholder": "​",
            "_view_module": "@jupyter-widgets/controls",
            "_model_module_version": "1.5.0",
            "value": " 472/472 [00:00&lt;00:00, 5.91kB/s]",
            "_view_count": null,
            "_view_module_version": "1.5.0",
            "description_tooltip": null,
            "_model_module": "@jupyter-widgets/controls",
            "layout": "IPY_MODEL_88d2aaf60f8a48dcaf19c36478fb1ad0"
          }
        },
        "3b9ec41adcb047789c82efa301614642": {
          "model_module": "@jupyter-widgets/controls",
          "model_name": "ProgressStyleModel",
          "state": {
            "_view_name": "StyleView",
            "_model_name": "ProgressStyleModel",
            "description_width": "initial",
            "_view_module": "@jupyter-widgets/base",
            "_model_module_version": "1.5.0",
            "_view_count": null,
            "_view_module_version": "1.2.0",
            "bar_color": null,
            "_model_module": "@jupyter-widgets/controls"
          }
        },
        "8d6ca080f0cf49879d4f5e28c50a2a9d": {
          "model_module": "@jupyter-widgets/base",
          "model_name": "LayoutModel",
          "state": {
            "_view_name": "LayoutView",
            "grid_template_rows": null,
            "right": null,
            "justify_content": null,
            "_view_module": "@jupyter-widgets/base",
            "overflow": null,
            "_model_module_version": "1.2.0",
            "_view_count": null,
            "flex_flow": null,
            "width": null,
            "min_width": null,
            "border": null,
            "align_items": null,
            "bottom": null,
            "_model_module": "@jupyter-widgets/base",
            "top": null,
            "grid_column": null,
            "overflow_y": null,
            "overflow_x": null,
            "grid_auto_flow": null,
            "grid_area": null,
            "grid_template_columns": null,
            "flex": null,
            "_model_name": "LayoutModel",
            "justify_items": null,
            "grid_row": null,
            "max_height": null,
            "align_content": null,
            "visibility": null,
            "align_self": null,
            "height": null,
            "min_height": null,
            "padding": null,
            "grid_auto_rows": null,
            "grid_gap": null,
            "max_width": null,
            "order": null,
            "_view_module_version": "1.2.0",
            "grid_template_areas": null,
            "object_position": null,
            "object_fit": null,
            "grid_auto_columns": null,
            "margin": null,
            "display": null,
            "left": null
          }
        },
        "b7a25cf1942b44ec91e39a53846e22cc": {
          "model_module": "@jupyter-widgets/controls",
          "model_name": "DescriptionStyleModel",
          "state": {
            "_view_name": "StyleView",
            "_model_name": "DescriptionStyleModel",
            "description_width": "",
            "_view_module": "@jupyter-widgets/base",
            "_model_module_version": "1.5.0",
            "_view_count": null,
            "_view_module_version": "1.2.0",
            "_model_module": "@jupyter-widgets/controls"
          }
        },
        "88d2aaf60f8a48dcaf19c36478fb1ad0": {
          "model_module": "@jupyter-widgets/base",
          "model_name": "LayoutModel",
          "state": {
            "_view_name": "LayoutView",
            "grid_template_rows": null,
            "right": null,
            "justify_content": null,
            "_view_module": "@jupyter-widgets/base",
            "overflow": null,
            "_model_module_version": "1.2.0",
            "_view_count": null,
            "flex_flow": null,
            "width": null,
            "min_width": null,
            "border": null,
            "align_items": null,
            "bottom": null,
            "_model_module": "@jupyter-widgets/base",
            "top": null,
            "grid_column": null,
            "overflow_y": null,
            "overflow_x": null,
            "grid_auto_flow": null,
            "grid_area": null,
            "grid_template_columns": null,
            "flex": null,
            "_model_name": "LayoutModel",
            "justify_items": null,
            "grid_row": null,
            "max_height": null,
            "align_content": null,
            "visibility": null,
            "align_self": null,
            "height": null,
            "min_height": null,
            "padding": null,
            "grid_auto_rows": null,
            "grid_gap": null,
            "max_width": null,
            "order": null,
            "_view_module_version": "1.2.0",
            "grid_template_areas": null,
            "object_position": null,
            "object_fit": null,
            "grid_auto_columns": null,
            "margin": null,
            "display": null,
            "left": null
          }
        },
        "ed34dbaa534f4c4a85c802ea267e1d51": {
          "model_module": "@jupyter-widgets/controls",
          "model_name": "HBoxModel",
          "state": {
            "_view_name": "HBoxView",
            "_dom_classes": [],
            "_model_name": "HBoxModel",
            "_view_module": "@jupyter-widgets/controls",
            "_model_module_version": "1.5.0",
            "_view_count": null,
            "_view_module_version": "1.5.0",
            "box_style": "",
            "layout": "IPY_MODEL_03b19867ad454102adf59d3705d7645b",
            "_model_module": "@jupyter-widgets/controls",
            "children": [
              "IPY_MODEL_6c0fbe90c71a49d094376e2ab3949f79",
              "IPY_MODEL_e0ed4219aa1943228fc9b040255c6710"
            ]
          }
        },
        "03b19867ad454102adf59d3705d7645b": {
          "model_module": "@jupyter-widgets/base",
          "model_name": "LayoutModel",
          "state": {
            "_view_name": "LayoutView",
            "grid_template_rows": null,
            "right": null,
            "justify_content": null,
            "_view_module": "@jupyter-widgets/base",
            "overflow": null,
            "_model_module_version": "1.2.0",
            "_view_count": null,
            "flex_flow": null,
            "width": null,
            "min_width": null,
            "border": null,
            "align_items": null,
            "bottom": null,
            "_model_module": "@jupyter-widgets/base",
            "top": null,
            "grid_column": null,
            "overflow_y": null,
            "overflow_x": null,
            "grid_auto_flow": null,
            "grid_area": null,
            "grid_template_columns": null,
            "flex": null,
            "_model_name": "LayoutModel",
            "justify_items": null,
            "grid_row": null,
            "max_height": null,
            "align_content": null,
            "visibility": null,
            "align_self": null,
            "height": null,
            "min_height": null,
            "padding": null,
            "grid_auto_rows": null,
            "grid_gap": null,
            "max_width": null,
            "order": null,
            "_view_module_version": "1.2.0",
            "grid_template_areas": null,
            "object_position": null,
            "object_fit": null,
            "grid_auto_columns": null,
            "margin": null,
            "display": null,
            "left": null
          }
        },
        "6c0fbe90c71a49d094376e2ab3949f79": {
          "model_module": "@jupyter-widgets/controls",
          "model_name": "FloatProgressModel",
          "state": {
            "_view_name": "ProgressView",
            "style": "IPY_MODEL_0a9ac02b6442442d90af0bec6ec71464",
            "_dom_classes": [],
            "description": "Downloading: 100%",
            "_model_name": "FloatProgressModel",
            "bar_style": "success",
            "max": 906984,
            "_view_module": "@jupyter-widgets/controls",
            "_model_module_version": "1.5.0",
            "value": 906984,
            "_view_count": null,
            "_view_module_version": "1.5.0",
            "orientation": "horizontal",
            "min": 0,
            "description_tooltip": null,
            "_model_module": "@jupyter-widgets/controls",
            "layout": "IPY_MODEL_e8960964bb014a77889c0dc3acd7eb35"
          }
        },
        "e0ed4219aa1943228fc9b040255c6710": {
          "model_module": "@jupyter-widgets/controls",
          "model_name": "HTMLModel",
          "state": {
            "_view_name": "HTMLView",
            "style": "IPY_MODEL_935b4e78b8774f6e92f2363f30817e89",
            "_dom_classes": [],
            "description": "",
            "_model_name": "HTMLModel",
            "placeholder": "​",
            "_view_module": "@jupyter-widgets/controls",
            "_model_module_version": "1.5.0",
            "value": " 907k/907k [00:00&lt;00:00, 2.83MB/s]",
            "_view_count": null,
            "_view_module_version": "1.5.0",
            "description_tooltip": null,
            "_model_module": "@jupyter-widgets/controls",
            "layout": "IPY_MODEL_77721d76226145bbbde17964074ab3a2"
          }
        },
        "0a9ac02b6442442d90af0bec6ec71464": {
          "model_module": "@jupyter-widgets/controls",
          "model_name": "ProgressStyleModel",
          "state": {
            "_view_name": "StyleView",
            "_model_name": "ProgressStyleModel",
            "description_width": "initial",
            "_view_module": "@jupyter-widgets/base",
            "_model_module_version": "1.5.0",
            "_view_count": null,
            "_view_module_version": "1.2.0",
            "bar_color": null,
            "_model_module": "@jupyter-widgets/controls"
          }
        },
        "e8960964bb014a77889c0dc3acd7eb35": {
          "model_module": "@jupyter-widgets/base",
          "model_name": "LayoutModel",
          "state": {
            "_view_name": "LayoutView",
            "grid_template_rows": null,
            "right": null,
            "justify_content": null,
            "_view_module": "@jupyter-widgets/base",
            "overflow": null,
            "_model_module_version": "1.2.0",
            "_view_count": null,
            "flex_flow": null,
            "width": null,
            "min_width": null,
            "border": null,
            "align_items": null,
            "bottom": null,
            "_model_module": "@jupyter-widgets/base",
            "top": null,
            "grid_column": null,
            "overflow_y": null,
            "overflow_x": null,
            "grid_auto_flow": null,
            "grid_area": null,
            "grid_template_columns": null,
            "flex": null,
            "_model_name": "LayoutModel",
            "justify_items": null,
            "grid_row": null,
            "max_height": null,
            "align_content": null,
            "visibility": null,
            "align_self": null,
            "height": null,
            "min_height": null,
            "padding": null,
            "grid_auto_rows": null,
            "grid_gap": null,
            "max_width": null,
            "order": null,
            "_view_module_version": "1.2.0",
            "grid_template_areas": null,
            "object_position": null,
            "object_fit": null,
            "grid_auto_columns": null,
            "margin": null,
            "display": null,
            "left": null
          }
        },
        "935b4e78b8774f6e92f2363f30817e89": {
          "model_module": "@jupyter-widgets/controls",
          "model_name": "DescriptionStyleModel",
          "state": {
            "_view_name": "StyleView",
            "_model_name": "DescriptionStyleModel",
            "description_width": "",
            "_view_module": "@jupyter-widgets/base",
            "_model_module_version": "1.5.0",
            "_view_count": null,
            "_view_module_version": "1.2.0",
            "_model_module": "@jupyter-widgets/controls"
          }
        },
        "77721d76226145bbbde17964074ab3a2": {
          "model_module": "@jupyter-widgets/base",
          "model_name": "LayoutModel",
          "state": {
            "_view_name": "LayoutView",
            "grid_template_rows": null,
            "right": null,
            "justify_content": null,
            "_view_module": "@jupyter-widgets/base",
            "overflow": null,
            "_model_module_version": "1.2.0",
            "_view_count": null,
            "flex_flow": null,
            "width": null,
            "min_width": null,
            "border": null,
            "align_items": null,
            "bottom": null,
            "_model_module": "@jupyter-widgets/base",
            "top": null,
            "grid_column": null,
            "overflow_y": null,
            "overflow_x": null,
            "grid_auto_flow": null,
            "grid_area": null,
            "grid_template_columns": null,
            "flex": null,
            "_model_name": "LayoutModel",
            "justify_items": null,
            "grid_row": null,
            "max_height": null,
            "align_content": null,
            "visibility": null,
            "align_self": null,
            "height": null,
            "min_height": null,
            "padding": null,
            "grid_auto_rows": null,
            "grid_gap": null,
            "max_width": null,
            "order": null,
            "_view_module_version": "1.2.0",
            "grid_template_areas": null,
            "object_position": null,
            "object_fit": null,
            "grid_auto_columns": null,
            "margin": null,
            "display": null,
            "left": null
          }
        },
        "926a4e83927c465283abebd238f3c847": {
          "model_module": "@jupyter-widgets/controls",
          "model_name": "HBoxModel",
          "state": {
            "_view_name": "HBoxView",
            "_dom_classes": [],
            "_model_name": "HBoxModel",
            "_view_module": "@jupyter-widgets/controls",
            "_model_module_version": "1.5.0",
            "_view_count": null,
            "_view_module_version": "1.5.0",
            "box_style": "",
            "layout": "IPY_MODEL_f2fda64ffdb9453293f0dc71b5e5814f",
            "_model_module": "@jupyter-widgets/controls",
            "children": [
              "IPY_MODEL_e16a8230e5f044e9be0d9de72cad8cb7",
              "IPY_MODEL_b49dde36e10e44b1b82df1e3400e78e2"
            ]
          }
        },
        "f2fda64ffdb9453293f0dc71b5e5814f": {
          "model_module": "@jupyter-widgets/base",
          "model_name": "LayoutModel",
          "state": {
            "_view_name": "LayoutView",
            "grid_template_rows": null,
            "right": null,
            "justify_content": null,
            "_view_module": "@jupyter-widgets/base",
            "overflow": null,
            "_model_module_version": "1.2.0",
            "_view_count": null,
            "flex_flow": null,
            "width": null,
            "min_width": null,
            "border": null,
            "align_items": null,
            "bottom": null,
            "_model_module": "@jupyter-widgets/base",
            "top": null,
            "grid_column": null,
            "overflow_y": null,
            "overflow_x": null,
            "grid_auto_flow": null,
            "grid_area": null,
            "grid_template_columns": null,
            "flex": null,
            "_model_name": "LayoutModel",
            "justify_items": null,
            "grid_row": null,
            "max_height": null,
            "align_content": null,
            "visibility": null,
            "align_self": null,
            "height": null,
            "min_height": null,
            "padding": null,
            "grid_auto_rows": null,
            "grid_gap": null,
            "max_width": null,
            "order": null,
            "_view_module_version": "1.2.0",
            "grid_template_areas": null,
            "object_position": null,
            "object_fit": null,
            "grid_auto_columns": null,
            "margin": null,
            "display": null,
            "left": null
          }
        },
        "e16a8230e5f044e9be0d9de72cad8cb7": {
          "model_module": "@jupyter-widgets/controls",
          "model_name": "FloatProgressModel",
          "state": {
            "_view_name": "ProgressView",
            "style": "IPY_MODEL_4782f987ff084b9fb7f82bf5849b3ad7",
            "_dom_classes": [],
            "description": "Downloading: 100%",
            "_model_name": "FloatProgressModel",
            "bar_style": "success",
            "max": 555571,
            "_view_module": "@jupyter-widgets/controls",
            "_model_module_version": "1.5.0",
            "value": 555571,
            "_view_count": null,
            "_view_module_version": "1.5.0",
            "orientation": "horizontal",
            "min": 0,
            "description_tooltip": null,
            "_model_module": "@jupyter-widgets/controls",
            "layout": "IPY_MODEL_51b6a0c150464300890b9c5216269456"
          }
        },
        "b49dde36e10e44b1b82df1e3400e78e2": {
          "model_module": "@jupyter-widgets/controls",
          "model_name": "HTMLModel",
          "state": {
            "_view_name": "HTMLView",
            "style": "IPY_MODEL_de919411e1c34e9a842461fdd87fa19c",
            "_dom_classes": [],
            "description": "",
            "_model_name": "HTMLModel",
            "placeholder": "​",
            "_view_module": "@jupyter-widgets/controls",
            "_model_module_version": "1.5.0",
            "value": " 556k/556k [00:00&lt;00:00, 4.69MB/s]",
            "_view_count": null,
            "_view_module_version": "1.5.0",
            "description_tooltip": null,
            "_model_module": "@jupyter-widgets/controls",
            "layout": "IPY_MODEL_f86154d3d7f94d5d913f031d8f4244bf"
          }
        },
        "4782f987ff084b9fb7f82bf5849b3ad7": {
          "model_module": "@jupyter-widgets/controls",
          "model_name": "ProgressStyleModel",
          "state": {
            "_view_name": "StyleView",
            "_model_name": "ProgressStyleModel",
            "description_width": "initial",
            "_view_module": "@jupyter-widgets/base",
            "_model_module_version": "1.5.0",
            "_view_count": null,
            "_view_module_version": "1.2.0",
            "bar_color": null,
            "_model_module": "@jupyter-widgets/controls"
          }
        },
        "51b6a0c150464300890b9c5216269456": {
          "model_module": "@jupyter-widgets/base",
          "model_name": "LayoutModel",
          "state": {
            "_view_name": "LayoutView",
            "grid_template_rows": null,
            "right": null,
            "justify_content": null,
            "_view_module": "@jupyter-widgets/base",
            "overflow": null,
            "_model_module_version": "1.2.0",
            "_view_count": null,
            "flex_flow": null,
            "width": null,
            "min_width": null,
            "border": null,
            "align_items": null,
            "bottom": null,
            "_model_module": "@jupyter-widgets/base",
            "top": null,
            "grid_column": null,
            "overflow_y": null,
            "overflow_x": null,
            "grid_auto_flow": null,
            "grid_area": null,
            "grid_template_columns": null,
            "flex": null,
            "_model_name": "LayoutModel",
            "justify_items": null,
            "grid_row": null,
            "max_height": null,
            "align_content": null,
            "visibility": null,
            "align_self": null,
            "height": null,
            "min_height": null,
            "padding": null,
            "grid_auto_rows": null,
            "grid_gap": null,
            "max_width": null,
            "order": null,
            "_view_module_version": "1.2.0",
            "grid_template_areas": null,
            "object_position": null,
            "object_fit": null,
            "grid_auto_columns": null,
            "margin": null,
            "display": null,
            "left": null
          }
        },
        "de919411e1c34e9a842461fdd87fa19c": {
          "model_module": "@jupyter-widgets/controls",
          "model_name": "DescriptionStyleModel",
          "state": {
            "_view_name": "StyleView",
            "_model_name": "DescriptionStyleModel",
            "description_width": "",
            "_view_module": "@jupyter-widgets/base",
            "_model_module_version": "1.5.0",
            "_view_count": null,
            "_view_module_version": "1.2.0",
            "_model_module": "@jupyter-widgets/controls"
          }
        },
        "f86154d3d7f94d5d913f031d8f4244bf": {
          "model_module": "@jupyter-widgets/base",
          "model_name": "LayoutModel",
          "state": {
            "_view_name": "LayoutView",
            "grid_template_rows": null,
            "right": null,
            "justify_content": null,
            "_view_module": "@jupyter-widgets/base",
            "overflow": null,
            "_model_module_version": "1.2.0",
            "_view_count": null,
            "flex_flow": null,
            "width": null,
            "min_width": null,
            "border": null,
            "align_items": null,
            "bottom": null,
            "_model_module": "@jupyter-widgets/base",
            "top": null,
            "grid_column": null,
            "overflow_y": null,
            "overflow_x": null,
            "grid_auto_flow": null,
            "grid_area": null,
            "grid_template_columns": null,
            "flex": null,
            "_model_name": "LayoutModel",
            "justify_items": null,
            "grid_row": null,
            "max_height": null,
            "align_content": null,
            "visibility": null,
            "align_self": null,
            "height": null,
            "min_height": null,
            "padding": null,
            "grid_auto_rows": null,
            "grid_gap": null,
            "max_width": null,
            "order": null,
            "_view_module_version": "1.2.0",
            "grid_template_areas": null,
            "object_position": null,
            "object_fit": null,
            "grid_auto_columns": null,
            "margin": null,
            "display": null,
            "left": null
          }
        },
        "92db7063bd5046c8830699366e03fae4": {
          "model_module": "@jupyter-widgets/controls",
          "model_name": "HBoxModel",
          "state": {
            "_view_name": "HBoxView",
            "_dom_classes": [],
            "_model_name": "HBoxModel",
            "_view_module": "@jupyter-widgets/controls",
            "_model_module_version": "1.5.0",
            "_view_count": null,
            "_view_module_version": "1.5.0",
            "box_style": "",
            "layout": "IPY_MODEL_e729a04950bf47d898d5f525d11be416",
            "_model_module": "@jupyter-widgets/controls",
            "children": [
              "IPY_MODEL_017c029636fd432a80b252003017675e",
              "IPY_MODEL_f4026a68ffb74807bc394c83345f295a"
            ]
          }
        },
        "e729a04950bf47d898d5f525d11be416": {
          "model_module": "@jupyter-widgets/base",
          "model_name": "LayoutModel",
          "state": {
            "_view_name": "LayoutView",
            "grid_template_rows": null,
            "right": null,
            "justify_content": null,
            "_view_module": "@jupyter-widgets/base",
            "overflow": null,
            "_model_module_version": "1.2.0",
            "_view_count": null,
            "flex_flow": null,
            "width": null,
            "min_width": null,
            "border": null,
            "align_items": null,
            "bottom": null,
            "_model_module": "@jupyter-widgets/base",
            "top": null,
            "grid_column": null,
            "overflow_y": null,
            "overflow_x": null,
            "grid_auto_flow": null,
            "grid_area": null,
            "grid_template_columns": null,
            "flex": null,
            "_model_name": "LayoutModel",
            "justify_items": null,
            "grid_row": null,
            "max_height": null,
            "align_content": null,
            "visibility": null,
            "align_self": null,
            "height": null,
            "min_height": null,
            "padding": null,
            "grid_auto_rows": null,
            "grid_gap": null,
            "max_width": null,
            "order": null,
            "_view_module_version": "1.2.0",
            "grid_template_areas": null,
            "object_position": null,
            "object_fit": null,
            "grid_auto_columns": null,
            "margin": null,
            "display": null,
            "left": null
          }
        },
        "017c029636fd432a80b252003017675e": {
          "model_module": "@jupyter-widgets/controls",
          "model_name": "FloatProgressModel",
          "state": {
            "_view_name": "ProgressView",
            "style": "IPY_MODEL_2f71ca76827f4e8dbfcc704fb57cdbc8",
            "_dom_classes": [],
            "description": "Downloading: 100%",
            "_model_name": "FloatProgressModel",
            "bar_style": "success",
            "max": 654201076,
            "_view_module": "@jupyter-widgets/controls",
            "_model_module_version": "1.5.0",
            "value": 654201076,
            "_view_count": null,
            "_view_module_version": "1.5.0",
            "orientation": "horizontal",
            "min": 0,
            "description_tooltip": null,
            "_model_module": "@jupyter-widgets/controls",
            "layout": "IPY_MODEL_05b640ad48874fc5ae7c944cb5726f62"
          }
        },
        "f4026a68ffb74807bc394c83345f295a": {
          "model_module": "@jupyter-widgets/controls",
          "model_name": "HTMLModel",
          "state": {
            "_view_name": "HTMLView",
            "style": "IPY_MODEL_cf9d24eeb02a427094d051192474d4b5",
            "_dom_classes": [],
            "description": "",
            "_model_name": "HTMLModel",
            "placeholder": "​",
            "_view_module": "@jupyter-widgets/controls",
            "_model_module_version": "1.5.0",
            "value": " 654M/654M [00:15&lt;00:00, 42.2MB/s]",
            "_view_count": null,
            "_view_module_version": "1.5.0",
            "description_tooltip": null,
            "_model_module": "@jupyter-widgets/controls",
            "layout": "IPY_MODEL_49c4c359f2bd4ab89b87f8250e069ca3"
          }
        },
        "2f71ca76827f4e8dbfcc704fb57cdbc8": {
          "model_module": "@jupyter-widgets/controls",
          "model_name": "ProgressStyleModel",
          "state": {
            "_view_name": "StyleView",
            "_model_name": "ProgressStyleModel",
            "description_width": "initial",
            "_view_module": "@jupyter-widgets/base",
            "_model_module_version": "1.5.0",
            "_view_count": null,
            "_view_module_version": "1.2.0",
            "bar_color": null,
            "_model_module": "@jupyter-widgets/controls"
          }
        },
        "05b640ad48874fc5ae7c944cb5726f62": {
          "model_module": "@jupyter-widgets/base",
          "model_name": "LayoutModel",
          "state": {
            "_view_name": "LayoutView",
            "grid_template_rows": null,
            "right": null,
            "justify_content": null,
            "_view_module": "@jupyter-widgets/base",
            "overflow": null,
            "_model_module_version": "1.2.0",
            "_view_count": null,
            "flex_flow": null,
            "width": null,
            "min_width": null,
            "border": null,
            "align_items": null,
            "bottom": null,
            "_model_module": "@jupyter-widgets/base",
            "top": null,
            "grid_column": null,
            "overflow_y": null,
            "overflow_x": null,
            "grid_auto_flow": null,
            "grid_area": null,
            "grid_template_columns": null,
            "flex": null,
            "_model_name": "LayoutModel",
            "justify_items": null,
            "grid_row": null,
            "max_height": null,
            "align_content": null,
            "visibility": null,
            "align_self": null,
            "height": null,
            "min_height": null,
            "padding": null,
            "grid_auto_rows": null,
            "grid_gap": null,
            "max_width": null,
            "order": null,
            "_view_module_version": "1.2.0",
            "grid_template_areas": null,
            "object_position": null,
            "object_fit": null,
            "grid_auto_columns": null,
            "margin": null,
            "display": null,
            "left": null
          }
        },
        "cf9d24eeb02a427094d051192474d4b5": {
          "model_module": "@jupyter-widgets/controls",
          "model_name": "DescriptionStyleModel",
          "state": {
            "_view_name": "StyleView",
            "_model_name": "DescriptionStyleModel",
            "description_width": "",
            "_view_module": "@jupyter-widgets/base",
            "_model_module_version": "1.5.0",
            "_view_count": null,
            "_view_module_version": "1.2.0",
            "_model_module": "@jupyter-widgets/controls"
          }
        },
        "49c4c359f2bd4ab89b87f8250e069ca3": {
          "model_module": "@jupyter-widgets/base",
          "model_name": "LayoutModel",
          "state": {
            "_view_name": "LayoutView",
            "grid_template_rows": null,
            "right": null,
            "justify_content": null,
            "_view_module": "@jupyter-widgets/base",
            "overflow": null,
            "_model_module_version": "1.2.0",
            "_view_count": null,
            "flex_flow": null,
            "width": null,
            "min_width": null,
            "border": null,
            "align_items": null,
            "bottom": null,
            "_model_module": "@jupyter-widgets/base",
            "top": null,
            "grid_column": null,
            "overflow_y": null,
            "overflow_x": null,
            "grid_auto_flow": null,
            "grid_area": null,
            "grid_template_columns": null,
            "flex": null,
            "_model_name": "LayoutModel",
            "justify_items": null,
            "grid_row": null,
            "max_height": null,
            "align_content": null,
            "visibility": null,
            "align_self": null,
            "height": null,
            "min_height": null,
            "padding": null,
            "grid_auto_rows": null,
            "grid_gap": null,
            "max_width": null,
            "order": null,
            "_view_module_version": "1.2.0",
            "grid_template_areas": null,
            "object_position": null,
            "object_fit": null,
            "grid_auto_columns": null,
            "margin": null,
            "display": null,
            "left": null
          }
        }
      }
    }
  },
  "cells": [
    {
      "cell_type": "code",
      "metadata": {
        "id": "5Ymykb1WaG7f"
      },
      "source": [
        "#@title Copyright 2020, 2021 Alina Wróblewska { display-mode: \"form\" }\n",
        "#\n",
        "# Licensed under the Apache License, Version 2.0 (the \"License\");\n",
        "# you may not use this file except in compliance with the License.\n",
        "# You may obtain a copy of the License at\n",
        "#\n",
        "# https://www.apache.org/licenses/LICENSE-2.0\n",
        "#\n",
        "# Unless required by applicable law or agreed to in writing, software\n",
        "# distributed under the License is distributed on an \"AS IS\" BASIS,\n",
        "# WITHOUT WARRANTIES OR CONDITIONS OF ANY KIND, either express or implied.\n",
        "# See the License for the specific language governing permissions and\n",
        "# limitations under the License."
      ],
      "execution_count": null,
      "outputs": []
    },
    {
      "cell_type": "markdown",
      "metadata": {
        "id": "My1tNOJ8W_Fx"
      },
      "source": [
        "# Tagowanie"
      ]
    },
    {
      "cell_type": "markdown",
      "metadata": {
        "id": "4JauqIhT7uIe"
      },
      "source": [
        "## CHANGELOG\n",
        "\n",
        "20.04.2021 zmiany zostały oznaczone:\n",
        "\n",
        "\n",
        "*   OUTDATED: nieaktualne informacje\n",
        "*   UPDATE: aktualne modyfikacje\n",
        "\n"
      ]
    },
    {
      "cell_type": "code",
      "metadata": {
        "id": "RXMSpzsAhOtq"
      },
      "source": [
        "# W folerze 'zasoby' będą pobrane zasoby, tzn. dane, modele, \n",
        "# a do pozostałych folderów będą wpisywane predykcje.\n",
        "import os\n",
        "os.makedirs('zasoby', exist_ok=True)\n",
        "os.makedirs('predykcje', exist_ok=True)\n",
        "os.makedirs('predykcje/segmentatacja_gold', exist_ok=True)"
      ],
      "execution_count": 1,
      "outputs": []
    },
    {
      "cell_type": "markdown",
      "metadata": {
        "id": "APv8QLuoyEpl"
      },
      "source": [
        "### UPDATE! Instalacja COMBO\n"
      ]
    },
    {
      "cell_type": "code",
      "metadata": {
        "colab": {
          "base_uri": "https://localhost:8080/",
          "height": 1000
        },
        "id": "8NLjC18IyDBs",
        "outputId": "e658a30d-0e24-47e2-ddbe-f980ff7fde96"
      },
      "source": [
        "# Instalacja COMBO\n",
        "!pip install -U pip setuptools wheel\n",
        "!pip install --index-url https://pypi.clarin-pl.eu/simple combo==1.0.3"
      ],
      "execution_count": 6,
      "outputs": [
        {
          "output_type": "stream",
          "text": [
            "Collecting pip\n",
            "\u001b[?25l  Downloading https://files.pythonhosted.org/packages/fe/ef/60d7ba03b5c442309ef42e7d69959f73aacccd0d86008362a681c4698e83/pip-21.0.1-py3-none-any.whl (1.5MB)\n",
            "\u001b[K     |████████████████████████████████| 1.5MB 7.2MB/s \n",
            "\u001b[?25hCollecting setuptools\n",
            "\u001b[?25l  Downloading https://files.pythonhosted.org/packages/ae/42/2876a3a136f8bfa9bd703518441c8db78ff1eeaddf174baa85c083c1fd15/setuptools-56.0.0-py3-none-any.whl (784kB)\n",
            "\u001b[K     |████████████████████████████████| 788kB 32.1MB/s \n",
            "\u001b[?25hRequirement already up-to-date: wheel in /usr/local/lib/python3.7/dist-packages (0.36.2)\n",
            "\u001b[31mERROR: datascience 0.10.6 has requirement folium==0.2.1, but you'll have folium 0.8.3 which is incompatible.\u001b[0m\n",
            "Installing collected packages: pip, setuptools\n",
            "  Found existing installation: pip 19.3.1\n",
            "    Uninstalling pip-19.3.1:\n",
            "      Successfully uninstalled pip-19.3.1\n",
            "  Found existing installation: setuptools 54.2.0\n",
            "    Uninstalling setuptools-54.2.0:\n",
            "      Successfully uninstalled setuptools-54.2.0\n",
            "Successfully installed pip-21.0.1 setuptools-56.0.0\n"
          ],
          "name": "stdout"
        },
        {
          "output_type": "display_data",
          "data": {
            "application/vnd.colab-display-data+json": {
              "pip_warning": {
                "packages": [
                  "pkg_resources"
                ]
              }
            }
          },
          "metadata": {
            "tags": []
          }
        },
        {
          "output_type": "stream",
          "text": [
            "Looking in indexes: https://pypi.clarin-pl.eu/simple\n",
            "Collecting combo==1.0.3\n",
            "  Downloading https://pypi.clarin-pl.eu/packages/combo-1.0.3-py3-none-any.whl (70 kB)\n",
            "\u001b[K     |████████████████████████████████| 70 kB 220 kB/s \n",
            "\u001b[?25hCollecting allennlp==1.3.0\n",
            "  Downloading allennlp-1.3.0-py3-none-any.whl (506 kB)\n",
            "\u001b[K     |████████████████████████████████| 506 kB 7.4 MB/s \n",
            "\u001b[?25hCollecting conllu==2.3.2\n",
            "  Downloading conllu-2.3.2-py2.py3-none-any.whl (13 kB)\n",
            "Collecting absl-py==0.9.0\n",
            "  Downloading absl-py-0.9.0.tar.gz (104 kB)\n",
            "\u001b[K     |████████████████████████████████| 104 kB 16.2 MB/s \n",
            "\u001b[?25hRequirement already satisfied: requests==2.23.0 in /usr/local/lib/python3.7/dist-packages (from combo==1.0.3) (2.23.0)\n",
            "Collecting urllib3==1.25.11\n",
            "  Downloading urllib3-1.25.11-py2.py3-none-any.whl (127 kB)\n",
            "\u001b[K     |████████████████████████████████| 127 kB 15.7 MB/s \n",
            "\u001b[?25hCollecting sentencepiece==0.1.83\n",
            "  Downloading sentencepiece-0.1.83-cp37-cp37m-manylinux1_x86_64.whl (1.0 MB)\n",
            "\u001b[K     |████████████████████████████████| 1.0 MB 15.9 MB/s \n",
            "\u001b[?25hCollecting tqdm==4.43.0\n",
            "  Downloading tqdm-4.43.0-py2.py3-none-any.whl (59 kB)\n",
            "\u001b[K     |████████████████████████████████| 59 kB 7.3 MB/s \n",
            "\u001b[?25hCollecting jsonnet==0.15.0\n",
            "  Downloading jsonnet-0.15.0.tar.gz (255 kB)\n",
            "\u001b[K     |████████████████████████████████| 255 kB 35.3 MB/s \n",
            "\u001b[?25hCollecting numpy==1.19.4\n",
            "  Downloading numpy-1.19.4-cp37-cp37m-manylinux2010_x86_64.whl (14.5 MB)\n",
            "\u001b[K     |████████████████████████████████| 14.5 MB 78 kB/s \n",
            "\u001b[?25hRequirement already satisfied: spacy==2.3.2 in /usr/local/lib/python3.7/dist-packages (from combo==1.0.3) (2.3.2)\n",
            "Collecting torch==1.6.0\n",
            "  Downloading torch-1.6.0-cp37-cp37m-manylinux1_x86_64.whl (748.8 MB)\n",
            "\u001b[K     |████████████████████████████████| 748.8 MB 15 kB/s \n",
            "\u001b[?25hRequirement already satisfied: scikit-learn<=0.23.2 in /usr/local/lib/python3.7/dist-packages (from combo==1.0.3) (0.22.2.post1)\n",
            "Collecting transformers==4.0.1\n",
            "  Downloading transformers-4.0.1-py3-none-any.whl (1.4 MB)\n",
            "\u001b[K     |████████████████████████████████| 1.4 MB 72.4 MB/s \n",
            "\u001b[?25hCollecting overrides==3.1.0\n",
            "  Downloading overrides-3.1.0.tar.gz (11 kB)\n",
            "Requirement already satisfied: six in /usr/local/lib/python3.7/dist-packages (from absl-py==0.9.0->combo==1.0.3) (1.15.0)\n",
            "Requirement already satisfied: scipy in /usr/local/lib/python3.7/dist-packages (from allennlp==1.3.0->combo==1.0.3) (1.4.1)\n",
            "Collecting tensorboardX>=1.2\n",
            "  Downloading tensorboardX-2.2-py2.py3-none-any.whl (120 kB)\n",
            "\u001b[K     |████████████████████████████████| 120 kB 72.5 MB/s \n",
            "\u001b[?25hRequirement already satisfied: pytest in /usr/local/lib/python3.7/dist-packages (from allennlp==1.3.0->combo==1.0.3) (3.6.4)\n",
            "Requirement already satisfied: h5py in /usr/local/lib/python3.7/dist-packages (from allennlp==1.3.0->combo==1.0.3) (2.10.0)\n",
            "Requirement already satisfied: nltk in /usr/local/lib/python3.7/dist-packages (from allennlp==1.3.0->combo==1.0.3) (3.2.5)\n",
            "Collecting boto3<2.0,>=1.14\n",
            "  Downloading boto3-1.17.54-py2.py3-none-any.whl (131 kB)\n",
            "\u001b[K     |████████████████████████████████| 131 kB 71.2 MB/s \n",
            "\u001b[?25hCollecting jsonpickle\n",
            "  Downloading jsonpickle-2.0.0-py2.py3-none-any.whl (37 kB)\n",
            "Requirement already satisfied: filelock<3.1,>=3.0 in /usr/local/lib/python3.7/dist-packages (from allennlp==1.3.0->combo==1.0.3) (3.0.12)\n",
            "Requirement already satisfied: certifi>=2017.4.17 in /usr/local/lib/python3.7/dist-packages (from requests==2.23.0->combo==1.0.3) (2020.12.5)\n",
            "Requirement already satisfied: idna<3,>=2.5 in /usr/local/lib/python3.7/dist-packages (from requests==2.23.0->combo==1.0.3) (2.10)\n",
            "Requirement already satisfied: chardet<4,>=3.0.2 in /usr/local/lib/python3.7/dist-packages (from requests==2.23.0->combo==1.0.3) (3.0.4)\n",
            "Requirement already satisfied: thinc==7.4.1 in /usr/local/lib/python3.7/dist-packages (from spacy==2.3.2->combo==1.0.3) (7.4.1)\n",
            "Requirement already satisfied: murmurhash<1.1.0,>=0.28.0 in /usr/local/lib/python3.7/dist-packages (from spacy==2.3.2->combo==1.0.3) (1.0.5)\n",
            "Requirement already satisfied: wasabi<1.1.0,>=0.4.0 in /usr/local/lib/python3.7/dist-packages (from spacy==2.3.2->combo==1.0.3) (0.8.2)\n",
            "Requirement already satisfied: cymem<2.1.0,>=2.0.2 in /usr/local/lib/python3.7/dist-packages (from spacy==2.3.2->combo==1.0.3) (2.0.5)\n",
            "Requirement already satisfied: setuptools in /usr/local/lib/python3.7/dist-packages (from spacy==2.3.2->combo==1.0.3) (56.0.0)\n",
            "Requirement already satisfied: preshed<3.1.0,>=3.0.2 in /usr/local/lib/python3.7/dist-packages (from spacy==2.3.2->combo==1.0.3) (3.0.5)\n",
            "Requirement already satisfied: plac<1.2.0,>=0.9.6 in /usr/local/lib/python3.7/dist-packages (from spacy==2.3.2->combo==1.0.3) (1.1.3)\n",
            "Requirement already satisfied: srsly<1.1.0,>=1.0.2 in /usr/local/lib/python3.7/dist-packages (from spacy==2.3.2->combo==1.0.3) (1.0.5)\n",
            "Requirement already satisfied: blis<0.5.0,>=0.4.0 in /usr/local/lib/python3.7/dist-packages (from spacy==2.3.2->combo==1.0.3) (0.4.1)\n",
            "Requirement already satisfied: catalogue<1.1.0,>=0.0.7 in /usr/local/lib/python3.7/dist-packages (from spacy==2.3.2->combo==1.0.3) (1.0.0)\n",
            "Requirement already satisfied: future in /usr/local/lib/python3.7/dist-packages (from torch==1.6.0->combo==1.0.3) (0.16.0)\n",
            "Collecting tokenizers==0.9.4\n",
            "  Downloading tokenizers-0.9.4-cp37-cp37m-manylinux2010_x86_64.whl (2.9 MB)\n",
            "\u001b[K     |████████████████████████████████| 2.9 MB 67.6 MB/s \n",
            "\u001b[?25hRequirement already satisfied: packaging in /usr/local/lib/python3.7/dist-packages (from transformers==4.0.1->combo==1.0.3) (20.9)\n",
            "Collecting sacremoses\n",
            "  Downloading sacremoses-0.0.45-py3-none-any.whl (895 kB)\n",
            "\u001b[K     |████████████████████████████████| 895 kB 46.7 MB/s \n",
            "\u001b[?25hRequirement already satisfied: regex!=2019.12.17 in /usr/local/lib/python3.7/dist-packages (from transformers==4.0.1->combo==1.0.3) (2019.12.20)\n",
            "Collecting jmespath<1.0.0,>=0.7.1\n",
            "  Downloading jmespath-0.10.0-py2.py3-none-any.whl (24 kB)\n",
            "Collecting s3transfer<0.5.0,>=0.4.0\n",
            "  Downloading s3transfer-0.4.0-py2.py3-none-any.whl (79 kB)\n",
            "\u001b[K     |████████████████████████████████| 79 kB 8.5 MB/s \n",
            "\u001b[?25hCollecting botocore<1.21.0,>=1.20.54\n",
            "  Downloading botocore-1.20.54-py2.py3-none-any.whl (7.4 MB)\n",
            "\u001b[K     |████████████████████████████████| 7.4 MB 58.1 MB/s \n",
            "\u001b[?25hRequirement already satisfied: python-dateutil<3.0.0,>=2.1 in /usr/local/lib/python3.7/dist-packages (from botocore<1.21.0,>=1.20.54->boto3<2.0,>=1.14->allennlp==1.3.0->combo==1.0.3) (2.8.1)\n",
            "Requirement already satisfied: importlib-metadata>=0.20 in /usr/local/lib/python3.7/dist-packages (from catalogue<1.1.0,>=0.0.7->spacy==2.3.2->combo==1.0.3) (3.10.1)\n",
            "Requirement already satisfied: zipp>=0.5 in /usr/local/lib/python3.7/dist-packages (from importlib-metadata>=0.20->catalogue<1.1.0,>=0.0.7->spacy==2.3.2->combo==1.0.3) (3.4.1)\n",
            "Requirement already satisfied: typing-extensions>=3.6.4 in /usr/local/lib/python3.7/dist-packages (from importlib-metadata>=0.20->catalogue<1.1.0,>=0.0.7->spacy==2.3.2->combo==1.0.3) (3.7.4.3)\n",
            "Requirement already satisfied: joblib>=0.11 in /usr/local/lib/python3.7/dist-packages (from scikit-learn<=0.23.2->combo==1.0.3) (1.0.1)\n",
            "Requirement already satisfied: protobuf>=3.8.0 in /usr/local/lib/python3.7/dist-packages (from tensorboardX>=1.2->allennlp==1.3.0->combo==1.0.3) (3.12.4)\n",
            "Requirement already satisfied: pyparsing>=2.0.2 in /usr/local/lib/python3.7/dist-packages (from packaging->transformers==4.0.1->combo==1.0.3) (2.4.7)\n",
            "Requirement already satisfied: py>=1.5.0 in /usr/local/lib/python3.7/dist-packages (from pytest->allennlp==1.3.0->combo==1.0.3) (1.10.0)\n",
            "Requirement already satisfied: pluggy<0.8,>=0.5 in /usr/local/lib/python3.7/dist-packages (from pytest->allennlp==1.3.0->combo==1.0.3) (0.7.1)\n",
            "Requirement already satisfied: attrs>=17.4.0 in /usr/local/lib/python3.7/dist-packages (from pytest->allennlp==1.3.0->combo==1.0.3) (20.3.0)\n",
            "Requirement already satisfied: atomicwrites>=1.0 in /usr/local/lib/python3.7/dist-packages (from pytest->allennlp==1.3.0->combo==1.0.3) (1.4.0)\n",
            "Requirement already satisfied: more-itertools>=4.0.0 in /usr/local/lib/python3.7/dist-packages (from pytest->allennlp==1.3.0->combo==1.0.3) (8.7.0)\n",
            "Requirement already satisfied: click in /usr/local/lib/python3.7/dist-packages (from sacremoses->transformers==4.0.1->combo==1.0.3) (7.1.2)\n",
            "Building wheels for collected packages: absl-py, jsonnet, overrides\n",
            "  Building wheel for absl-py (setup.py) ... \u001b[?25l\u001b[?25hdone\n",
            "  Created wheel for absl-py: filename=absl_py-0.9.0-py3-none-any.whl size=121930 sha256=58c5a8706b67065abda1fc40d5d76a61b2a8e5226450fef42a361cf91d58bf6c\n",
            "  Stored in directory: /root/.cache/pip/wheels/cc/af/1a/498a24d0730ef484019e007bb9e8cef3ac00311a672c049a3e\n",
            "  Building wheel for jsonnet (setup.py) ... \u001b[?25l\u001b[?25hdone\n",
            "  Created wheel for jsonnet: filename=jsonnet-0.15.0-cp37-cp37m-linux_x86_64.whl size=3320432 sha256=75714e4bf78ae229a8c28d95bec4996c5dea2b72d643e882f476e676acf6732b\n",
            "  Stored in directory: /root/.cache/pip/wheels/21/01/e4/6fabcb0c191f51e98452f2af6cb2086f0f1cec94a2c0ce9948\n",
            "  Building wheel for overrides (setup.py) ... \u001b[?25l\u001b[?25hdone\n",
            "  Created wheel for overrides: filename=overrides-3.1.0-py3-none-any.whl size=10175 sha256=c5d003f53dd8dab78f0ef609b0d6b59cfb7196a438fd7c30b39b8ed1ed5a2b44\n",
            "  Stored in directory: /root/.cache/pip/wheels/3a/0d/38/01a9bc6e20dcfaf0a6a7b552d03137558ba1c38aea47644682\n",
            "Successfully built absl-py jsonnet overrides\n",
            "Installing collected packages: urllib3, numpy, jmespath, tqdm, botocore, tokenizers, sacremoses, s3transfer, transformers, torch, tensorboardX, sentencepiece, overrides, jsonpickle, jsonnet, boto3, conllu, allennlp, absl-py, combo\n",
            "  Attempting uninstall: urllib3\n",
            "    Found existing installation: urllib3 1.24.3\n",
            "    Uninstalling urllib3-1.24.3:\n",
            "      Successfully uninstalled urllib3-1.24.3\n",
            "  Attempting uninstall: numpy\n",
            "    Found existing installation: numpy 1.19.5\n",
            "    Uninstalling numpy-1.19.5:\n",
            "      Successfully uninstalled numpy-1.19.5\n",
            "  Attempting uninstall: tqdm\n",
            "    Found existing installation: tqdm 4.41.1\n",
            "    Uninstalling tqdm-4.41.1:\n",
            "      Successfully uninstalled tqdm-4.41.1\n",
            "  Attempting uninstall: torch\n",
            "    Found existing installation: torch 1.8.1+cu101\n",
            "    Uninstalling torch-1.8.1+cu101:\n",
            "      Successfully uninstalled torch-1.8.1+cu101\n",
            "  Attempting uninstall: absl-py\n",
            "    Found existing installation: absl-py 0.12.0\n",
            "    Uninstalling absl-py-0.12.0:\n",
            "      Successfully uninstalled absl-py-0.12.0\n",
            "\u001b[31mERROR: pip's dependency resolver does not currently take into account all the packages that are installed. This behaviour is the source of the following dependency conflicts.\n",
            "torchvision 0.9.1+cu101 requires torch==1.8.1, but you have torch 1.6.0 which is incompatible.\n",
            "torchtext 0.9.1 requires torch==1.8.1, but you have torch 1.6.0 which is incompatible.\n",
            "tensorflow 2.4.1 requires absl-py~=0.10, but you have absl-py 0.9.0 which is incompatible.\n",
            "datascience 0.10.6 requires folium==0.2.1, but you have folium 0.8.3 which is incompatible.\n",
            "albumentations 0.1.12 requires imgaug<0.2.7,>=0.2.5, but you have imgaug 0.2.9 which is incompatible.\u001b[0m\n",
            "Successfully installed absl-py-0.9.0 allennlp-1.3.0 boto3-1.17.54 botocore-1.20.54 combo-1.0.3 conllu-2.3.2 jmespath-0.10.0 jsonnet-0.15.0 jsonpickle-2.0.0 numpy-1.19.4 overrides-3.1.0 s3transfer-0.4.0 sacremoses-0.0.45 sentencepiece-0.1.83 tensorboardX-2.2 tokenizers-0.9.4 torch-1.6.0 tqdm-4.43.0 transformers-4.0.1 urllib3-1.25.11\n"
          ],
          "name": "stdout"
        },
        {
          "output_type": "display_data",
          "data": {
            "application/vnd.colab-display-data+json": {
              "pip_warning": {
                "packages": [
                  "numpy",
                  "tqdm",
                  "urllib3"
                ]
              }
            }
          },
          "metadata": {
            "tags": []
          }
        }
      ]
    },
    {
      "cell_type": "code",
      "metadata": {
        "colab": {
          "base_uri": "https://localhost:8080/"
        },
        "id": "0gslxyw-ymKT",
        "outputId": "4a50287d-6864-426b-d70b-15506b198344"
      },
      "source": [
        "# Test, czy COMBO został poprawnie zainstalowany\n",
        "!combo --helpfull"
      ],
      "execution_count": 1,
      "outputs": [
        {
          "output_type": "stream",
          "text": [
            "2021-04-20 15:00:30.811375: I tensorflow/stream_executor/platform/default/dso_loader.cc:49] Successfully opened dynamic library libcudart.so.11.0\n",
            "/usr/local/lib/python3.7/dist-packages/spacy/util.py:275: UserWarning: [W031] Model 'en_core_web_sm' (2.2.5) requires spaCy v2.2 and is incompatible with the current spaCy version (2.3.2). This may lead to unexpected results or runtime errors. To resolve this, download a newer compatible model or retrain your custom model with the current spaCy version. For more details and available updates, run: python -m spacy validate\n",
            "  warnings.warn(warn_msg)\n",
            "\n",
            "       USAGE: /usr/local/bin/combo [flags]\n",
            "flags:\n",
            "\n",
            "absl.app:\n",
            "  -?,--[no]help: show this help\n",
            "    (default: 'false')\n",
            "  --[no]helpfull: show full help\n",
            "    (default: 'false')\n",
            "  --[no]helpshort: show this help\n",
            "    (default: 'false')\n",
            "  --[no]helpxml: like --helpfull, but generates XML output\n",
            "    (default: 'false')\n",
            "  --[no]only_check_args: Set to true to validate args and exit.\n",
            "    (default: 'false')\n",
            "  --[no]pdb_post_mortem: Set to true to handle uncaught exceptions with PDB post\n",
            "    mortem.\n",
            "    (default: 'false')\n",
            "  --profile_file: Dump profile information to a file (for python -m pstats).\n",
            "    Implies --run_with_profiling.\n",
            "  --[no]run_with_pdb: Set to true for PDB debug mode\n",
            "    (default: 'false')\n",
            "  --[no]run_with_profiling: Set to true for profiling the script. Execution will\n",
            "    be slower, and the output format might change over time.\n",
            "    (default: 'false')\n",
            "  --[no]use_cprofile_for_profiling: Use cProfile instead of the profile module\n",
            "    for profiling. This has no effect unless --run_with_profiling is set.\n",
            "    (default: 'true')\n",
            "\n",
            "absl.logging:\n",
            "  --[no]alsologtostderr: also log to stderr?\n",
            "    (default: 'false')\n",
            "  --log_dir: directory to write logfiles into\n",
            "    (default: '')\n",
            "  --[no]logtostderr: Should only log to stderr?\n",
            "    (default: 'false')\n",
            "  --[no]showprefixforinfo: If False, do not prepend prefix to info messages when\n",
            "    it's logged to stderr, --verbosity is set to INFO level, and python logging\n",
            "    is used.\n",
            "    (default: 'true')\n",
            "  --stderrthreshold: log messages at this level, or more severe, to stderr in\n",
            "    addition to the logfile.  Possible values are 'debug', 'info', 'warning',\n",
            "    'error', and 'fatal'.  Obsoletes --alsologtostderr. Using --alsologtostderr\n",
            "    cancels the effect of this flag. Please also note that this flag is subject\n",
            "    to --verbosity and requires logfile not be stderr.\n",
            "    (default: 'fatal')\n",
            "  -v,--verbosity: Logging verbosity level. Messages logged at this level or\n",
            "    lower will be included. Set to 1 for debug logging. If the flag was not set\n",
            "    or supplied, the value will be changed from the default of -1 (warning) to 0\n",
            "    (info) after flags are parsed.\n",
            "    (default: '-1')\n",
            "    (an integer)\n",
            "\n",
            "absl.testing.absltest:\n",
            "  --test_random_seed: Random seed for testing. Some test frameworks may change\n",
            "    the default value of this flag between runs, so it is not appropriate for\n",
            "    seeding probabilistic tests.\n",
            "    (default: '301')\n",
            "    (an integer)\n",
            "  --test_randomize_ordering_seed: If positive, use this as a seed to randomize\n",
            "    the execution order for test cases. If \"random\", pick a random seed to use.\n",
            "    If 0 or not set, do not randomize test case execution order. This flag also\n",
            "    overrides the TEST_RANDOMIZE_ORDERING_SEED environment variable.\n",
            "    (default: '')\n",
            "  --test_srcdir: Root of directory tree where source files live\n",
            "    (default: '')\n",
            "  --test_tmpdir: Directory for temporary testing files\n",
            "    (default: '/tmp/absl_testing')\n",
            "  --xml_output_file: File to store XML test results\n",
            "    (default: '')\n",
            "\n",
            "combo.main:\n",
            "  --batch_size: Prediction batch size.\n",
            "    (default: '1')\n",
            "    (an integer)\n",
            "  --config_path: Config file path.\n",
            "    (default: '/usr/local/lib/python3.7/dist-\n",
            "    packages/combo/config.template.jsonnet')\n",
            "  --[no]conllu_format: Prediction based on conllu format (instead of raw text).\n",
            "    (default: 'true')\n",
            "  --cuda_device: Cuda device id (default -1 cpu)\n",
            "    (default: '-1')\n",
            "    (an integer)\n",
            "  --embedding_dim: Embeddings dim\n",
            "    (default: '300')\n",
            "    (an integer)\n",
            "  --features: Features used to train model (required 'token' and 'char').\n",
            "    Possible values: ['token', 'char', 'upostag', 'xpostag', 'lemma', 'feats'].\n",
            "    (default: 'token,char')\n",
            "    (a comma separated list)\n",
            "  --finetuning_training_data_path: Training data path(s)\n",
            "    (default: '')\n",
            "    (a comma separated list)\n",
            "  --finetuning_validation_data_path: Validation data path(s)\n",
            "    (default: '')\n",
            "    (a comma separated list)\n",
            "  --input_file: File to predict path\n",
            "  --mode: <train|predict>: Specify COMBO mode: train or predict\n",
            "  --model_path: Pretrained model path.\n",
            "  --num_epochs: Epochs num\n",
            "    (default: '400')\n",
            "    (an integer)\n",
            "  --output_file: Predictions result file.\n",
            "    (default: 'output.log')\n",
            "  --predictor_name: <combo|combo-spacy>: Use predictor with whitespace or spacy\n",
            "    tokenizer.\n",
            "    (default: 'combo-spacy')\n",
            "  --pretrained_tokens: Pretrained tokens embeddings path\n",
            "    (default: '')\n",
            "  --pretrained_transformer_name: Pretrained transformer model name (see\n",
            "    transformers from HuggingFace library for list of available models) for\n",
            "    transformers based embeddings.\n",
            "    (default: '')\n",
            "  --serialization_dir: Model serialization directory (default - system temp\n",
            "    dir).\n",
            "  --[no]silent: Silent prediction to file (without printing to console).\n",
            "    (default: 'true')\n",
            "  --targets: Targets of the model (required `deprel` and `head`). Possible\n",
            "    values: ['deprel', 'feats', 'head', 'lemma', 'upostag', 'xpostag', 'semrel',\n",
            "    'sent', 'deps'].\n",
            "    (default: 'deprel,feats,head,lemma,upostag,xpostag')\n",
            "    (a comma separated list)\n",
            "  --[no]tensorboard: When provided model will log tensorboard metrics.\n",
            "    (default: 'false')\n",
            "  --test_path: Test path file.\n",
            "  --training_data: Alias for --training_data_path.\n",
            "    (default: '')\n",
            "  --training_data_path: Training data path(s)\n",
            "    (default: '')\n",
            "    (a comma separated list)\n",
            "  --[no]use_pure_config: Ignore ext flags (experimental).\n",
            "    (default: 'false')\n",
            "  --validation_data: Alias for --validation_data_path.\n",
            "    (default: '')\n",
            "  --validation_data_path: Validation data path(s)\n",
            "    (default: '')\n",
            "    (a comma separated list)\n",
            "  --word_batch_size: Minimum words in batch\n",
            "    (default: '2500')\n",
            "    (an integer)\n",
            "\n",
            "tensorflow.python.ops.parallel_for.pfor:\n",
            "  --[no]op_conversion_fallback_to_while_loop: DEPRECATED: Flag is ignored.\n",
            "    (default: 'true')\n",
            "\n",
            "tensorflow.python.tpu.client.client:\n",
            "  --[no]hbm_oom_exit: Exit the script when the TPU HBM is OOM.\n",
            "    (default: 'true')\n",
            "  --[no]runtime_oom_exit: Exit the script when the TPU runtime is OOM.\n",
            "    (default: 'true')\n",
            "\n",
            "absl.flags:\n",
            "  --flagfile: Insert flag definitions from the given file into the command line.\n",
            "    (default: '')\n",
            "  --undefok: comma-separated list of flag names that it is okay to specify on\n",
            "    the command line even if the program does not define a flag with that name.\n",
            "    IMPORTANT: flags in this list that have arguments MUST use the --flag=value\n",
            "    format.\n",
            "    (default: '')\n"
          ],
          "name": "stdout"
        }
      ]
    },
    {
      "cell_type": "markdown",
      "metadata": {
        "id": "q49bsQmyLOsY"
      },
      "source": [
        "## Przetwarzania plików CoNLL-U\n",
        "\n",
        "\n",
        "Format CoNLL-U:\n",
        "*   każdemu segmentowi odpowiada jedna linia,\n",
        "*   zdania oddzielone są pustymi liniami,\n",
        "*   każde zdanie poprzedzone jest metadanymi zapisanymi w liniach rozpoczynających się znakiem `#`,\n",
        "*   w przypadku segmentów składających się z kilku wyrazów (np. im --> in dem w niemieckim) występuje dodatkowa linia odpowiadająca temu słowu,\n",
        "*   linia zawierająca opis pojedynczego segmentu składa się z 10 kolumn:\n",
        " 1.   ID: numer kolejny słowa w zdaniu,\n",
        " 2.   ORTH: forma tekstowa,\n",
        " 3.   **LEMMA**: lemat,\n",
        " 4. **UPOS**: [uniwersalna część mowy](https://universaldependencies.org/u/pos/index.html),\n",
        " 5. **XPOS**: tag właściwy dla danego języka,\n",
        " 6. **UFEATS**: [uniwersalne cechy morfologiczne](https://universaldependencies.org/u/feat/index.html),\n",
        " 7. HEAD: id nadrzędnika,\n",
        " 8. DEPREL: etykieta relacji zależnościowej.\n",
        "\n",
        "Do przetwarzania/zwracania plików w formacie CoNLL-U wykorzystamy bibliotekę [spacy-conll](https://pypi.org/project/spacy-conll/)."
      ]
    },
    {
      "cell_type": "code",
      "metadata": {
        "id": "Oc6Uw1uehXDN"
      },
      "source": [
        "# UPDATE! COMBO instaluje tę wersję spaCy, więc ten krok nie jest już konieczny\n",
        "#!pip install spacy==2.3.2"
      ],
      "execution_count": null,
      "outputs": []
    },
    {
      "cell_type": "code",
      "metadata": {
        "colab": {
          "base_uri": "https://localhost:8080/"
        },
        "id": "LAZuf63OhyK3",
        "outputId": "17d5ef39-8283-499d-a709-a79be165bb75"
      },
      "source": [
        "# Pobranie podstawowego modelu spaCy\n",
        "!python -m spacy download pl_core_news_sm"
      ],
      "execution_count": 4,
      "outputs": [
        {
          "output_type": "stream",
          "text": [
            "Collecting pl_core_news_sm==2.3.0\n",
            "  Downloading https://github.com/explosion/spacy-models/releases/download/pl_core_news_sm-2.3.0/pl_core_news_sm-2.3.0.tar.gz (48.7 MB)\n",
            "\u001b[K     |████████████████████████████████| 48.7 MB 1.2 MB/s \n",
            "\u001b[?25hRequirement already satisfied: spacy<2.4.0,>=2.3.0 in /usr/local/lib/python3.7/dist-packages (from pl_core_news_sm==2.3.0) (2.3.2)\n",
            "Requirement already satisfied: tqdm<5.0.0,>=4.38.0 in /usr/local/lib/python3.7/dist-packages (from spacy<2.4.0,>=2.3.0->pl_core_news_sm==2.3.0) (4.43.0)\n",
            "Requirement already satisfied: setuptools in /usr/local/lib/python3.7/dist-packages (from spacy<2.4.0,>=2.3.0->pl_core_news_sm==2.3.0) (56.0.0)\n",
            "Requirement already satisfied: catalogue<1.1.0,>=0.0.7 in /usr/local/lib/python3.7/dist-packages (from spacy<2.4.0,>=2.3.0->pl_core_news_sm==2.3.0) (1.0.0)\n",
            "Requirement already satisfied: murmurhash<1.1.0,>=0.28.0 in /usr/local/lib/python3.7/dist-packages (from spacy<2.4.0,>=2.3.0->pl_core_news_sm==2.3.0) (1.0.5)\n",
            "Requirement already satisfied: cymem<2.1.0,>=2.0.2 in /usr/local/lib/python3.7/dist-packages (from spacy<2.4.0,>=2.3.0->pl_core_news_sm==2.3.0) (2.0.5)\n",
            "Requirement already satisfied: numpy>=1.15.0 in /usr/local/lib/python3.7/dist-packages (from spacy<2.4.0,>=2.3.0->pl_core_news_sm==2.3.0) (1.19.4)\n",
            "Requirement already satisfied: preshed<3.1.0,>=3.0.2 in /usr/local/lib/python3.7/dist-packages (from spacy<2.4.0,>=2.3.0->pl_core_news_sm==2.3.0) (3.0.5)\n",
            "Requirement already satisfied: thinc==7.4.1 in /usr/local/lib/python3.7/dist-packages (from spacy<2.4.0,>=2.3.0->pl_core_news_sm==2.3.0) (7.4.1)\n",
            "Requirement already satisfied: plac<1.2.0,>=0.9.6 in /usr/local/lib/python3.7/dist-packages (from spacy<2.4.0,>=2.3.0->pl_core_news_sm==2.3.0) (1.1.3)\n",
            "Requirement already satisfied: requests<3.0.0,>=2.13.0 in /usr/local/lib/python3.7/dist-packages (from spacy<2.4.0,>=2.3.0->pl_core_news_sm==2.3.0) (2.23.0)\n",
            "Requirement already satisfied: wasabi<1.1.0,>=0.4.0 in /usr/local/lib/python3.7/dist-packages (from spacy<2.4.0,>=2.3.0->pl_core_news_sm==2.3.0) (0.8.2)\n",
            "Requirement already satisfied: srsly<1.1.0,>=1.0.2 in /usr/local/lib/python3.7/dist-packages (from spacy<2.4.0,>=2.3.0->pl_core_news_sm==2.3.0) (1.0.5)\n",
            "Requirement already satisfied: blis<0.5.0,>=0.4.0 in /usr/local/lib/python3.7/dist-packages (from spacy<2.4.0,>=2.3.0->pl_core_news_sm==2.3.0) (0.4.1)\n",
            "Requirement already satisfied: importlib-metadata>=0.20 in /usr/local/lib/python3.7/dist-packages (from catalogue<1.1.0,>=0.0.7->spacy<2.4.0,>=2.3.0->pl_core_news_sm==2.3.0) (3.10.1)\n",
            "Requirement already satisfied: typing-extensions>=3.6.4 in /usr/local/lib/python3.7/dist-packages (from importlib-metadata>=0.20->catalogue<1.1.0,>=0.0.7->spacy<2.4.0,>=2.3.0->pl_core_news_sm==2.3.0) (3.7.4.3)\n",
            "Requirement already satisfied: zipp>=0.5 in /usr/local/lib/python3.7/dist-packages (from importlib-metadata>=0.20->catalogue<1.1.0,>=0.0.7->spacy<2.4.0,>=2.3.0->pl_core_news_sm==2.3.0) (3.4.1)\n",
            "Requirement already satisfied: urllib3!=1.25.0,!=1.25.1,<1.26,>=1.21.1 in /usr/local/lib/python3.7/dist-packages (from requests<3.0.0,>=2.13.0->spacy<2.4.0,>=2.3.0->pl_core_news_sm==2.3.0) (1.25.11)\n",
            "Requirement already satisfied: idna<3,>=2.5 in /usr/local/lib/python3.7/dist-packages (from requests<3.0.0,>=2.13.0->spacy<2.4.0,>=2.3.0->pl_core_news_sm==2.3.0) (2.10)\n",
            "Requirement already satisfied: chardet<4,>=3.0.2 in /usr/local/lib/python3.7/dist-packages (from requests<3.0.0,>=2.13.0->spacy<2.4.0,>=2.3.0->pl_core_news_sm==2.3.0) (3.0.4)\n",
            "Requirement already satisfied: certifi>=2017.4.17 in /usr/local/lib/python3.7/dist-packages (from requests<3.0.0,>=2.13.0->spacy<2.4.0,>=2.3.0->pl_core_news_sm==2.3.0) (2020.12.5)\n",
            "\u001b[38;5;2m✔ Download and installation successful\u001b[0m\n",
            "You can now load the model via spacy.load('pl_core_news_sm')\n"
          ],
          "name": "stdout"
        }
      ]
    },
    {
      "cell_type": "markdown",
      "metadata": {
        "id": "heOy8o00lQep"
      },
      "source": [
        "Uruchom ponownie środowisko wykonawcze!"
      ]
    },
    {
      "cell_type": "code",
      "metadata": {
        "id": "tCxhCauch09c"
      },
      "source": [
        "# Wczytanie modelu podstawowego spaCy\n",
        "import spacy\n",
        "nlp = spacy.load(\"pl_core_news_sm\")"
      ],
      "execution_count": 2,
      "outputs": []
    },
    {
      "cell_type": "code",
      "metadata": {
        "id": "51MWssVQJlpM"
      },
      "source": [
        "# Przetworzenie zdania\n",
        "doc = nlp(\"To jest słoń, którego sfotografowaliśmy.\")"
      ],
      "execution_count": 3,
      "outputs": []
    },
    {
      "cell_type": "code",
      "metadata": {
        "colab": {
          "base_uri": "https://localhost:8080/"
        },
        "id": "T6V07bwOin_b",
        "outputId": "5db7ecee-6a9c-47fa-91dd-05086d2e61bc"
      },
      "source": [
        "print(\"{:20} {:20} {:20}\".format('SEGMENT', 'LEMAT', 'UPOS'))\n",
        "for token in doc:\n",
        "    print(\"{:20} {:20} {:20}\".format(token.text, token.lemma_, token.pos_))"
      ],
      "execution_count": 4,
      "outputs": [
        {
          "output_type": "stream",
          "text": [
            "SEGMENT              LEMAT                UPOS                \n",
            "To                   to                   VERB                \n",
            "jest                 być                  VERB                \n",
            "słoń                 słoń                 NOUN                \n",
            ",                    ,                    PUNCT               \n",
            "którego              który                ADJ                 \n",
            "sfotografowaliśmy    sfotografować        VERB                \n",
            ".                    .                    PUNCT               \n"
          ],
          "name": "stdout"
        }
      ]
    },
    {
      "cell_type": "code",
      "metadata": {
        "colab": {
          "base_uri": "https://localhost:8080/"
        },
        "id": "jjH8g_ejJ_Eo",
        "outputId": "8f0ae69b-7cab-4a81-f89b-2ca8185ee428"
      },
      "source": [
        "doc = nlp(\"Tośmy sfotografowali słonia!\")\n",
        "print(\"{:20} {:20} {:20}\".format('SEGMENT', 'LEMAT', 'UPOS'))\n",
        "for token in doc:\n",
        "    print(\"{:20} {:20} {:20}\".format(token.text, token.lemma_, token.pos_))"
      ],
      "execution_count": 5,
      "outputs": [
        {
          "output_type": "stream",
          "text": [
            "SEGMENT              LEMAT                UPOS                \n",
            "Tośmy                tośmy                NOUN                \n",
            "sfotografowali       sfotografować        VERB                \n",
            "słonia               słoń                 NOUN                \n",
            "!                    !                    PUNCT               \n"
          ],
          "name": "stdout"
        }
      ]
    },
    {
      "cell_type": "code",
      "metadata": {
        "colab": {
          "base_uri": "https://localhost:8080/"
        },
        "id": "JDQzuXJ8iqoU",
        "outputId": "a74fb4d9-f2a6-4dfd-f08e-182865e1aaf2"
      },
      "source": [
        "# Instalacja biblioteki spacy-conll do przetwarzania plików conll\n",
        "! pip install spacy-conll"
      ],
      "execution_count": 6,
      "outputs": [
        {
          "output_type": "stream",
          "text": [
            "Collecting spacy-conll\n",
            "  Downloading spacy_conll-2.0.0-py3-none-any.whl (18 kB)\n",
            "Requirement already satisfied: packaging in /usr/local/lib/python3.7/dist-packages (from spacy-conll) (20.9)\n",
            "Requirement already satisfied: spacy>=2.0 in /usr/local/lib/python3.7/dist-packages (from spacy-conll) (2.3.2)\n",
            "Requirement already satisfied: wasabi<1.1.0,>=0.4.0 in /usr/local/lib/python3.7/dist-packages (from spacy>=2.0->spacy-conll) (0.8.2)\n",
            "Requirement already satisfied: numpy>=1.15.0 in /usr/local/lib/python3.7/dist-packages (from spacy>=2.0->spacy-conll) (1.19.4)\n",
            "Requirement already satisfied: plac<1.2.0,>=0.9.6 in /usr/local/lib/python3.7/dist-packages (from spacy>=2.0->spacy-conll) (1.1.3)\n",
            "Requirement already satisfied: thinc==7.4.1 in /usr/local/lib/python3.7/dist-packages (from spacy>=2.0->spacy-conll) (7.4.1)\n",
            "Requirement already satisfied: srsly<1.1.0,>=1.0.2 in /usr/local/lib/python3.7/dist-packages (from spacy>=2.0->spacy-conll) (1.0.5)\n",
            "Requirement already satisfied: catalogue<1.1.0,>=0.0.7 in /usr/local/lib/python3.7/dist-packages (from spacy>=2.0->spacy-conll) (1.0.0)\n",
            "Requirement already satisfied: setuptools in /usr/local/lib/python3.7/dist-packages (from spacy>=2.0->spacy-conll) (56.0.0)\n",
            "Requirement already satisfied: preshed<3.1.0,>=3.0.2 in /usr/local/lib/python3.7/dist-packages (from spacy>=2.0->spacy-conll) (3.0.5)\n",
            "Requirement already satisfied: requests<3.0.0,>=2.13.0 in /usr/local/lib/python3.7/dist-packages (from spacy>=2.0->spacy-conll) (2.23.0)\n",
            "Requirement already satisfied: blis<0.5.0,>=0.4.0 in /usr/local/lib/python3.7/dist-packages (from spacy>=2.0->spacy-conll) (0.4.1)\n",
            "Requirement already satisfied: murmurhash<1.1.0,>=0.28.0 in /usr/local/lib/python3.7/dist-packages (from spacy>=2.0->spacy-conll) (1.0.5)\n",
            "Requirement already satisfied: tqdm<5.0.0,>=4.38.0 in /usr/local/lib/python3.7/dist-packages (from spacy>=2.0->spacy-conll) (4.43.0)\n",
            "Requirement already satisfied: cymem<2.1.0,>=2.0.2 in /usr/local/lib/python3.7/dist-packages (from spacy>=2.0->spacy-conll) (2.0.5)\n",
            "Requirement already satisfied: importlib-metadata>=0.20 in /usr/local/lib/python3.7/dist-packages (from catalogue<1.1.0,>=0.0.7->spacy>=2.0->spacy-conll) (3.10.1)\n",
            "Requirement already satisfied: zipp>=0.5 in /usr/local/lib/python3.7/dist-packages (from importlib-metadata>=0.20->catalogue<1.1.0,>=0.0.7->spacy>=2.0->spacy-conll) (3.4.1)\n",
            "Requirement already satisfied: typing-extensions>=3.6.4 in /usr/local/lib/python3.7/dist-packages (from importlib-metadata>=0.20->catalogue<1.1.0,>=0.0.7->spacy>=2.0->spacy-conll) (3.7.4.3)\n",
            "Requirement already satisfied: urllib3!=1.25.0,!=1.25.1,<1.26,>=1.21.1 in /usr/local/lib/python3.7/dist-packages (from requests<3.0.0,>=2.13.0->spacy>=2.0->spacy-conll) (1.25.11)\n",
            "Requirement already satisfied: idna<3,>=2.5 in /usr/local/lib/python3.7/dist-packages (from requests<3.0.0,>=2.13.0->spacy>=2.0->spacy-conll) (2.10)\n",
            "Requirement already satisfied: chardet<4,>=3.0.2 in /usr/local/lib/python3.7/dist-packages (from requests<3.0.0,>=2.13.0->spacy>=2.0->spacy-conll) (3.0.4)\n",
            "Requirement already satisfied: certifi>=2017.4.17 in /usr/local/lib/python3.7/dist-packages (from requests<3.0.0,>=2.13.0->spacy>=2.0->spacy-conll) (2020.12.5)\n",
            "Requirement already satisfied: pyparsing>=2.0.2 in /usr/local/lib/python3.7/dist-packages (from packaging->spacy-conll) (2.4.7)\n",
            "Installing collected packages: spacy-conll\n",
            "Successfully installed spacy-conll-2.0.0\n"
          ],
          "name": "stdout"
        }
      ]
    },
    {
      "cell_type": "markdown",
      "metadata": {
        "id": "E4_VIL4aoui_"
      },
      "source": [
        "Biblioteka ```spacy-conll``` umożliwia przetwarzanie wstępnie posegmentowanych plików:\n",
        "\n",
        "Funkcja ```init_parser``` do inicjowania parsera akceptuje wstępnie posegmentowane wejście (```is_tokenized=True```)"
      ]
    },
    {
      "cell_type": "code",
      "metadata": {
        "id": "GhQ1HFHUnxOU"
      },
      "source": [
        "from spacy_conll import init_parser\n",
        "nlp = init_parser('spacy', 'pl_core_news_sm', is_tokenized=True)"
      ],
      "execution_count": 7,
      "outputs": []
    },
    {
      "cell_type": "code",
      "metadata": {
        "id": "k5Ksd3VEKVdM"
      },
      "source": [
        "doc = nlp('To jest słoń , którego sfotografowali śmy .')"
      ],
      "execution_count": 8,
      "outputs": []
    },
    {
      "cell_type": "code",
      "metadata": {
        "colab": {
          "base_uri": "https://localhost:8080/"
        },
        "id": "oFJagntYoLfG",
        "outputId": "f0bd0f02-0930-422e-e648-3cfa13b500f9"
      },
      "source": [
        "print(\"{:20} {:20} {:20}\".format('SEGMENT', 'LEMAT', 'UPOS'))\n",
        "for token in doc:\n",
        "    print(\"{:20} {:20} {:20}\".format(token.text, token.lemma_, token.pos_))"
      ],
      "execution_count": 9,
      "outputs": [
        {
          "output_type": "stream",
          "text": [
            "SEGMENT              LEMAT                UPOS                \n",
            "To                   to                   VERB                \n",
            "jest                 być                  VERB                \n",
            "słoń                 słoń                 NOUN                \n",
            ",                    ,                    PUNCT               \n",
            "którego              który                ADJ                 \n",
            "sfotografowali       sfotografować        VERB                \n",
            "śmy                  być                  AUX                 \n",
            ".                    .                    PUNCT               \n"
          ],
          "name": "stdout"
        }
      ]
    },
    {
      "cell_type": "code",
      "metadata": {
        "colab": {
          "base_uri": "https://localhost:8080/"
        },
        "id": "FylL3UtIKbSK",
        "outputId": "68277517-e6b6-495f-9bdd-0d117b5e0ef9"
      },
      "source": [
        "doc = nlp('To śmy sfotografowali słonia !')\n",
        "print(\"{:20} {:20} {:20}\".format('SEGMENT', 'LEMAT', 'UPOS'))\n",
        "for token in doc:\n",
        "    print(\"{:20} {:20} {:20}\".format(token.text, token.lemma_, token.pos_))"
      ],
      "execution_count": 10,
      "outputs": [
        {
          "output_type": "stream",
          "text": [
            "SEGMENT              LEMAT                UPOS                \n",
            "To                   to                   PART                \n",
            "śmy                  być                  AUX                 \n",
            "sfotografowali       sfotografować        VERB                \n",
            "słonia               słoń                 NOUN                \n",
            "!                    !                    PUNCT               \n"
          ],
          "name": "stdout"
        }
      ]
    },
    {
      "cell_type": "markdown",
      "metadata": {
        "id": "DS-Xe25XqMtL"
      },
      "source": [
        "Przy pomocy skryptu uruchamianego z wiersza poleceń ```parse-as-conll``` można przetworzyć string albo plik tekstowy i wpisać wynik do pliku CoNLL."
      ]
    },
    {
      "cell_type": "code",
      "metadata": {
        "id": "rLsG3skui-Z_"
      },
      "source": [
        "!parse-as-conll --model_or_lang 'pl_core_news_sm' --input_str 'To jest słoń, którego sfotografowaliśmy.' --output_file 'test.conllu' --include_headers"
      ],
      "execution_count": 11,
      "outputs": []
    },
    {
      "cell_type": "code",
      "metadata": {
        "colab": {
          "base_uri": "https://localhost:8080/"
        },
        "id": "3oxgzoXdmdO0",
        "outputId": "c7b0aa23-9446-476a-92d9-8cbe8e45703d"
      },
      "source": [
        "! head test.conllu"
      ],
      "execution_count": 12,
      "outputs": [
        {
          "output_type": "stream",
          "text": [
            "# sent_id = 1\n",
            "# text = To jest słoń, którego sfotografowaliśmy.\n",
            "1\tTo\tto\tVERB\tPRED\t_\t0\tROOT\t_\t_\n",
            "2\tjest\tbyć\tVERB\tFIN\t_\t1\taux\t_\t_\n",
            "3\tsłoń\tsłoń\tNOUN\tSUBST\t_\t1\tnsubj\t_\tSpaceAfter=No\n",
            "4\t,\t,\tPUNCT\tINTERP\t_\t6\tpunct\t_\t_\n",
            "5\tktórego\tktóry\tADJ\tADJ\t_\t6\tobj\t_\t_\n",
            "6\tsfotografowaliśmy\tsfotografować\tVERB\tPRAET\t_\t3\tacl\t_\tSpaceAfter=No\n",
            "7\t.\t.\tPUNCT\tINTERP\t_\t1\tpunct\t_\tSpaceAfter=No\n"
          ],
          "name": "stdout"
        }
      ]
    },
    {
      "cell_type": "code",
      "metadata": {
        "colab": {
          "base_uri": "https://localhost:8080/"
        },
        "id": "l5XTfZgOlphQ",
        "outputId": "ca94e6b3-25e3-4cb7-b4cd-1aeb8dfe4913"
      },
      "source": [
        "! wget -P zasoby http://mozart.ipipan.waw.pl/~alina/zasoby/data/PDBUD_test.txt"
      ],
      "execution_count": 13,
      "outputs": [
        {
          "output_type": "stream",
          "text": [
            "--2021-04-20 15:06:26--  http://mozart.ipipan.waw.pl/~alina/zasoby/data/PDBUD_test.txt\n",
            "Resolving mozart.ipipan.waw.pl (mozart.ipipan.waw.pl)... 213.135.36.148\n",
            "Connecting to mozart.ipipan.waw.pl (mozart.ipipan.waw.pl)|213.135.36.148|:80... connected.\n",
            "HTTP request sent, awaiting response... 200 OK\n",
            "Length: 208260 (203K) [text/plain]\n",
            "Saving to: ‘zasoby/PDBUD_test.txt’\n",
            "\n",
            "PDBUD_test.txt      100%[===================>] 203.38K   321KB/s    in 0.6s    \n",
            "\n",
            "2021-04-20 15:06:27 (321 KB/s) - ‘zasoby/PDBUD_test.txt’ saved [208260/208260]\n",
            "\n"
          ],
          "name": "stdout"
        }
      ]
    },
    {
      "cell_type": "code",
      "metadata": {
        "colab": {
          "base_uri": "https://localhost:8080/"
        },
        "id": "kLox_K8uiBtD",
        "outputId": "49ea2cec-77f3-4324-d5c3-dcd773c27831"
      },
      "source": [
        "!head -n 10 zasoby/PDBUD_test.txt"
      ],
      "execution_count": 14,
      "outputs": [
        {
          "output_type": "stream",
          "text": [
            "Mężczyzna w czapce kuca na chodniku pod ścianą budynku, a koło niego jest pięć kotów.\n",
            "Chłopak biegnie, asekurując jadącego obok rowerem chłopca w kasku na głowie.\n",
            "Kilkanaście dziewczynek w białych sukienkach i kokardach na głowie stoi obok siebie na scenie.\n",
            "Uśmiechnięta dziewczynka o jasnych włosach zjeżdża na zjeżdżalni.\n",
            "Jasnowłose dziecko jedzie po chodniku na czerwonej hulajnodze.\n",
            "Brudny samochód terenowy stoi zapadnięty w błocie.\n",
            "Dwaj mężczyźni z wędkami stoją na plaży w pobliżu łodzi.\n",
            "Dwie osoby skaczą nad śniegiem na deskach snowboardowych w pobliżu drewnianych budynków.\n",
            "Małpa stoi zwrócona w kierunku innej skaczącej w jej stronę małpy.\n",
            "Na boisku trzech piłkarzy podskakuje do piłki podczas meczu.\n"
          ],
          "name": "stdout"
        }
      ]
    },
    {
      "cell_type": "code",
      "metadata": {
        "colab": {
          "base_uri": "https://localhost:8080/"
        },
        "id": "d3nxxE_ti_YN",
        "outputId": "aa913aac-7383-43e3-85d9-b6f13a7c1705"
      },
      "source": [
        "! time parse-as-conll --model_or_lang 'pl_core_news_sm' --input_file 'zasoby/PDBUD_test.txt' --output_file 'predykcje/PDBUD_test_spaCy_baseline.conllu' --include_headers"
      ],
      "execution_count": 15,
      "outputs": [
        {
          "output_type": "stream",
          "text": [
            "\n",
            "real\t0m18.370s\n",
            "user\t0m16.961s\n",
            "sys\t0m1.480s\n"
          ],
          "name": "stdout"
        }
      ]
    },
    {
      "cell_type": "code",
      "metadata": {
        "colab": {
          "base_uri": "https://localhost:8080/"
        },
        "id": "MJ9JB4vomkN1",
        "outputId": "cfbe5e6b-507d-413c-b9b8-a62680a1c7b2"
      },
      "source": [
        "! tail -n 50 predykcje/PDBUD_test_spaCy_baseline.conllu"
      ],
      "execution_count": 16,
      "outputs": [
        {
          "output_type": "stream",
          "text": [
            "2\tsię\tsię\tPART\tQUB\t_\t1\texpl:pv\t_\tSpaceAfter=No\n",
            "3\t,\t,\tPUNCT\tINTERP\t_\t5\tpunct\t_\t_\n",
            "4\tże\tże\tSCONJ\tCOMP\t_\t5\tmark\t_\t_\n",
            "5\tprzemówił\tprzemówić\tVERB\tPRAET\t_\t1\tccomp\t_\t_\n",
            "6\ttu\ttu\tADV\tADV\t_\t5\tadvmod\t_\t_\n",
            "7\tdziś\tdziś\tADV\tADV\t_\t8\tadvmod\t_\t_\n",
            "8\tprawdziwy\tprawdziwy\tADJ\tADJ\t_\t10\tamod\t_\t_\n",
            "9\tsocjaldemokratyczny\tsocjaldemokratyczny\tADJ\tADJ\t_\t10\tamod\t_\t_\n",
            "10\tszef\tszef\tNOUN\tSUBST\t_\t5\tnsubj\t_\t_\n",
            "11\trządu\trząd\tNOUN\tSUBST\t_\t10\tnmod\t_\tSpaceAfter=No\n",
            "12\t.\t.\tPUNCT\tINTERP\t_\t1\tpunct\t_\tSpaceAfter=No\n",
            "\n",
            "# sent_id = 2415\n",
            "# text = Chciałbym podziękować swojemu oponentowi, panu Bushill-Matthewsowi za profesjonalny sposób przewodniczenia negocjacjom, koleżankom i kolegom z innych grup za ich pomoc pod względem politycznym, a prezydencji francuskiej za jej wyrafinowane podejście.\n",
            "1\tChciałbym\tchciałbym\tADJ\tADJ\t_\t0\tROOT\t_\t_\n",
            "2\tpodziękować\tpodziękować\tVERB\tINF\t_\t1\txcomp\t_\t_\n",
            "3\tswojemu\tswój\tADJ\tADJ\t_\t4\tamod\t_\t_\n",
            "4\toponentowi\toponent\tNOUN\tSUBST\t_\t2\tobj\t_\tSpaceAfter=No\n",
            "5\t,\t,\tPUNCT\tINTERP\t_\t7\tpunct\t_\t_\n",
            "6\tpanu\tpan\tNOUN\tSUBST\t_\t7\tnsubj\t_\t_\n",
            "7\tBushill\tbushill\tNOUN\tSUBST\t_\t1\tconj\t_\tSpaceAfter=No\n",
            "8\t-\t-\tPUNCT\tINTERP\t_\t7\tpunct\t_\tSpaceAfter=No\n",
            "9\tMatthewsowi\tmatthewsowi\tNOUN\tSUBST\t_\t8\tcase\t_\t_\n",
            "10\tza\tza\tADP\tPREP\t_\t12\tcase\t_\t_\n",
            "11\tprofesjonalny\tprofesjonalny\tADJ\tADJ\t_\t12\tamod\t_\t_\n",
            "12\tsposób\tsposób\tNOUN\tSUBST\t_\t7\tobl\t_\t_\n",
            "13\tprzewodniczenia\tprzewodniczenia\tNOUN\tGER\t_\t12\tnmod\t_\t_\n",
            "14\tnegocjacjom\tnegocjacje\tNOUN\tSUBST\t_\t13\tnmod\t_\tSpaceAfter=No\n",
            "15\t,\t,\tPUNCT\tINTERP\t_\t16\tpunct\t_\t_\n",
            "16\tkoleżankom\tkoleżanka\tNOUN\tSUBST\t_\t14\tconj\t_\t_\n",
            "17\ti\ti\tCCONJ\tCONJ\t_\t18\tcc\t_\t_\n",
            "18\tkolegom\tkolega\tNOUN\tSUBST\t_\t14\tconj\t_\t_\n",
            "19\tz\tz\tADP\tPREP\t_\t21\tcase\t_\t_\n",
            "20\tinnych\tinny\tADJ\tADJ\t_\t21\tamod\t_\t_\n",
            "21\tgrup\tgrupa\tNOUN\tSUBST\t_\t18\tnmod\t_\t_\n",
            "22\tza\tza\tADP\tPREP\t_\t24\tcase\t_\t_\n",
            "23\tich\ton\tPRON\tPPRON3\t_\t24\tnmod\t_\t_\n",
            "24\tpomoc\tpomoc\tNOUN\tSUBST\t_\t21\tnmod\t_\t_\n",
            "25\tpod\tpod\tADP\tPREP\t_\t26\tcase\t_\t_\n",
            "26\twzględem\twzgląd\tNOUN\tSUBST\t_\t7\tobl\t_\t_\n",
            "27\tpolitycznym\tpolityczny\tADJ\tADJ\t_\t26\tamod\t_\tSpaceAfter=No\n",
            "28\t,\t,\tPUNCT\tINTERP\t_\t7\tpunct\t_\t_\n",
            "29\ta\ta\tCCONJ\tCONJ\t_\t7\tdep\t_\t_\n",
            "30\tprezydencji\tprezydencja\tNOUN\tSUBST\t_\t7\tobj\t_\t_\n",
            "31\tfrancuskiej\tfrancuski\tADJ\tADJ\t_\t30\tamod\t_\t_\n",
            "32\tza\tza\tADP\tPREP\t_\t33\tcase\t_\t_\n",
            "33\tjej\ton\tPRON\tPPRON3\t_\t35\tnmod\t_\t_\n",
            "34\twyrafinowane\twyrafinowany\tADJ\tADJ\t_\t35\tamod\t_\t_\n",
            "35\tpodejście\tpodejście\tNOUN\tSUBST\t_\t30\tnmod\t_\tSpaceAfter=No\n",
            "36\t.\t.\tPUNCT\tINTERP\t_\t1\tpunct\t_\tSpaceAfter=No\n"
          ],
          "name": "stdout"
        }
      ]
    },
    {
      "cell_type": "markdown",
      "metadata": {
        "id": "XQpJR0U9__iE"
      },
      "source": [
        "# Analizator morfologiczny [Morfeusz](http://morfeusz.sgjp.pl) w Pythonie\n",
        "*   analizator i generator morfologiczny opracowany w IPI PAN\n",
        "*   wersja demo: http://morfeusz.sgjp.pl/demo\n",
        "*   można go wbudować w tworzone programy\n",
        "*   przy pomocy dodatkowych modułów można go użyć z poziomu Pythona i Javy\n",
        "*   dystrybuowany z dwoma słownikami: SGJP lub Polimorf\n",
        "*   Tutorial Morfeusza (K. Krasnowska-Kieraś): http://clarin-pl.eu/wp-content/uploads/2019/10/Morfeusz2.pdf\n",
        "\n"
      ]
    },
    {
      "cell_type": "markdown",
      "metadata": {
        "id": "4r9mW8slZ104"
      },
      "source": [
        "### Instalacja\n",
        "Instalujemy bibliotekę pythonową Morfeusza z pakietów Ubuntu ([instalacja dla innych systemów](http://morfeusz.sgjp.pl/download/))"
      ]
    },
    {
      "cell_type": "code",
      "metadata": {
        "colab": {
          "base_uri": "https://localhost:8080/"
        },
        "id": "8O52QgV4OoWe",
        "outputId": "91ac0dc1-6a24-404d-a777-cff739652a1c"
      },
      "source": [
        "!wget -O - http://download.sgjp.pl/apt/sgjp.gpg.key|sudo apt-key add -\n",
        "!sudo apt-add-repository http://download.sgjp.pl/apt/ubuntu\n",
        "!sudo apt update\n",
        "!sudo apt install libmorfeusz2\n",
        "!sudo apt install python3-morfeusz2\n",
        "!wget http://download.sgjp.pl/morfeusz/20210221/Linux/18.04/64/morfeusz2-1.9.17-cp37-cp37m-linux_x86_64.whl -O morfeusz2-1.9.17-cp37-cp37m-linux_x86_64.whl\n",
        "!python3 -m pip install --upgrade --force-reinstall morfeusz2-1.9.17-cp37-cp37m-linux_x86_64.whl"
      ],
      "execution_count": 17,
      "outputs": [
        {
          "output_type": "stream",
          "text": [
            "--2021-04-20 15:07:03--  http://download.sgjp.pl/apt/sgjp.gpg.key\n",
            "Resolving download.sgjp.pl (download.sgjp.pl)... 193.0.67.154\n",
            "Connecting to download.sgjp.pl (download.sgjp.pl)|193.0.67.154|:80... connected.\n",
            "HTTP request sent, awaiting response... 200 OK\n",
            "Length: 1029 (1.0K) [application/pgp-keys]\n",
            "Saving to: ‘STDOUT’\n",
            "\n",
            "-                   100%[===================>]   1.00K  --.-KB/s    in 0s      \n",
            "\n",
            "2021-04-20 15:07:03 (197 MB/s) - written to stdout [1029/1029]\n",
            "\n",
            "OK\n",
            "Get:1 https://cloud.r-project.org/bin/linux/ubuntu bionic-cran40/ InRelease [3,626 B]\n",
            "Ign:2 https://developer.download.nvidia.com/compute/cuda/repos/ubuntu1804/x86_64  InRelease\n",
            "Ign:3 https://developer.download.nvidia.com/compute/machine-learning/repos/ubuntu1804/x86_64  InRelease\n",
            "Get:4 https://developer.download.nvidia.com/compute/cuda/repos/ubuntu1804/x86_64  Release [697 B]\n",
            "Hit:5 https://developer.download.nvidia.com/compute/machine-learning/repos/ubuntu1804/x86_64  Release\n",
            "Get:6 https://developer.download.nvidia.com/compute/cuda/repos/ubuntu1804/x86_64  Release.gpg [836 B]\n",
            "Get:8 http://security.ubuntu.com/ubuntu bionic-security InRelease [88.7 kB]\n",
            "Get:9 http://ppa.launchpad.net/c2d4u.team/c2d4u4.0+/ubuntu bionic InRelease [15.9 kB]\n",
            "Get:10 http://download.sgjp.pl/apt/ubuntu bionic InRelease [1,979 B]\n",
            "Ign:11 https://developer.download.nvidia.com/compute/cuda/repos/ubuntu1804/x86_64  Packages\n",
            "Get:11 https://developer.download.nvidia.com/compute/cuda/repos/ubuntu1804/x86_64  Packages [739 kB]\n",
            "Hit:12 http://archive.ubuntu.com/ubuntu bionic InRelease\n",
            "Get:13 http://download.sgjp.pl/apt/ubuntu bionic/main amd64 Packages [1,940 B]\n",
            "Get:14 http://archive.ubuntu.com/ubuntu bionic-updates InRelease [88.7 kB]\n",
            "Hit:15 http://ppa.launchpad.net/cran/libgit2/ubuntu bionic InRelease\n",
            "Get:16 http://security.ubuntu.com/ubuntu bionic-security/multiverse amd64 Packages [24.5 kB]\n",
            "Get:17 http://ppa.launchpad.net/deadsnakes/ppa/ubuntu bionic InRelease [15.9 kB]\n",
            "Get:18 http://archive.ubuntu.com/ubuntu bionic-backports InRelease [74.6 kB]\n",
            "Get:19 http://security.ubuntu.com/ubuntu bionic-security/universe amd64 Packages [1,410 kB]\n",
            "Get:20 http://archive.ubuntu.com/ubuntu bionic-updates/restricted amd64 Packages [425 kB]\n",
            "Hit:21 http://ppa.launchpad.net/graphics-drivers/ppa/ubuntu bionic InRelease\n",
            "Get:22 http://archive.ubuntu.com/ubuntu bionic-updates/multiverse amd64 Packages [31.4 kB]\n",
            "Get:23 http://archive.ubuntu.com/ubuntu bionic-updates/universe amd64 Packages [2,182 kB]\n",
            "Get:24 http://ppa.launchpad.net/c2d4u.team/c2d4u4.0+/ubuntu bionic/main Sources [1,755 kB]\n",
            "Get:25 http://security.ubuntu.com/ubuntu bionic-security/restricted amd64 Packages [395 kB]\n",
            "Get:26 http://security.ubuntu.com/ubuntu bionic-security/main amd64 Packages [2,116 kB]\n",
            "Get:27 http://archive.ubuntu.com/ubuntu bionic-updates/main amd64 Packages [2,546 kB]\n",
            "Get:28 http://ppa.launchpad.net/c2d4u.team/c2d4u4.0+/ubuntu bionic/main amd64 Packages [898 kB]\n",
            "Get:29 http://ppa.launchpad.net/deadsnakes/ppa/ubuntu bionic/main amd64 Packages [39.5 kB]\n",
            "Fetched 12.9 MB in 4s (2,880 kB/s)\n",
            "Reading package lists... Done\n",
            "Hit:1 https://cloud.r-project.org/bin/linux/ubuntu bionic-cran40/ InRelease\n",
            "Ign:2 https://developer.download.nvidia.com/compute/cuda/repos/ubuntu1804/x86_64  InRelease\n",
            "Ign:3 https://developer.download.nvidia.com/compute/machine-learning/repos/ubuntu1804/x86_64  InRelease\n",
            "Hit:4 http://security.ubuntu.com/ubuntu bionic-security InRelease\n",
            "Hit:5 https://developer.download.nvidia.com/compute/cuda/repos/ubuntu1804/x86_64  Release\n",
            "Hit:6 https://developer.download.nvidia.com/compute/machine-learning/repos/ubuntu1804/x86_64  Release\n",
            "Hit:8 http://archive.ubuntu.com/ubuntu bionic InRelease\n",
            "Hit:9 http://ppa.launchpad.net/c2d4u.team/c2d4u4.0+/ubuntu bionic InRelease\n",
            "Hit:11 http://download.sgjp.pl/apt/ubuntu bionic InRelease\n",
            "Hit:12 http://archive.ubuntu.com/ubuntu bionic-updates InRelease\n",
            "Hit:13 http://archive.ubuntu.com/ubuntu bionic-backports InRelease\n",
            "Hit:14 http://ppa.launchpad.net/cran/libgit2/ubuntu bionic InRelease\n",
            "Hit:15 http://ppa.launchpad.net/deadsnakes/ppa/ubuntu bionic InRelease\n",
            "Hit:16 http://ppa.launchpad.net/graphics-drivers/ppa/ubuntu bionic InRelease\n",
            "Reading package lists... Done\n",
            "Building dependency tree       \n",
            "Reading state information... Done\n",
            "74 packages can be upgraded. Run 'apt list --upgradable' to see them.\n",
            "Reading package lists... Done\n",
            "Building dependency tree       \n",
            "Reading state information... Done\n",
            "The following additional packages will be installed:\n",
            "  morfeusz2-dictionary-sgjp\n",
            "Suggested packages:\n",
            "  morfeusz2-dictionary-polimorf\n",
            "The following NEW packages will be installed:\n",
            "  libmorfeusz2 morfeusz2-dictionary-sgjp\n",
            "0 upgraded, 2 newly installed, 0 to remove and 74 not upgraded.\n",
            "Need to get 4,857 kB of archives.\n",
            "After this operation, 20.0 MB of additional disk space will be used.\n",
            "Get:1 http://download.sgjp.pl/apt/ubuntu bionic/main amd64 morfeusz2-dictionary-sgjp all 20210418 [4,718 kB]\n",
            "Get:2 http://download.sgjp.pl/apt/ubuntu bionic/main amd64 libmorfeusz2 amd64 1.9.17-18.04 [139 kB]\n",
            "Fetched 4,857 kB in 2s (2,832 kB/s)\n",
            "debconf: unable to initialize frontend: Dialog\n",
            "debconf: (No usable dialog-like program is installed, so the dialog based frontend cannot be used. at /usr/share/perl5/Debconf/FrontEnd/Dialog.pm line 76, <> line 2.)\n",
            "debconf: falling back to frontend: Readline\n",
            "debconf: unable to initialize frontend: Readline\n",
            "debconf: (This frontend requires a controlling tty.)\n",
            "debconf: falling back to frontend: Teletype\n",
            "dpkg-preconfigure: unable to re-open stdin: \n",
            "Selecting previously unselected package morfeusz2-dictionary-sgjp.\n",
            "(Reading database ... 160983 files and directories currently installed.)\n",
            "Preparing to unpack .../morfeusz2-dictionary-sgjp_20210418_all.deb ...\n",
            "Unpacking morfeusz2-dictionary-sgjp (20210418) ...\n",
            "Selecting previously unselected package libmorfeusz2.\n",
            "Preparing to unpack .../libmorfeusz2_1.9.17-18.04_amd64.deb ...\n",
            "Unpacking libmorfeusz2 (1.9.17-18.04) ...\n",
            "Setting up morfeusz2-dictionary-sgjp (20210418) ...\n",
            "Setting up libmorfeusz2 (1.9.17-18.04) ...\n",
            "Processing triggers for libc-bin (2.27-3ubuntu1.2) ...\n",
            "/sbin/ldconfig.real: /usr/local/lib/python3.7/dist-packages/ideep4py/lib/libmkldnn.so.0 is not a symbolic link\n",
            "\n",
            "Reading package lists... Done\n",
            "Building dependency tree       \n",
            "Reading state information... Done\n",
            "The following NEW packages will be installed:\n",
            "  python3-morfeusz2\n",
            "0 upgraded, 1 newly installed, 0 to remove and 74 not upgraded.\n",
            "Need to get 120 kB of archives.\n",
            "After this operation, 518 kB of additional disk space will be used.\n",
            "Get:1 http://download.sgjp.pl/apt/ubuntu bionic/main amd64 python3-morfeusz2 amd64 1.9.17-18.04 [120 kB]\n",
            "Fetched 120 kB in 1s (137 kB/s)\n",
            "debconf: unable to initialize frontend: Dialog\n",
            "debconf: (No usable dialog-like program is installed, so the dialog based frontend cannot be used. at /usr/share/perl5/Debconf/FrontEnd/Dialog.pm line 76, <> line 1.)\n",
            "debconf: falling back to frontend: Readline\n",
            "debconf: unable to initialize frontend: Readline\n",
            "debconf: (This frontend requires a controlling tty.)\n",
            "debconf: falling back to frontend: Teletype\n",
            "dpkg-preconfigure: unable to re-open stdin: \n",
            "Selecting previously unselected package python3-morfeusz2.\n",
            "(Reading database ... 160988 files and directories currently installed.)\n",
            "Preparing to unpack .../python3-morfeusz2_1.9.17-18.04_amd64.deb ...\n",
            "Unpacking python3-morfeusz2 (1.9.17-18.04) ...\n",
            "Setting up python3-morfeusz2 (1.9.17-18.04) ...\n",
            "--2021-04-20 15:07:27--  http://download.sgjp.pl/morfeusz/20210221/Linux/18.04/64/morfeusz2-1.9.17-cp37-cp37m-linux_x86_64.whl\n",
            "Resolving download.sgjp.pl (download.sgjp.pl)... 193.0.67.154\n",
            "Connecting to download.sgjp.pl (download.sgjp.pl)|193.0.67.154|:80... connected.\n",
            "HTTP request sent, awaiting response... 200 OK\n",
            "Length: 830702 (811K)\n",
            "Saving to: ‘morfeusz2-1.9.17-cp37-cp37m-linux_x86_64.whl’\n",
            "\n",
            "morfeusz2-1.9.17-cp 100%[===================>] 811.23K  1.04MB/s    in 0.8s    \n",
            "\n",
            "2021-04-20 15:07:28 (1.04 MB/s) - ‘morfeusz2-1.9.17-cp37-cp37m-linux_x86_64.whl’ saved [830702/830702]\n",
            "\n",
            "Processing ./morfeusz2-1.9.17-cp37-cp37m-linux_x86_64.whl\n",
            "Installing collected packages: morfeusz2\n",
            "  Attempting uninstall: morfeusz2\n",
            "    Found existing installation: morfeusz2 1.9.17\n",
            "    Uninstalling morfeusz2-1.9.17:\n",
            "      Successfully uninstalled morfeusz2-1.9.17\n",
            "Successfully installed morfeusz2-1.9.17\n"
          ],
          "name": "stdout"
        }
      ]
    },
    {
      "cell_type": "markdown",
      "metadata": {
        "id": "JxLI0dXTAoqS"
      },
      "source": [
        "### Klasa `Morfeusz`\n",
        "Biblioteka `morfeusz2` udostępnia klasę `Morfeusz` implementującą analizator i generator morfologiczny ([dokumentacja](http://sgjp.pl/morfeusz/download/Morfeusz2.pdf))."
      ]
    },
    {
      "cell_type": "code",
      "metadata": {
        "id": "2TuwYmzeDIVd"
      },
      "source": [
        "import morfeusz2\n",
        "m = morfeusz2.Morfeusz()"
      ],
      "execution_count": 18,
      "outputs": []
    },
    {
      "cell_type": "markdown",
      "metadata": {
        "id": "15Wp5XbebGFY"
      },
      "source": [
        "### Analiza morfologiczna"
      ]
    },
    {
      "cell_type": "code",
      "metadata": {
        "colab": {
          "base_uri": "https://localhost:8080/"
        },
        "id": "W4GcZGTCFWFO",
        "outputId": "25e36414-b99c-49f7-99b5-087607759ef7"
      },
      "source": [
        "for a in m.analyse('Kolo pojechał na wakacje do Włoch autostopem.'):\n",
        "    print(a)"
      ],
      "execution_count": 19,
      "outputs": [
        {
          "output_type": "stream",
          "text": [
            "(0, 1, ('Kolo', 'kolo', 'subst:sg:nom:m1', ['nazwa_pospolita'], ['pot.']))\n",
            "(0, 1, ('Kolo', 'kolo', 'subst:sg:voc:m1', ['nazwa_pospolita'], ['pot.']))\n",
            "(0, 1, ('Kolo', 'Kolo:s1', 'subst:sg:nom:m1', ['nazwisko'], []))\n",
            "(0, 1, ('Kolo', 'Kolo:s1', 'subst:sg:voc:m1', ['nazwisko'], []))\n",
            "(0, 1, ('Kolo', 'Kolo:s2', 'subst:sg.pl:nom.gen.dat.acc.inst.loc.voc:f', ['nazwisko'], []))\n",
            "(0, 1, ('Kolo', 'kola', 'subst:sg:voc:f', ['nazwa_pospolita'], []))\n",
            "(1, 2, ('pojechał', 'pojechać', 'praet:sg:m1.m2.m3:perf', [], []))\n",
            "(2, 3, ('na', 'na:p', 'prep:acc', [], []))\n",
            "(2, 3, ('na', 'na:p', 'prep:loc', [], []))\n",
            "(2, 3, ('na', 'na:i', 'interj', [], []))\n",
            "(3, 4, ('wakacje', 'wakacje', 'subst:pl:nom.acc.voc:n:pt', ['nazwa_pospolita'], []))\n",
            "(4, 5, ('do', 'do:s', 'subst:sg.pl:nom.gen.dat.acc.inst.loc.voc:n:ncol', ['nazwa_pospolita'], ['muz.']))\n",
            "(4, 5, ('do', 'do:p', 'prep:gen', [], []))\n",
            "(5, 6, ('Włoch', 'Włoch:s1', 'subst:sg:nom:m1', ['nazwa_pospolita'], []))\n",
            "(5, 6, ('Włoch', 'Włoch:s2', 'subst:sg:nom:m1', ['nazwisko'], []))\n",
            "(5, 6, ('Włoch', 'Włoch:s3', 'subst:sg.pl:nom.gen.dat.acc.inst.loc.voc:f', ['nazwisko'], []))\n",
            "(5, 6, ('Włoch', 'Włochy:s1', 'subst:pl:gen:n:pt', ['nazwa_geograficzna'], []))\n",
            "(5, 6, ('Włoch', 'Włochy:s2', 'subst:pl:gen:n:pt', ['nazwa_geograficzna'], []))\n",
            "(6, 7, ('autostopem', 'autostop', 'subst:sg:inst:m3', ['nazwa_pospolita'], []))\n",
            "(7, 8, ('.', '.', 'interp', [], []))\n"
          ],
          "name": "stdout"
        }
      ]
    },
    {
      "cell_type": "markdown",
      "metadata": {
        "id": "gxciox9cBAjK"
      },
      "source": [
        "Graf analizy morfologicznej reprezentowany jest jako lista krotek (`tuple`) . Każda krotka zawiera:\n",
        " * indeks początku segmentu w grafie,\n",
        " * indeks końca segmentu w grafie,\n",
        " * interpretację morfologiczną (zagnieżdżoną krotkę):\n",
        "   * formę tekstową,\n",
        "   * lemat,\n",
        "   * tag (znacznik morfologiczny),\n",
        "   * kategorię nazw własnych,\n",
        "   * listę kwalifikatorów stylistycznych i dziedzinowych."
      ]
    },
    {
      "cell_type": "markdown",
      "metadata": {
        "id": "bfLu8HJEDYFw"
      },
      "source": [
        "Morfeusz domyślnie używa „spakowanej” notacji dla znaczników. Np. `praet:sg:m1.m2.m3:perf` należy odczytać jako skrót dla wszystkich kombinacji wartości oddzielonych kropkami na poszczególnych pozycjach:\n",
        "  * `praet:sg:m1:perf`\n",
        "  * `praet:sg:m2:perf`\n",
        "  * `praet:sg:m3:perf`"
      ]
    },
    {
      "cell_type": "markdown",
      "metadata": {
        "id": "6VRtvru2bNqn"
      },
      "source": [
        "### Generowanie morfologiczne"
      ]
    },
    {
      "cell_type": "code",
      "metadata": {
        "colab": {
          "base_uri": "https://localhost:8080/"
        },
        "id": "K3xosg0ERVYf",
        "outputId": "091da08f-0364-4b0f-d26a-c8848d639611"
      },
      "source": [
        "print(\"Lista form wyrazowych lematu brat:\")\n",
        "for g in m.generate('brat'):\n",
        "    print(g)"
      ],
      "execution_count": 20,
      "outputs": [
        {
          "output_type": "stream",
          "text": [
            "Lista form wyrazowych lematu brat:\n",
            "('brat', 'brat', 'subst:sg:nom:m1', ['nazwa_pospolita'], [])\n",
            "('brata', 'brat', 'subst:sg:gen.acc:m1', ['nazwa_pospolita'], [])\n",
            "('bratu', 'brat', 'subst:sg:dat:m1', ['nazwa_pospolita'], [])\n",
            "('bratem', 'brat', 'subst:sg:inst:m1', ['nazwa_pospolita'], [])\n",
            "('bracie', 'brat', 'subst:sg:loc:m1', ['nazwa_pospolita'], [])\n",
            "('bracie', 'brat', 'subst:sg:voc:m1', ['nazwa_pospolita'], [])\n",
            "('bracia', 'brat', 'subst:pl:nom.voc:m1', ['nazwa_pospolita'], [])\n",
            "('braci', 'brat', 'subst:pl:gen.acc:m1', ['nazwa_pospolita'], [])\n",
            "('braciom', 'brat', 'subst:pl:dat:m1', ['nazwa_pospolita'], [])\n",
            "('braćmi', 'brat', 'subst:pl:inst:m1', ['nazwa_pospolita'], [])\n",
            "('braciach', 'brat', 'subst:pl:loc:m1', ['nazwa_pospolita'], [])\n",
            "('braty', 'brat', 'depr:pl:nom.acc.voc:m2', ['nazwa_pospolita'], [])\n",
            "('b', 'brat', 'brev:pun', [], [])\n"
          ],
          "name": "stdout"
        }
      ]
    },
    {
      "cell_type": "markdown",
      "metadata": {
        "id": "_Os_pc_UZNhG"
      },
      "source": [
        "#  Model morfeuszowy spaCy dla polskiego\n",
        "\n",
        "*   Wymaga zainstalowania biblioteki Morfeusz2\n",
        "*   Tagi i lemmaty zwracane przez Morfeusza są ujednoznaczniane przez tager Toygger\n",
        "*   Modele morfeuszowe spaCy dla polskiego dostępne są na http://zil.ipipan.waw.pl/SpacyPL\n",
        "*   Notatnik z instruktarzem: https://nbviewer.jupyter.org/github/ipipan/spacy-pl/blob/master/spaCy_PL_morfeusz_demo.ipynb\n",
        "\n"
      ]
    },
    {
      "cell_type": "markdown",
      "metadata": {
        "id": "NZNGwLDtbdXP"
      },
      "source": [
        "### Instalacja"
      ]
    },
    {
      "cell_type": "code",
      "metadata": {
        "colab": {
          "base_uri": "https://localhost:8080/"
        },
        "id": "7QfV-1M7ZMb5",
        "outputId": "e1a7274c-4b1d-45c0-d2ce-934a1ede219d"
      },
      "source": [
        "! wget -P zasoby http://mozart.ipipan.waw.pl/~alina/zasoby/data/pl_spacy_model_morfeusz-0.1.3.tar.gz"
      ],
      "execution_count": 21,
      "outputs": [
        {
          "output_type": "stream",
          "text": [
            "--2021-04-20 15:08:45--  http://mozart.ipipan.waw.pl/~alina/zasoby/data/pl_spacy_model_morfeusz-0.1.3.tar.gz\n",
            "Resolving mozart.ipipan.waw.pl (mozart.ipipan.waw.pl)... 213.135.36.148\n",
            "Connecting to mozart.ipipan.waw.pl (mozart.ipipan.waw.pl)|213.135.36.148|:80... connected.\n",
            "HTTP request sent, awaiting response... 200 OK\n",
            "Length: 229068993 (218M) [application/x-gzip]\n",
            "Saving to: ‘zasoby/pl_spacy_model_morfeusz-0.1.3.tar.gz’\n",
            "\n",
            "pl_spacy_model_morf 100%[===================>] 218.46M  17.6MB/s    in 29s     \n",
            "\n",
            "2021-04-20 15:09:14 (7.47 MB/s) - ‘zasoby/pl_spacy_model_morfeusz-0.1.3.tar.gz’ saved [229068993/229068993]\n",
            "\n"
          ],
          "name": "stdout"
        }
      ]
    },
    {
      "cell_type": "code",
      "metadata": {
        "colab": {
          "base_uri": "https://localhost:8080/"
        },
        "id": "Us4ZrIWJauxK",
        "outputId": "8199beb8-19a9-4037-f8bb-4d55027cec8b"
      },
      "source": [
        "! python -m pip install zasoby/pl_spacy_model_morfeusz-0.1.3.tar.gz"
      ],
      "execution_count": 22,
      "outputs": [
        {
          "output_type": "stream",
          "text": [
            "Processing ./zasoby/pl_spacy_model_morfeusz-0.1.3.tar.gz\n",
            "Requirement already satisfied: spacy==2.3.2 in /usr/local/lib/python3.7/dist-packages (from pl-spacy-model-morfeusz==0.1.3) (2.3.2)\n",
            "Collecting distance\n",
            "  Downloading Distance-0.1.3.tar.gz (180 kB)\n",
            "\u001b[K     |████████████████████████████████| 180 kB 8.0 MB/s \n",
            "\u001b[?25hRequirement already satisfied: keras==2.4.3 in /usr/local/lib/python3.7/dist-packages (from pl-spacy-model-morfeusz==0.1.3) (2.4.3)\n",
            "Requirement already satisfied: numpy in /usr/local/lib/python3.7/dist-packages (from pl-spacy-model-morfeusz==0.1.3) (1.19.4)\n",
            "Collecting tensorflow==2.3.1\n",
            "  Downloading tensorflow-2.3.1-cp37-cp37m-manylinux2010_x86_64.whl (320.4 MB)\n",
            "\u001b[K     |████████████████████████████████| 320.4 MB 25 kB/s \n",
            "\u001b[?25hRequirement already satisfied: scipy>=0.14 in /usr/local/lib/python3.7/dist-packages (from keras==2.4.3->pl-spacy-model-morfeusz==0.1.3) (1.4.1)\n",
            "Requirement already satisfied: h5py in /usr/local/lib/python3.7/dist-packages (from keras==2.4.3->pl-spacy-model-morfeusz==0.1.3) (2.10.0)\n",
            "Requirement already satisfied: pyyaml in /usr/local/lib/python3.7/dist-packages (from keras==2.4.3->pl-spacy-model-morfeusz==0.1.3) (3.13)\n",
            "Requirement already satisfied: murmurhash<1.1.0,>=0.28.0 in /usr/local/lib/python3.7/dist-packages (from spacy==2.3.2->pl-spacy-model-morfeusz==0.1.3) (1.0.5)\n",
            "Requirement already satisfied: srsly<1.1.0,>=1.0.2 in /usr/local/lib/python3.7/dist-packages (from spacy==2.3.2->pl-spacy-model-morfeusz==0.1.3) (1.0.5)\n",
            "Requirement already satisfied: thinc==7.4.1 in /usr/local/lib/python3.7/dist-packages (from spacy==2.3.2->pl-spacy-model-morfeusz==0.1.3) (7.4.1)\n",
            "Requirement already satisfied: catalogue<1.1.0,>=0.0.7 in /usr/local/lib/python3.7/dist-packages (from spacy==2.3.2->pl-spacy-model-morfeusz==0.1.3) (1.0.0)\n",
            "Requirement already satisfied: cymem<2.1.0,>=2.0.2 in /usr/local/lib/python3.7/dist-packages (from spacy==2.3.2->pl-spacy-model-morfeusz==0.1.3) (2.0.5)\n",
            "Requirement already satisfied: wasabi<1.1.0,>=0.4.0 in /usr/local/lib/python3.7/dist-packages (from spacy==2.3.2->pl-spacy-model-morfeusz==0.1.3) (0.8.2)\n",
            "Requirement already satisfied: requests<3.0.0,>=2.13.0 in /usr/local/lib/python3.7/dist-packages (from spacy==2.3.2->pl-spacy-model-morfeusz==0.1.3) (2.23.0)\n",
            "Requirement already satisfied: tqdm<5.0.0,>=4.38.0 in /usr/local/lib/python3.7/dist-packages (from spacy==2.3.2->pl-spacy-model-morfeusz==0.1.3) (4.43.0)\n",
            "Requirement already satisfied: setuptools in /usr/local/lib/python3.7/dist-packages (from spacy==2.3.2->pl-spacy-model-morfeusz==0.1.3) (56.0.0)\n",
            "Requirement already satisfied: preshed<3.1.0,>=3.0.2 in /usr/local/lib/python3.7/dist-packages (from spacy==2.3.2->pl-spacy-model-morfeusz==0.1.3) (3.0.5)\n",
            "Requirement already satisfied: plac<1.2.0,>=0.9.6 in /usr/local/lib/python3.7/dist-packages (from spacy==2.3.2->pl-spacy-model-morfeusz==0.1.3) (1.1.3)\n",
            "Requirement already satisfied: blis<0.5.0,>=0.4.0 in /usr/local/lib/python3.7/dist-packages (from spacy==2.3.2->pl-spacy-model-morfeusz==0.1.3) (0.4.1)\n",
            "Requirement already satisfied: astunparse==1.6.3 in /usr/local/lib/python3.7/dist-packages (from tensorflow==2.3.1->pl-spacy-model-morfeusz==0.1.3) (1.6.3)\n",
            "Requirement already satisfied: tensorboard<3,>=2.3.0 in /usr/local/lib/python3.7/dist-packages (from tensorflow==2.3.1->pl-spacy-model-morfeusz==0.1.3) (2.4.1)\n",
            "Requirement already satisfied: google-pasta>=0.1.8 in /usr/local/lib/python3.7/dist-packages (from tensorflow==2.3.1->pl-spacy-model-morfeusz==0.1.3) (0.2.0)\n",
            "Requirement already satisfied: absl-py>=0.7.0 in /usr/local/lib/python3.7/dist-packages (from tensorflow==2.3.1->pl-spacy-model-morfeusz==0.1.3) (0.9.0)\n",
            "Requirement already satisfied: wheel>=0.26 in /usr/local/lib/python3.7/dist-packages (from tensorflow==2.3.1->pl-spacy-model-morfeusz==0.1.3) (0.36.2)\n",
            "Collecting tensorflow-estimator<2.4.0,>=2.3.0\n",
            "  Downloading tensorflow_estimator-2.3.0-py2.py3-none-any.whl (459 kB)\n",
            "\u001b[K     |████████████████████████████████| 459 kB 74.0 MB/s \n",
            "\u001b[?25hCollecting numpy\n",
            "  Downloading numpy-1.18.5-cp37-cp37m-manylinux1_x86_64.whl (20.1 MB)\n",
            "\u001b[K     |████████████████████████████████| 20.1 MB 139 kB/s \n",
            "\u001b[?25hRequirement already satisfied: opt-einsum>=2.3.2 in /usr/local/lib/python3.7/dist-packages (from tensorflow==2.3.1->pl-spacy-model-morfeusz==0.1.3) (3.3.0)\n",
            "Requirement already satisfied: wrapt>=1.11.1 in /usr/local/lib/python3.7/dist-packages (from tensorflow==2.3.1->pl-spacy-model-morfeusz==0.1.3) (1.12.1)\n",
            "Requirement already satisfied: protobuf>=3.9.2 in /usr/local/lib/python3.7/dist-packages (from tensorflow==2.3.1->pl-spacy-model-morfeusz==0.1.3) (3.12.4)\n",
            "Requirement already satisfied: grpcio>=1.8.6 in /usr/local/lib/python3.7/dist-packages (from tensorflow==2.3.1->pl-spacy-model-morfeusz==0.1.3) (1.32.0)\n",
            "Requirement already satisfied: six>=1.12.0 in /usr/local/lib/python3.7/dist-packages (from tensorflow==2.3.1->pl-spacy-model-morfeusz==0.1.3) (1.15.0)\n",
            "Requirement already satisfied: keras-preprocessing<1.2,>=1.1.1 in /usr/local/lib/python3.7/dist-packages (from tensorflow==2.3.1->pl-spacy-model-morfeusz==0.1.3) (1.1.2)\n",
            "Requirement already satisfied: gast==0.3.3 in /usr/local/lib/python3.7/dist-packages (from tensorflow==2.3.1->pl-spacy-model-morfeusz==0.1.3) (0.3.3)\n",
            "Requirement already satisfied: termcolor>=1.1.0 in /usr/local/lib/python3.7/dist-packages (from tensorflow==2.3.1->pl-spacy-model-morfeusz==0.1.3) (1.1.0)\n",
            "Requirement already satisfied: importlib-metadata>=0.20 in /usr/local/lib/python3.7/dist-packages (from catalogue<1.1.0,>=0.0.7->spacy==2.3.2->pl-spacy-model-morfeusz==0.1.3) (3.10.1)\n",
            "Requirement already satisfied: typing-extensions>=3.6.4 in /usr/local/lib/python3.7/dist-packages (from importlib-metadata>=0.20->catalogue<1.1.0,>=0.0.7->spacy==2.3.2->pl-spacy-model-morfeusz==0.1.3) (3.7.4.3)\n",
            "Requirement already satisfied: zipp>=0.5 in /usr/local/lib/python3.7/dist-packages (from importlib-metadata>=0.20->catalogue<1.1.0,>=0.0.7->spacy==2.3.2->pl-spacy-model-morfeusz==0.1.3) (3.4.1)\n",
            "Requirement already satisfied: idna<3,>=2.5 in /usr/local/lib/python3.7/dist-packages (from requests<3.0.0,>=2.13.0->spacy==2.3.2->pl-spacy-model-morfeusz==0.1.3) (2.10)\n",
            "Requirement already satisfied: urllib3!=1.25.0,!=1.25.1,<1.26,>=1.21.1 in /usr/local/lib/python3.7/dist-packages (from requests<3.0.0,>=2.13.0->spacy==2.3.2->pl-spacy-model-morfeusz==0.1.3) (1.25.11)\n",
            "Requirement already satisfied: certifi>=2017.4.17 in /usr/local/lib/python3.7/dist-packages (from requests<3.0.0,>=2.13.0->spacy==2.3.2->pl-spacy-model-morfeusz==0.1.3) (2020.12.5)\n",
            "Requirement already satisfied: chardet<4,>=3.0.2 in /usr/local/lib/python3.7/dist-packages (from requests<3.0.0,>=2.13.0->spacy==2.3.2->pl-spacy-model-morfeusz==0.1.3) (3.0.4)\n",
            "Requirement already satisfied: tensorboard-plugin-wit>=1.6.0 in /usr/local/lib/python3.7/dist-packages (from tensorboard<3,>=2.3.0->tensorflow==2.3.1->pl-spacy-model-morfeusz==0.1.3) (1.8.0)\n",
            "Requirement already satisfied: werkzeug>=0.11.15 in /usr/local/lib/python3.7/dist-packages (from tensorboard<3,>=2.3.0->tensorflow==2.3.1->pl-spacy-model-morfeusz==0.1.3) (1.0.1)\n",
            "Requirement already satisfied: google-auth<2,>=1.6.3 in /usr/local/lib/python3.7/dist-packages (from tensorboard<3,>=2.3.0->tensorflow==2.3.1->pl-spacy-model-morfeusz==0.1.3) (1.28.1)\n",
            "Requirement already satisfied: google-auth-oauthlib<0.5,>=0.4.1 in /usr/local/lib/python3.7/dist-packages (from tensorboard<3,>=2.3.0->tensorflow==2.3.1->pl-spacy-model-morfeusz==0.1.3) (0.4.4)\n",
            "Requirement already satisfied: markdown>=2.6.8 in /usr/local/lib/python3.7/dist-packages (from tensorboard<3,>=2.3.0->tensorflow==2.3.1->pl-spacy-model-morfeusz==0.1.3) (3.3.4)\n",
            "Requirement already satisfied: pyasn1-modules>=0.2.1 in /usr/local/lib/python3.7/dist-packages (from google-auth<2,>=1.6.3->tensorboard<3,>=2.3.0->tensorflow==2.3.1->pl-spacy-model-morfeusz==0.1.3) (0.2.8)\n",
            "Requirement already satisfied: cachetools<5.0,>=2.0.0 in /usr/local/lib/python3.7/dist-packages (from google-auth<2,>=1.6.3->tensorboard<3,>=2.3.0->tensorflow==2.3.1->pl-spacy-model-morfeusz==0.1.3) (4.2.1)\n",
            "Requirement already satisfied: rsa<5,>=3.1.4 in /usr/local/lib/python3.7/dist-packages (from google-auth<2,>=1.6.3->tensorboard<3,>=2.3.0->tensorflow==2.3.1->pl-spacy-model-morfeusz==0.1.3) (4.7.2)\n",
            "Requirement already satisfied: requests-oauthlib>=0.7.0 in /usr/local/lib/python3.7/dist-packages (from google-auth-oauthlib<0.5,>=0.4.1->tensorboard<3,>=2.3.0->tensorflow==2.3.1->pl-spacy-model-morfeusz==0.1.3) (1.3.0)\n",
            "Requirement already satisfied: pyasn1<0.5.0,>=0.4.6 in /usr/local/lib/python3.7/dist-packages (from pyasn1-modules>=0.2.1->google-auth<2,>=1.6.3->tensorboard<3,>=2.3.0->tensorflow==2.3.1->pl-spacy-model-morfeusz==0.1.3) (0.4.8)\n",
            "Requirement already satisfied: oauthlib>=3.0.0 in /usr/local/lib/python3.7/dist-packages (from requests-oauthlib>=0.7.0->google-auth-oauthlib<0.5,>=0.4.1->tensorboard<3,>=2.3.0->tensorflow==2.3.1->pl-spacy-model-morfeusz==0.1.3) (3.1.0)\n",
            "Building wheels for collected packages: pl-spacy-model-morfeusz, distance\n",
            "  Building wheel for pl-spacy-model-morfeusz (setup.py) ... \u001b[?25l\u001b[?25hdone\n",
            "  Created wheel for pl-spacy-model-morfeusz: filename=pl_spacy_model_morfeusz-0.1.3-py3-none-any.whl size=229138613 sha256=df4dcf32fefec4b7f880a895002baab80f658479ed39f27b5f2aca2623a0730f\n",
            "  Stored in directory: /root/.cache/pip/wheels/df/b6/82/18e0acf4596de00048b8b72d620269bc1e68c885f761687417\n",
            "  Building wheel for distance (setup.py) ... \u001b[?25l\u001b[?25hdone\n",
            "  Created wheel for distance: filename=Distance-0.1.3-py3-none-any.whl size=16260 sha256=b2d1f2c2440d4fa079568edf8a8ffd86b90493bebf19c29e973a3a955240e5a7\n",
            "  Stored in directory: /root/.cache/pip/wheels/b2/10/1b/96fca621a1be378e2fe104cfb0d160bb6cdf3d04a3d35266cc\n",
            "Successfully built pl-spacy-model-morfeusz distance\n",
            "Installing collected packages: numpy, tensorflow-estimator, tensorflow, distance, pl-spacy-model-morfeusz\n",
            "  Attempting uninstall: numpy\n",
            "    Found existing installation: numpy 1.19.4\n",
            "    Uninstalling numpy-1.19.4:\n",
            "      Successfully uninstalled numpy-1.19.4\n",
            "  Attempting uninstall: tensorflow-estimator\n",
            "    Found existing installation: tensorflow-estimator 2.4.0\n",
            "    Uninstalling tensorflow-estimator-2.4.0:\n",
            "      Successfully uninstalled tensorflow-estimator-2.4.0\n",
            "  Attempting uninstall: tensorflow\n",
            "    Found existing installation: tensorflow 2.4.1\n",
            "    Uninstalling tensorflow-2.4.1:\n",
            "      Successfully uninstalled tensorflow-2.4.1\n",
            "\u001b[31mERROR: pip's dependency resolver does not currently take into account all the packages that are installed. This behaviour is the source of the following dependency conflicts.\n",
            "torchvision 0.9.1+cu101 requires torch==1.8.1, but you have torch 1.6.0 which is incompatible.\n",
            "torchtext 0.9.1 requires torch==1.8.1, but you have torch 1.6.0 which is incompatible.\n",
            "datascience 0.10.6 requires folium==0.2.1, but you have folium 0.8.3 which is incompatible.\n",
            "combo 1.0.3 requires numpy==1.19.4, but you have numpy 1.18.5 which is incompatible.\n",
            "albumentations 0.1.12 requires imgaug<0.2.7,>=0.2.5, but you have imgaug 0.2.9 which is incompatible.\u001b[0m\n",
            "Successfully installed distance-0.1.3 numpy-1.18.5 pl-spacy-model-morfeusz-0.1.3 tensorflow-2.3.1 tensorflow-estimator-2.3.0\n"
          ],
          "name": "stdout"
        }
      ]
    },
    {
      "cell_type": "code",
      "metadata": {
        "colab": {
          "base_uri": "https://localhost:8080/"
        },
        "id": "l_1Dy43Nw2Ut",
        "outputId": "b1048810-2287-4773-ffdf-594eca7fd47e"
      },
      "source": [
        "!python3 -m spacy link pl_spacy_model_morfeusz pl_spacy_model_morfeusz"
      ],
      "execution_count": 23,
      "outputs": [
        {
          "output_type": "stream",
          "text": [
            "2021-04-20 15:11:07.330350: I tensorflow/stream_executor/platform/default/dso_loader.cc:48] Successfully opened dynamic library libcudart.so.10.1\n",
            "\u001b[38;5;2m✔ Linking successful\u001b[0m\n",
            "/usr/local/lib/python3.7/dist-packages/pl_spacy_model_morfeusz -->\n",
            "/usr/local/lib/python3.7/dist-packages/spacy/data/pl_spacy_model_morfeusz\n",
            "You can now load the model via spacy.load('pl_spacy_model_morfeusz')\n"
          ],
          "name": "stdout"
        }
      ]
    },
    {
      "cell_type": "markdown",
      "metadata": {
        "id": "CuhHbqlWjipS"
      },
      "source": [
        "### Predykcja"
      ]
    },
    {
      "cell_type": "code",
      "metadata": {
        "id": "AFptJjwraveL"
      },
      "source": [
        "import spacy\n",
        "nlp = spacy.load(\"pl_spacy_model_morfeusz\")"
      ],
      "execution_count": 24,
      "outputs": []
    },
    {
      "cell_type": "code",
      "metadata": {
        "id": "wMKqsf14a1nw"
      },
      "source": [
        "doc = nlp(\"To jest słoń, którego sfotografowaliśmy.\")"
      ],
      "execution_count": 25,
      "outputs": []
    },
    {
      "cell_type": "code",
      "metadata": {
        "colab": {
          "base_uri": "https://localhost:8080/"
        },
        "id": "ppzMV2eAa30t",
        "outputId": "423f9eef-ab6f-48f0-b2cc-ae2740795a8d"
      },
      "source": [
        "# Atrubuty tokenów https://spacy.io/api/token\n",
        "print(\"{:15} {:15} {:15} {:15}\".format('SEGMENT', 'LEMAT', 'UPOS', 'TAG'))\n",
        "for token in doc:\n",
        "    print(\"{:15} {:15} {:15} {:15}\".format(token.text, token.lemma_, token.pos_, ':'.join([token.tag_, token._.feats]).rstrip(\":\")))"
      ],
      "execution_count": 26,
      "outputs": [
        {
          "output_type": "stream",
          "text": [
            "SEGMENT         LEMAT           UPOS            TAG            \n",
            "To              to              VERB            pred           \n",
            "jest            być             VERB            fin:sg:ter:imperf\n",
            "słoń            słoń            NOUN            subst:sg:nom:m2\n",
            ",               ,               PUNCT           interp         \n",
            "którego         który           ADJ             adj:sg:acc:m2:pos\n",
            "sfotografowali  sfotografować   VERB            praet:pl:m1:perf\n",
            "śmy             być             AUX             aglt:pl:pri:imperf:nwok\n",
            ".               .               PUNCT           interp         \n"
          ],
          "name": "stdout"
        }
      ]
    },
    {
      "cell_type": "code",
      "metadata": {
        "colab": {
          "base_uri": "https://localhost:8080/"
        },
        "id": "kKlNNb5ngyoz",
        "outputId": "61f77a4b-ed66-44e7-fae7-b80a6c90f4f2"
      },
      "source": [
        "doc2 = nlp(\"Tośmy sfotografowali słonia!\")\n",
        "print(\"{:15} {:15} {:15} {:15}\".format('SEGMENT', 'LEMAT', 'UPOS', 'TAG'))\n",
        "for token in doc2:\n",
        "    print(\"{:15} {:15} {:15} {:15}\".format(token.text, token.lemma_, token.pos_, ':'.join([token.tag_, token._.feats]).rstrip(\":\")))"
      ],
      "execution_count": 27,
      "outputs": [
        {
          "output_type": "stream",
          "text": [
            "SEGMENT         LEMAT           UPOS            TAG            \n",
            "To              to              SCONJ           comp           \n",
            "śmy             być             AUX             aglt:pl:pri:imperf:nwok\n",
            "sfotografowali  sfotografować   VERB            praet:pl:m1:perf\n",
            "słonia          słoń            NOUN            subst:sg:acc:m2\n",
            "!               !               PUNCT           interp         \n"
          ],
          "name": "stdout"
        }
      ]
    },
    {
      "cell_type": "code",
      "metadata": {
        "colab": {
          "base_uri": "https://localhost:8080/"
        },
        "id": "MdXR6qy2AjzM",
        "outputId": "6e737230-0f49-4bee-d414-a9c79fd4901e"
      },
      "source": [
        "!parse-as-conll --model_or_lang 'pl_spacy_model_morfeusz' --input_file 'zasoby/PDBUD_test.txt' --output_file 'predykcje/PDBUD_test_spaCy_Morfeusz.conllu' --include_headers"
      ],
      "execution_count": 28,
      "outputs": [
        {
          "output_type": "stream",
          "text": [
            "2021-04-20 15:16:51.940808: I tensorflow/stream_executor/platform/default/dso_loader.cc:48] Successfully opened dynamic library libcudart.so.10.1\n",
            "2021-04-20 15:16:55.201370: I tensorflow/stream_executor/platform/default/dso_loader.cc:48] Successfully opened dynamic library libcuda.so.1\n",
            "2021-04-20 15:16:55.209261: I tensorflow/stream_executor/cuda/cuda_gpu_executor.cc:982] successful NUMA node read from SysFS had negative value (-1), but there must be at least one NUMA node, so returning NUMA node zero\n",
            "2021-04-20 15:16:55.210346: I tensorflow/core/common_runtime/gpu/gpu_device.cc:1716] Found device 0 with properties: \n",
            "pciBusID: 0000:00:04.0 name: Tesla T4 computeCapability: 7.5\n",
            "coreClock: 1.59GHz coreCount: 40 deviceMemorySize: 14.75GiB deviceMemoryBandwidth: 298.08GiB/s\n",
            "2021-04-20 15:16:55.210402: I tensorflow/stream_executor/platform/default/dso_loader.cc:48] Successfully opened dynamic library libcudart.so.10.1\n",
            "2021-04-20 15:16:55.210470: I tensorflow/stream_executor/platform/default/dso_loader.cc:48] Successfully opened dynamic library libcublas.so.10\n",
            "2021-04-20 15:16:55.210519: I tensorflow/stream_executor/platform/default/dso_loader.cc:48] Successfully opened dynamic library libcufft.so.10\n",
            "2021-04-20 15:16:55.210554: I tensorflow/stream_executor/platform/default/dso_loader.cc:48] Successfully opened dynamic library libcurand.so.10\n",
            "2021-04-20 15:16:55.210589: I tensorflow/stream_executor/platform/default/dso_loader.cc:48] Successfully opened dynamic library libcusolver.so.10\n",
            "2021-04-20 15:16:55.210631: I tensorflow/stream_executor/platform/default/dso_loader.cc:48] Successfully opened dynamic library libcusparse.so.10\n",
            "2021-04-20 15:16:55.210671: I tensorflow/stream_executor/platform/default/dso_loader.cc:48] Successfully opened dynamic library libcudnn.so.7\n",
            "2021-04-20 15:16:55.210738: I tensorflow/stream_executor/cuda/cuda_gpu_executor.cc:982] successful NUMA node read from SysFS had negative value (-1), but there must be at least one NUMA node, so returning NUMA node zero\n",
            "2021-04-20 15:16:55.211508: I tensorflow/stream_executor/cuda/cuda_gpu_executor.cc:982] successful NUMA node read from SysFS had negative value (-1), but there must be at least one NUMA node, so returning NUMA node zero\n",
            "2021-04-20 15:16:55.212212: I tensorflow/core/common_runtime/gpu/gpu_device.cc:1858] Adding visible gpu devices: 0\n",
            "2021-04-20 15:16:55.212522: I tensorflow/core/platform/cpu_feature_guard.cc:142] This TensorFlow binary is optimized with oneAPI Deep Neural Network Library (oneDNN)to use the following CPU instructions in performance-critical operations:  AVX2 FMA\n",
            "To enable them in other operations, rebuild TensorFlow with the appropriate compiler flags.\n",
            "2021-04-20 15:16:55.218413: I tensorflow/core/platform/profile_utils/cpu_utils.cc:104] CPU Frequency: 2199995000 Hz\n",
            "2021-04-20 15:16:55.218600: I tensorflow/compiler/xla/service/service.cc:168] XLA service 0x564409154a00 initialized for platform Host (this does not guarantee that XLA will be used). Devices:\n",
            "2021-04-20 15:16:55.218628: I tensorflow/compiler/xla/service/service.cc:176]   StreamExecutor device (0): Host, Default Version\n",
            "2021-04-20 15:16:55.330166: I tensorflow/stream_executor/cuda/cuda_gpu_executor.cc:982] successful NUMA node read from SysFS had negative value (-1), but there must be at least one NUMA node, so returning NUMA node zero\n",
            "2021-04-20 15:16:55.330922: I tensorflow/compiler/xla/service/service.cc:168] XLA service 0x564409154840 initialized for platform CUDA (this does not guarantee that XLA will be used). Devices:\n",
            "2021-04-20 15:16:55.330972: I tensorflow/compiler/xla/service/service.cc:176]   StreamExecutor device (0): Tesla T4, Compute Capability 7.5\n",
            "2021-04-20 15:16:55.331155: I tensorflow/stream_executor/cuda/cuda_gpu_executor.cc:982] successful NUMA node read from SysFS had negative value (-1), but there must be at least one NUMA node, so returning NUMA node zero\n",
            "2021-04-20 15:16:55.331699: I tensorflow/core/common_runtime/gpu/gpu_device.cc:1716] Found device 0 with properties: \n",
            "pciBusID: 0000:00:04.0 name: Tesla T4 computeCapability: 7.5\n",
            "coreClock: 1.59GHz coreCount: 40 deviceMemorySize: 14.75GiB deviceMemoryBandwidth: 298.08GiB/s\n",
            "2021-04-20 15:16:55.331747: I tensorflow/stream_executor/platform/default/dso_loader.cc:48] Successfully opened dynamic library libcudart.so.10.1\n",
            "2021-04-20 15:16:55.331766: I tensorflow/stream_executor/platform/default/dso_loader.cc:48] Successfully opened dynamic library libcublas.so.10\n",
            "2021-04-20 15:16:55.331783: I tensorflow/stream_executor/platform/default/dso_loader.cc:48] Successfully opened dynamic library libcufft.so.10\n",
            "2021-04-20 15:16:55.331804: I tensorflow/stream_executor/platform/default/dso_loader.cc:48] Successfully opened dynamic library libcurand.so.10\n",
            "2021-04-20 15:16:55.331828: I tensorflow/stream_executor/platform/default/dso_loader.cc:48] Successfully opened dynamic library libcusolver.so.10\n",
            "2021-04-20 15:16:55.331843: I tensorflow/stream_executor/platform/default/dso_loader.cc:48] Successfully opened dynamic library libcusparse.so.10\n",
            "2021-04-20 15:16:55.331865: I tensorflow/stream_executor/platform/default/dso_loader.cc:48] Successfully opened dynamic library libcudnn.so.7\n",
            "2021-04-20 15:16:55.331919: I tensorflow/stream_executor/cuda/cuda_gpu_executor.cc:982] successful NUMA node read from SysFS had negative value (-1), but there must be at least one NUMA node, so returning NUMA node zero\n",
            "2021-04-20 15:16:55.332470: I tensorflow/stream_executor/cuda/cuda_gpu_executor.cc:982] successful NUMA node read from SysFS had negative value (-1), but there must be at least one NUMA node, so returning NUMA node zero\n",
            "2021-04-20 15:16:55.332997: I tensorflow/core/common_runtime/gpu/gpu_device.cc:1858] Adding visible gpu devices: 0\n",
            "2021-04-20 15:16:55.333051: I tensorflow/stream_executor/platform/default/dso_loader.cc:48] Successfully opened dynamic library libcudart.so.10.1\n",
            "2021-04-20 15:16:55.907137: I tensorflow/core/common_runtime/gpu/gpu_device.cc:1257] Device interconnect StreamExecutor with strength 1 edge matrix:\n",
            "2021-04-20 15:16:55.907209: I tensorflow/core/common_runtime/gpu/gpu_device.cc:1263]      0 \n",
            "2021-04-20 15:16:55.907220: I tensorflow/core/common_runtime/gpu/gpu_device.cc:1276] 0:   N \n",
            "2021-04-20 15:16:55.907374: I tensorflow/stream_executor/cuda/cuda_gpu_executor.cc:982] successful NUMA node read from SysFS had negative value (-1), but there must be at least one NUMA node, so returning NUMA node zero\n",
            "2021-04-20 15:16:55.907969: I tensorflow/stream_executor/cuda/cuda_gpu_executor.cc:982] successful NUMA node read from SysFS had negative value (-1), but there must be at least one NUMA node, so returning NUMA node zero\n",
            "2021-04-20 15:16:55.908467: W tensorflow/core/common_runtime/gpu/gpu_bfc_allocator.cc:39] Overriding allow_growth setting because the TF_FORCE_GPU_ALLOW_GROWTH environment variable is set. Original config value was 0.\n",
            "2021-04-20 15:16:55.908511: I tensorflow/core/common_runtime/gpu/gpu_device.cc:1402] Created TensorFlow device (/job:localhost/replica:0/task:0/device:GPU:0 with 13297 MB memory) -> physical GPU (device: 0, name: Tesla T4, pci bus id: 0000:00:04.0, compute capability: 7.5)\n",
            "2021-04-20 15:17:03.853112: I tensorflow/stream_executor/platform/default/dso_loader.cc:48] Successfully opened dynamic library libcublas.so.10\n",
            "2021-04-20 15:17:04.168083: I tensorflow/stream_executor/platform/default/dso_loader.cc:48] Successfully opened dynamic library libcudnn.so.7\n"
          ],
          "name": "stdout"
        }
      ]
    },
    {
      "cell_type": "code",
      "metadata": {
        "colab": {
          "base_uri": "https://localhost:8080/"
        },
        "id": "Q031_R84X5q5",
        "outputId": "c92e2b1e-594c-4d7d-fa05-52dcf5455952"
      },
      "source": [
        "!head -n 50 predykcje/PDBUD_test_spaCy_Morfeusz.conllu"
      ],
      "execution_count": 29,
      "outputs": [
        {
          "output_type": "stream",
          "text": [
            "# sent_id = 1\n",
            "# text = Mężczyzna w czapce kuca na chodniku pod ścianą budynku, a koło niego jest pięć kotów.\n",
            "1\tMężczyzna\tmężczyzna\tNOUN\tsubst\t_\t4\tnsubj\t_\t_\n",
            "2\tw\tw\tADP\tprep\t_\t3\tcase\t_\t_\n",
            "3\tczapce\tczapka\tNOUN\tsubst\t_\t1\tnmod\t_\t_\n",
            "4\tkuca\tkucać\tVERB\tfin\t_\t0\tROOT\t_\t_\n",
            "5\tna\tna\tADP\tprep\t_\t6\tcase\t_\t_\n",
            "6\tchodniku\tchodnik\tNOUN\tsubst\t_\t4\tobl\t_\t_\n",
            "7\tpod\tpod\tADP\tprep\t_\t8\tcase\t_\t_\n",
            "8\tścianą\tściana\tNOUN\tsubst\t_\t4\tobl\t_\t_\n",
            "9\tbudynku\tbudynek\tNOUN\tsubst\t_\t8\tnmod\t_\tSpaceAfter=No\n",
            "10\t,\t,\tPUNCT\tinterp\t_\t14\tpunct\t_\t_\n",
            "11\ta\ta\tCCONJ\tconj\t_\t14\tcc\t_\t_\n",
            "12\tkoło\tkoło\tADP\tprep\t_\t13\tcase\t_\t_\n",
            "13\tniego\ton\tPRON\tppron3\t_\t14\tobl\t_\t_\n",
            "14\tjest\tbyć\tVERB\tfin\t_\t4\tconj\t_\t_\n",
            "15\tpięć\tpięć\tNUM\tnum\t_\t16\tnummod:gov\t_\t_\n",
            "16\tkotów\tkot\tNOUN\tsubst\t_\t14\tnsubj\t_\tSpaceAfter=No\n",
            "17\t.\t.\tPUNCT\tinterp\t_\t4\tpunct\t_\tSpaceAfter=No\n",
            "\n",
            "# sent_id = 2\n",
            "# text = Chłopak biegnie, asekurując jadącego obok rowerem chłopca w kasku na głowie.\n",
            "1\tChłopak\tchłopak\tNOUN\tsubst\t_\t2\tnsubj\t_\t_\n",
            "2\tbiegnie\tbiec\tVERB\tfin\t_\t0\tROOT\t_\tSpaceAfter=No\n",
            "3\t,\t,\tPUNCT\tinterp\t_\t4\tpunct\t_\t_\n",
            "4\tasekurując\tasekurować\tVERB\tpcon\t_\t2\tadvcl\t_\t_\n",
            "5\tjadącego\tjechać\tVERB\tpact\t_\t8\tacl\t_\t_\n",
            "6\tobok\tobok\tADV\tadv\t_\t7\tcase\t_\t_\n",
            "7\trowerem\trower\tNOUN\tsubst\t_\t5\tobl\t_\t_\n",
            "8\tchłopca\tchłopiec\tNOUN\tsubst\t_\t4\tobj\t_\t_\n",
            "9\tw\tw\tADP\tprep\t_\t10\tcase\t_\t_\n",
            "10\tkasku\tkask\tNOUN\tsubst\t_\t8\tnmod\t_\t_\n",
            "11\tna\tna\tADP\tprep\t_\t12\tcase\t_\t_\n",
            "12\tgłowie\tgłowa\tNOUN\tsubst\t_\t10\tnmod\t_\tSpaceAfter=No\n",
            "13\t.\t.\tPUNCT\tinterp\t_\t2\tpunct\t_\tSpaceAfter=No\n",
            "\n",
            "# sent_id = 3\n",
            "# text = Kilkanaście dziewczynek w białych sukienkach i kokardach na głowie stoi obok siebie na scenie.\n",
            "1\tKilkanaście\tkilkanaście\tNUM\tnum\t_\t2\tdet:numgov\t_\t_\n",
            "2\tdziewczynek\tdziewczynka\tNOUN\tsubst\t_\t10\tnsubj\t_\t_\n",
            "3\tw\tw\tADP\tprep\t_\t5\tcase\t_\t_\n",
            "4\tbiałych\tbiały\tADJ\tadj\t_\t5\tamod\t_\t_\n",
            "5\tsukienkach\tsukienka\tNOUN\tsubst\t_\t2\tnmod\t_\t_\n",
            "6\ti\ti\tCCONJ\tconj\t_\t7\tcc\t_\t_\n",
            "7\tkokardach\tkokarda\tNOUN\tsubst\t_\t5\tconj\t_\t_\n",
            "8\tna\tna\tADP\tprep\t_\t9\tcase\t_\t_\n",
            "9\tgłowie\tgłowa\tNOUN\tsubst\t_\t7\tnmod\t_\t_\n",
            "10\tstoi\tstać\tVERB\tfin\t_\t0\tROOT\t_\t_\n",
            "11\tobok\tobok\tADP\tprep\t_\t12\tcase\t_\t_\n",
            "12\tsiebie\tsiebie\tPRON\tsiebie\t_\t10\tobl\t_\t_\n"
          ],
          "name": "stdout"
        }
      ]
    },
    {
      "cell_type": "markdown",
      "metadata": {
        "id": "nI6cpGRSl58_"
      },
      "source": [
        "# COMBO\n",
        "\n",
        "*  COMBO to niezależny od języka system wstępnego przetwarzania języka naturalnego, który wykorzystuje algorytmy sieci neuronowych.\n",
        "*  Moduły COMBO:\n",
        " * tager (predykcja uniwersalnych części mowy i specyficznych dla języka tagów),\n",
        " * analizator morfologiczny (predykcja list cech gramatycznych), \n",
        " * lematyzator (predykcja lematów),\n",
        " * parser zależnościowy (predykcja krawędzi w drzewie i etykiet, tj. typów relacji zależnościowych),\n",
        " * moduł etykietowania ról semantycznych (predykcja ról semantycznych, np. Time, Place, Recipient),\n",
        " * moduł obliczanie zanurzeń zdań (ang. sentence embeddings).\n",
        "*  OUTDATED! https://github.com/ipipan/combo\n",
        "*  https://gitlab.clarin-pl.eu/syntactic-tools/combo\n",
        "*  Zalety COMBO:\n",
        " *  łatwy do instalacji pakiet Pythonowy oparty na platformie AllenNLP i bibliotece PyTorch,\n",
        " *  łatwy do konfigurowania system, który umożliwia trenowanie modeli różniących się zakresem cech wejściowych, zakresem predykcji, rodzajem reprezentowania danych wejściowych (np. zanurzenia typu fastText, BERT),\n",
        " *  pozwala na trenowanie modeli na bankach drzew zależnościowych w formacie CoNLL (drzewa mogą być zaanotowane zgodnie ze schematem UD albo innym, specyficznym dla języka),\n",
        " *  system typu end-to-end z równocześnie trenowanymi modułami predykcyjnymi, dlatego trenowanie COMBO jest znacznie szybsze niż ,,potokowe” trenowanie systemów (np. Stanza)."
      ]
    },
    {
      "cell_type": "markdown",
      "metadata": {
        "id": "0SkDX_V5ip0l"
      },
      "source": [
        "### UPDATE! Instalacja\n",
        "\n",
        "*   Aktualizacja sposobu instalowania COMBO\n",
        "*   Aktualizacja sposobu pobierania modeli\n",
        "*   Lista dostępnych modeli jest tutaj https://gitlab.clarin-pl.eu/syntactic-tools/combo/-/blob/master/docs/performance.md\n",
        "*   System COMBO jest ciągle udoskonalany. Najbardziej aktualnym źródłem informacji jest repozytorium projektowe COMBO https://gitlab.clarin-pl.eu/syntactic-tools/combo/-/tree/master\n",
        "\n"
      ]
    },
    {
      "cell_type": "code",
      "metadata": {
        "id": "epKjjcpP1JNm"
      },
      "source": [
        "# Pobieramy instalację COMBO skompilowaną w środowisku wirtualnym\n",
        "# OUTDATED !wget -P zasoby http://mozart.ipipan.waw.pl/~alina/zasoby/data/COMBO-0.0.1.tar.gz "
      ],
      "execution_count": null,
      "outputs": []
    },
    {
      "cell_type": "code",
      "metadata": {
        "id": "-Gyjzg3Z5MH1"
      },
      "source": [
        "# OUTDATED !python -m pip install urllib3==1.25.11"
      ],
      "execution_count": null,
      "outputs": []
    },
    {
      "cell_type": "code",
      "metadata": {
        "id": "Y6JCpCsJ1zn7"
      },
      "source": [
        "#  OUTDATED! python -m pip install zasoby/COMBO-0.0.1.tar.gz"
      ],
      "execution_count": null,
      "outputs": []
    },
    {
      "cell_type": "code",
      "metadata": {
        "id": "ByI3A-bGu96c"
      },
      "source": [
        "# Pythonowa wersja COMBO, która jest zintegrowana z modelem segmentacji spaCy dla angielskiego (dzieli po spacjach)\n",
        "# OUTDATED import combo.predict as predict"
      ],
      "execution_count": null,
      "outputs": []
    },
    {
      "cell_type": "code",
      "metadata": {
        "id": "SitTznMzw9vL"
      },
      "source": [
        "# Wczytujemy model COMBO wspomagany kontekstowymi zanurzeniami słownymi z modelu HerBERT https://huggingface.co/allegro/herbert-base-cased\n",
        "# OUTDATED nlp = predict.SemanticMultitaskPredictor.from_pretrained(\"polish-herbert-base\")"
      ],
      "execution_count": null,
      "outputs": []
    },
    {
      "cell_type": "code",
      "metadata": {
        "colab": {
          "base_uri": "https://localhost:8080/"
        },
        "id": "s2XZUJJ24IWy",
        "outputId": "76409da8-93a5-44c4-c989-37ca39c6b386"
      },
      "source": [
        "# UPDATE Import pakietu COMBO\n",
        "from combo.predict import COMBO"
      ],
      "execution_count": 30,
      "outputs": [
        {
          "output_type": "stream",
          "text": [
            "/usr/local/lib/python3.7/dist-packages/spacy/util.py:275: UserWarning: [W031] Model 'en_core_web_sm' (2.2.5) requires spaCy v2.2 and is incompatible with the current spaCy version (2.3.2). This may lead to unexpected results or runtime errors. To resolve this, download a newer compatible model or retrain your custom model with the current spaCy version. For more details and available updates, run: python -m spacy validate\n",
            "  warnings.warn(warn_msg)\n"
          ],
          "name": "stderr"
        }
      ]
    },
    {
      "cell_type": "code",
      "metadata": {
        "colab": {
          "base_uri": "https://localhost:8080/",
          "height": 248,
          "referenced_widgets": [
            "028a419a58d1454ba9ae9e078b27500e",
            "74aaa98c740148ccbf99c051c4796c04",
            "544bcc3e615d48e59130f89b38128f0d",
            "bda79d093a544019befe247717b1085e",
            "3b9ec41adcb047789c82efa301614642",
            "8d6ca080f0cf49879d4f5e28c50a2a9d",
            "b7a25cf1942b44ec91e39a53846e22cc",
            "88d2aaf60f8a48dcaf19c36478fb1ad0",
            "ed34dbaa534f4c4a85c802ea267e1d51",
            "03b19867ad454102adf59d3705d7645b",
            "6c0fbe90c71a49d094376e2ab3949f79",
            "e0ed4219aa1943228fc9b040255c6710",
            "0a9ac02b6442442d90af0bec6ec71464",
            "e8960964bb014a77889c0dc3acd7eb35",
            "935b4e78b8774f6e92f2363f30817e89",
            "77721d76226145bbbde17964074ab3a2",
            "926a4e83927c465283abebd238f3c847",
            "f2fda64ffdb9453293f0dc71b5e5814f",
            "e16a8230e5f044e9be0d9de72cad8cb7",
            "b49dde36e10e44b1b82df1e3400e78e2",
            "4782f987ff084b9fb7f82bf5849b3ad7",
            "51b6a0c150464300890b9c5216269456",
            "de919411e1c34e9a842461fdd87fa19c",
            "f86154d3d7f94d5d913f031d8f4244bf",
            "92db7063bd5046c8830699366e03fae4",
            "e729a04950bf47d898d5f525d11be416",
            "017c029636fd432a80b252003017675e",
            "f4026a68ffb74807bc394c83345f295a",
            "2f71ca76827f4e8dbfcc704fb57cdbc8",
            "05b640ad48874fc5ae7c944cb5726f62",
            "cf9d24eeb02a427094d051192474d4b5",
            "49c4c359f2bd4ab89b87f8250e069ca3"
          ]
        },
        "id": "QFffgMBc4OfZ",
        "outputId": "d8748602-511e-4db6-a576-6525d8d11261"
      },
      "source": [
        "# UPDATE Pobranie modelu przy pomocy metody from_pretrained\n",
        "# Należy podać nazwę wybranego modelu.\n",
        "# Jeśli nie ma GPU, to cuda_device=-1\n",
        "# Model polish-herbert-base jest wspomagany kontekstowymi zanurzeniami typu BERT\n",
        "combo = COMBO.from_pretrained(\"polish-herbert-base\", cuda_device=0)"
      ],
      "execution_count": 31,
      "outputs": [
        {
          "output_type": "stream",
          "text": [
            "100%|██████████| 323M/323M [00:25<00:00, 13.2MB/s]\n"
          ],
          "name": "stderr"
        },
        {
          "output_type": "display_data",
          "data": {
            "application/vnd.jupyter.widget-view+json": {
              "model_id": "028a419a58d1454ba9ae9e078b27500e",
              "version_minor": 0,
              "version_major": 2
            },
            "text/plain": [
              "HBox(children=(FloatProgress(value=0.0, description='Downloading', max=472.0, style=ProgressStyle(description_…"
            ]
          },
          "metadata": {
            "tags": []
          }
        },
        {
          "output_type": "stream",
          "text": [
            "\n"
          ],
          "name": "stdout"
        },
        {
          "output_type": "display_data",
          "data": {
            "application/vnd.jupyter.widget-view+json": {
              "model_id": "ed34dbaa534f4c4a85c802ea267e1d51",
              "version_minor": 0,
              "version_major": 2
            },
            "text/plain": [
              "HBox(children=(FloatProgress(value=0.0, description='Downloading', max=906984.0, style=ProgressStyle(descripti…"
            ]
          },
          "metadata": {
            "tags": []
          }
        },
        {
          "output_type": "stream",
          "text": [
            "\n"
          ],
          "name": "stdout"
        },
        {
          "output_type": "display_data",
          "data": {
            "application/vnd.jupyter.widget-view+json": {
              "model_id": "926a4e83927c465283abebd238f3c847",
              "version_minor": 0,
              "version_major": 2
            },
            "text/plain": [
              "HBox(children=(FloatProgress(value=0.0, description='Downloading', max=555571.0, style=ProgressStyle(descripti…"
            ]
          },
          "metadata": {
            "tags": []
          }
        },
        {
          "output_type": "stream",
          "text": [
            "\n"
          ],
          "name": "stdout"
        },
        {
          "output_type": "display_data",
          "data": {
            "application/vnd.jupyter.widget-view+json": {
              "model_id": "92db7063bd5046c8830699366e03fae4",
              "version_minor": 0,
              "version_major": 2
            },
            "text/plain": [
              "HBox(children=(FloatProgress(value=0.0, description='Downloading', max=654201076.0, style=ProgressStyle(descri…"
            ]
          },
          "metadata": {
            "tags": []
          }
        },
        {
          "output_type": "stream",
          "text": [
            "\n"
          ],
          "name": "stdout"
        }
      ]
    },
    {
      "cell_type": "code",
      "metadata": {
        "id": "quDWHqGcxNbU"
      },
      "source": [
        "sentence = combo(\"To jest słoń, którego sfotografowaliśmy.\")"
      ],
      "execution_count": 32,
      "outputs": []
    },
    {
      "cell_type": "code",
      "metadata": {
        "colab": {
          "base_uri": "https://localhost:8080/"
        },
        "id": "soHXqzBtxPJY",
        "outputId": "3eadab2d-df43-42dd-ce1a-ee72cc2915a6"
      },
      "source": [
        "print(\"{:20} {:20} {:15} {:20} {:15}\".format('SEGMENT', 'LEMAT', 'UPOS', 'XPOS', 'FEATS'))\n",
        "for token in sentence.tokens:\n",
        "    print(\"{:20} {:20} {:15} {:20} {:15}\".format(token.token, token.lemma, token.upostag, token.xpostag, token.feats))"
      ],
      "execution_count": 33,
      "outputs": [
        {
          "output_type": "stream",
          "text": [
            "SEGMENT              LEMAT                UPOS            XPOS                 FEATS          \n",
            "To                   to                   AUX             pred                 Mood=Ind|Tense=Pres|VerbForm=Fin|VerbType=Quasi\n",
            "jest                 być                  AUX             fin:sg:ter:imperf    Aspect=Imp|Mood=Ind|Number=Sing|Person=3|Tense=Pres|VerbForm=Fin|Voice=Act\n",
            "słoń                 słoń                 NOUN            subst:sg:nom:m2      Animacy=Nhum|Case=Nom|Gender=Masc|Number=Sing\n",
            ",                    ,                    PUNCT           interp               PunctType=Comm \n",
            "którego              który                DET             adj:sg:acc:m1:pos    Animacy=Nhum|Case=Acc|Gender=Masc|Number=Sing|PronType=Rel\n",
            "sfotografowaliśmy    sfotografowalis      VERB            fin:pl:pri:perf      Aspect=Perf|Mood=Ind|Number=Plur|Person=1|Tense=Fut|VerbForm=Fin|Voice=Act\n",
            ".                    .                    PUNCT           interp               PunctType=Peri \n"
          ],
          "name": "stdout"
        }
      ]
    },
    {
      "cell_type": "markdown",
      "metadata": {
        "id": "JKV5zHZKx7pU"
      },
      "source": [
        "Konsolowa wersja COMBO wymaga pobrania modelu COMBO"
      ]
    },
    {
      "cell_type": "code",
      "metadata": {
        "colab": {
          "base_uri": "https://localhost:8080/"
        },
        "id": "T4Zv0-grx6iM",
        "outputId": "8ff81428-225c-4f80-ae3d-0693fbc684de"
      },
      "source": [
        "# model COMBO \n",
        "! wget -P zasoby http://mozart.ipipan.waw.pl/~mklimaszewski/models/polish-herbert-base.tar.gz"
      ],
      "execution_count": 34,
      "outputs": [
        {
          "output_type": "stream",
          "text": [
            "--2021-04-20 15:29:36--  http://mozart.ipipan.waw.pl/~mklimaszewski/models/polish-herbert-base.tar.gz\n",
            "Resolving mozart.ipipan.waw.pl (mozart.ipipan.waw.pl)... 213.135.36.148\n",
            "Connecting to mozart.ipipan.waw.pl (mozart.ipipan.waw.pl)|213.135.36.148|:80... connected.\n",
            "HTTP request sent, awaiting response... 200 OK\n",
            "Length: 338807742 (323M) [application/x-gzip]\n",
            "Saving to: ‘zasoby/polish-herbert-base.tar.gz’\n",
            "\n",
            "polish-herbert-base 100%[===================>] 323.11M  17.6MB/s    in 32s     \n",
            "\n",
            "2021-04-20 15:30:09 (10.0 MB/s) - ‘zasoby/polish-herbert-base.tar.gz’ saved [338807742/338807742]\n",
            "\n"
          ],
          "name": "stdout"
        }
      ]
    },
    {
      "cell_type": "code",
      "metadata": {
        "colab": {
          "base_uri": "https://localhost:8080/"
        },
        "id": "akPF1w0iyULZ",
        "outputId": "db4a3541-eac1-4021-b7b8-9704275d2fb0"
      },
      "source": [
        "# korpus wzorcowy\n",
        "! wget -P zasoby http://mozart.ipipan.waw.pl/~alina/zasoby/data/PDBUD_test.conllu"
      ],
      "execution_count": 35,
      "outputs": [
        {
          "output_type": "stream",
          "text": [
            "--2021-04-20 15:30:12--  http://mozart.ipipan.waw.pl/~alina/zasoby/data/PDBUD_test.conllu\n",
            "Resolving mozart.ipipan.waw.pl (mozart.ipipan.waw.pl)... 213.135.36.148\n",
            "Connecting to mozart.ipipan.waw.pl (mozart.ipipan.waw.pl)|213.135.36.148|:80... connected.\n",
            "HTTP request sent, awaiting response... 200 OK\n",
            "Length: 3486186 (3.3M)\n",
            "Saving to: ‘zasoby/PDBUD_test.conllu’\n",
            "\n",
            "PDBUD_test.conllu   100%[===================>]   3.32M  2.66MB/s    in 1.2s    \n",
            "\n",
            "2021-04-20 15:30:14 (2.66 MB/s) - ‘zasoby/PDBUD_test.conllu’ saved [3486186/3486186]\n",
            "\n"
          ],
          "name": "stdout"
        }
      ]
    },
    {
      "cell_type": "code",
      "metadata": {
        "id": "TvmkSmL99i8U",
        "colab": {
          "base_uri": "https://localhost:8080/"
        },
        "outputId": "14bf608d-7619-4095-b52e-951c358ef6df"
      },
      "source": [
        "!combo --mode predict --model_path zasoby/polish-herbert-base.tar.gz --input_file zasoby/PDBUD_test.conllu --output_file predykcje/segmentatacja_gold/PDBUD_test_COMBO.conllu"
      ],
      "execution_count": 36,
      "outputs": [
        {
          "output_type": "stream",
          "text": [
            "2021-04-20 15:30:21.003360: I tensorflow/stream_executor/platform/default/dso_loader.cc:48] Successfully opened dynamic library libcudart.so.10.1\n",
            "/usr/local/lib/python3.7/dist-packages/spacy/util.py:275: UserWarning: [W031] Model 'en_core_web_sm' (2.2.5) requires spaCy v2.2 and is incompatible with the current spaCy version (2.3.2). This may lead to unexpected results or runtime errors. To resolve this, download a newer compatible model or retrain your custom model with the current spaCy version. For more details and available updates, run: python -m spacy validate\n",
            "  warnings.warn(warn_msg)\n",
            "I0420 15:30:24.821516 140528205789056 archival.py:184] loading archive file zasoby/polish-herbert-base.tar.gz\n",
            "I0420 15:30:24.821854 140528205789056 archival.py:263] extracting archive file zasoby/polish-herbert-base.tar.gz to temp dir /tmp/tmp7bzt_6p6\n",
            "I0420 15:30:30.591136 140528205789056 params.py:248] dataset_reader.type = conllu\n",
            "I0420 15:30:30.591542 140528205789056 params.py:248] dataset_reader.lazy = False\n",
            "I0420 15:30:30.591677 140528205789056 params.py:248] dataset_reader.cache_directory = None\n",
            "I0420 15:30:30.591768 140528205789056 params.py:248] dataset_reader.max_instances = None\n",
            "I0420 15:30:30.591836 140528205789056 params.py:248] dataset_reader.manual_distributed_sharding = False\n",
            "I0420 15:30:30.591908 140528205789056 params.py:248] dataset_reader.manual_multi_process_sharding = False\n",
            "I0420 15:30:30.592230 140528205789056 params.py:248] dataset_reader.token_indexers.char.type = characters_const_padding\n",
            "I0420 15:30:30.592424 140528205789056 params.py:248] dataset_reader.token_indexers.char.namespace = token_characters\n",
            "I0420 15:30:30.592653 140528205789056 params.py:248] dataset_reader.token_indexers.char.character_tokenizer.byte_encoding = None\n",
            "I0420 15:30:30.592735 140528205789056 params.py:248] dataset_reader.token_indexers.char.character_tokenizer.lowercase_characters = False\n",
            "I0420 15:30:30.592877 140528205789056 params.py:248] dataset_reader.token_indexers.char.character_tokenizer.start_tokens = ['__START__']\n",
            "I0420 15:30:30.593038 140528205789056 params.py:248] dataset_reader.token_indexers.char.character_tokenizer.end_tokens = ['__END__']\n",
            "I0420 15:30:30.593174 140528205789056 params.py:248] dataset_reader.token_indexers.char.start_tokens = None\n",
            "I0420 15:30:30.593247 140528205789056 params.py:248] dataset_reader.token_indexers.char.end_tokens = None\n",
            "I0420 15:30:30.593332 140528205789056 params.py:248] dataset_reader.token_indexers.char.min_padding_length = 32\n",
            "I0420 15:30:30.593406 140528205789056 params.py:248] dataset_reader.token_indexers.char.token_min_padding_length = 0\n",
            "I0420 15:30:30.593583 140528205789056 params.py:248] dataset_reader.token_indexers.feats.type = feats_indexer\n",
            "I0420 15:30:30.593776 140528205789056 params.py:248] dataset_reader.token_indexers.feats.namespace = feats\n",
            "I0420 15:30:30.593854 140528205789056 params.py:248] dataset_reader.token_indexers.feats.feature_name = feats_\n",
            "I0420 15:30:30.593931 140528205789056 params.py:248] dataset_reader.token_indexers.feats.token_min_padding_length = 0\n",
            "I0420 15:30:30.594114 140528205789056 params.py:248] dataset_reader.token_indexers.lemma.type = characters_const_padding\n",
            "I0420 15:30:30.594308 140528205789056 params.py:248] dataset_reader.token_indexers.lemma.namespace = token_characters\n",
            "I0420 15:30:30.594526 140528205789056 params.py:248] dataset_reader.token_indexers.lemma.character_tokenizer.byte_encoding = None\n",
            "I0420 15:30:30.594602 140528205789056 params.py:248] dataset_reader.token_indexers.lemma.character_tokenizer.lowercase_characters = False\n",
            "I0420 15:30:30.594693 140528205789056 params.py:248] dataset_reader.token_indexers.lemma.character_tokenizer.start_tokens = ['__START__']\n",
            "I0420 15:30:30.594820 140528205789056 params.py:248] dataset_reader.token_indexers.lemma.character_tokenizer.end_tokens = ['__END__']\n",
            "I0420 15:30:30.594954 140528205789056 params.py:248] dataset_reader.token_indexers.lemma.start_tokens = None\n",
            "I0420 15:30:30.595024 140528205789056 params.py:248] dataset_reader.token_indexers.lemma.end_tokens = None\n",
            "I0420 15:30:30.595101 140528205789056 params.py:248] dataset_reader.token_indexers.lemma.min_padding_length = 32\n",
            "I0420 15:30:30.595173 140528205789056 params.py:248] dataset_reader.token_indexers.lemma.token_min_padding_length = 0\n",
            "I0420 15:30:30.595344 140528205789056 params.py:248] dataset_reader.token_indexers.token.type = pretrained_transformer_mismatched_fixed\n",
            "I0420 15:30:30.595580 140528205789056 params.py:248] dataset_reader.token_indexers.token.token_min_padding_length = 0\n",
            "I0420 15:30:30.595675 140528205789056 params.py:248] dataset_reader.token_indexers.token.model_name = allegro/herbert-base-cased\n",
            "I0420 15:30:30.595748 140528205789056 params.py:248] dataset_reader.token_indexers.token.namespace = tags\n",
            "I0420 15:30:30.595815 140528205789056 params.py:248] dataset_reader.token_indexers.token.max_length = None\n",
            "I0420 15:30:30.595956 140528205789056 params.py:384] dataset_reader.token_indexers.token.tokenizer_kwargs.use_fast = False\n",
            "I0420 15:30:31.554348 140528205789056 params.py:248] dataset_reader.token_indexers.upostag.type = single_id\n",
            "I0420 15:30:31.554722 140528205789056 params.py:248] dataset_reader.token_indexers.upostag.namespace = upostag\n",
            "I0420 15:30:31.554831 140528205789056 params.py:248] dataset_reader.token_indexers.upostag.lowercase_tokens = False\n",
            "I0420 15:30:31.554909 140528205789056 params.py:248] dataset_reader.token_indexers.upostag.start_tokens = None\n",
            "I0420 15:30:31.554987 140528205789056 params.py:248] dataset_reader.token_indexers.upostag.end_tokens = None\n",
            "I0420 15:30:31.555060 140528205789056 params.py:248] dataset_reader.token_indexers.upostag.feature_name = pos_\n",
            "I0420 15:30:31.555134 140528205789056 params.py:248] dataset_reader.token_indexers.upostag.default_value = THIS IS A REALLY UNLIKELY VALUE THAT HAS TO BE A STRING\n",
            "I0420 15:30:31.555211 140528205789056 params.py:248] dataset_reader.token_indexers.upostag.token_min_padding_length = 0\n",
            "I0420 15:30:31.555402 140528205789056 params.py:248] dataset_reader.token_indexers.xpostag.type = single_id\n",
            "I0420 15:30:31.555602 140528205789056 params.py:248] dataset_reader.token_indexers.xpostag.namespace = xpostag\n",
            "I0420 15:30:31.555696 140528205789056 params.py:248] dataset_reader.token_indexers.xpostag.lowercase_tokens = False\n",
            "I0420 15:30:31.555778 140528205789056 params.py:248] dataset_reader.token_indexers.xpostag.start_tokens = None\n",
            "I0420 15:30:31.555849 140528205789056 params.py:248] dataset_reader.token_indexers.xpostag.end_tokens = None\n",
            "I0420 15:30:31.555921 140528205789056 params.py:248] dataset_reader.token_indexers.xpostag.feature_name = tag_\n",
            "I0420 15:30:31.556003 140528205789056 params.py:248] dataset_reader.token_indexers.xpostag.default_value = THIS IS A REALLY UNLIKELY VALUE THAT HAS TO BE A STRING\n",
            "I0420 15:30:31.556079 140528205789056 params.py:248] dataset_reader.token_indexers.xpostag.token_min_padding_length = 0\n",
            "I0420 15:30:31.556333 140528205789056 params.py:248] dataset_reader.lemma_indexers.char.type = characters_const_padding\n",
            "I0420 15:30:31.556527 140528205789056 params.py:248] dataset_reader.lemma_indexers.char.namespace = lemma_characters\n",
            "I0420 15:30:31.556759 140528205789056 params.py:248] dataset_reader.lemma_indexers.char.character_tokenizer.byte_encoding = None\n",
            "I0420 15:30:31.556843 140528205789056 params.py:248] dataset_reader.lemma_indexers.char.character_tokenizer.lowercase_characters = False\n",
            "I0420 15:30:31.556933 140528205789056 params.py:248] dataset_reader.lemma_indexers.char.character_tokenizer.start_tokens = ['__START__']\n",
            "I0420 15:30:31.557085 140528205789056 params.py:248] dataset_reader.lemma_indexers.char.character_tokenizer.end_tokens = ['__END__']\n",
            "I0420 15:30:31.557212 140528205789056 params.py:248] dataset_reader.lemma_indexers.char.start_tokens = None\n",
            "I0420 15:30:31.557281 140528205789056 params.py:248] dataset_reader.lemma_indexers.char.end_tokens = None\n",
            "I0420 15:30:31.557357 140528205789056 params.py:248] dataset_reader.lemma_indexers.char.min_padding_length = 32\n",
            "I0420 15:30:31.557430 140528205789056 params.py:248] dataset_reader.lemma_indexers.char.token_min_padding_length = 0\n",
            "I0420 15:30:31.557547 140528205789056 params.py:248] dataset_reader.features = ['token', 'char']\n",
            "I0420 15:30:31.557673 140528205789056 params.py:248] dataset_reader.targets = ['deprel', 'feats', 'head', 'lemma', 'upostag', 'xpostag']\n",
            "I0420 15:30:31.557791 140528205789056 params.py:248] dataset_reader.use_sem = False\n",
            "I0420 15:30:31.557965 140528205789056 params.py:248] dataset_reader.type = conllu\n",
            "I0420 15:30:31.558223 140528205789056 params.py:248] dataset_reader.lazy = False\n",
            "I0420 15:30:31.558315 140528205789056 params.py:248] dataset_reader.cache_directory = None\n",
            "I0420 15:30:31.558388 140528205789056 params.py:248] dataset_reader.max_instances = None\n",
            "I0420 15:30:31.558452 140528205789056 params.py:248] dataset_reader.manual_distributed_sharding = False\n",
            "I0420 15:30:31.558526 140528205789056 params.py:248] dataset_reader.manual_multi_process_sharding = False\n",
            "I0420 15:30:31.558809 140528205789056 params.py:248] dataset_reader.token_indexers.char.type = characters_const_padding\n",
            "I0420 15:30:31.559003 140528205789056 params.py:248] dataset_reader.token_indexers.char.namespace = token_characters\n",
            "I0420 15:30:31.559239 140528205789056 params.py:248] dataset_reader.token_indexers.char.character_tokenizer.byte_encoding = None\n",
            "I0420 15:30:31.559324 140528205789056 params.py:248] dataset_reader.token_indexers.char.character_tokenizer.lowercase_characters = False\n",
            "I0420 15:30:31.559415 140528205789056 params.py:248] dataset_reader.token_indexers.char.character_tokenizer.start_tokens = ['__START__']\n",
            "I0420 15:30:31.559554 140528205789056 params.py:248] dataset_reader.token_indexers.char.character_tokenizer.end_tokens = ['__END__']\n",
            "I0420 15:30:31.559686 140528205789056 params.py:248] dataset_reader.token_indexers.char.start_tokens = None\n",
            "I0420 15:30:31.559756 140528205789056 params.py:248] dataset_reader.token_indexers.char.end_tokens = None\n",
            "I0420 15:30:31.559831 140528205789056 params.py:248] dataset_reader.token_indexers.char.min_padding_length = 32\n",
            "I0420 15:30:31.559902 140528205789056 params.py:248] dataset_reader.token_indexers.char.token_min_padding_length = 0\n",
            "I0420 15:30:31.560105 140528205789056 params.py:248] dataset_reader.token_indexers.feats.type = feats_indexer\n",
            "I0420 15:30:31.560302 140528205789056 params.py:248] dataset_reader.token_indexers.feats.namespace = feats\n",
            "I0420 15:30:31.560384 140528205789056 params.py:248] dataset_reader.token_indexers.feats.feature_name = feats_\n",
            "I0420 15:30:31.560463 140528205789056 params.py:248] dataset_reader.token_indexers.feats.token_min_padding_length = 0\n",
            "I0420 15:30:31.560639 140528205789056 params.py:248] dataset_reader.token_indexers.lemma.type = characters_const_padding\n",
            "I0420 15:30:31.560857 140528205789056 params.py:248] dataset_reader.token_indexers.lemma.namespace = token_characters\n",
            "I0420 15:30:31.561096 140528205789056 params.py:248] dataset_reader.token_indexers.lemma.character_tokenizer.byte_encoding = None\n",
            "I0420 15:30:31.561187 140528205789056 params.py:248] dataset_reader.token_indexers.lemma.character_tokenizer.lowercase_characters = False\n",
            "I0420 15:30:31.561274 140528205789056 params.py:248] dataset_reader.token_indexers.lemma.character_tokenizer.start_tokens = ['__START__']\n",
            "I0420 15:30:31.561401 140528205789056 params.py:248] dataset_reader.token_indexers.lemma.character_tokenizer.end_tokens = ['__END__']\n",
            "I0420 15:30:31.561522 140528205789056 params.py:248] dataset_reader.token_indexers.lemma.start_tokens = None\n",
            "I0420 15:30:31.561591 140528205789056 params.py:248] dataset_reader.token_indexers.lemma.end_tokens = None\n",
            "I0420 15:30:31.561692 140528205789056 params.py:248] dataset_reader.token_indexers.lemma.min_padding_length = 32\n",
            "I0420 15:30:31.561769 140528205789056 params.py:248] dataset_reader.token_indexers.lemma.token_min_padding_length = 0\n",
            "I0420 15:30:31.561954 140528205789056 params.py:248] dataset_reader.token_indexers.token.type = pretrained_transformer_mismatched_fixed\n",
            "I0420 15:30:31.562192 140528205789056 params.py:248] dataset_reader.token_indexers.token.token_min_padding_length = 0\n",
            "I0420 15:30:31.562279 140528205789056 params.py:248] dataset_reader.token_indexers.token.model_name = allegro/herbert-base-cased\n",
            "I0420 15:30:31.562350 140528205789056 params.py:248] dataset_reader.token_indexers.token.namespace = tags\n",
            "I0420 15:30:31.562417 140528205789056 params.py:248] dataset_reader.token_indexers.token.max_length = None\n",
            "I0420 15:30:31.562535 140528205789056 params.py:384] dataset_reader.token_indexers.token.tokenizer_kwargs.use_fast = False\n",
            "I0420 15:30:31.563605 140528205789056 params.py:248] dataset_reader.token_indexers.upostag.type = single_id\n",
            "I0420 15:30:31.563837 140528205789056 params.py:248] dataset_reader.token_indexers.upostag.namespace = upostag\n",
            "I0420 15:30:31.563929 140528205789056 params.py:248] dataset_reader.token_indexers.upostag.lowercase_tokens = False\n",
            "I0420 15:30:31.564017 140528205789056 params.py:248] dataset_reader.token_indexers.upostag.start_tokens = None\n",
            "I0420 15:30:31.564084 140528205789056 params.py:248] dataset_reader.token_indexers.upostag.end_tokens = None\n",
            "I0420 15:30:31.564159 140528205789056 params.py:248] dataset_reader.token_indexers.upostag.feature_name = pos_\n",
            "I0420 15:30:31.564232 140528205789056 params.py:248] dataset_reader.token_indexers.upostag.default_value = THIS IS A REALLY UNLIKELY VALUE THAT HAS TO BE A STRING\n",
            "I0420 15:30:31.564303 140528205789056 params.py:248] dataset_reader.token_indexers.upostag.token_min_padding_length = 0\n",
            "I0420 15:30:31.564474 140528205789056 params.py:248] dataset_reader.token_indexers.xpostag.type = single_id\n",
            "I0420 15:30:31.564674 140528205789056 params.py:248] dataset_reader.token_indexers.xpostag.namespace = xpostag\n",
            "I0420 15:30:31.564759 140528205789056 params.py:248] dataset_reader.token_indexers.xpostag.lowercase_tokens = False\n",
            "I0420 15:30:31.564842 140528205789056 params.py:248] dataset_reader.token_indexers.xpostag.start_tokens = None\n",
            "I0420 15:30:31.564913 140528205789056 params.py:248] dataset_reader.token_indexers.xpostag.end_tokens = None\n",
            "I0420 15:30:31.564998 140528205789056 params.py:248] dataset_reader.token_indexers.xpostag.feature_name = tag_\n",
            "I0420 15:30:31.565071 140528205789056 params.py:248] dataset_reader.token_indexers.xpostag.default_value = THIS IS A REALLY UNLIKELY VALUE THAT HAS TO BE A STRING\n",
            "I0420 15:30:31.565143 140528205789056 params.py:248] dataset_reader.token_indexers.xpostag.token_min_padding_length = 0\n",
            "I0420 15:30:31.565371 140528205789056 params.py:248] dataset_reader.lemma_indexers.char.type = characters_const_padding\n",
            "I0420 15:30:31.565553 140528205789056 params.py:248] dataset_reader.lemma_indexers.char.namespace = lemma_characters\n",
            "I0420 15:30:31.565766 140528205789056 params.py:248] dataset_reader.lemma_indexers.char.character_tokenizer.byte_encoding = None\n",
            "I0420 15:30:31.565845 140528205789056 params.py:248] dataset_reader.lemma_indexers.char.character_tokenizer.lowercase_characters = False\n",
            "I0420 15:30:31.565930 140528205789056 params.py:248] dataset_reader.lemma_indexers.char.character_tokenizer.start_tokens = ['__START__']\n",
            "I0420 15:30:31.566074 140528205789056 params.py:248] dataset_reader.lemma_indexers.char.character_tokenizer.end_tokens = ['__END__']\n",
            "I0420 15:30:31.566205 140528205789056 params.py:248] dataset_reader.lemma_indexers.char.start_tokens = None\n",
            "I0420 15:30:31.566275 140528205789056 params.py:248] dataset_reader.lemma_indexers.char.end_tokens = None\n",
            "I0420 15:30:31.566351 140528205789056 params.py:248] dataset_reader.lemma_indexers.char.min_padding_length = 32\n",
            "I0420 15:30:31.566423 140528205789056 params.py:248] dataset_reader.lemma_indexers.char.token_min_padding_length = 0\n",
            "I0420 15:30:31.566533 140528205789056 params.py:248] dataset_reader.features = ['token', 'char']\n",
            "I0420 15:30:31.566662 140528205789056 params.py:248] dataset_reader.targets = ['deprel', 'feats', 'head', 'lemma', 'upostag', 'xpostag']\n",
            "I0420 15:30:31.566775 140528205789056 params.py:248] dataset_reader.use_sem = False\n",
            "I0420 15:30:31.567438 140528205789056 params.py:248] vocabulary.type = from_instances_extended\n",
            "I0420 15:30:31.567526 140528205789056 vocabulary.py:323] Loading token dictionary from /tmp/tmp7bzt_6p6/vocabulary.\n",
            "I0420 15:30:31.567873 140528205789056 filelock.py:274] Lock 140523647488784 acquired on /tmp/tmp7bzt_6p6/vocabulary/.lock\n",
            "I0420 15:30:31.569317 140528205789056 filelock.py:318] Lock 140523647488784 released on /tmp/tmp7bzt_6p6/vocabulary/.lock\n",
            "I0420 15:30:31.570041 140528205789056 params.py:248] model.type = semantic_multitask\n",
            "I0420 15:30:31.570570 140528205789056 params.py:248] model.text_field_embedder.type = basic\n",
            "I0420 15:30:31.570963 140528205789056 params.py:248] model.text_field_embedder.token_embedders.char.type = char_embeddings_from_config\n",
            "I0420 15:30:31.571179 140528205789056 params.py:248] model.text_field_embedder.token_embedders.char.embedding_dim = 64\n",
            "I0420 15:30:31.571454 140528205789056 params.py:248] model.text_field_embedder.token_embedders.char.dilated_cnn_encoder.input_dim = 64\n",
            "I0420 15:30:31.571556 140528205789056 params.py:248] model.text_field_embedder.token_embedders.char.dilated_cnn_encoder.filters = [512, 256, 64]\n",
            "I0420 15:30:31.571674 140528205789056 params.py:248] model.text_field_embedder.token_embedders.char.dilated_cnn_encoder.kernel_size = [3, 3, 3]\n",
            "I0420 15:30:31.571783 140528205789056 params.py:248] model.text_field_embedder.token_embedders.char.dilated_cnn_encoder.stride = [1, 1, 1]\n",
            "I0420 15:30:31.571901 140528205789056 params.py:248] model.text_field_embedder.token_embedders.char.dilated_cnn_encoder.padding = [1, 2, 4]\n",
            "I0420 15:30:31.572021 140528205789056 params.py:248] model.text_field_embedder.token_embedders.char.dilated_cnn_encoder.dilation = [1, 2, 4]\n",
            "I0420 15:30:31.572134 140528205789056 params.py:248] model.text_field_embedder.token_embedders.char.dilated_cnn_encoder.activations = ['relu', 'relu', 'linear']\n",
            "I0420 15:30:31.572296 140528205789056 params.py:248] type = relu\n",
            "I0420 15:30:31.572496 140528205789056 params.py:248] type = relu\n",
            "I0420 15:30:31.572684 140528205789056 params.py:248] type = linear\n",
            "I0420 15:30:31.577444 140528205789056 params.py:248] model.text_field_embedder.token_embedders.char.vocab_namespace = token_characters\n",
            "I0420 15:30:31.577977 140528205789056 params.py:248] model.text_field_embedder.token_embedders.token.type = transformers_word_embeddings\n",
            "I0420 15:30:31.578192 140528205789056 params.py:248] model.text_field_embedder.token_embedders.token.model_name = allegro/herbert-base-cased\n",
            "I0420 15:30:31.578286 140528205789056 params.py:248] model.text_field_embedder.token_embedders.token.projection_dim = 100\n",
            "I0420 15:30:31.578384 140528205789056 params.py:248] model.text_field_embedder.token_embedders.token.projection_activation = <function TransformersWordEmbedder.<lambda> at 0x7fce361d4cb0>\n",
            "I0420 15:30:31.578472 140528205789056 params.py:248] model.text_field_embedder.token_embedders.token.projection_dropout_rate = 0.0\n",
            "I0420 15:30:31.578560 140528205789056 params.py:248] model.text_field_embedder.token_embedders.token.freeze_transformer = True\n",
            "I0420 15:30:31.578698 140528205789056 params.py:384] model.text_field_embedder.token_embedders.token.tokenizer_kwargs.use_fast = False\n",
            "I0420 15:30:31.578774 140528205789056 params.py:248] model.text_field_embedder.token_embedders.token.transformer_kwargs = None\n",
            "I0420 15:30:52.691022 140528205789056 params.py:248] model.seq_encoder.type = combo_encoder\n",
            "I0420 15:30:52.691499 140528205789056 params.py:248] model.seq_encoder.stacked_bilstm.input_size = 164\n",
            "I0420 15:30:52.691617 140528205789056 params.py:248] model.seq_encoder.stacked_bilstm.hidden_size = 512\n",
            "I0420 15:30:52.691705 140528205789056 params.py:248] model.seq_encoder.stacked_bilstm.num_layers = 2\n",
            "I0420 15:30:52.691798 140528205789056 params.py:248] model.seq_encoder.stacked_bilstm.recurrent_dropout_probability = 0.33\n",
            "I0420 15:30:52.691880 140528205789056 params.py:248] model.seq_encoder.stacked_bilstm.layer_dropout_probability = 0.33\n",
            "I0420 15:30:52.691975 140528205789056 params.py:248] model.seq_encoder.stacked_bilstm.use_highway = False\n",
            "I0420 15:30:53.206247 140528205789056 params.py:248] model.seq_encoder.layer_dropout_probability = 0.33\n",
            "I0420 15:30:53.206555 140528205789056 params.py:248] model.use_sample_weight = True\n",
            "I0420 15:30:53.206929 140528205789056 params.py:248] model.lemmatizer.type = combo_lemma_predictor_from_vocab\n",
            "I0420 15:30:53.207221 140528205789056 params.py:248] model.lemmatizer.char_vocab_namespace = token_characters\n",
            "I0420 15:30:53.207319 140528205789056 params.py:248] model.lemmatizer.lemma_vocab_namespace = lemma_characters\n",
            "I0420 15:30:53.207401 140528205789056 params.py:248] model.lemmatizer.embedding_dim = 256\n",
            "I0420 15:30:53.207621 140528205789056 params.py:248] model.lemmatizer.input_projection_layer.in_features = 1024\n",
            "I0420 15:30:53.207712 140528205789056 params.py:248] model.lemmatizer.input_projection_layer.out_features = 32\n",
            "I0420 15:30:53.207803 140528205789056 params.py:248] model.lemmatizer.input_projection_layer.activation = tanh\n",
            "I0420 15:30:53.207960 140528205789056 params.py:248] type = tanh\n",
            "I0420 15:30:53.208112 140528205789056 params.py:248] model.lemmatizer.input_projection_layer.dropout_rate = 0.25\n",
            "I0420 15:30:53.208580 140528205789056 params.py:248] model.lemmatizer.filters = [256, 256, 256]\n",
            "I0420 15:30:53.208732 140528205789056 params.py:248] model.lemmatizer.kernel_size = [3, 3, 3, 1]\n",
            "I0420 15:30:53.208862 140528205789056 params.py:248] model.lemmatizer.stride = [1, 1, 1, 1]\n",
            "I0420 15:30:53.209003 140528205789056 params.py:248] model.lemmatizer.padding = [1, 2, 4, 0]\n",
            "I0420 15:30:53.209131 140528205789056 params.py:248] model.lemmatizer.dilation = [1, 2, 4, 1]\n",
            "I0420 15:30:53.209255 140528205789056 params.py:248] model.lemmatizer.activations = ['relu', 'relu', 'relu', 'linear']\n",
            "I0420 15:30:53.209429 140528205789056 params.py:248] type = relu\n",
            "I0420 15:30:53.209628 140528205789056 params.py:248] type = relu\n",
            "I0420 15:30:53.209827 140528205789056 params.py:248] type = relu\n",
            "I0420 15:30:53.210045 140528205789056 params.py:248] type = linear\n",
            "I0420 15:30:53.215363 140528205789056 params.py:248] model.upos_tagger.type = feedforward_predictor_from_vocab\n",
            "I0420 15:30:53.215638 140528205789056 params.py:248] model.upos_tagger.vocab_namespace = upostag_labels\n",
            "I0420 15:30:53.215747 140528205789056 params.py:248] model.upos_tagger.input_dim = 1024\n",
            "I0420 15:30:53.215858 140528205789056 params.py:248] model.upos_tagger.num_layers = 2\n",
            "I0420 15:30:53.215957 140528205789056 params.py:248] model.upos_tagger.hidden_dims = [64]\n",
            "I0420 15:30:53.216081 140528205789056 params.py:248] model.upos_tagger.activations = ['tanh', 'linear']\n",
            "I0420 15:30:53.216351 140528205789056 params.py:248] type = tanh\n",
            "I0420 15:30:53.216532 140528205789056 params.py:248] type = linear\n",
            "I0420 15:30:53.216691 140528205789056 params.py:248] model.upos_tagger.dropout = [0.25, 0]\n",
            "I0420 15:30:53.217936 140528205789056 params.py:248] model.xpos_tagger.type = feedforward_predictor_from_vocab\n",
            "I0420 15:30:53.218209 140528205789056 params.py:248] model.xpos_tagger.vocab_namespace = xpostag_labels\n",
            "I0420 15:30:53.218312 140528205789056 params.py:248] model.xpos_tagger.input_dim = 1024\n",
            "I0420 15:30:53.218394 140528205789056 params.py:248] model.xpos_tagger.num_layers = 2\n",
            "I0420 15:30:53.218479 140528205789056 params.py:248] model.xpos_tagger.hidden_dims = [128]\n",
            "I0420 15:30:53.218595 140528205789056 params.py:248] model.xpos_tagger.activations = ['tanh', 'linear']\n",
            "I0420 15:30:53.218858 140528205789056 params.py:248] type = tanh\n",
            "I0420 15:30:53.219067 140528205789056 params.py:248] type = linear\n",
            "I0420 15:30:53.219230 140528205789056 params.py:248] model.xpos_tagger.dropout = [0.25, 0]\n",
            "I0420 15:30:53.221137 140528205789056 params.py:248] model.semantic_relation = None\n",
            "I0420 15:30:53.221402 140528205789056 params.py:248] model.morphological_feat.type = combo_morpho_from_vocab\n",
            "I0420 15:30:53.221628 140528205789056 params.py:248] model.morphological_feat.vocab_namespace = feats_labels\n",
            "I0420 15:30:53.221722 140528205789056 params.py:248] model.morphological_feat.input_dim = 1024\n",
            "I0420 15:30:53.221823 140528205789056 params.py:248] model.morphological_feat.num_layers = 2\n",
            "I0420 15:30:53.221912 140528205789056 params.py:248] model.morphological_feat.hidden_dims = [128]\n",
            "I0420 15:30:53.222042 140528205789056 params.py:248] model.morphological_feat.activations = ['tanh', 'linear']\n",
            "I0420 15:30:53.222288 140528205789056 params.py:248] type = tanh\n",
            "I0420 15:30:53.222467 140528205789056 params.py:248] type = linear\n",
            "I0420 15:30:53.222616 140528205789056 params.py:248] model.morphological_feat.dropout = [0.25, 0]\n",
            "I0420 15:30:53.224519 140528205789056 params.py:248] model.dependency_relation.type = combo_dependency_parsing_from_vocab\n",
            "I0420 15:30:53.224775 140528205789056 params.py:248] model.dependency_relation.vocab_namespace = deprel_labels\n",
            "I0420 15:30:53.225120 140528205789056 params.py:248] model.dependency_relation.head_predictor.head_projection_layer.in_features = 1024\n",
            "I0420 15:30:53.225218 140528205789056 params.py:248] model.dependency_relation.head_predictor.head_projection_layer.out_features = 512\n",
            "I0420 15:30:53.225307 140528205789056 params.py:248] model.dependency_relation.head_predictor.head_projection_layer.activation = tanh\n",
            "I0420 15:30:53.225450 140528205789056 params.py:248] type = tanh\n",
            "I0420 15:30:53.225582 140528205789056 params.py:248] model.dependency_relation.head_predictor.head_projection_layer.dropout_rate = 0.0\n",
            "I0420 15:30:53.228995 140528205789056 params.py:248] model.dependency_relation.head_predictor.dependency_projection_layer.in_features = 1024\n",
            "I0420 15:30:53.229106 140528205789056 params.py:248] model.dependency_relation.head_predictor.dependency_projection_layer.out_features = 512\n",
            "I0420 15:30:53.229193 140528205789056 params.py:248] model.dependency_relation.head_predictor.dependency_projection_layer.activation = tanh\n",
            "I0420 15:30:53.229336 140528205789056 params.py:248] type = tanh\n",
            "I0420 15:30:53.229468 140528205789056 params.py:248] model.dependency_relation.head_predictor.dependency_projection_layer.dropout_rate = 0.0\n",
            "I0420 15:30:53.232852 140528205789056 params.py:248] model.dependency_relation.head_predictor.cycle_loss_n = 0\n",
            "I0420 15:30:53.233161 140528205789056 params.py:248] model.dependency_relation.head_projection_layer.in_features = 1024\n",
            "I0420 15:30:53.233262 140528205789056 params.py:248] model.dependency_relation.head_projection_layer.out_features = 128\n",
            "I0420 15:30:53.233348 140528205789056 params.py:248] model.dependency_relation.head_projection_layer.activation = tanh\n",
            "I0420 15:30:53.233489 140528205789056 params.py:248] type = tanh\n",
            "I0420 15:30:53.233620 140528205789056 params.py:248] model.dependency_relation.head_projection_layer.dropout_rate = 0.25\n",
            "I0420 15:30:53.234807 140528205789056 params.py:248] model.dependency_relation.dependency_projection_layer.in_features = 1024\n",
            "I0420 15:30:53.234919 140528205789056 params.py:248] model.dependency_relation.dependency_projection_layer.out_features = 128\n",
            "I0420 15:30:53.235018 140528205789056 params.py:248] model.dependency_relation.dependency_projection_layer.activation = tanh\n",
            "I0420 15:30:53.235160 140528205789056 params.py:248] type = tanh\n",
            "I0420 15:30:53.235294 140528205789056 params.py:248] model.dependency_relation.dependency_projection_layer.dropout_rate = 0.25\n",
            "I0420 15:30:53.236598 140528205789056 params.py:248] model.enhanced_dependency_relation = None\n",
            "I0420 15:30:53.237194 140528205789056 params.py:248] model.regularizer.regexes.0.1.type = l2\n",
            "I0420 15:30:53.237417 140528205789056 params.py:248] model.regularizer.regexes.0.1.alpha = 1e-06\n",
            "I0420 15:30:53.237627 140528205789056 params.py:248] model.regularizer.regexes.1.1.type = l2\n",
            "I0420 15:30:53.237838 140528205789056 params.py:248] model.regularizer.regexes.1.1.alpha = 1e-06\n",
            "I0420 15:30:53.238058 140528205789056 params.py:248] model.regularizer.regexes.2.1.type = l2\n",
            "I0420 15:30:53.238237 140528205789056 params.py:248] model.regularizer.regexes.2.1.alpha = 1e-06\n",
            "I0420 15:30:53.238416 140528205789056 params.py:248] model.regularizer.regexes.3.1.type = l2\n",
            "I0420 15:30:53.238597 140528205789056 params.py:248] model.regularizer.regexes.3.1.alpha = 1e-05\n",
            "I0420 15:30:53.662025 140528205789056 archival.py:211] removing temporary unarchived model dir at /tmp/tmp7bzt_6p6\n",
            "reading instances: 2215it [07:24,  4.98it/s]\n"
          ],
          "name": "stdout"
        }
      ]
    },
    {
      "cell_type": "code",
      "metadata": {
        "colab": {
          "base_uri": "https://localhost:8080/"
        },
        "id": "sMJEGFWK8UAP",
        "outputId": "706a3d71-09ef-4f42-9c6d-22d326e0a338"
      },
      "source": [
        "! head -n 50 predykcje/segmentatacja_gold/PDBUD_test_COMBO.conllu"
      ],
      "execution_count": 37,
      "outputs": [
        {
          "output_type": "stream",
          "text": [
            "# sent_id = test-s1\n",
            "# text = Mężczyzna w czapce kuca na chodniku pod ścianą budynku, a koło niego jest pięć kotów.\n",
            "# orig_file_sentence = CDScorpus_1961_B#1197\n",
            "1\tMężczyzna\tmężczyzna\tNOUN\tsubst:sg:nom:m1\tAnimacy=Hum|Case=Nom|Gender=Masc|Number=Sing\t4\tnsubj\t4:nsubj\t_\n",
            "2\tw\tw\tADP\tprep:loc:nwok\tAdpType=Prep|Variant=Short\t3\tcase\t3:case\tCase=Loc\n",
            "3\tczapce\tczapka\tNOUN\tsubst:sg:loc:f\tCase=Loc|Gender=Fem|Number=Sing\t1\tnmod\t1:nmod\t_\n",
            "4\tkuca\tkucać\tVERB\tfin:sg:ter:imperf\tAspect=Imp|Mood=Ind|Number=Sing|Person=3|Tense=Pres|VerbForm=Fin|Voice=Act\t0\troot\t0:root\t_\n",
            "5\tna\tna\tADP\tprep:loc\tAdpType=Prep\t6\tcase\t6:case\tCase=Loc\n",
            "6\tchodniku\tchodnik\tNOUN\tsubst:sg:loc:m3\tAnimacy=Inan|Case=Loc|Gender=Masc|Number=Sing\t4\tobl\t4:obl\t_\n",
            "7\tpod\tpod\tADP\tprep:inst:nwok\tAdpType=Prep|Variant=Short\t8\tcase\t8:case\tCase=Ins\n",
            "8\tścianą\tściana\tNOUN\tsubst:sg:inst:f\tCase=Ins|Gender=Fem|Number=Sing\t6\tnmod\t4:obl\t_\n",
            "9\tbudynku\tbudynek\tNOUN\tsubst:sg:gen:m3\tAnimacy=Inan|Case=Gen|Gender=Masc|Number=Sing\t8\tnmod\t8:nmod\tSpaceAfter=No\n",
            "10\t,\t,\tPUNCT\tinterp\tPunctType=Comm\t14\tpunct\t14:punct\t_\n",
            "11\ta\ta\tCCONJ\tconj\t_\t14\tcc\t14:cc\t_\n",
            "12\tkoło\tkoło\tADP\tprep:gen\tAdpType=Prep\t13\tcase\t13:case\tCase=Gen\n",
            "13\tniego\ton\tPRON\tppron3:sg:gen:m1:ter:akc:praep\tAnimacy=Hum|Case=Gen|Gender=Masc|Number=Sing|Person=3|PrepCase=Pre|PronType=Prs|Variant=Long\t14\tobl\t14:obl\t_\n",
            "14\tjest\tbyć\tVERB\tfin:sg:ter:imperf\tAspect=Imp|Mood=Ind|Number=Sing|Person=3|Tense=Pres|VerbForm=Fin|Voice=Act\t4\tconj\t0:root|4:conj\t_\n",
            "15\tpięć\tpięć\tNUM\tnum:pl:nom:m2:rec\tAnimacy=Nhum|Case=Nom|Gender=Masc|Number=Plur|NumForm=Word\t16\tnummod:gov\t16:nummod:gov\t_\n",
            "16\tkotów\tkot\tNOUN\tsubst:pl:gen:m2\tAnimacy=Nhum|Case=Gen|Gender=Masc|Number=Plur\t14\tnsubj\t14:nsubj\tSpaceAfter=No\n",
            "17\t.\t.\tPUNCT\tinterp\tPunctType=Peri\t4\tpunct\t4:punct\t_\n",
            "\n",
            "# sent_id = test-s2\n",
            "# text = Chłopak biegnie, asekurując jadącego obok rowerem chłopca w kasku na głowie.\n",
            "# orig_file_sentence = CDScorpus_7401_A#741\n",
            "1\tChłopak\tchłopak\tNOUN\tsubst:sg:nom:m1\tAnimacy=Hum|Case=Nom|Gender=Masc|Number=Sing\t2\tnsubj\t2:nsubj\t_\n",
            "2\tbiegnie\tbiec\tVERB\tfin:sg:ter:imperf\tAspect=Imp|Mood=Ind|Number=Sing|Person=3|Tense=Pres|VerbForm=Fin|Voice=Act\t0\troot\t0:root\tSpaceAfter=No\n",
            "3\t,\t,\tPUNCT\tinterp\tPunctType=Comm\t4\tpunct\t4:punct\t_\n",
            "4\tasekurując\tasekurować\tVERB\tpcon:imperf\tAspect=Imp|Tense=Pres|VerbForm=Conv|Voice=Act\t2\tadvcl\t2:advcl\t_\n",
            "5\tjadącego\tjechać\tADJ\tpact:sg:acc:m1:imperf:aff\tAnimacy=Hum|Aspect=Imp|Case=Acc|Gender=Masc|Number=Sing|Polarity=Pos|VerbForm=Part|Voice=Act\t8\tacl\t8:acl\t_\n",
            "6\tobok\tobok\tADV\tadv\t_\t5\tadvmod\t5:advmod\t_\n",
            "7\trowerem\trower\tNOUN\tsubst:sg:inst:m3\tAnimacy=Inan|Case=Ins|Gender=Masc|Number=Sing\t5\tiobj\t5:iobj\t_\n",
            "8\tchłopca\tchłopiec\tNOUN\tsubst:sg:acc:m1\tAnimacy=Hum|Case=Acc|Gender=Masc|Number=Sing\t4\tobj\t4:obj\t_\n",
            "9\tw\tw\tADP\tprep:loc:nwok\tAdpType=Prep|Variant=Short\t10\tcase\t10:case\tCase=Loc\n",
            "10\tkasku\tkask\tNOUN\tsubst:sg:loc:m3\tAnimacy=Inan|Case=Loc|Gender=Masc|Number=Sing\t8\tnmod\t8:nmod\t_\n",
            "11\tna\tna\tADP\tprep:loc\tAdpType=Prep\t12\tcase\t12:case\tCase=Loc\n",
            "12\tgłowie\tgłowa\tNOUN\tsubst:sg:loc:f\tCase=Loc|Gender=Fem|Number=Sing\t10\tnmod\t10:nmod\tSpaceAfter=No\n",
            "13\t.\t.\tPUNCT\tinterp\tPunctType=Peri\t2\tpunct\t2:punct\t_\n",
            "\n",
            "# sent_id = test-s3\n",
            "# text = Kilkanaście dziewczynek w białych sukienkach i kokardach na głowie stoi obok siebie na scenie.\n",
            "# orig_file_sentence = CDScorpus_9211_A#922\n",
            "1\tKilkanaście\tkilkanaście\tDET\tnum:pl:nom:f:rec\tCase=Nom|Gender=Fem|Number=Plur|NumType=Card|PronType=Ind\t2\tdet:numgov\t2:det:numgov\t_\n",
            "2\tdziewczynek\tdziewczynka\tNOUN\tsubst:pl:gen:f\tCase=Gen|Gender=Fem|Number=Plur\t10\tnsubj\t10:nsubj\t_\n",
            "3\tw\tw\tADP\tprep:loc:nwok\tAdpType=Prep|Variant=Short\t5\tcase\t5:case|7:case\tCase=Loc\n",
            "4\tbiałych\tbiały\tADJ\tadj:pl:loc:f:pos\tCase=Loc|Degree=Pos|Gender=Fem|Number=Plur\t5\tamod\t5:amod\t_\n",
            "5\tsukienkach\tsukienka\tNOUN\tsubst:pl:loc:f\tCase=Loc|Gender=Fem|Number=Plur\t2\tnmod\t2:nmod\t_\n",
            "6\ti\ti\tCCONJ\tconj\t_\t7\tcc\t7:cc\t_\n",
            "7\tkokardach\tkokarda\tNOUN\tsubst:pl:loc:f\tCase=Loc|Gender=Fem|Number=Plur\t5\tconj\t2:nmod|5:conj\t_\n",
            "8\tna\tna\tADP\tprep:loc\tAdpType=Prep\t9\tcase\t9:case\tCase=Loc\n",
            "9\tgłowie\tgłowa\tNOUN\tsubst:sg:loc:f\tCase=Loc|Gender=Fem|Number=Sing\t7\tnmod\t7:nmod\t_\n"
          ],
          "name": "stdout"
        }
      ]
    },
    {
      "cell_type": "markdown",
      "metadata": {
        "id": "qa2fdLFqLtYf"
      },
      "source": [
        "# Ewaluacja – miary\n",
        "\n",
        "Skuteczność narzędzia NLP możne mierzyć kilkoma metrykami (miarami) używanymi w uczeniu maszynowym:\n",
        "![Screenshot 2020-11-26 at 10.35.44.png](data:image/png;base64,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)\n",
        "\n",
        "* $TP$: przykłady prawdziwie pozytywne,\n",
        "* $FP$: przykłady fałszywie pozytywne,\n",
        "* $FN$: przykłady fałszywie negatywne,\n",
        "* $TN$: przykłady prawdziwie negatywne."
      ]
    },
    {
      "cell_type": "markdown",
      "metadata": {
        "id": "uwTitPdDsQhq"
      },
      "source": [
        "\n",
        "### Accuracy (dokładność)\n",
        "\n",
        "Odsetek instancji, którym klasyfikator przypisał prawidłową kategorię.\n",
        "\n",
        "$A = \\frac{\\mathit{TP+TN}}{\\mathit{TP+FP+TN+FN}} = \\frac{\\mathit{\\#correct}}{\\mathit{\\#total}}$\n"
      ]
    },
    {
      "cell_type": "code",
      "metadata": {
        "colab": {
          "base_uri": "https://localhost:8080/"
        },
        "id": "RLSqGUSvdNUR",
        "outputId": "c16dbb01-d16c-42b6-c8eb-0b30db02d038"
      },
      "source": [
        "from sklearn.metrics import accuracy_score\n",
        "\n",
        "print(accuracy_score([1, 2, 3, 2, 1], [1, 2, 3, 4, 5]))"
      ],
      "execution_count": 38,
      "outputs": [
        {
          "output_type": "stream",
          "text": [
            "0.6\n"
          ],
          "name": "stdout"
        }
      ]
    },
    {
      "cell_type": "markdown",
      "metadata": {
        "id": "2riz6pEDeLit"
      },
      "source": [
        "### Precision, recall i F-mesure\n",
        "\n",
        "\n",
        "**Precision** to ddsetek instancji wykrytych przez system, które są rzeczywiście poprawne.\n",
        "\n",
        "$P = \\frac{\\mathit{TP}}{TP+FP}$\n",
        "\n",
        "**Recall** to odsetek instancji w danych wejściowych, które zostały poprawnie zidentyfikowane przez system.\n",
        "\n",
        "$R = \\frac{\\mathit{TP}}{TP+FN}$\n",
        "\n",
        "**F(1)-measure** to średnia harmoniczna wartości precision i recall:\n",
        "\n",
        "$F = \\frac{2PR}{P + R}$\n"
      ]
    },
    {
      "cell_type": "code",
      "metadata": {
        "colab": {
          "base_uri": "https://localhost:8080/"
        },
        "id": "dYj6yvOFpFXB",
        "outputId": "955e3e82-9b12-4708-d061-dd0997f4e671"
      },
      "source": [
        "from sklearn.metrics import precision_score, recall_score, f1_score\n",
        "\n",
        "y_gold = [0, 0, 0, 0, 0, 0, 1, 1, 1, 1]\n",
        "y_pred = [0, 0, 0, 0, 0, 0, 0, 0, 1, 1]\n",
        "\n",
        "for metric in (accuracy_score, precision_score, recall_score, f1_score):\n",
        "    print('{:16} {:.2f}'.format(metric.__name__, metric(y_gold, y_pred)))"
      ],
      "execution_count": 39,
      "outputs": [
        {
          "output_type": "stream",
          "text": [
            "accuracy_score   0.80\n",
            "precision_score  1.00\n",
            "recall_score     0.50\n",
            "f1_score         0.67\n"
          ],
          "name": "stdout"
        }
      ]
    },
    {
      "cell_type": "code",
      "metadata": {
        "colab": {
          "base_uri": "https://localhost:8080/"
        },
        "id": "DQ3vWNaTrKMn",
        "outputId": "3c94fa4d-ff33-42b5-8383-ca1a2c562513"
      },
      "source": [
        "y_gold = [0, 0, 0, 0, 0, 0, 1, 1, 1, 1]\n",
        "y_pred = [0, 0, 0, 1, 1, 1, 1, 1, 1, 1]\n",
        "\n",
        "for metric in (accuracy_score, precision_score, recall_score, f1_score):\n",
        "    print('{:16} {:.2f}'.format(metric.__name__, metric(y_gold, y_pred)))"
      ],
      "execution_count": 40,
      "outputs": [
        {
          "output_type": "stream",
          "text": [
            "accuracy_score   0.70\n",
            "precision_score  0.57\n",
            "recall_score     1.00\n",
            "f1_score         0.73\n"
          ],
          "name": "stdout"
        }
      ]
    },
    {
      "cell_type": "markdown",
      "metadata": {
        "id": "zcfHzw0csVGK"
      },
      "source": [
        "### Klasyfikacja wieloklasowa (*multiclass classification*)\n"
      ]
    },
    {
      "cell_type": "markdown",
      "metadata": {
        "id": "-2U1pMZaVuxu"
      },
      "source": [
        "#### Micro\n",
        "\n",
        "Zliczamy $TP$, $FP$ i $FN$ globalnie dla wszystkich danych. W ten sposób każda instancja ma taki sam wpływ na wynik końcowy. Każdy przykład zaklasyfikowany niepoprawnie jest uznawany jednocześnie za $FP$ i $FN$.\n",
        "\n",
        "$TP =\\mathit{\\#correct}$\n",
        "\n",
        "$FP = FN = \\mathit{\\#total} - \\mathit{\\#correct}$\n",
        "\n",
        "W efekcie precision, recall i F-measure w wersji micro są równe sobie nawzajem i mierze accuracy:\n",
        "\n",
        "$P_{mic} = \\frac{TP}{TP + FP} = \\frac{\\mathit{\\#correct}}{\\mathit{\\#total}} = A$\n",
        "\n",
        "$R_{mic} = \\frac{TP}{TP + FN} = \\frac{\\mathit{\\#correct}}{\\mathit{\\#total}} = A$\n",
        "\n",
        "$F_{mic} = \\frac{2 P_{mic}R_{mic}}{P_{mic}+R_{mic}} = \\frac{2 A^2}{2A} = A$"
      ]
    },
    {
      "cell_type": "code",
      "metadata": {
        "colab": {
          "base_uri": "https://localhost:8080/"
        },
        "id": "l4uj8FkS6hf5",
        "outputId": "de39c705-6b34-49dd-c565-6ccec81acdd9"
      },
      "source": [
        "y_gold = [0, 0, 0, 0, 1, 1, 1, 1, 2, 2, 2, 2]\n",
        "y_pred = [0, 0, 0, 1, 1, 1, 0, 2, 2, 2, 0, 0]\n",
        "\n",
        "print(accuracy_score(y_gold, y_pred))\n",
        "print(precision_score(y_gold, y_pred, average=\"micro\"))\n",
        "print(recall_score(y_gold, y_pred, average=\"micro\"))\n",
        "print(f1_score(y_gold, y_pred, average=\"micro\"))"
      ],
      "execution_count": 41,
      "outputs": [
        {
          "output_type": "stream",
          "text": [
            "0.5833333333333334\n",
            "0.5833333333333334\n",
            "0.5833333333333334\n",
            "0.5833333333333334\n"
          ],
          "name": "stdout"
        }
      ]
    },
    {
      "cell_type": "markdown",
      "metadata": {
        "id": "OsONAapY6eEi"
      },
      "source": [
        "#### Macro\n",
        "\n",
        "Obliczamy miary precision, recall i F-measure dla każdej klasy osobno i obliczamy ich średnie (standardowo nieważone, możliwy jest również wariant ważony, aby zmniejszyć wpływ mniej reprezentowanych klas na wynik)."
      ]
    },
    {
      "cell_type": "code",
      "metadata": {
        "colab": {
          "base_uri": "https://localhost:8080/"
        },
        "id": "u47PryxC-RO-",
        "outputId": "99a015f7-9c90-4a1a-93f6-f6009cb37474"
      },
      "source": [
        "y_gold = [0, 0, 0, 0, 1, 1, 1, 1, 2, 2, 2, 2]\n",
        "y_pred = [0, 0, 0, 1, 1, 1, 0, 2, 2, 2, 0, 0]\n",
        "\n",
        "print(accuracy_score(y_gold, y_pred))\n",
        "print(precision_score(y_gold, y_pred, average=\"macro\"))\n",
        "print(recall_score(y_gold, y_pred, average=\"macro\"))\n",
        "print(f1_score(y_gold, y_pred, average=\"macro\"))"
      ],
      "execution_count": 42,
      "outputs": [
        {
          "output_type": "stream",
          "text": [
            "0.5833333333333334\n",
            "0.611111111111111\n",
            "0.5833333333333334\n",
            "0.580952380952381\n"
          ],
          "name": "stdout"
        }
      ]
    },
    {
      "cell_type": "markdown",
      "metadata": {
        "id": "aWonRcKR62gb"
      },
      "source": [
        "### Tablica pomyłek (ang. confusion matrix)\n",
        "\n",
        "Macierz zliczająca, ile razy instancję klasy X zaklasyfikowano jako klasę Y. Wartości na przekątnej odpowiadają prawidłowym klasyfikacjom.\n",
        "\n",
        "W przykładzie poniżej kolejne wiersze macierzy należy odczytywać następująco:\n",
        " * **3** razy zaklasyfikowano 0 jako 0, **1** raz zaklasyfikowano 0 jako 1, **0** razy zaklasyfikowano 0 jako 2;\n",
        " * **1** raz zaklasyfikowano 1 jako 0, **2** razy zaklasyfikowano 1 jako 1, **1** raz zaklasyfikowano 1 jako 2;\n",
        " * **2** razy zaklasyfikowano 2 jako 0, **1** raz zaklasyfikowano 2 jako 1, **1** raz zaklasyfikowano 2 jako 2;\n",
        " "
      ]
    },
    {
      "cell_type": "code",
      "metadata": {
        "colab": {
          "base_uri": "https://localhost:8080/"
        },
        "id": "3c7Z5H867Hx9",
        "outputId": "c20d6e7b-0ca9-4830-dd97-163e15498152"
      },
      "source": [
        "from sklearn.metrics import confusion_matrix\n",
        "\n",
        "y_gold = [0, 0, 0, 0, 1, 1, 1, 1, 2, 2, 2, 2]\n",
        "y_pred = [0, 0, 0, 1, 1, 1, 0, 2, 2, 0, 0, 1]\n",
        "\n",
        "print(confusion_matrix(y_gold, y_pred))"
      ],
      "execution_count": 43,
      "outputs": [
        {
          "output_type": "stream",
          "text": [
            "[[3 1 0]\n",
            " [1 2 1]\n",
            " [2 1 1]]\n"
          ],
          "name": "stdout"
        }
      ]
    },
    {
      "cell_type": "markdown",
      "metadata": {
        "id": "u_Xba1bfEK1p"
      },
      "source": [
        "## Zadanie 1: Ewaluacja tagerów\n",
        "Zaimplementuj ewaluację wydajnościową (czas predykcji) oraz jakościową (wykorzystaj poznane miary ewaluacyjne) uniwersalnych tagów (UPOS) i lematów (LEMMA) zwróconych przez modele spaCy (pl_core_news_sm) i COMBO. Wykorzystaj wzorcowy zbiór testowy http://mozart.ipipan.waw.pl/~alina/zasoby/data/PDBUD_test.conllu. Ponieważ nie testujemy jakości segmentacji i nie chcemy, żeby błędna segmentacja miała wpływ na jakość predykcji tagów i lematów, to segmentacja zdań w plikach wejściowych powinna być zgodna z segmentacją PDBUD_test.conllu.\n",
        "\n",
        "(nie testujemy modelu morfeuszowego spaCy, bo on nie akceptuje wstępnie posegmentowanego wejścia)"
      ]
    }
  ]
}