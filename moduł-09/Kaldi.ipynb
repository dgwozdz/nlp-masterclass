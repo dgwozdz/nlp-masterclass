{
  "nbformat": 4,
  "nbformat_minor": 0,
  "metadata": {
    "colab": {
      "name": "KaldiSages",
      "provenance": [],
      "collapsed_sections": []
    },
    "kernelspec": {
      "display_name": "Python 3",
      "language": "python",
      "name": "python3"
    },
    "language_info": {
      "codemirror_mode": {
        "name": "ipython",
        "version": 3
      },
      "file_extension": ".py",
      "mimetype": "text/x-python",
      "name": "python",
      "nbconvert_exporter": "python",
      "pygments_lexer": "ipython3",
      "version": "3.7.3"
    }
  },
  "cells": [
    {
      "cell_type": "markdown",
      "metadata": {
        "id": "Z238RwBciB2a"
      },
      "source": [
        "# WFST i rozpoznawanie mowy\n",
        "\n",
        "Zacznijemy od instalacji programów do systemu Kaldi i OpenFST:"
      ]
    },
    {
      "cell_type": "code",
      "metadata": {
        "id": "aoN1B-637NYe"
      },
      "source": [
        "!pip install kora openfst-python arpa -q\n",
        "import kora.install.kaldi"
      ],
      "execution_count": null,
      "outputs": []
    },
    {
      "cell_type": "markdown",
      "metadata": {
        "id": "mpRFaq4YFTeC"
      },
      "source": [
        "Dodajemy lmbin do ścieżki:"
      ]
    },
    {
      "cell_type": "code",
      "metadata": {
        "id": "S6CQJTKNFSqF"
      },
      "source": [
        "import os\n",
        "os.environ['PATH']+=':/opt/kaldi/src/lmbin'"
      ],
      "execution_count": null,
      "outputs": []
    },
    {
      "cell_type": "markdown",
      "metadata": {
        "id": "kGoZHB0YmWaf"
      },
      "source": [
        "Potrzebujemy też:\n",
        "* ngram-count - program do trenowania modelu języka z pakietu SRILM\n",
        "* ngram - program do modyfikacji modelu języka z pakietu SRILM\n",
        "\n",
        "Oprócz tego potrebujemy następujące katalogi:\n",
        "* model - model akustyczny (wytrenowany na nagraniach studyjnych)\n",
        "* nagrania - kilka przykładowych plików audio\n",
        "* make_lexicon.py - program generujący FST zawierający leksykon G2P\n",
        "* sejm - pliki z modelem/nagraniami sejmowymi"
      ]
    },
    {
      "cell_type": "code",
      "metadata": {
        "id": "VR799yharc37"
      },
      "source": [
        ""
      ],
      "execution_count": null,
      "outputs": []
    },
    {
      "cell_type": "markdown",
      "metadata": {
        "id": "l7IYro5KBDMr"
      },
      "source": [
        "## WFST\n",
        "\n",
        "Importujemy moduł biblioteki OpenFST:"
      ]
    },
    {
      "cell_type": "code",
      "metadata": {
        "id": "ZRcRnrc0Z3wU"
      },
      "source": [
        "import openfst_python as fst"
      ],
      "execution_count": null,
      "outputs": []
    },
    {
      "cell_type": "markdown",
      "metadata": {
        "id": "Cx0dn6VriB2o"
      },
      "source": [
        "### Przykład automatu\n",
        "\n",
        "Zaczynamy od deninicji symboli wejściowych (A,B,C) i wyjśćiowych (I,II,III). Używając klasy `fst.SymbolTable` i metody `add_symbol`.\n",
        "\n",
        "Tworzymy objekt `fst.Fst` i ustawiamy odpowiednio `set_input_symbols` oraz `set_output_symbols`.\n",
        "\n",
        "Definiujemy 3 stany s0,s1,s2 metodą `add_state`.\n",
        "\n",
        "Metodą `add_arc` dodajemy objekty `fst.Arc` losowo pomiędzy stanami.\n",
        "\n",
        "Na samym końcu ustawiamy stan początkowy metodą `set_start` oraz stan(y) końcowe metodą `set_final`."
      ]
    },
    {
      "cell_type": "code",
      "metadata": {
        "id": "4wNe_-5FaDxS"
      },
      "source": [
        ""
      ],
      "execution_count": null,
      "outputs": []
    },
    {
      "cell_type": "markdown",
      "metadata": {
        "id": "gNIkoz1oiB2w"
      },
      "source": [
        "Teraz robimy specjalny automat zmieniający liczby rzymskie (I,II,III) na arabskie (1,2,3)."
      ]
    },
    {
      "cell_type": "code",
      "metadata": {
        "id": "Z-PVVFu_zHHD"
      },
      "source": [
        ""
      ],
      "execution_count": null,
      "outputs": []
    },
    {
      "cell_type": "markdown",
      "metadata": {
        "id": "5gF5ftc6iB23"
      },
      "source": [
        "Teraz dokonamy kompozycji dwóch ostatnich automatów:\n"
      ]
    },
    {
      "cell_type": "code",
      "metadata": {
        "id": "THy2rpP4zwMT"
      },
      "source": [
        ""
      ],
      "execution_count": null,
      "outputs": []
    },
    {
      "cell_type": "markdown",
      "metadata": {
        "id": "z39x374diB29"
      },
      "source": [
        "## Rozpoznawanie mowy\n",
        "\n",
        "### Leksykon\n",
        "\n",
        "Bierzemy następujący zestaw fonemów opisany na [tej](https://en.wikipedia.org/wiki/Polish_phonology) stronie.\n",
        "\n",
        "Lista transkrypcji:\n",
        "```\n",
        "[('zero', [\"z\", \"e\", \"r\", \"o\"]),\n",
        " ('jeden', [\"j\", \"e\", \"d\", \"e\", \"n\"]),\n",
        " ('dwa', [\"d\", \"v\", \"a\"]),\n",
        " ('trzy', [\"t\", \"S\", \"I\"]),\n",
        " ('cztery', [\"tS\", \"t\", \"e\", \"r\", \"I\"]),\n",
        " ('pięć', [\"p\", \"j\", \"e~\", \"ts'\"]),\n",
        " ('pięć', [\"p\", \"j\", \"e\", \"n'\", \"ts'\"]),\n",
        " ('sześć', [\"S\", \"e\", \"s'\", \"ts'\"]),\n",
        " ('siedem', [\"s'\", \"e\", \"d\", \"e\", \"m\"]),\n",
        " ('osiem', [\"o\", \"s'\", \"e\", \"m\"]),\n",
        " ('dziewięć', [\"dz'\", \"e\", \"v\", \"j\", \"e~\", \"ts'\"]),\n",
        " ('dziewięć', [\"dz'\", \"e\", \"v\", \"j\", \"e\", \"n'\", \"ts'\"])]\n",
        "```\n",
        "\n",
        "Listy fonemów:\n",
        "\n",
        "- nonsilence_phones - `[\"a\",\"b\",\"d\",\"dz\",\"dz'\",\"dZ\",\"e\",\"e~\",\"f\",\"g\",\"g'\",\"G\",\"i\",\"I\",\"j\",\"k\",\"k'\",\"l\",\"m\",\"n\",\"n'\",\"N\",\"o\",\"o~\",\"p\",\"r\",\"s\",\"s'\",\"S\",\"t\",\"ts\",\"ts'\",\"tS\",\"u\",\"v\",\"w\",\"x\",\"x'\",\"z\",\"z'\",\"Z\"]`\n",
        "- silence_phones - `['sil']`\n",
        "- optional_silence - `'sil'`"
      ]
    },
    {
      "cell_type": "code",
      "metadata": {
        "id": "qS3nCM_eoJfF"
      },
      "source": [
        ""
      ],
      "execution_count": null,
      "outputs": []
    },
    {
      "cell_type": "markdown",
      "metadata": {
        "id": "_cWL_6IbiB3G"
      },
      "source": [
        "Uruchamiamy funkcję `prepare_lexicon` z pliku `make_lexicon.py`:"
      ]
    },
    {
      "cell_type": "code",
      "metadata": {
        "id": "PqWcOFTykSKP"
      },
      "source": [
        ""
      ],
      "execution_count": null,
      "outputs": []
    },
    {
      "cell_type": "markdown",
      "metadata": {
        "id": "wfiwNNoGiB3M"
      },
      "source": [
        "Ustawianie symboli we/wy i wizualizacja:"
      ]
    },
    {
      "cell_type": "code",
      "metadata": {
        "id": "j45tE1672yCI",
        "scrolled": false
      },
      "source": [
        ""
      ],
      "execution_count": null,
      "outputs": []
    },
    {
      "cell_type": "markdown",
      "metadata": {
        "id": "dSv3bvxGiB3P"
      },
      "source": [
        "### Gramatyka\n",
        "\n",
        "Zobacz pliki:\n",
        "* `words.txt`\n",
        "* `phones.txt`\n",
        "* `disambig.int`\n",
        "* `word_boundary.int`"
      ]
    },
    {
      "cell_type": "code",
      "metadata": {
        "id": "s9L1Q7hLnLQM"
      },
      "source": [
        ""
      ],
      "execution_count": null,
      "outputs": []
    },
    {
      "cell_type": "markdown",
      "metadata": {
        "id": "5Wbt5P1BiB3T"
      },
      "source": [
        "Tworzymy gramatykę do rozpoznawania ciągów cyfr, a potem robimy:\n",
        "- `G.arcsort()`\n",
        "- `fst.determinize(G)`\n",
        "- `G.minimize()`"
      ]
    },
    {
      "cell_type": "code",
      "metadata": {
        "id": "Ygi0k5hEZIQX"
      },
      "source": [
        ""
      ],
      "execution_count": null,
      "outputs": []
    },
    {
      "cell_type": "markdown",
      "metadata": {
        "id": "STWerEuziB3Z"
      },
      "source": [
        "Losujemy zdania metodą `fst.randgen`:"
      ]
    },
    {
      "cell_type": "code",
      "metadata": {
        "id": "Qe4c0yD4hsb9"
      },
      "source": [
        ""
      ],
      "execution_count": null,
      "outputs": []
    },
    {
      "cell_type": "markdown",
      "metadata": {
        "id": "ZGViQl2PiB3e"
      },
      "source": [
        "Tworzymy własne zdanie:"
      ]
    },
    {
      "cell_type": "code",
      "metadata": {
        "id": "YxS7aLzKiB3e"
      },
      "source": [
        ""
      ],
      "execution_count": null,
      "outputs": []
    },
    {
      "cell_type": "markdown",
      "metadata": {
        "id": "VSd8WleZiB3j"
      },
      "source": [
        "Testujemy czy zdanie jest zgodne z gramatyką:"
      ]
    },
    {
      "cell_type": "code",
      "metadata": {
        "id": "rfuLkbqUiB3k"
      },
      "source": [
        ""
      ],
      "execution_count": null,
      "outputs": []
    },
    {
      "cell_type": "markdown",
      "metadata": {
        "id": "KTGwvJkPiB3m"
      },
      "source": [
        "### Kompozycja automatu HCLG.fst"
      ]
    },
    {
      "cell_type": "markdown",
      "metadata": {
        "id": "zlxnJJOjiB3v"
      },
      "source": [
        "Łączymy automaty L i G i zapisujemy do pliku 'LG.fst':"
      ]
    },
    {
      "cell_type": "code",
      "metadata": {
        "id": "4nrrJPariB3w"
      },
      "source": [
        ""
      ],
      "execution_count": null,
      "outputs": []
    },
    {
      "cell_type": "markdown",
      "metadata": {
        "id": "lPnj0MZkiB3z"
      },
      "source": [
        "Dodajemy kontekst trifonowy do modelu LG żeby otrzymać CLG:\n"
      ]
    },
    {
      "cell_type": "code",
      "metadata": {
        "id": "xiFw_7Z3iB30"
      },
      "source": [
        "!fstcomposecontext --context-size=3 --central-position=1 --read-disambig-syms=disambig.int --write-disambig-syms=disambig_ilabels.int ilabels LG.fst CLG.fst"
      ],
      "execution_count": null,
      "outputs": []
    },
    {
      "cell_type": "markdown",
      "metadata": {
        "id": "ysm2AKSLiB38"
      },
      "source": [
        "Tworzymy model łączenia stanów H:"
      ]
    },
    {
      "cell_type": "code",
      "metadata": {
        "id": "xd5T7BSFiB39"
      },
      "source": [
        "!make-h-transducer --transition-scale=1.0 --disambig-syms-out=disambig_tid.int ilabels model/tree model/final.mdl H.fst"
      ],
      "execution_count": null,
      "outputs": []
    },
    {
      "cell_type": "markdown",
      "metadata": {
        "id": "EsuKv86hiB3_"
      },
      "source": [
        "Łaczymy H i CGL, a potem minimalizujemy i determinizujemy model:\n"
      ]
    },
    {
      "cell_type": "code",
      "metadata": {
        "id": "aPfyPkmODpIp"
      },
      "source": [
        "!fsttablecompose H.fst CLG.fst - | fstdeterminizestar --use-log=true - | fstrmsymbols disambig_tid.int - - | fstminimizeencoded - - | add-self-loops --self-loop-scale=1.0 --reorder=true model/final.mdl - HCLG.fst"
      ],
      "execution_count": null,
      "outputs": []
    },
    {
      "cell_type": "markdown",
      "metadata": {
        "id": "i4Db0FHAiB4L"
      },
      "source": [
        "### Ekstrakcja cech"
      ]
    },
    {
      "cell_type": "markdown",
      "metadata": {
        "id": "mOHDf4YtiB4Q"
      },
      "source": [
        "Tworzymy plik `wav.scp`:"
      ]
    },
    {
      "cell_type": "code",
      "metadata": {
        "id": "i91KIfeQNgxS"
      },
      "source": [
        ""
      ],
      "execution_count": null,
      "outputs": []
    },
    {
      "cell_type": "markdown",
      "metadata": {
        "id": "qys9qcDjiB4U"
      },
      "source": [
        "Liczymy MFCC programem `compute-mfcc-feats`:\n",
        "\n",
        "- ustawiamy `--use-energy=false`"
      ]
    },
    {
      "cell_type": "code",
      "metadata": {
        "id": "khZXE-ZdiB4V"
      },
      "source": [
        ""
      ],
      "execution_count": null,
      "outputs": []
    },
    {
      "cell_type": "markdown",
      "metadata": {
        "id": "sVaK_mIYiB4X"
      },
      "source": [
        "Liczymy nomralizację programem `compute-cmvn-stats`:"
      ]
    },
    {
      "cell_type": "code",
      "metadata": {
        "id": "jKd6Oh-NiB4Y"
      },
      "source": [
        ""
      ],
      "execution_count": null,
      "outputs": []
    },
    {
      "cell_type": "markdown",
      "metadata": {
        "id": "kjBh9aP9iB4b"
      },
      "source": [
        "Stosujemy CMVN, dodajemy kontekstu z lewej i prawej strony, konwersja LDA:\n",
        "\n",
        "* `apply-cmvn cmvn_stats ark:mfcc ark:-`\n",
        "* `splice-feats --left-context=3 --right-context=3 ark:- ark:-`\n",
        "* `transform-feats model/final.mat ark:- ark:feats`"
      ]
    },
    {
      "cell_type": "code",
      "metadata": {
        "id": "seye3QeC7UV7"
      },
      "source": [
        ""
      ],
      "execution_count": null,
      "outputs": []
    },
    {
      "cell_type": "markdown",
      "metadata": {
        "id": "kr_BXcNCiB4j"
      },
      "source": [
        "### Dekodowanie\n",
        "\n",
        "Program `gmm-decode-faster`:"
      ]
    },
    {
      "cell_type": "code",
      "metadata": {
        "id": "BfUb2yP6NRhV"
      },
      "source": [
        ""
      ],
      "execution_count": null,
      "outputs": []
    },
    {
      "cell_type": "markdown",
      "metadata": {
        "id": "KbqTtkdkNR2R"
      },
      "source": [
        "Dokonujemy rozpoznawania programem `gmm-decode-faster`:"
      ]
    },
    {
      "cell_type": "code",
      "metadata": {
        "id": "wEoHSaSoIHDn"
      },
      "source": [
        ""
      ],
      "execution_count": null,
      "outputs": []
    },
    {
      "cell_type": "markdown",
      "metadata": {
        "id": "CYKXpduCiB4m"
      },
      "source": [
        "Dokonujemy mapowania słów z indeksów na stringi używając symboli `wsyms`:"
      ]
    },
    {
      "cell_type": "code",
      "metadata": {
        "id": "YG5EANYjXha3"
      },
      "source": [
        ""
      ],
      "execution_count": null,
      "outputs": []
    },
    {
      "cell_type": "markdown",
      "metadata": {
        "id": "U93tOQlKiB4q"
      },
      "source": [
        "Wyświetlamy poprawny wynik z pliku `nagrania/text`:"
      ]
    },
    {
      "cell_type": "code",
      "metadata": {
        "id": "pBueQlaqd99K"
      },
      "source": [
        ""
      ],
      "execution_count": null,
      "outputs": []
    },
    {
      "cell_type": "markdown",
      "metadata": {
        "id": "6SiHDK-AiB4z"
      },
      "source": [
        "Liczymy WER programem `compute-wer`:"
      ]
    },
    {
      "cell_type": "code",
      "metadata": {
        "id": "TDgYYQXzgdra"
      },
      "source": [
        ""
      ],
      "execution_count": null,
      "outputs": []
    },
    {
      "cell_type": "markdown",
      "metadata": {
        "id": "CBQrLmK6FMRQ"
      },
      "source": [
        "# Modelowanie języka\n",
        "\n",
        "Robimy przykładowy korpus tekstowy:"
      ]
    },
    {
      "cell_type": "code",
      "metadata": {
        "id": "y2vpbdwBDAiu"
      },
      "source": [
        ""
      ],
      "execution_count": null,
      "outputs": []
    },
    {
      "cell_type": "markdown",
      "metadata": {
        "id": "De-SU771Fp7n"
      },
      "source": [
        "Liczymy prosty model języka:\n",
        "\n",
        "* `-text test.txt`\n",
        "* `-order 3 `\n",
        "* `-wbdiscount`"
      ]
    },
    {
      "cell_type": "code",
      "metadata": {
        "id": "t6s4sk_uFkDR"
      },
      "source": [
        ""
      ],
      "execution_count": null,
      "outputs": []
    },
    {
      "cell_type": "markdown",
      "metadata": {
        "id": "vNXPAb7HHDoN"
      },
      "source": [
        "Wyświetlamy zawartość modelu języka:"
      ]
    },
    {
      "cell_type": "code",
      "metadata": {
        "id": "U8cddrtTGtYT"
      },
      "source": [
        ""
      ],
      "execution_count": null,
      "outputs": []
    },
    {
      "cell_type": "markdown",
      "metadata": {
        "id": "PXHzg-u2HNaO"
      },
      "source": [
        "Format tego pliku jest dosyć prosty i czytelny. Składa się z nagłówka zaczynającego od tokenu `/data/` i zawierającego liczność poszczególnych n-gramów. Potem mamy kolejne sekcje, każda zawierająca listę poszczególnych n-gramów.\n",
        "\n",
        "Każdy n-gram jest opisany dwoma lub trzema polami oddzielonymi znakami `\\t`:\n",
        "* prawdopodobieństwo danego n-gramu w skali logarytmicznej\n",
        "* opis samego n-gramu (tokeny/słowa oddzielone spacją)\n",
        "* opcjonalnie tzw. \"*back-off weight*\" też w skali log\n",
        "\n",
        "Back-off jest metodą do określenia prawdopodobieństwa n-gramów wyższego stopnia użwyając n-gramów niższego. Z tego powodu, najwyższe n-gramy (w naszym przypadku 3-gramy) nie mają policzonych wag back-off. Algorytm liczenia prawdopodonieństwa n-gramu jest następujący:\n",
        "\n",
        "* jeśli na liście jest dokładnie ten n-gram którego szukamy, bierzemy jego prawdopodobieństwo\n",
        "* jeśli go nie ma liście, bierzemy prawdopodobieństwo według wzoru:\n",
        "\n",
        "\\begin{equation}\n",
        "P( word_N | word_{N-1}, word_{N-2}, ...., word_1 ) = \\\\\n",
        "P( word_N | word_{N-1}, word_{N-2}, ...., word_2 ) \\cdot \\text{backoff-weight}(  word_{N-1} | word_{N-2}, ...., word_1 )\n",
        "\\end{equation}\n",
        "\n",
        "* jeśli brakuje prawdopodobieństwa n-gramu mniejszego stopnia, wtedy rekurencyjnie stosujemy ten sam wzór aż do unigramów (które wszystkie powinny być zdefiniowane)\n",
        "* jeśli brakuje wagi back-off, zakładmy wartość 1 (czyli 0 w skali logarytmicznej)\n",
        "\n",
        "Na przykład, prawdopodobieństwo n-gramu \"*ala ma*\" jest następujące:\n",
        "\n",
        "\\begin{equation}\n",
        "P(ma|ala) = 10^{-0.1760913} = 0.6666666038148176\n",
        "\\end{equation}\n",
        "\n",
        "A prawdopodobieństwo n-gramu \"*jan ma psa*\":\n",
        "\n",
        "\n",
        "\\begin{equation}\n",
        "P(psa|jan,ma) = P(psa|ma)*bwt(ma|jan)=10^{(-0.69897+0)}=0.20000000199681048\n",
        "\\end{equation}\n",
        "\n",
        "Użyjemy prostej biblioteki `arpa` żeby potwierdzić powyższe obliczenia. Dokumentacja do biblioteki jest [tutaj](https://pypi.org/project/arpa/)."
      ]
    },
    {
      "cell_type": "code",
      "metadata": {
        "id": "GHY7WTKrHHRz"
      },
      "source": [
        ""
      ],
      "execution_count": null,
      "outputs": []
    },
    {
      "cell_type": "markdown",
      "metadata": {
        "id": "oZJsrnoIHmfK"
      },
      "source": [
        "Robimy testowy plik tekstowy:"
      ]
    },
    {
      "cell_type": "code",
      "metadata": {
        "id": "BrBFJ6w0HMK3"
      },
      "source": [
        ""
      ],
      "execution_count": null,
      "outputs": []
    },
    {
      "cell_type": "markdown",
      "metadata": {
        "id": "-5myrZGSH5BY"
      },
      "source": [
        "Liczymy perplexity:"
      ]
    },
    {
      "cell_type": "code",
      "metadata": {
        "id": "2YX94UMHHo3p"
      },
      "source": [
        ""
      ],
      "execution_count": null,
      "outputs": []
    },
    {
      "cell_type": "markdown",
      "metadata": {
        "id": "_RS8iiDTIH37"
      },
      "source": [
        "Generujemy losowe zdania z modelu języka:"
      ]
    },
    {
      "cell_type": "code",
      "metadata": {
        "id": "uYUwavCuH_of"
      },
      "source": [
        ""
      ],
      "execution_count": null,
      "outputs": []
    },
    {
      "cell_type": "markdown",
      "metadata": {
        "id": "rBVRtcn7IYKk"
      },
      "source": [
        "Konwertujemy model języka na G.fst:"
      ]
    },
    {
      "cell_type": "code",
      "metadata": {
        "id": "rsvMmdNHIUw6"
      },
      "source": [
        ""
      ],
      "execution_count": null,
      "outputs": []
    },
    {
      "cell_type": "markdown",
      "metadata": {
        "id": "fxsoZhK9KQdt"
      },
      "source": [
        "## Dane sejmowe\n",
        "\n",
        "Trenujemy model języka na pliku `sejm/text`:\n",
        "* `-order 3`\n",
        "* `-unk`\n",
        "* `-kndiscount`\n",
        "* `-text sejm/text`\n",
        "* `-write-vocab words.list`"
      ]
    },
    {
      "cell_type": "code",
      "metadata": {
        "id": "-vM1UKxrKLbd"
      },
      "source": [
        ""
      ],
      "execution_count": null,
      "outputs": []
    },
    {
      "cell_type": "markdown",
      "metadata": {
        "id": "K-fFXDR2KfFD"
      },
      "source": [
        "Generujemy losowe zdania z tego modelu:"
      ]
    },
    {
      "cell_type": "code",
      "metadata": {
        "id": "-CeVsm5kxybD"
      },
      "source": [
        ""
      ],
      "execution_count": null,
      "outputs": []
    },
    {
      "cell_type": "markdown",
      "metadata": {
        "id": "8XvGYt2BKwKt"
      },
      "source": [
        "Liczymy perplexity tranksrypcji nagrań:"
      ]
    },
    {
      "cell_type": "code",
      "metadata": {
        "id": "gh8U2vDzKn5I"
      },
      "source": [
        ""
      ],
      "execution_count": null,
      "outputs": []
    },
    {
      "cell_type": "markdown",
      "metadata": {
        "id": "-XOVMVD_LZSh"
      },
      "source": [
        "## WFST\n",
        "\n",
        "Generujemy `G.fst`:"
      ]
    },
    {
      "cell_type": "code",
      "metadata": {
        "id": "L2yWfqx6LaSO"
      },
      "source": [
        "!gunzip -c sejm.arpa.gz | arpa2fst --disambig-symbol=#0 --read-symbol-table=sejm/lang/words.txt - G.fst"
      ],
      "execution_count": null,
      "outputs": []
    },
    {
      "cell_type": "markdown",
      "metadata": {
        "id": "3WhAYvoeLpGq"
      },
      "source": [
        "Generujemy `HCLG.fst`:"
      ]
    },
    {
      "cell_type": "code",
      "metadata": {
        "id": "DtottYEHLlTH"
      },
      "source": [
        "!fsttablecompose sejm/lang/L_disambig.fst G.fst | fstdeterminizestar --use-log=true | fstminimizeencoded | fstpushspecial > LG.fst\n",
        "!fstcomposecontext --context-size=3 --central-position=1 --read-disambig-syms=sejm/lang/phones/disambig.int --write-disambig-syms=disambig_ilabels.int ilabels LG.fst | fstarcsort --sort_type=ilabel > CLG.fst\n",
        "!make-h-transducer --disambig-syms-out=disambig_tid.int --transition-scale=1.0 ilabels sejm/model/tree sejm/model/final.mdl H.fst\n",
        "!fsttablecompose H.fst CLG.fst - | fstdeterminizestar --use-log=true - - | fstrmsymbols disambig_tid.int - - | fstminimizeencoded - - | add-self-loops --self-loop-scale=0.1 --reorder=true sejm/model/final.mdl - HCLG.fst"
      ],
      "execution_count": null,
      "outputs": []
    },
    {
      "cell_type": "markdown",
      "metadata": {
        "id": "5SVTJEWOMLyb"
      },
      "source": [
        "## Ekstrakcja cech\n",
        "\n",
        "Liczymy cechy z katalogu `sejm/audio`:"
      ]
    },
    {
      "cell_type": "code",
      "metadata": {
        "id": "LX_OrLKZL3eC"
      },
      "source": [
        ""
      ],
      "execution_count": null,
      "outputs": []
    },
    {
      "cell_type": "markdown",
      "metadata": {
        "id": "PTuQRq2TMj_p"
      },
      "source": [
        "## Rozpoznawanie\n",
        "\n",
        "Uruchamiamy dekoder:"
      ]
    },
    {
      "cell_type": "code",
      "metadata": {
        "id": "q36mxAWGMmyf"
      },
      "source": [
        ""
      ],
      "execution_count": null,
      "outputs": []
    },
    {
      "cell_type": "markdown",
      "metadata": {
        "id": "wfJtjHAEM_CA"
      },
      "source": [
        "Konwertujemy plik wyjściowy z indeksów na tekst:"
      ]
    },
    {
      "cell_type": "code",
      "metadata": {
        "id": "sYVmlSpuMsO9"
      },
      "source": [
        ""
      ],
      "execution_count": null,
      "outputs": []
    },
    {
      "cell_type": "markdown",
      "metadata": {
        "id": "KJjesPmRfx_F"
      },
      "source": [
        ""
      ]
    },
    {
      "cell_type": "markdown",
      "metadata": {
        "id": "WHHLIyzjNJN0"
      },
      "source": [
        "Liczymy końcowy WER:"
      ]
    },
    {
      "cell_type": "code",
      "metadata": {
        "id": "ba8Af-QoNKfi"
      },
      "source": [
        ""
      ],
      "execution_count": null,
      "outputs": []
    },
    {
      "cell_type": "markdown",
      "metadata": {
        "id": "2-qaBuKsyZK3"
      },
      "source": [
        "# Przykładowe zadania\n",
        "\n",
        "* przygotuj własne nagrania do przetestowania rozpoznawania mowy\n",
        "* przetestuj wpływ różnych parametrów dekodowania na prędkość i jakość rozpoznawania\n",
        "* wymyśl własną gramatykę i stwórz system rozpoznawania mowy, który będzie rozpoznawał zdania z tej gramatyki\n",
        "* przygotuj korpus tekstów, wytrenuj model języka i stwórz model do rozpoznawania zdań z tego modelu\n",
        "* wygeneruj kratę programem `gmm-latgen-faster` i narysuj jej zawartość\n",
        "* przetestuj metody rescoringu krat i liczenia oracle"
      ]
    }
  ]
}