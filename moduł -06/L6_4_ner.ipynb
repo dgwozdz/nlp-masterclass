{
 "cells": [
  {
   "cell_type": "markdown",
   "metadata": {
    "id": "nnBOV3RX1AhF"
   },
   "source": [
    "# Rozpoznawanie jednostek nazewniczych"
   ]
  },
  {
   "cell_type": "markdown",
   "metadata": {
    "id": "zDzjdWVH1JM7"
   },
   "source": [
    "Narzędzia:\n",
    "\n",
    "*   rozpoznawanie i kategoryzacja:\n",
    "  *   spaCy\n",
    "  *   PolDeepNer2 — **wymaga GPU**,\n",
    "* lematyzacja:\n",
    "  *   Polem \n",
    "\n"
   ]
  },
  {
   "cell_type": "markdown",
   "metadata": {
    "id": "rwNM30HFkKlq"
   },
   "source": [
    "### spaCy"
   ]
  },
  {
   "cell_type": "markdown",
   "metadata": {
    "id": "surQF0c31s8X"
   },
   "source": [
    "Modele:\n",
    "\n",
    "\n",
    "*   pl_core_news_sm\n",
    "*   pl_core_news_md\n",
    "*   pl_core_news_lg\n",
    "*   **pl_spacy_model_morfeusz**\n",
    "\n"
   ]
  },
  {
   "cell_type": "markdown",
   "metadata": {
    "id": "BXSBShOOkOUB"
   },
   "source": [
    "#### Przygotowanie"
   ]
  },
  {
   "cell_type": "code",
   "execution_count": null,
   "metadata": {
    "colab": {
     "base_uri": "https://localhost:8080/"
    },
    "id": "z15AujbOxUqY",
    "outputId": "d2fc1ae5-23f1-4032-b05a-b90eb0064080"
   },
   "outputs": [
    {
     "name": "stdout",
     "output_type": "stream",
     "text": [
      "Collecting spacy==2.3.2\n",
      "\u001b[?25l  Downloading https://files.pythonhosted.org/packages/10/b5/c7a92c7ce5d4b353b70b4b5b4385687206c8b230ddfe08746ab0fd310a3a/spacy-2.3.2-cp36-cp36m-manylinux1_x86_64.whl (9.9MB)\n",
      "\u001b[K     |████████████████████████████████| 10.0MB 17.4MB/s \n",
      "\u001b[?25hRequirement already satisfied, skipping upgrade: numpy>=1.15.0 in /usr/local/lib/python3.6/dist-packages (from spacy==2.3.2) (1.19.4)\n",
      "Requirement already satisfied, skipping upgrade: blis<0.5.0,>=0.4.0 in /usr/local/lib/python3.6/dist-packages (from spacy==2.3.2) (0.4.1)\n",
      "Requirement already satisfied, skipping upgrade: tqdm<5.0.0,>=4.38.0 in /usr/local/lib/python3.6/dist-packages (from spacy==2.3.2) (4.41.1)\n",
      "Collecting thinc==7.4.1\n",
      "\u001b[?25l  Downloading https://files.pythonhosted.org/packages/10/ae/ef3ae5e93639c0ef8e3eb32e3c18341e511b3c515fcfc603f4b808087651/thinc-7.4.1-cp36-cp36m-manylinux1_x86_64.whl (2.1MB)\n",
      "\u001b[K     |████████████████████████████████| 2.1MB 38.5MB/s \n",
      "\u001b[?25hRequirement already satisfied, skipping upgrade: srsly<1.1.0,>=1.0.2 in /usr/local/lib/python3.6/dist-packages (from spacy==2.3.2) (1.0.5)\n",
      "Requirement already satisfied, skipping upgrade: requests<3.0.0,>=2.13.0 in /usr/local/lib/python3.6/dist-packages (from spacy==2.3.2) (2.23.0)\n",
      "Requirement already satisfied, skipping upgrade: preshed<3.1.0,>=3.0.2 in /usr/local/lib/python3.6/dist-packages (from spacy==2.3.2) (3.0.5)\n",
      "Requirement already satisfied, skipping upgrade: plac<1.2.0,>=0.9.6 in /usr/local/lib/python3.6/dist-packages (from spacy==2.3.2) (1.1.3)\n",
      "Requirement already satisfied, skipping upgrade: wasabi<1.1.0,>=0.4.0 in /usr/local/lib/python3.6/dist-packages (from spacy==2.3.2) (0.8.0)\n",
      "Requirement already satisfied, skipping upgrade: catalogue<1.1.0,>=0.0.7 in /usr/local/lib/python3.6/dist-packages (from spacy==2.3.2) (1.0.0)\n",
      "Requirement already satisfied, skipping upgrade: murmurhash<1.1.0,>=0.28.0 in /usr/local/lib/python3.6/dist-packages (from spacy==2.3.2) (1.0.5)\n",
      "Requirement already satisfied, skipping upgrade: setuptools in /usr/local/lib/python3.6/dist-packages (from spacy==2.3.2) (51.0.0)\n",
      "Requirement already satisfied, skipping upgrade: cymem<2.1.0,>=2.0.2 in /usr/local/lib/python3.6/dist-packages (from spacy==2.3.2) (2.0.5)\n",
      "Requirement already satisfied, skipping upgrade: chardet<4,>=3.0.2 in /usr/local/lib/python3.6/dist-packages (from requests<3.0.0,>=2.13.0->spacy==2.3.2) (3.0.4)\n",
      "Requirement already satisfied, skipping upgrade: certifi>=2017.4.17 in /usr/local/lib/python3.6/dist-packages (from requests<3.0.0,>=2.13.0->spacy==2.3.2) (2020.12.5)\n",
      "Requirement already satisfied, skipping upgrade: urllib3!=1.25.0,!=1.25.1,<1.26,>=1.21.1 in /usr/local/lib/python3.6/dist-packages (from requests<3.0.0,>=2.13.0->spacy==2.3.2) (1.24.3)\n",
      "Requirement already satisfied, skipping upgrade: idna<3,>=2.5 in /usr/local/lib/python3.6/dist-packages (from requests<3.0.0,>=2.13.0->spacy==2.3.2) (2.10)\n",
      "Requirement already satisfied, skipping upgrade: importlib-metadata>=0.20; python_version < \"3.8\" in /usr/local/lib/python3.6/dist-packages (from catalogue<1.1.0,>=0.0.7->spacy==2.3.2) (3.3.0)\n",
      "Requirement already satisfied, skipping upgrade: zipp>=0.5 in /usr/local/lib/python3.6/dist-packages (from importlib-metadata>=0.20; python_version < \"3.8\"->catalogue<1.1.0,>=0.0.7->spacy==2.3.2) (3.4.0)\n",
      "Requirement already satisfied, skipping upgrade: typing-extensions>=3.6.4; python_version < \"3.8\" in /usr/local/lib/python3.6/dist-packages (from importlib-metadata>=0.20; python_version < \"3.8\"->catalogue<1.1.0,>=0.0.7->spacy==2.3.2) (3.7.4.3)\n",
      "Installing collected packages: thinc, spacy\n",
      "  Found existing installation: thinc 7.4.0\n",
      "    Uninstalling thinc-7.4.0:\n",
      "      Successfully uninstalled thinc-7.4.0\n",
      "  Found existing installation: spacy 2.2.4\n",
      "    Uninstalling spacy-2.2.4:\n",
      "      Successfully uninstalled spacy-2.2.4\n",
      "Successfully installed spacy-2.3.2 thinc-7.4.1\n"
     ]
    }
   ],
   "source": [
    "!pip install spacy==2.3.2 -U"
   ]
  },
  {
   "cell_type": "code",
   "execution_count": null,
   "metadata": {
    "colab": {
     "base_uri": "https://localhost:8080/"
    },
    "id": "5Hrs-mgeim2M",
    "outputId": "36b3cc47-2cac-45f5-b751-dae56e739c7b"
   },
   "outputs": [
    {
     "name": "stdout",
     "output_type": "stream",
     "text": [
      "--2020-12-31 13:38:53--  http://download.sgjp.pl/apt/sgjp.gpg.key\n",
      "Resolving download.sgjp.pl (download.sgjp.pl)... 193.0.67.154\n",
      "Connecting to download.sgjp.pl (download.sgjp.pl)|193.0.67.154|:80... connected.\n",
      "HTTP request sent, awaiting response... 200 OK\n",
      "Length: 1029 (1.0K) [application/pgp-keys]\n",
      "Saving to: ‘STDOUT’\n",
      "\n",
      "\r",
      "-                     0%[                    ]       0  --.-KB/s               \r",
      "-                   100%[===================>]   1.00K  --.-KB/s    in 0s      \n",
      "\n",
      "2020-12-31 13:38:54 (148 MB/s) - written to stdout [1029/1029]\n",
      "\n",
      "OK\n",
      "Get:1 http://security.ubuntu.com/ubuntu bionic-security InRelease [88.7 kB]\n",
      "Get:2 https://cloud.r-project.org/bin/linux/ubuntu bionic-cran40/ InRelease [3,626 B]\n",
      "Ign:3 https://developer.download.nvidia.com/compute/cuda/repos/ubuntu1804/x86_64  InRelease\n",
      "Get:4 https://cloud.r-project.org/bin/linux/ubuntu bionic-cran40/ Packages [41.5 kB]\n",
      "Get:5 http://ppa.launchpad.net/c2d4u.team/c2d4u4.0+/ubuntu bionic InRelease [15.9 kB]\n",
      "Ign:6 https://developer.download.nvidia.com/compute/machine-learning/repos/ubuntu1804/x86_64  InRelease\n",
      "Hit:7 https://developer.download.nvidia.com/compute/cuda/repos/ubuntu1804/x86_64  Release\n",
      "Hit:8 https://developer.download.nvidia.com/compute/machine-learning/repos/ubuntu1804/x86_64  Release\n",
      "Get:9 http://download.sgjp.pl/apt/ubuntu bionic InRelease [1,979 B]\n",
      "Hit:10 http://archive.ubuntu.com/ubuntu bionic InRelease\n",
      "Get:12 http://archive.ubuntu.com/ubuntu bionic-updates InRelease [88.7 kB]\n",
      "Hit:13 http://ppa.launchpad.net/cran/libgit2/ubuntu bionic InRelease\n",
      "Hit:15 http://ppa.launchpad.net/graphics-drivers/ppa/ubuntu bionic InRelease\n",
      "Get:16 http://archive.ubuntu.com/ubuntu bionic-backports InRelease [74.6 kB]\n",
      "Get:17 http://download.sgjp.pl/apt/ubuntu bionic/main amd64 Packages [1,948 B]\n",
      "Get:18 http://ppa.launchpad.net/c2d4u.team/c2d4u4.0+/ubuntu bionic/main Sources [1,703 kB]\n",
      "Get:19 http://ppa.launchpad.net/c2d4u.team/c2d4u4.0+/ubuntu bionic/main amd64 Packages [872 kB]\n",
      "Fetched 2,892 kB in 2s (1,644 kB/s)\n",
      "Reading package lists... Done\n",
      "Hit:1 http://security.ubuntu.com/ubuntu bionic-security InRelease\n",
      "Hit:2 https://cloud.r-project.org/bin/linux/ubuntu bionic-cran40/ InRelease\n",
      "Ign:3 https://developer.download.nvidia.com/compute/cuda/repos/ubuntu1804/x86_64  InRelease\n",
      "Hit:4 http://ppa.launchpad.net/c2d4u.team/c2d4u4.0+/ubuntu bionic InRelease\n",
      "Hit:5 http://archive.ubuntu.com/ubuntu bionic InRelease\n",
      "Ign:6 https://developer.download.nvidia.com/compute/machine-learning/repos/ubuntu1804/x86_64  InRelease\n",
      "Hit:7 https://developer.download.nvidia.com/compute/cuda/repos/ubuntu1804/x86_64  Release\n",
      "Hit:8 https://developer.download.nvidia.com/compute/machine-learning/repos/ubuntu1804/x86_64  Release\n",
      "Hit:9 http://download.sgjp.pl/apt/ubuntu bionic InRelease\n",
      "Hit:10 http://archive.ubuntu.com/ubuntu bionic-updates InRelease\n",
      "Hit:11 http://ppa.launchpad.net/cran/libgit2/ubuntu bionic InRelease\n",
      "Hit:12 http://archive.ubuntu.com/ubuntu bionic-backports InRelease\n",
      "Hit:14 http://ppa.launchpad.net/graphics-drivers/ppa/ubuntu bionic InRelease\n",
      "Reading package lists... Done\n",
      "Building dependency tree       \n",
      "Reading state information... Done\n",
      "17 packages can be upgraded. Run 'apt list --upgradable' to see them.\n",
      "Reading package lists... Done\n",
      "Building dependency tree       \n",
      "Reading state information... Done\n",
      "The following additional packages will be installed:\n",
      "  morfeusz2-dictionary-sgjp\n",
      "Suggested packages:\n",
      "  morfeusz2-dictionary-polimorf\n",
      "The following NEW packages will be installed:\n",
      "  libmorfeusz2 morfeusz2-dictionary-sgjp\n",
      "0 upgraded, 2 newly installed, 0 to remove and 17 not upgraded.\n",
      "Need to get 4,848 kB of archives.\n",
      "After this operation, 20.0 MB of additional disk space will be used.\n",
      "Get:1 http://download.sgjp.pl/apt/ubuntu bionic/main amd64 morfeusz2-dictionary-sgjp all 20201227 [4,709 kB]\n",
      "Get:2 http://download.sgjp.pl/apt/ubuntu bionic/main amd64 libmorfeusz2 amd64 1.9.17-18.04 [139 kB]\n",
      "Fetched 4,848 kB in 1s (4,268 kB/s)\n",
      "debconf: unable to initialize frontend: Dialog\n",
      "debconf: (No usable dialog-like program is installed, so the dialog based frontend cannot be used. at /usr/share/perl5/Debconf/FrontEnd/Dialog.pm line 76, <> line 2.)\n",
      "debconf: falling back to frontend: Readline\n",
      "debconf: unable to initialize frontend: Readline\n",
      "debconf: (This frontend requires a controlling tty.)\n",
      "debconf: falling back to frontend: Teletype\n",
      "dpkg-preconfigure: unable to re-open stdin: \n",
      "Selecting previously unselected package morfeusz2-dictionary-sgjp.\n",
      "(Reading database ... 145480 files and directories currently installed.)\n",
      "Preparing to unpack .../morfeusz2-dictionary-sgjp_20201227_all.deb ...\n",
      "Unpacking morfeusz2-dictionary-sgjp (20201227) ...\n",
      "Selecting previously unselected package libmorfeusz2.\n",
      "Preparing to unpack .../libmorfeusz2_1.9.17-18.04_amd64.deb ...\n",
      "Unpacking libmorfeusz2 (1.9.17-18.04) ...\n",
      "Setting up morfeusz2-dictionary-sgjp (20201227) ...\n",
      "Setting up libmorfeusz2 (1.9.17-18.04) ...\n",
      "Processing triggers for libc-bin (2.27-3ubuntu1.2) ...\n",
      "/sbin/ldconfig.real: /usr/local/lib/python3.6/dist-packages/ideep4py/lib/libmkldnn.so.0 is not a symbolic link\n",
      "\n",
      "Reading package lists... Done\n",
      "Building dependency tree       \n",
      "Reading state information... Done\n",
      "The following NEW packages will be installed:\n",
      "  python3-morfeusz2\n",
      "0 upgraded, 1 newly installed, 0 to remove and 17 not upgraded.\n",
      "Need to get 120 kB of archives.\n",
      "After this operation, 518 kB of additional disk space will be used.\n",
      "Get:1 http://download.sgjp.pl/apt/ubuntu bionic/main amd64 python3-morfeusz2 amd64 1.9.17-18.04 [120 kB]\n",
      "Fetched 120 kB in 1s (224 kB/s)\n",
      "debconf: unable to initialize frontend: Dialog\n",
      "debconf: (No usable dialog-like program is installed, so the dialog based frontend cannot be used. at /usr/share/perl5/Debconf/FrontEnd/Dialog.pm line 76, <> line 1.)\n",
      "debconf: falling back to frontend: Readline\n",
      "debconf: unable to initialize frontend: Readline\n",
      "debconf: (This frontend requires a controlling tty.)\n",
      "debconf: falling back to frontend: Teletype\n",
      "dpkg-preconfigure: unable to re-open stdin: \n",
      "Selecting previously unselected package python3-morfeusz2.\n",
      "(Reading database ... 145485 files and directories currently installed.)\n",
      "Preparing to unpack .../python3-morfeusz2_1.9.17-18.04_amd64.deb ...\n",
      "Unpacking python3-morfeusz2 (1.9.17-18.04) ...\n",
      "Setting up python3-morfeusz2 (1.9.17-18.04) ...\n"
     ]
    }
   ],
   "source": [
    "!wget -O - http://download.sgjp.pl/apt/sgjp.gpg.key|sudo apt-key add -\n",
    "!sudo apt-add-repository http://download.sgjp.pl/apt/ubuntu\n",
    "!sudo apt update\n",
    "!sudo apt install libmorfeusz2\n",
    "!sudo apt install python3-morfeusz2\n",
    "!wget http://download.sgjp.pl/morfeusz/20210221/Linux/18.04/64/morfeusz2-1.9.17-cp37-cp37m-linux_x86_64.whl -O morfeusz2-1.9.17-cp37-cp37m-linux_x86_64.whl\n",
    "!python3 -m pip install --upgrade --force-reinstall morfeusz2-1.9.17-cp37-cp37m-linux_x86_64.whl"
   ]
  },
  {
   "cell_type": "code",
   "execution_count": null,
   "metadata": {
    "colab": {
     "base_uri": "https://localhost:8080/"
    },
    "id": "2Cgza8mEixXk",
    "outputId": "31a15bcd-349d-4edd-b257-284e0bc2dd6d"
   },
   "outputs": [
    {
     "name": "stdout",
     "output_type": "stream",
     "text": [
      "--2020-12-31 13:39:13--  http://mozart.ipipan.waw.pl/~alina/zasoby/data/pl_spacy_model_morfeusz-0.1.3.tar.gz\n",
      "Resolving mozart.ipipan.waw.pl (mozart.ipipan.waw.pl)... 213.135.36.148\n",
      "Connecting to mozart.ipipan.waw.pl (mozart.ipipan.waw.pl)|213.135.36.148|:80... connected.\n",
      "HTTP request sent, awaiting response... 200 OK\n",
      "Length: 229068993 (218M) [application/x-gzip]\n",
      "Saving to: ‘zasoby/pl_spacy_model_morfeusz-0.1.3.tar.gz’\n",
      "\n",
      "pl_spacy_model_morf 100%[===================>] 218.46M  24.3MB/s    in 10s     \n",
      "\n",
      "2020-12-31 13:39:24 (21.8 MB/s) - ‘zasoby/pl_spacy_model_morfeusz-0.1.3.tar.gz’ saved [229068993/229068993]\n",
      "\n"
     ]
    }
   ],
   "source": [
    "! wget -P zasoby http://mozart.ipipan.waw.pl/~alina/zasoby/data/pl_spacy_model_morfeusz-0.1.3.tar.gz"
   ]
  },
  {
   "cell_type": "code",
   "execution_count": null,
   "metadata": {
    "colab": {
     "base_uri": "https://localhost:8080/"
    },
    "id": "Yf9Vyz4CjMZt",
    "outputId": "ac905efe-c369-4ddd-a677-e3b71e32641d"
   },
   "outputs": [
    {
     "name": "stdout",
     "output_type": "stream",
     "text": [
      "Processing ./zasoby/pl_spacy_model_morfeusz-0.1.3.tar.gz\n",
      "Requirement already satisfied: spacy==2.3.2 in /usr/local/lib/python3.6/dist-packages (from pl-spacy-model-morfeusz==0.1.3) (2.3.2)\n",
      "Collecting distance\n",
      "\u001b[?25l  Downloading https://files.pythonhosted.org/packages/5c/1a/883e47df323437aefa0d0a92ccfb38895d9416bd0b56262c2e46a47767b8/Distance-0.1.3.tar.gz (180kB)\n",
      "\u001b[K     |████████████████████████████████| 184kB 11.8MB/s \n",
      "\u001b[?25hRequirement already satisfied: keras==2.4.3 in /usr/local/lib/python3.6/dist-packages (from pl-spacy-model-morfeusz==0.1.3) (2.4.3)\n",
      "Requirement already satisfied: numpy in /usr/local/lib/python3.6/dist-packages (from pl-spacy-model-morfeusz==0.1.3) (1.19.4)\n",
      "Collecting tensorflow==2.3.1\n",
      "\u001b[?25l  Downloading https://files.pythonhosted.org/packages/ad/ad/769c195c72ac72040635c66cd9ba7b0f4b4fc1ac67e59b99fa6988446c22/tensorflow-2.3.1-cp36-cp36m-manylinux2010_x86_64.whl (320.4MB)\n",
      "\u001b[K     |████████████████████████████████| 320.4MB 50kB/s \n",
      "\u001b[?25hRequirement already satisfied: srsly<1.1.0,>=1.0.2 in /usr/local/lib/python3.6/dist-packages (from spacy==2.3.2->pl-spacy-model-morfeusz==0.1.3) (1.0.5)\n",
      "Requirement already satisfied: preshed<3.1.0,>=3.0.2 in /usr/local/lib/python3.6/dist-packages (from spacy==2.3.2->pl-spacy-model-morfeusz==0.1.3) (3.0.5)\n",
      "Requirement already satisfied: requests<3.0.0,>=2.13.0 in /usr/local/lib/python3.6/dist-packages (from spacy==2.3.2->pl-spacy-model-morfeusz==0.1.3) (2.23.0)\n",
      "Requirement already satisfied: murmurhash<1.1.0,>=0.28.0 in /usr/local/lib/python3.6/dist-packages (from spacy==2.3.2->pl-spacy-model-morfeusz==0.1.3) (1.0.5)\n",
      "Requirement already satisfied: plac<1.2.0,>=0.9.6 in /usr/local/lib/python3.6/dist-packages (from spacy==2.3.2->pl-spacy-model-morfeusz==0.1.3) (1.1.3)\n",
      "Requirement already satisfied: cymem<2.1.0,>=2.0.2 in /usr/local/lib/python3.6/dist-packages (from spacy==2.3.2->pl-spacy-model-morfeusz==0.1.3) (2.0.5)\n",
      "Requirement already satisfied: setuptools in /usr/local/lib/python3.6/dist-packages (from spacy==2.3.2->pl-spacy-model-morfeusz==0.1.3) (51.0.0)\n",
      "Requirement already satisfied: tqdm<5.0.0,>=4.38.0 in /usr/local/lib/python3.6/dist-packages (from spacy==2.3.2->pl-spacy-model-morfeusz==0.1.3) (4.41.1)\n",
      "Requirement already satisfied: catalogue<1.1.0,>=0.0.7 in /usr/local/lib/python3.6/dist-packages (from spacy==2.3.2->pl-spacy-model-morfeusz==0.1.3) (1.0.0)\n",
      "Requirement already satisfied: blis<0.5.0,>=0.4.0 in /usr/local/lib/python3.6/dist-packages (from spacy==2.3.2->pl-spacy-model-morfeusz==0.1.3) (0.4.1)\n",
      "Requirement already satisfied: thinc==7.4.1 in /usr/local/lib/python3.6/dist-packages (from spacy==2.3.2->pl-spacy-model-morfeusz==0.1.3) (7.4.1)\n",
      "Requirement already satisfied: wasabi<1.1.0,>=0.4.0 in /usr/local/lib/python3.6/dist-packages (from spacy==2.3.2->pl-spacy-model-morfeusz==0.1.3) (0.8.0)\n",
      "Requirement already satisfied: pyyaml in /usr/local/lib/python3.6/dist-packages (from keras==2.4.3->pl-spacy-model-morfeusz==0.1.3) (3.13)\n",
      "Requirement already satisfied: scipy>=0.14 in /usr/local/lib/python3.6/dist-packages (from keras==2.4.3->pl-spacy-model-morfeusz==0.1.3) (1.4.1)\n",
      "Requirement already satisfied: h5py in /usr/local/lib/python3.6/dist-packages (from keras==2.4.3->pl-spacy-model-morfeusz==0.1.3) (2.10.0)\n",
      "Requirement already satisfied: wheel>=0.26 in /usr/local/lib/python3.6/dist-packages (from tensorflow==2.3.1->pl-spacy-model-morfeusz==0.1.3) (0.36.2)\n",
      "Requirement already satisfied: wrapt>=1.11.1 in /usr/local/lib/python3.6/dist-packages (from tensorflow==2.3.1->pl-spacy-model-morfeusz==0.1.3) (1.12.1)\n",
      "Requirement already satisfied: absl-py>=0.7.0 in /usr/local/lib/python3.6/dist-packages (from tensorflow==2.3.1->pl-spacy-model-morfeusz==0.1.3) (0.10.0)\n",
      "Requirement already satisfied: termcolor>=1.1.0 in /usr/local/lib/python3.6/dist-packages (from tensorflow==2.3.1->pl-spacy-model-morfeusz==0.1.3) (1.1.0)\n",
      "Requirement already satisfied: google-pasta>=0.1.8 in /usr/local/lib/python3.6/dist-packages (from tensorflow==2.3.1->pl-spacy-model-morfeusz==0.1.3) (0.2.0)\n",
      "Requirement already satisfied: opt-einsum>=2.3.2 in /usr/local/lib/python3.6/dist-packages (from tensorflow==2.3.1->pl-spacy-model-morfeusz==0.1.3) (3.3.0)\n",
      "Requirement already satisfied: protobuf>=3.9.2 in /usr/local/lib/python3.6/dist-packages (from tensorflow==2.3.1->pl-spacy-model-morfeusz==0.1.3) (3.12.4)\n",
      "Requirement already satisfied: grpcio>=1.8.6 in /usr/local/lib/python3.6/dist-packages (from tensorflow==2.3.1->pl-spacy-model-morfeusz==0.1.3) (1.32.0)\n",
      "Requirement already satisfied: keras-preprocessing<1.2,>=1.1.1 in /usr/local/lib/python3.6/dist-packages (from tensorflow==2.3.1->pl-spacy-model-morfeusz==0.1.3) (1.1.2)\n",
      "Requirement already satisfied: gast==0.3.3 in /usr/local/lib/python3.6/dist-packages (from tensorflow==2.3.1->pl-spacy-model-morfeusz==0.1.3) (0.3.3)\n",
      "Requirement already satisfied: six>=1.12.0 in /usr/local/lib/python3.6/dist-packages (from tensorflow==2.3.1->pl-spacy-model-morfeusz==0.1.3) (1.15.0)\n",
      "Requirement already satisfied: astunparse==1.6.3 in /usr/local/lib/python3.6/dist-packages (from tensorflow==2.3.1->pl-spacy-model-morfeusz==0.1.3) (1.6.3)\n",
      "Requirement already satisfied: tensorboard<3,>=2.3.0 in /usr/local/lib/python3.6/dist-packages (from tensorflow==2.3.1->pl-spacy-model-morfeusz==0.1.3) (2.4.0)\n",
      "Collecting tensorflow-estimator<2.4.0,>=2.3.0\n",
      "\u001b[?25l  Downloading https://files.pythonhosted.org/packages/e9/ed/5853ec0ae380cba4588eab1524e18ece1583b65f7ae0e97321f5ff9dfd60/tensorflow_estimator-2.3.0-py2.py3-none-any.whl (459kB)\n",
      "\u001b[K     |████████████████████████████████| 460kB 51.6MB/s \n",
      "\u001b[?25hRequirement already satisfied: chardet<4,>=3.0.2 in /usr/local/lib/python3.6/dist-packages (from requests<3.0.0,>=2.13.0->spacy==2.3.2->pl-spacy-model-morfeusz==0.1.3) (3.0.4)\n",
      "Requirement already satisfied: certifi>=2017.4.17 in /usr/local/lib/python3.6/dist-packages (from requests<3.0.0,>=2.13.0->spacy==2.3.2->pl-spacy-model-morfeusz==0.1.3) (2020.12.5)\n",
      "Requirement already satisfied: idna<3,>=2.5 in /usr/local/lib/python3.6/dist-packages (from requests<3.0.0,>=2.13.0->spacy==2.3.2->pl-spacy-model-morfeusz==0.1.3) (2.10)\n",
      "Requirement already satisfied: urllib3!=1.25.0,!=1.25.1,<1.26,>=1.21.1 in /usr/local/lib/python3.6/dist-packages (from requests<3.0.0,>=2.13.0->spacy==2.3.2->pl-spacy-model-morfeusz==0.1.3) (1.24.3)\n",
      "Requirement already satisfied: importlib-metadata>=0.20; python_version < \"3.8\" in /usr/local/lib/python3.6/dist-packages (from catalogue<1.1.0,>=0.0.7->spacy==2.3.2->pl-spacy-model-morfeusz==0.1.3) (3.3.0)\n",
      "Requirement already satisfied: werkzeug>=0.11.15 in /usr/local/lib/python3.6/dist-packages (from tensorboard<3,>=2.3.0->tensorflow==2.3.1->pl-spacy-model-morfeusz==0.1.3) (1.0.1)\n",
      "Requirement already satisfied: tensorboard-plugin-wit>=1.6.0 in /usr/local/lib/python3.6/dist-packages (from tensorboard<3,>=2.3.0->tensorflow==2.3.1->pl-spacy-model-morfeusz==0.1.3) (1.7.0)\n",
      "Requirement already satisfied: markdown>=2.6.8 in /usr/local/lib/python3.6/dist-packages (from tensorboard<3,>=2.3.0->tensorflow==2.3.1->pl-spacy-model-morfeusz==0.1.3) (3.3.3)\n",
      "Requirement already satisfied: google-auth<2,>=1.6.3 in /usr/local/lib/python3.6/dist-packages (from tensorboard<3,>=2.3.0->tensorflow==2.3.1->pl-spacy-model-morfeusz==0.1.3) (1.17.2)\n",
      "Requirement already satisfied: google-auth-oauthlib<0.5,>=0.4.1 in /usr/local/lib/python3.6/dist-packages (from tensorboard<3,>=2.3.0->tensorflow==2.3.1->pl-spacy-model-morfeusz==0.1.3) (0.4.2)\n",
      "Requirement already satisfied: zipp>=0.5 in /usr/local/lib/python3.6/dist-packages (from importlib-metadata>=0.20; python_version < \"3.8\"->catalogue<1.1.0,>=0.0.7->spacy==2.3.2->pl-spacy-model-morfeusz==0.1.3) (3.4.0)\n",
      "Requirement already satisfied: typing-extensions>=3.6.4; python_version < \"3.8\" in /usr/local/lib/python3.6/dist-packages (from importlib-metadata>=0.20; python_version < \"3.8\"->catalogue<1.1.0,>=0.0.7->spacy==2.3.2->pl-spacy-model-morfeusz==0.1.3) (3.7.4.3)\n",
      "Requirement already satisfied: rsa<5,>=3.1.4; python_version >= \"3\" in /usr/local/lib/python3.6/dist-packages (from google-auth<2,>=1.6.3->tensorboard<3,>=2.3.0->tensorflow==2.3.1->pl-spacy-model-morfeusz==0.1.3) (4.6)\n",
      "Requirement already satisfied: pyasn1-modules>=0.2.1 in /usr/local/lib/python3.6/dist-packages (from google-auth<2,>=1.6.3->tensorboard<3,>=2.3.0->tensorflow==2.3.1->pl-spacy-model-morfeusz==0.1.3) (0.2.8)\n",
      "Requirement already satisfied: cachetools<5.0,>=2.0.0 in /usr/local/lib/python3.6/dist-packages (from google-auth<2,>=1.6.3->tensorboard<3,>=2.3.0->tensorflow==2.3.1->pl-spacy-model-morfeusz==0.1.3) (4.2.0)\n",
      "Requirement already satisfied: requests-oauthlib>=0.7.0 in /usr/local/lib/python3.6/dist-packages (from google-auth-oauthlib<0.5,>=0.4.1->tensorboard<3,>=2.3.0->tensorflow==2.3.1->pl-spacy-model-morfeusz==0.1.3) (1.3.0)\n",
      "Requirement already satisfied: pyasn1>=0.1.3 in /usr/local/lib/python3.6/dist-packages (from rsa<5,>=3.1.4; python_version >= \"3\"->google-auth<2,>=1.6.3->tensorboard<3,>=2.3.0->tensorflow==2.3.1->pl-spacy-model-morfeusz==0.1.3) (0.4.8)\n",
      "Requirement already satisfied: oauthlib>=3.0.0 in /usr/local/lib/python3.6/dist-packages (from requests-oauthlib>=0.7.0->google-auth-oauthlib<0.5,>=0.4.1->tensorboard<3,>=2.3.0->tensorflow==2.3.1->pl-spacy-model-morfeusz==0.1.3) (3.1.0)\n",
      "Building wheels for collected packages: pl-spacy-model-morfeusz, distance\n",
      "  Building wheel for pl-spacy-model-morfeusz (setup.py) ... \u001b[?25l\u001b[?25hdone\n",
      "  Created wheel for pl-spacy-model-morfeusz: filename=pl_spacy_model_morfeusz-0.1.3-cp36-none-any.whl size=229138616 sha256=54ee2a746066509c920dc9b1b757f7bb2b1ca94832022438ba8e1937e3616a8e\n",
      "  Stored in directory: /root/.cache/pip/wheels/9c/e8/f2/42317970badff72e337a282a28ad5d714491776d6d8ec1f86d\n",
      "  Building wheel for distance (setup.py) ... \u001b[?25l\u001b[?25hdone\n",
      "  Created wheel for distance: filename=Distance-0.1.3-cp36-none-any.whl size=16261 sha256=d262f00458d1358702f9e0163045d757368886d328d80255c352cdfb154b8e4f\n",
      "  Stored in directory: /root/.cache/pip/wheels/d5/aa/e1/dbba9e7b6d397d645d0f12db1c66dbae9c5442b39b001db18e\n",
      "Successfully built pl-spacy-model-morfeusz distance\n",
      "\u001b[31mERROR: tensorflow 2.3.1 has requirement numpy<1.19.0,>=1.16.0, but you'll have numpy 1.19.4 which is incompatible.\u001b[0m\n",
      "Installing collected packages: distance, tensorflow-estimator, tensorflow, pl-spacy-model-morfeusz\n",
      "  Found existing installation: tensorflow-estimator 2.4.0\n",
      "    Uninstalling tensorflow-estimator-2.4.0:\n",
      "      Successfully uninstalled tensorflow-estimator-2.4.0\n",
      "  Found existing installation: tensorflow 2.4.0\n",
      "    Uninstalling tensorflow-2.4.0:\n",
      "      Successfully uninstalled tensorflow-2.4.0\n",
      "Successfully installed distance-0.1.3 pl-spacy-model-morfeusz-0.1.3 tensorflow-2.3.1 tensorflow-estimator-2.3.0\n"
     ]
    }
   ],
   "source": [
    "! python -m pip install zasoby/pl_spacy_model_morfeusz-0.1.3.tar.gz"
   ]
  },
  {
   "cell_type": "code",
   "execution_count": null,
   "metadata": {
    "colab": {
     "base_uri": "https://localhost:8080/"
    },
    "id": "qDjws1zYjyQ_",
    "outputId": "2e28de0d-13a3-413b-eaf3-cb8c1d72fd86"
   },
   "outputs": [
    {
     "name": "stdout",
     "output_type": "stream",
     "text": [
      "2020-12-31 13:41:08.036021: I tensorflow/stream_executor/platform/default/dso_loader.cc:48] Successfully opened dynamic library libcudart.so.10.1\n",
      "\u001b[38;5;2m✔ Linking successful\u001b[0m\n",
      "/usr/local/lib/python3.6/dist-packages/pl_spacy_model_morfeusz -->\n",
      "/usr/local/lib/python3.6/dist-packages/spacy/data/pl_spacy_model_morfeusz\n",
      "You can now load the model via spacy.load('pl_spacy_model_morfeusz')\n"
     ]
    }
   ],
   "source": [
    "!python -m spacy link pl_spacy_model_morfeusz pl_spacy_model_morfeusz -f"
   ]
  },
  {
   "cell_type": "markdown",
   "metadata": {
    "id": "7VXhOMlYkUyZ"
   },
   "source": [
    "#### Analiza tekstu"
   ]
  },
  {
   "cell_type": "code",
   "execution_count": null,
   "metadata": {
    "id": "nZpcIzKjjBD9"
   },
   "outputs": [],
   "source": [
    "import spacy\n",
    "nlp = spacy.load(\"pl_spacy_model_morfeusz\")"
   ]
  },
  {
   "cell_type": "code",
   "execution_count": null,
   "metadata": {
    "id": "Wn6nWUyDjCDd"
   },
   "outputs": [],
   "source": [
    "text = \"28 grudnia 2019 pan Igor Woźny szedł ul. Szeroką i spostrzegł Audi stojące przed Muzeum II Wojny Światowej.\"\n",
    "doc = nlp(text)"
   ]
  },
  {
   "cell_type": "code",
   "execution_count": null,
   "metadata": {
    "colab": {
     "base_uri": "https://localhost:8080/"
    },
    "id": "BAr6QoR-kEKh",
    "outputId": "a0c659cf-4387-4a83-e76f-7aadabdca2f5"
   },
   "outputs": [
    {
     "name": "stdout",
     "output_type": "stream",
     "text": [
      "0   15   date        28 grudnia 2019\n",
      "20  30   persName    Igor Woźny\n",
      "37  48   geogName    ul. Szeroką\n",
      "62  66   orgName     Audi\n",
      "81  106  orgName     Muzeum II Wojny Światowej\n"
     ]
    }
   ],
   "source": [
    "for ent in doc.ents:\n",
    "    print(f\"{ent.start_char:<3} {ent.end_char:<3}  {ent.label_:<10}  {ent.text}\")"
   ]
  },
  {
   "cell_type": "code",
   "execution_count": null,
   "metadata": {
    "colab": {
     "base_uri": "https://localhost:8080/",
     "height": 52
    },
    "id": "wzH4iV-ik92c",
    "outputId": "c75067da-22ee-4444-9138-3d9ba280d28c"
   },
   "outputs": [
    {
     "data": {
      "text/html": [
       "<span class=\"tex2jax_ignore\"><div class=\"entities\" style=\"line-height: 2.5; direction: ltr\">\n",
       "<mark class=\"entity\" style=\"background: #bfe1d9; padding: 0.45em 0.6em; margin: 0 0.25em; line-height: 1; border-radius: 0.35em;\">\n",
       "    28 grudnia 2019\n",
       "    <span style=\"font-size: 0.8em; font-weight: bold; line-height: 1; border-radius: 0.35em; text-transform: uppercase; vertical-align: middle; margin-left: 0.5rem\">date</span>\n",
       "</mark>\n",
       " pan \n",
       "<mark class=\"entity\" style=\"background: #ddd; padding: 0.45em 0.6em; margin: 0 0.25em; line-height: 1; border-radius: 0.35em;\">\n",
       "    Igor Woźny\n",
       "    <span style=\"font-size: 0.8em; font-weight: bold; line-height: 1; border-radius: 0.35em; text-transform: uppercase; vertical-align: middle; margin-left: 0.5rem\">persName</span>\n",
       "</mark>\n",
       " szedł \n",
       "<mark class=\"entity\" style=\"background: #ddd; padding: 0.45em 0.6em; margin: 0 0.25em; line-height: 1; border-radius: 0.35em;\">\n",
       "    ul. Szeroką\n",
       "    <span style=\"font-size: 0.8em; font-weight: bold; line-height: 1; border-radius: 0.35em; text-transform: uppercase; vertical-align: middle; margin-left: 0.5rem\">geogName</span>\n",
       "</mark>\n",
       " i spostrzegł \n",
       "<mark class=\"entity\" style=\"background: #ddd; padding: 0.45em 0.6em; margin: 0 0.25em; line-height: 1; border-radius: 0.35em;\">\n",
       "    Audi\n",
       "    <span style=\"font-size: 0.8em; font-weight: bold; line-height: 1; border-radius: 0.35em; text-transform: uppercase; vertical-align: middle; margin-left: 0.5rem\">orgName</span>\n",
       "</mark>\n",
       " stojące przed \n",
       "<mark class=\"entity\" style=\"background: #ddd; padding: 0.45em 0.6em; margin: 0 0.25em; line-height: 1; border-radius: 0.35em;\">\n",
       "    Muzeum II Wojny Światowej\n",
       "    <span style=\"font-size: 0.8em; font-weight: bold; line-height: 1; border-radius: 0.35em; text-transform: uppercase; vertical-align: middle; margin-left: 0.5rem\">orgName</span>\n",
       "</mark>\n",
       ".</div></span>"
      ],
      "text/plain": [
       "<IPython.core.display.HTML object>"
      ]
     },
     "metadata": {
      "tags": []
     },
     "output_type": "display_data"
    }
   ],
   "source": [
    "from spacy import displacy\n",
    "\n",
    "displacy.render(doc, style='ent', jupyter=True, options={'distance': 90})"
   ]
  },
  {
   "cell_type": "code",
   "execution_count": null,
   "metadata": {
    "colab": {
     "base_uri": "https://localhost:8080/",
     "height": 52
    },
    "id": "tPCq8-R42gQ0",
    "outputId": "c9c85407-647f-4a31-d729-f481fc47cac7"
   },
   "outputs": [
    {
     "data": {
      "text/html": [
       "<span class=\"tex2jax_ignore\"><div class=\"entities\" style=\"line-height: 2.5; direction: ltr\">\n",
       "<mark class=\"entity\" style=\"background: #ddd; padding: 0.45em 0.6em; margin: 0 0.25em; line-height: 1; border-radius: 0.35em;\">\n",
       "    Warszawa\n",
       "    <span style=\"font-size: 0.8em; font-weight: bold; line-height: 1; border-radius: 0.35em; text-transform: uppercase; vertical-align: middle; margin-left: 0.5rem\">placeName</span>\n",
       "</mark>\n",
       " to stolica \n",
       "<mark class=\"entity\" style=\"background: #ddd; padding: 0.45em 0.6em; margin: 0 0.25em; line-height: 1; border-radius: 0.35em;\">\n",
       "    Polski\n",
       "    <span style=\"font-size: 0.8em; font-weight: bold; line-height: 1; border-radius: 0.35em; text-transform: uppercase; vertical-align: middle; margin-left: 0.5rem\">placeName</span>\n",
       "</mark>\n",
       ". \n",
       "<mark class=\"entity\" style=\"background: #ddd; padding: 0.45em 0.6em; margin: 0 0.25em; line-height: 1; border-radius: 0.35em;\">\n",
       "    Ulica Pułkowa\n",
       "    <span style=\"font-size: 0.8em; font-weight: bold; line-height: 1; border-radius: 0.35em; text-transform: uppercase; vertical-align: middle; margin-left: 0.5rem\">geogName</span>\n",
       "</mark>\n",
       " biegnie wzdłuż \n",
       "<mark class=\"entity\" style=\"background: #ddd; padding: 0.45em 0.6em; margin: 0 0.25em; line-height: 1; border-radius: 0.35em;\">\n",
       "    Wisły\n",
       "    <span style=\"font-size: 0.8em; font-weight: bold; line-height: 1; border-radius: 0.35em; text-transform: uppercase; vertical-align: middle; margin-left: 0.5rem\">geogName</span>\n",
       "</mark>\n",
       ".</div></span>"
      ],
      "text/plain": [
       "<IPython.core.display.HTML object>"
      ]
     },
     "metadata": {
      "tags": []
     },
     "output_type": "display_data"
    }
   ],
   "source": [
    "text = \"Warszawa to stolica Polski. Ulica Pułkowa biegnie wzdłuż Wisły.\"\n",
    "doc = nlp(text)\n",
    "displacy.render(doc, style='ent', jupyter=True, options={'distance': 90})"
   ]
  },
  {
   "cell_type": "markdown",
   "metadata": {
    "id": "fINzFhhI4efv"
   },
   "source": [
    "![image.png](data:image/png;base64,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)"
   ]
  },
  {
   "cell_type": "markdown",
   "metadata": {
    "id": "yGlGGNk5kYPZ"
   },
   "source": [
    "### PolDeepNer2"
   ]
  },
  {
   "cell_type": "markdown",
   "metadata": {
    "id": "x-IAKGui43WY"
   },
   "source": [
    "*   https://github.com/CLARIN-PL/PolDeepNer2\n",
    "*   https://pypi.clarin-pl.eu/packages/poldeepner2-0.1.0-py3-none-any.whl#md5=333b5d5270c6b1f6cd50df5c4c89f4dd\n",
    "\n"
   ]
  },
  {
   "cell_type": "markdown",
   "metadata": {
    "id": "DRDTgh51l3AC"
   },
   "source": [
    "#### Przygotowanie"
   ]
  },
  {
   "cell_type": "code",
   "execution_count": null,
   "metadata": {
    "colab": {
     "base_uri": "https://localhost:8080/",
     "height": 1000
    },
    "id": "5S2U3eHul5bJ",
    "outputId": "d65abfda-eb97-4b49-a8f2-b3c10318081b"
   },
   "outputs": [
    {
     "name": "stdout",
     "output_type": "stream",
     "text": [
      "Collecting poldeepner2==0.1.0\n",
      "  Downloading https://pypi.clarin-pl.eu/packages/poldeepner2-0.1.0-py3-none-any.whl\n",
      "Requirement already satisfied: tqdm in /usr/local/lib/python3.6/dist-packages (from poldeepner2==0.1.0) (4.41.1)\n",
      "Collecting fairseq==0.9.0\n",
      "\u001b[?25l  Downloading https://files.pythonhosted.org/packages/67/bf/de299e082e7af010d35162cb9a185dc6c17db71624590f2f379aeb2519ff/fairseq-0.9.0.tar.gz (306kB)\n",
      "\u001b[K     |████████████████████████████████| 307kB 12.4MB/s \n",
      "\u001b[?25hRequirement already satisfied: flask==1.1.2 in /usr/local/lib/python3.6/dist-packages (from poldeepner2==0.1.0) (1.1.2)\n",
      "Collecting pytorch-transformers==1.2.0\n",
      "\u001b[?25l  Downloading https://files.pythonhosted.org/packages/a3/b7/d3d18008a67e0b968d1ab93ad444fc05699403fa662f634b2f2c318a508b/pytorch_transformers-1.2.0-py3-none-any.whl (176kB)\n",
      "\u001b[K     |████████████████████████████████| 184kB 36.9MB/s \n",
      "\u001b[?25hCollecting pandas==1.1.1\n",
      "\u001b[?25l  Downloading https://files.pythonhosted.org/packages/a1/c6/9ac4ae44c24c787a1738e5fb34dd987ada6533de5905a041aa6d5bea4553/pandas-1.1.1-cp36-cp36m-manylinux1_x86_64.whl (10.5MB)\n",
      "\u001b[K     |████████████████████████████████| 10.5MB 38.1MB/s \n",
      "\u001b[?25hRequirement already satisfied: spacy==2.3.2 in /usr/local/lib/python3.6/dist-packages (from poldeepner2==0.1.0) (2.3.2)\n",
      "Collecting nltk==3.5\n",
      "\u001b[?25l  Downloading https://files.pythonhosted.org/packages/92/75/ce35194d8e3022203cca0d2f896dbb88689f9b3fce8e9f9cff942913519d/nltk-3.5.zip (1.4MB)\n",
      "\u001b[K     |████████████████████████████████| 1.4MB 54.7MB/s \n",
      "\u001b[?25hCollecting pytest~=6.0.1\n",
      "\u001b[?25l  Downloading https://files.pythonhosted.org/packages/45/2c/7e29215cb19745ad67b6476b73fd1299872563f28329ea01d9d887713aaf/pytest-6.0.2-py3-none-any.whl (270kB)\n",
      "\u001b[K     |████████████████████████████████| 276kB 51.2MB/s \n",
      "\u001b[?25hCollecting seqeval==0.0.12\n",
      "  Downloading https://files.pythonhosted.org/packages/34/91/068aca8d60ce56dd9ba4506850e876aba5e66a6f2f29aa223224b50df0de/seqeval-0.0.12.tar.gz\n",
      "Requirement already satisfied: cffi in /usr/local/lib/python3.6/dist-packages (from fairseq==0.9.0->poldeepner2==0.1.0) (1.14.4)\n",
      "Requirement already satisfied: cython in /usr/local/lib/python3.6/dist-packages (from fairseq==0.9.0->poldeepner2==0.1.0) (0.29.21)\n",
      "Requirement already satisfied: numpy in /usr/local/lib/python3.6/dist-packages (from fairseq==0.9.0->poldeepner2==0.1.0) (1.19.4)\n",
      "Requirement already satisfied: regex in /usr/local/lib/python3.6/dist-packages (from fairseq==0.9.0->poldeepner2==0.1.0) (2019.12.20)\n",
      "Collecting sacrebleu\n",
      "\u001b[?25l  Downloading https://files.pythonhosted.org/packages/a3/c4/8e948f601a4f9609e8b2b58f31966cb13cf17b940b82aa3e767f01c42c52/sacrebleu-1.4.14-py3-none-any.whl (64kB)\n",
      "\u001b[K     |████████████████████████████████| 71kB 10.6MB/s \n",
      "\u001b[?25hRequirement already satisfied: torch in /usr/local/lib/python3.6/dist-packages (from fairseq==0.9.0->poldeepner2==0.1.0) (1.7.0+cu101)\n",
      "Requirement already satisfied: Werkzeug>=0.15 in /usr/local/lib/python3.6/dist-packages (from flask==1.1.2->poldeepner2==0.1.0) (1.0.1)\n",
      "Requirement already satisfied: Jinja2>=2.10.1 in /usr/local/lib/python3.6/dist-packages (from flask==1.1.2->poldeepner2==0.1.0) (2.11.2)\n",
      "Requirement already satisfied: itsdangerous>=0.24 in /usr/local/lib/python3.6/dist-packages (from flask==1.1.2->poldeepner2==0.1.0) (1.1.0)\n",
      "Requirement already satisfied: click>=5.1 in /usr/local/lib/python3.6/dist-packages (from flask==1.1.2->poldeepner2==0.1.0) (7.1.2)\n",
      "Requirement already satisfied: requests in /usr/local/lib/python3.6/dist-packages (from pytorch-transformers==1.2.0->poldeepner2==0.1.0) (2.23.0)\n",
      "Collecting sentencepiece\n",
      "\u001b[?25l  Downloading https://files.pythonhosted.org/packages/e5/2d/6d4ca4bef9a67070fa1cac508606328329152b1df10bdf31fb6e4e727894/sentencepiece-0.1.94-cp36-cp36m-manylinux2014_x86_64.whl (1.1MB)\n",
      "\u001b[K     |████████████████████████████████| 1.1MB 46.1MB/s \n",
      "\u001b[?25hCollecting sacremoses\n",
      "\u001b[?25l  Downloading https://files.pythonhosted.org/packages/7d/34/09d19aff26edcc8eb2a01bed8e98f13a1537005d31e95233fd48216eed10/sacremoses-0.0.43.tar.gz (883kB)\n",
      "\u001b[K     |████████████████████████████████| 890kB 48.5MB/s \n",
      "\u001b[?25hCollecting boto3\n",
      "\u001b[?25l  Downloading https://files.pythonhosted.org/packages/1d/da/c6eaf4c1c8eec70fea402495ee34112824241bc96e20756c0c0c6f97feab/boto3-1.16.46-py2.py3-none-any.whl (130kB)\n",
      "\u001b[K     |████████████████████████████████| 133kB 59.1MB/s \n",
      "\u001b[?25hRequirement already satisfied: pytz>=2017.2 in /usr/local/lib/python3.6/dist-packages (from pandas==1.1.1->poldeepner2==0.1.0) (2018.9)\n",
      "Requirement already satisfied: python-dateutil>=2.7.3 in /usr/local/lib/python3.6/dist-packages (from pandas==1.1.1->poldeepner2==0.1.0) (2.8.1)\n",
      "Requirement already satisfied: wasabi<1.1.0,>=0.4.0 in /usr/local/lib/python3.6/dist-packages (from spacy==2.3.2->poldeepner2==0.1.0) (0.8.0)\n",
      "Requirement already satisfied: setuptools in /usr/local/lib/python3.6/dist-packages (from spacy==2.3.2->poldeepner2==0.1.0) (51.0.0)\n",
      "Requirement already satisfied: thinc==7.4.1 in /usr/local/lib/python3.6/dist-packages (from spacy==2.3.2->poldeepner2==0.1.0) (7.4.1)\n",
      "Requirement already satisfied: srsly<1.1.0,>=1.0.2 in /usr/local/lib/python3.6/dist-packages (from spacy==2.3.2->poldeepner2==0.1.0) (1.0.5)\n",
      "Requirement already satisfied: murmurhash<1.1.0,>=0.28.0 in /usr/local/lib/python3.6/dist-packages (from spacy==2.3.2->poldeepner2==0.1.0) (1.0.5)\n",
      "Requirement already satisfied: plac<1.2.0,>=0.9.6 in /usr/local/lib/python3.6/dist-packages (from spacy==2.3.2->poldeepner2==0.1.0) (1.1.3)\n",
      "Requirement already satisfied: preshed<3.1.0,>=3.0.2 in /usr/local/lib/python3.6/dist-packages (from spacy==2.3.2->poldeepner2==0.1.0) (3.0.5)\n",
      "Requirement already satisfied: blis<0.5.0,>=0.4.0 in /usr/local/lib/python3.6/dist-packages (from spacy==2.3.2->poldeepner2==0.1.0) (0.4.1)\n",
      "Requirement already satisfied: cymem<2.1.0,>=2.0.2 in /usr/local/lib/python3.6/dist-packages (from spacy==2.3.2->poldeepner2==0.1.0) (2.0.5)\n",
      "Requirement already satisfied: catalogue<1.1.0,>=0.0.7 in /usr/local/lib/python3.6/dist-packages (from spacy==2.3.2->poldeepner2==0.1.0) (1.0.0)\n",
      "Requirement already satisfied: joblib in /usr/local/lib/python3.6/dist-packages (from nltk==3.5->poldeepner2==0.1.0) (1.0.0)\n",
      "Collecting pluggy<1.0,>=0.12\n",
      "  Downloading https://files.pythonhosted.org/packages/a0/28/85c7aa31b80d150b772fbe4a229487bc6644da9ccb7e427dd8cc60cb8a62/pluggy-0.13.1-py2.py3-none-any.whl\n",
      "Requirement already satisfied: iniconfig in /usr/local/lib/python3.6/dist-packages (from pytest~=6.0.1->poldeepner2==0.1.0) (1.1.1)\n",
      "Requirement already satisfied: py>=1.8.2 in /usr/local/lib/python3.6/dist-packages (from pytest~=6.0.1->poldeepner2==0.1.0) (1.10.0)\n",
      "Requirement already satisfied: more-itertools>=4.0.0 in /usr/local/lib/python3.6/dist-packages (from pytest~=6.0.1->poldeepner2==0.1.0) (8.6.0)\n",
      "Requirement already satisfied: attrs>=17.4.0 in /usr/local/lib/python3.6/dist-packages (from pytest~=6.0.1->poldeepner2==0.1.0) (20.3.0)\n",
      "Requirement already satisfied: toml in /usr/local/lib/python3.6/dist-packages (from pytest~=6.0.1->poldeepner2==0.1.0) (0.10.2)\n",
      "Requirement already satisfied: packaging in /usr/local/lib/python3.6/dist-packages (from pytest~=6.0.1->poldeepner2==0.1.0) (20.8)\n",
      "Requirement already satisfied: importlib-metadata>=0.12; python_version < \"3.8\" in /usr/local/lib/python3.6/dist-packages (from pytest~=6.0.1->poldeepner2==0.1.0) (3.3.0)\n",
      "Requirement already satisfied: Keras>=2.2.4 in /usr/local/lib/python3.6/dist-packages (from seqeval==0.0.12->poldeepner2==0.1.0) (2.4.3)\n",
      "Requirement already satisfied: pycparser in /usr/local/lib/python3.6/dist-packages (from cffi->fairseq==0.9.0->poldeepner2==0.1.0) (2.20)\n",
      "Collecting portalocker\n",
      "  Downloading https://files.pythonhosted.org/packages/89/a6/3814b7107e0788040870e8825eebf214d72166adf656ba7d4bf14759a06a/portalocker-2.0.0-py2.py3-none-any.whl\n",
      "Requirement already satisfied: future in /usr/local/lib/python3.6/dist-packages (from torch->fairseq==0.9.0->poldeepner2==0.1.0) (0.16.0)\n",
      "Requirement already satisfied: typing-extensions in /usr/local/lib/python3.6/dist-packages (from torch->fairseq==0.9.0->poldeepner2==0.1.0) (3.7.4.3)\n",
      "Requirement already satisfied: dataclasses in /usr/local/lib/python3.6/dist-packages (from torch->fairseq==0.9.0->poldeepner2==0.1.0) (0.8)\n",
      "Requirement already satisfied: MarkupSafe>=0.23 in /usr/local/lib/python3.6/dist-packages (from Jinja2>=2.10.1->flask==1.1.2->poldeepner2==0.1.0) (1.1.1)\n",
      "Requirement already satisfied: certifi>=2017.4.17 in /usr/local/lib/python3.6/dist-packages (from requests->pytorch-transformers==1.2.0->poldeepner2==0.1.0) (2020.12.5)\n",
      "Requirement already satisfied: chardet<4,>=3.0.2 in /usr/local/lib/python3.6/dist-packages (from requests->pytorch-transformers==1.2.0->poldeepner2==0.1.0) (3.0.4)\n",
      "Requirement already satisfied: urllib3!=1.25.0,!=1.25.1,<1.26,>=1.21.1 in /usr/local/lib/python3.6/dist-packages (from requests->pytorch-transformers==1.2.0->poldeepner2==0.1.0) (1.24.3)\n",
      "Requirement already satisfied: idna<3,>=2.5 in /usr/local/lib/python3.6/dist-packages (from requests->pytorch-transformers==1.2.0->poldeepner2==0.1.0) (2.10)\n",
      "Requirement already satisfied: six in /usr/local/lib/python3.6/dist-packages (from sacremoses->pytorch-transformers==1.2.0->poldeepner2==0.1.0) (1.15.0)\n",
      "Collecting s3transfer<0.4.0,>=0.3.0\n",
      "\u001b[?25l  Downloading https://files.pythonhosted.org/packages/69/79/e6afb3d8b0b4e96cefbdc690f741d7dd24547ff1f94240c997a26fa908d3/s3transfer-0.3.3-py2.py3-none-any.whl (69kB)\n",
      "\u001b[K     |████████████████████████████████| 71kB 11.6MB/s \n",
      "\u001b[?25hCollecting botocore<1.20.0,>=1.19.46\n",
      "\u001b[?25l  Downloading https://files.pythonhosted.org/packages/5c/48/8151aad820996a46373a4ffa2268a7209c10518d1b3eb48bbd0010c5b6a3/botocore-1.19.46-py2.py3-none-any.whl (7.2MB)\n",
      "\u001b[K     |████████████████████████████████| 7.2MB 45.3MB/s \n",
      "\u001b[?25hCollecting jmespath<1.0.0,>=0.7.1\n",
      "  Downloading https://files.pythonhosted.org/packages/07/cb/5f001272b6faeb23c1c9e0acc04d48eaaf5c862c17709d20e3469c6e0139/jmespath-0.10.0-py2.py3-none-any.whl\n",
      "Requirement already satisfied: pyparsing>=2.0.2 in /usr/local/lib/python3.6/dist-packages (from packaging->pytest~=6.0.1->poldeepner2==0.1.0) (2.4.7)\n",
      "Requirement already satisfied: zipp>=0.5 in /usr/local/lib/python3.6/dist-packages (from importlib-metadata>=0.12; python_version < \"3.8\"->pytest~=6.0.1->poldeepner2==0.1.0) (3.4.0)\n",
      "Requirement already satisfied: pyyaml in /usr/local/lib/python3.6/dist-packages (from Keras>=2.2.4->seqeval==0.0.12->poldeepner2==0.1.0) (3.13)\n",
      "Requirement already satisfied: h5py in /usr/local/lib/python3.6/dist-packages (from Keras>=2.2.4->seqeval==0.0.12->poldeepner2==0.1.0) (2.10.0)\n",
      "Requirement already satisfied: scipy>=0.14 in /usr/local/lib/python3.6/dist-packages (from Keras>=2.2.4->seqeval==0.0.12->poldeepner2==0.1.0) (1.4.1)\n",
      "Building wheels for collected packages: fairseq, nltk, seqeval, sacremoses\n",
      "  Building wheel for fairseq (setup.py) ... \u001b[?25l\u001b[?25hdone\n",
      "  Created wheel for fairseq: filename=fairseq-0.9.0-cp36-cp36m-linux_x86_64.whl size=2064561 sha256=12091735c63f0699a5e3413911562df2e82cef457e6644612c9393cb4f277f0d\n",
      "  Stored in directory: /root/.cache/pip/wheels/37/3e/1b/0fa30695dcba41e4b0088067fa40f3328d1e8ee78c22cd4766\n",
      "  Building wheel for nltk (setup.py) ... \u001b[?25l\u001b[?25hdone\n",
      "  Created wheel for nltk: filename=nltk-3.5-cp36-none-any.whl size=1434675 sha256=b80e56723d2ea55efbf02146e41f5174553dff7764346fd544a99fa03f1e6abe\n",
      "  Stored in directory: /root/.cache/pip/wheels/ae/8c/3f/b1fe0ba04555b08b57ab52ab7f86023639a526d8bc8d384306\n",
      "  Building wheel for seqeval (setup.py) ... \u001b[?25l\u001b[?25hdone\n",
      "  Created wheel for seqeval: filename=seqeval-0.0.12-cp36-none-any.whl size=7424 sha256=d54f40e4afaeac08e1b4a055ed7c4874427cc614132f99578124592e93235a14\n",
      "  Stored in directory: /root/.cache/pip/wheels/4f/32/0a/df3b340a82583566975377d65e724895b3fad101a3fb729f68\n",
      "  Building wheel for sacremoses (setup.py) ... \u001b[?25l\u001b[?25hdone\n",
      "  Created wheel for sacremoses: filename=sacremoses-0.0.43-cp36-none-any.whl size=893261 sha256=8ab1b3a50c8991a29f5fdc2086b5c59e23e24d269d3b5fc12259b0db440ee3e8\n",
      "  Stored in directory: /root/.cache/pip/wheels/29/3c/fd/7ce5c3f0666dab31a50123635e6fb5e19ceb42ce38d4e58f45\n",
      "Successfully built fairseq nltk seqeval sacremoses\n",
      "\u001b[31mERROR: datascience 0.10.6 has requirement folium==0.2.1, but you'll have folium 0.8.3 which is incompatible.\u001b[0m\n",
      "\u001b[31mERROR: botocore 1.19.46 has requirement urllib3<1.27,>=1.25.4; python_version != \"3.4\", but you'll have urllib3 1.24.3 which is incompatible.\u001b[0m\n",
      "Installing collected packages: portalocker, sacrebleu, fairseq, sentencepiece, sacremoses, jmespath, botocore, s3transfer, boto3, pytorch-transformers, pandas, nltk, pluggy, pytest, seqeval, poldeepner2\n",
      "  Found existing installation: pandas 1.1.5\n",
      "    Uninstalling pandas-1.1.5:\n",
      "      Successfully uninstalled pandas-1.1.5\n",
      "  Found existing installation: nltk 3.2.5\n",
      "    Uninstalling nltk-3.2.5:\n",
      "      Successfully uninstalled nltk-3.2.5\n",
      "  Found existing installation: pluggy 0.7.1\n",
      "    Uninstalling pluggy-0.7.1:\n",
      "      Successfully uninstalled pluggy-0.7.1\n",
      "  Found existing installation: pytest 3.6.4\n",
      "    Uninstalling pytest-3.6.4:\n",
      "      Successfully uninstalled pytest-3.6.4\n",
      "Successfully installed boto3-1.16.46 botocore-1.19.46 fairseq-0.9.0 jmespath-0.10.0 nltk-3.5 pandas-1.1.1 pluggy-0.13.1 poldeepner2-0.1.0 portalocker-2.0.0 pytest-6.0.2 pytorch-transformers-1.2.0 s3transfer-0.3.3 sacrebleu-1.4.14 sacremoses-0.0.43 sentencepiece-0.1.94 seqeval-0.0.12\n"
     ]
    },
    {
     "data": {
      "application/vnd.colab-display-data+json": {
       "pip_warning": {
        "packages": [
         "_pytest",
         "pandas",
         "pluggy",
         "pytest"
        ]
       }
      }
     },
     "metadata": {
      "tags": []
     },
     "output_type": "display_data"
    }
   ],
   "source": [
    "!pip install https://pypi.clarin-pl.eu/packages/poldeepner2-0.1.0-py3-none-any.whl#md5=333b5d5270c6b1f6cd50df5c4c89f4dd"
   ]
  },
  {
   "cell_type": "code",
   "execution_count": null,
   "metadata": {
    "colab": {
     "base_uri": "https://localhost:8080/"
    },
    "id": "x7FV4VQDmOxl",
    "outputId": "5cec148d-39c7-4812-8df2-31d337ea2b28"
   },
   "outputs": [
    {
     "name": "stdout",
     "output_type": "stream",
     "text": [
      "Collecting pl_core_news_sm==2.3.0\n",
      "\u001b[?25l  Downloading https://github.com/explosion/spacy-models/releases/download/pl_core_news_sm-2.3.0/pl_core_news_sm-2.3.0.tar.gz (48.7MB)\n",
      "\u001b[K     |████████████████████████████████| 48.7MB 1.2MB/s \n",
      "\u001b[?25hRequirement already satisfied: spacy<2.4.0,>=2.3.0 in /usr/local/lib/python3.6/dist-packages (from pl_core_news_sm==2.3.0) (2.3.2)\n",
      "Requirement already satisfied: setuptools in /usr/local/lib/python3.6/dist-packages (from spacy<2.4.0,>=2.3.0->pl_core_news_sm==2.3.0) (51.0.0)\n",
      "Requirement already satisfied: requests<3.0.0,>=2.13.0 in /usr/local/lib/python3.6/dist-packages (from spacy<2.4.0,>=2.3.0->pl_core_news_sm==2.3.0) (2.23.0)\n",
      "Requirement already satisfied: wasabi<1.1.0,>=0.4.0 in /usr/local/lib/python3.6/dist-packages (from spacy<2.4.0,>=2.3.0->pl_core_news_sm==2.3.0) (0.8.0)\n",
      "Requirement already satisfied: tqdm<5.0.0,>=4.38.0 in /usr/local/lib/python3.6/dist-packages (from spacy<2.4.0,>=2.3.0->pl_core_news_sm==2.3.0) (4.41.1)\n",
      "Requirement already satisfied: blis<0.5.0,>=0.4.0 in /usr/local/lib/python3.6/dist-packages (from spacy<2.4.0,>=2.3.0->pl_core_news_sm==2.3.0) (0.4.1)\n",
      "Requirement already satisfied: srsly<1.1.0,>=1.0.2 in /usr/local/lib/python3.6/dist-packages (from spacy<2.4.0,>=2.3.0->pl_core_news_sm==2.3.0) (1.0.5)\n",
      "Requirement already satisfied: catalogue<1.1.0,>=0.0.7 in /usr/local/lib/python3.6/dist-packages (from spacy<2.4.0,>=2.3.0->pl_core_news_sm==2.3.0) (1.0.0)\n",
      "Requirement already satisfied: thinc==7.4.1 in /usr/local/lib/python3.6/dist-packages (from spacy<2.4.0,>=2.3.0->pl_core_news_sm==2.3.0) (7.4.1)\n",
      "Requirement already satisfied: plac<1.2.0,>=0.9.6 in /usr/local/lib/python3.6/dist-packages (from spacy<2.4.0,>=2.3.0->pl_core_news_sm==2.3.0) (1.1.3)\n",
      "Requirement already satisfied: numpy>=1.15.0 in /usr/local/lib/python3.6/dist-packages (from spacy<2.4.0,>=2.3.0->pl_core_news_sm==2.3.0) (1.19.4)\n",
      "Requirement already satisfied: cymem<2.1.0,>=2.0.2 in /usr/local/lib/python3.6/dist-packages (from spacy<2.4.0,>=2.3.0->pl_core_news_sm==2.3.0) (2.0.5)\n",
      "Requirement already satisfied: preshed<3.1.0,>=3.0.2 in /usr/local/lib/python3.6/dist-packages (from spacy<2.4.0,>=2.3.0->pl_core_news_sm==2.3.0) (3.0.5)\n",
      "Requirement already satisfied: murmurhash<1.1.0,>=0.28.0 in /usr/local/lib/python3.6/dist-packages (from spacy<2.4.0,>=2.3.0->pl_core_news_sm==2.3.0) (1.0.5)\n",
      "Requirement already satisfied: chardet<4,>=3.0.2 in /usr/local/lib/python3.6/dist-packages (from requests<3.0.0,>=2.13.0->spacy<2.4.0,>=2.3.0->pl_core_news_sm==2.3.0) (3.0.4)\n",
      "Requirement already satisfied: idna<3,>=2.5 in /usr/local/lib/python3.6/dist-packages (from requests<3.0.0,>=2.13.0->spacy<2.4.0,>=2.3.0->pl_core_news_sm==2.3.0) (2.10)\n",
      "Requirement already satisfied: urllib3!=1.25.0,!=1.25.1,<1.26,>=1.21.1 in /usr/local/lib/python3.6/dist-packages (from requests<3.0.0,>=2.13.0->spacy<2.4.0,>=2.3.0->pl_core_news_sm==2.3.0) (1.24.3)\n",
      "Requirement already satisfied: certifi>=2017.4.17 in /usr/local/lib/python3.6/dist-packages (from requests<3.0.0,>=2.13.0->spacy<2.4.0,>=2.3.0->pl_core_news_sm==2.3.0) (2020.12.5)\n",
      "Requirement already satisfied: importlib-metadata>=0.20; python_version < \"3.8\" in /usr/local/lib/python3.6/dist-packages (from catalogue<1.1.0,>=0.0.7->spacy<2.4.0,>=2.3.0->pl_core_news_sm==2.3.0) (3.3.0)\n",
      "Requirement already satisfied: typing-extensions>=3.6.4; python_version < \"3.8\" in /usr/local/lib/python3.6/dist-packages (from importlib-metadata>=0.20; python_version < \"3.8\"->catalogue<1.1.0,>=0.0.7->spacy<2.4.0,>=2.3.0->pl_core_news_sm==2.3.0) (3.7.4.3)\n",
      "Requirement already satisfied: zipp>=0.5 in /usr/local/lib/python3.6/dist-packages (from importlib-metadata>=0.20; python_version < \"3.8\"->catalogue<1.1.0,>=0.0.7->spacy<2.4.0,>=2.3.0->pl_core_news_sm==2.3.0) (3.4.0)\n",
      "Building wheels for collected packages: pl-core-news-sm\n",
      "  Building wheel for pl-core-news-sm (setup.py) ... \u001b[?25l\u001b[?25hdone\n",
      "  Created wheel for pl-core-news-sm: filename=pl_core_news_sm-2.3.0-cp36-none-any.whl size=48719490 sha256=98d39438486582b789fb1880a334ebd155618e51e001df0c9565fc5428f6b918\n",
      "  Stored in directory: /tmp/pip-ephem-wheel-cache-5rst9o91/wheels/ce/7a/53/aab09c53056da9fefa67b44d57202e9bd556825e12ca89fff1\n",
      "Successfully built pl-core-news-sm\n",
      "Installing collected packages: pl-core-news-sm\n",
      "Successfully installed pl-core-news-sm-2.3.0\n",
      "\u001b[38;5;2m✔ Download and installation successful\u001b[0m\n",
      "You can now load the model via spacy.load('pl_core_news_sm')\n",
      "\u001b[38;5;2m✔ Linking successful\u001b[0m\n",
      "/usr/local/lib/python3.6/dist-packages/pl_core_news_sm -->\n",
      "/usr/local/lib/python3.6/dist-packages/spacy/data/pl_core_news_sm\n",
      "You can now load the model via spacy.load('pl_core_news_sm')\n"
     ]
    }
   ],
   "source": [
    "!python -m spacy download pl_core_news_sm\n",
    "!python -m spacy link pl_core_news_sm pl_core_news_sm -f"
   ]
  },
  {
   "cell_type": "code",
   "execution_count": null,
   "metadata": {
    "colab": {
     "base_uri": "https://localhost:8080/"
    },
    "id": "Oyna7HHymreY",
    "outputId": "c790a6ff-c4b6-42a6-9cdd-6049afbd9c8f"
   },
   "outputs": [
    {
     "name": "stderr",
     "output_type": "stream",
     "text": [
      "nkjp_base_sq.zip: 462MB [00:18, 24.5MB/s]                           \n",
      "roberta_base_fairseq.zip: 231MB [00:03, 69.9MB/s]                           \n"
     ]
    },
    {
     "name": "stdout",
     "output_type": "stream",
     "text": [
      "loading archive file models/roberta_base_fairseq\n",
      "| dictionary: 50000 types\n"
     ]
    }
   ],
   "source": [
    "import poldeepner2.models\n",
    "ner_nkjp = poldeepner2.models.load(\"nkjp-base-sq\")"
   ]
  },
  {
   "cell_type": "code",
   "execution_count": null,
   "metadata": {
    "colab": {
     "base_uri": "https://localhost:8080/"
    },
    "id": "2VK_72eY5ITj",
    "outputId": "714cf39b-0bc7-4fdc-dbfb-2addef3fecb8"
   },
   "outputs": [
    {
     "name": "stderr",
     "output_type": "stream",
     "text": [
      "kpwr_n82_base.zip: 452MB [00:18, 24.3MB/s]                           \n"
     ]
    },
    {
     "name": "stdout",
     "output_type": "stream",
     "text": [
      "loading archive file models/roberta_base_fairseq\n",
      "| dictionary: 50000 types\n"
     ]
    }
   ],
   "source": [
    "ner_kpwr = poldeepner2.models.load(\"kpwr-n82-base\")"
   ]
  },
  {
   "cell_type": "markdown",
   "metadata": {
    "id": "GDc8pBfab-Dm"
   },
   "source": [
    "#### Analiza tekstu"
   ]
  },
  {
   "cell_type": "markdown",
   "metadata": {
    "id": "oEnVW8Cx5N9S"
   },
   "source": [
    "##### Model NKJP\n",
    "\n",
    "\n"
   ]
  },
  {
   "cell_type": "code",
   "execution_count": null,
   "metadata": {
    "colab": {
     "base_uri": "https://localhost:8080/"
    },
    "id": "-jpAE5Aqm9iK",
    "outputId": "b64c8068-b9ce-4b87-ed37-a55278391ba8"
   },
   "outputs": [
    {
     "data": {
      "text/plain": [
       "[AnnotationText(begin=0, end=8, label='placeName_settlement', text='Warszawa'),\n",
       " AnnotationText(begin=20, end=26, label='placeName_country', text='Polski'),\n",
       " AnnotationText(begin=28, end=41, label='geogName', text='Ulica Pułkowa'),\n",
       " AnnotationText(begin=57, end=62, label='geogName', text='Wisły')]"
      ]
     },
     "execution_count": 15,
     "metadata": {
      "tags": []
     },
     "output_type": "execute_result"
    }
   ],
   "source": [
    "names = ner_nkjp.process_text(text)\n",
    "names"
   ]
  },
  {
   "cell_type": "code",
   "execution_count": null,
   "metadata": {
    "colab": {
     "base_uri": "https://localhost:8080/"
    },
    "id": "SKAH8_UEpRq7",
    "outputId": "97cb44c7-02e3-404b-d67e-44c20d80cf74"
   },
   "outputs": [
    {
     "name": "stdout",
     "output_type": "stream",
     "text": [
      "0   8    placeName_settlement  Warszawa\n",
      "20  26   placeName_country     Polski\n",
      "28  41   geogName              Ulica Pułkowa\n",
      "57  62   geogName              Wisły\n"
     ]
    }
   ],
   "source": [
    "for ne in names:\n",
    "  print(f\"{ne.begin:<3} {ne.end:<3}  {ne.label:<20}  {ne.text}\")"
   ]
  },
  {
   "cell_type": "markdown",
   "metadata": {
    "id": "1CNoIEWI5acr"
   },
   "source": [
    "#### Model KPWr"
   ]
  },
  {
   "cell_type": "code",
   "execution_count": null,
   "metadata": {
    "colab": {
     "base_uri": "https://localhost:8080/"
    },
    "id": "RUndqYO7rPFN",
    "outputId": "968ca0ea-0e9f-4af2-cb1f-550d632a19cf"
   },
   "outputs": [
    {
     "name": "stdout",
     "output_type": "stream",
     "text": [
      "0   8    nam_loc_gpe_city        Warszawa\n",
      "20  26   nam_loc_gpe_country     Polski\n",
      "34  41   nam_fac_road            Pułkowa\n",
      "57  62   nam_loc_hydronym_river  Wisły\n"
     ]
    }
   ],
   "source": [
    "for ne in ner_kpwr.process_text(text):\n",
    "  print(f\"{ne.begin:<3} {ne.end:<3}  {ne.label:<22}  {ne.text}\")"
   ]
  },
  {
   "cell_type": "markdown",
   "metadata": {
    "id": "MW7titwb69PU"
   },
   "source": [
    "#### Analiza sekwencji tokenów\n"
   ]
  },
  {
   "cell_type": "code",
   "execution_count": null,
   "metadata": {
    "colab": {
     "base_uri": "https://localhost:8080/"
    },
    "id": "341iks7t7Cm9",
    "outputId": "acbf1af6-ce98-4efb-a0db-ec9ddb887157"
   },
   "outputs": [
    {
     "data": {
      "text/plain": [
       "['Jan', 'Nowak', 'mieszka', 'w', 'Warszawie']"
      ]
     },
     "execution_count": 18,
     "metadata": {
      "tags": []
     },
     "output_type": "execute_result"
    }
   ],
   "source": [
    "tokens = \"Jan Nowak mieszka w Warszawie\".split(\" \")\n",
    "tokens"
   ]
  },
  {
   "cell_type": "code",
   "execution_count": null,
   "metadata": {
    "colab": {
     "base_uri": "https://localhost:8080/"
    },
    "id": "jFAXoi7j7LUM",
    "outputId": "abf324a8-377c-4b36-d5ed-9274b55f154d"
   },
   "outputs": [
    {
     "data": {
      "text/plain": [
       "['B-nam_liv_person', 'I-nam_liv_person', 'O', 'O', 'B-nam_loc_gpe_city']"
      ]
     },
     "execution_count": 51,
     "metadata": {
      "tags": []
     },
     "output_type": "execute_result"
    }
   ],
   "source": [
    "labels = ner_kpwr.process_tokenized([tokens])\n",
    "labels[0]"
   ]
  },
  {
   "cell_type": "code",
   "execution_count": null,
   "metadata": {
    "colab": {
     "base_uri": "https://localhost:8080/"
    },
    "id": "wCM_2n8uFDwP",
    "outputId": "222397ce-b793-4116-9b99-733569cb1430"
   },
   "outputs": [
    {
     "name": "stdout",
     "output_type": "stream",
     "text": [
      "Jan        B-nam_liv_person\n",
      "Nowak      I-nam_liv_person\n",
      "mieszka    O\n",
      "w          O\n",
      "Warszawie  B-nam_loc_gpe_city\n"
     ]
    }
   ],
   "source": [
    "for token, label in zip(tokens, labels[0]):\n",
    "  print(f\"{token:<10} {label}\")"
   ]
  },
  {
   "cell_type": "code",
   "execution_count": null,
   "metadata": {
    "colab": {
     "base_uri": "https://localhost:8080/"
    },
    "id": "OP21Q7Nv7n7g",
    "outputId": "5b09d9df-a187-4082-cb4e-9cd506fe8de9"
   },
   "outputs": [
    {
     "data": {
      "text/plain": [
       "[<poldeepner2.utils.annotation.Annotation at 0x7efd9f2f3048>,\n",
       " <poldeepner2.utils.annotation.Annotation at 0x7efd9f2f3080>]"
      ]
     },
     "execution_count": 20,
     "metadata": {
      "tags": []
     },
     "output_type": "execute_result"
    }
   ],
   "source": [
    "from poldeepner2.utils.data_utils import wrap_annotations\n",
    "\n",
    "names = wrap_annotations(labels)\n",
    "names"
   ]
  },
  {
   "cell_type": "code",
   "execution_count": null,
   "metadata": {
    "colab": {
     "base_uri": "https://localhost:8080/"
    },
    "id": "HndFbOYe8Nlz",
    "outputId": "9cd2aee5-fdc7-446f-f41e-197a077ddc00"
   },
   "outputs": [
    {
     "name": "stdout",
     "output_type": "stream",
     "text": [
      "nam_liv_person\n",
      "[0, 1]\n"
     ]
    }
   ],
   "source": [
    "print(names[0].annotation)\n",
    "print(names[0].token_ids)"
   ]
  },
  {
   "cell_type": "code",
   "execution_count": null,
   "metadata": {
    "colab": {
     "base_uri": "https://localhost:8080/"
    },
    "id": "k_AMzZdK7-Nq",
    "outputId": "42b10194-5571-4766-c7e3-8db24c388bdf"
   },
   "outputs": [
    {
     "name": "stdout",
     "output_type": "stream",
     "text": [
      "Jan Nowak            nam_liv_person\n",
      "Warszawie            nam_loc_gpe_city\n"
     ]
    }
   ],
   "source": [
    "for an in names:\n",
    "  orth = \" \".join(tokens[n] for n in an.token_ids)\n",
    "  label = an.annotation\n",
    "  print(f\"{orth:<20} {label}\")"
   ]
  },
  {
   "cell_type": "markdown",
   "metadata": {
    "id": "n8Qu2_Xjbhnx"
   },
   "source": [
    "## Polem (lematyzacja)"
   ]
  },
  {
   "cell_type": "markdown",
   "metadata": {
    "id": "7fpy41MWsMba"
   },
   "source": [
    "Narzędzie do lematyzacji wyrażeń wielowyrazowych oraz nazw własnych.\n",
    "\n",
    "https://github.com/CLARIN-PL/Polem\n",
    "\n",
    "Cechy:\n",
    "\n",
    "1.   Lematyzacja nazw własnych z wykorzystaniem kategorii KPWr.\n",
    "2.   Wymaga analizy morfologicznej zgodnej z tagsetem NKJP.\n",
    "\n"
   ]
  },
  {
   "cell_type": "markdown",
   "metadata": {
    "id": "-ZlSwZEmfNTj"
   },
   "source": [
    "![image.png](data:image/png;base64,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)"
   ]
  },
  {
   "cell_type": "markdown",
   "metadata": {
    "id": "sHvy7VNFr06P"
   },
   "source": [
    "Narzędzie **Polem** dostępne jest jako **usługa sieciowa** w ramach infrastruktury **CLARIN-PL**."
   ]
  },
  {
   "cell_type": "code",
   "execution_count": null,
   "metadata": {
    "id": "hvEOgcKpe7pL"
   },
   "outputs": [],
   "source": [
    "import requests\n",
    "import json"
   ]
  },
  {
   "cell_type": "code",
   "execution_count": null,
   "metadata": {
    "colab": {
     "base_uri": "https://localhost:8080/"
    },
    "id": "NNU0RqtAeOy-",
    "outputId": "ce372fc2-50d2-4f33-eb34-1cbdaffbbd57"
   },
   "outputs": [
    {
     "name": "stdout",
     "output_type": "stream",
     "text": [
      "[['Brytyjskiej Izby Handlowej', 'brytyjski izba handlowy', 'adj:sg:gen:f:pos subst:sg:gen:f adj:sg:gen:f:pos', 'True True True', 'nam_org']]\n"
     ]
    }
   ],
   "source": [
    "phrase =[\"Brytyjskiej Izby Handlowej\", \n",
    "         \"brytyjski izba handlowy\", \n",
    "         \"adj:sg:gen:f:pos subst:sg:gen:f adj:sg:gen:f:pos\", \n",
    "         \"True True False\", \n",
    "         \"nam_org\"]\n",
    "\n",
    "phrases = [phrase]\n",
    "\n",
    "print(phrases)"
   ]
  },
  {
   "cell_type": "code",
   "execution_count": null,
   "metadata": {
    "colab": {
     "base_uri": "https://localhost:8080/",
     "height": 52
    },
    "id": "nqPkV2pPgrsr",
    "outputId": "630f2c95-422d-4a43-e265-ad6a321f53a8"
   },
   "outputs": [
    {
     "data": {
      "application/vnd.google.colaboratory.intrinsic+json": {
       "type": "string"
      },
      "text/plain": [
       "'{\"input\":{\"task\":\"all\",\"options\":[],\"lexeme\":\"\",\"lexeme_polem\":[[\"Brytyjskiej Izby Handlowej\",\"brytyjski izba handlowy\",\"adj:sg:gen:f:pos subst:sg:gen:f adj:sg:gen:f:pos\",\"True True True\",\"nam_org\"]],\"tool\":\"polem\"},\"totaltime\":0.013,\"time\":0.0046117305755615234,\"error\":\"\",\"results\":[\"Brytyjska Izba Handlowa\"]}'"
      ]
     },
     "execution_count": 46,
     "metadata": {
      "tags": []
     },
     "output_type": "execute_result"
    }
   ],
   "source": [
    "payload = {'lexeme_polem': phrases, \n",
    "           'tool': 'polem', \n",
    "           'options': [], \n",
    "           'lexeme':'', \n",
    "           'task':'all'}\n",
    "\n",
    "headers = {'content-type': 'application/json'}\n",
    "\n",
    "url = 'http://ws.clarin-pl.eu/lexrest/lex'\n",
    "\n",
    "response = requests.post(url, data=json.dumps(payload), headers=headers).text\n",
    "response"
   ]
  },
  {
   "cell_type": "code",
   "execution_count": null,
   "metadata": {
    "colab": {
     "base_uri": "https://localhost:8080/"
    },
    "id": "mJqdtDaJebz2",
    "outputId": "0014a3b6-d059-4048-f972-c9875cfbd574"
   },
   "outputs": [
    {
     "name": "stdout",
     "output_type": "stream",
     "text": [
      "Brytyjskiej Izby Handlowej  ->  Brytyjska Izba Handlowa\n"
     ]
    }
   ],
   "source": [
    "result = json.loads(response)\n",
    "\n",
    "for phrase, lemma in zip(result[\"input\"][\"lexeme_polem\"], result[\"results\"]):\n",
    "  print(f\"{phrase[0]}  ->  {lemma}\")\n"
   ]
  },
  {
   "cell_type": "markdown",
   "metadata": {
    "id": "-5e5uMN6bHHy"
   },
   "source": [
    "## Pełny potok przetwarzania"
   ]
  },
  {
   "cell_type": "markdown",
   "metadata": {
    "id": "SZ_4jgWhARLZ"
   },
   "source": [
    "\n",
    "1.   Tokenizacja i analiza morfologiczna (tagset NKJP)\n",
    "2.   Rozpoznanie i kategoryzacja jednostek nazewniczych (KPWr)\n",
    "4.   Lematyzacja jednostek nazewniczych\n",
    "\n"
   ]
  },
  {
   "cell_type": "code",
   "execution_count": null,
   "metadata": {
    "id": "5r9lBbDKbNvT"
   },
   "outputs": [],
   "source": [
    "text = \"Poznawanie dziedzictwa kulturowego w Europie Środkowej na Międzynarodowym Szlaku Kościołów THETRIS\""
   ]
  },
  {
   "cell_type": "code",
   "execution_count": null,
   "metadata": {
    "colab": {
     "base_uri": "https://localhost:8080/"
    },
    "id": "PMWtdScbbhJ8",
    "outputId": "117a9c6e-5d57-4bcf-d382-4e61d95f5421"
   },
   "outputs": [
    {
     "data": {
      "text/plain": [
       "['Poznawanie',\n",
       " 'dziedzictwa',\n",
       " 'kulturowego',\n",
       " 'w',\n",
       " 'Europie',\n",
       " 'Środkowej',\n",
       " 'na',\n",
       " 'Międzynarodowym',\n",
       " 'Szlaku',\n",
       " 'Kościołów',\n",
       " 'THETRIS']"
      ]
     },
     "execution_count": 28,
     "metadata": {
      "tags": []
     },
     "output_type": "execute_result"
    }
   ],
   "source": [
    "doc = nlp(text)\n",
    "\n",
    "orths = [t.text for t in doc]\n",
    "orths"
   ]
  },
  {
   "cell_type": "code",
   "execution_count": null,
   "metadata": {
    "colab": {
     "base_uri": "https://localhost:8080/"
    },
    "id": "2vmrOcrGdcy_",
    "outputId": "6533facd-c0b6-4db0-e5c2-ebf0a66f8563"
   },
   "outputs": [
    {
     "data": {
      "text/plain": [
       "['O',\n",
       " 'O',\n",
       " 'O',\n",
       " 'O',\n",
       " 'B-nam_loc_land_region',\n",
       " 'I-nam_loc_land_region',\n",
       " 'O',\n",
       " 'B-nam_eve_human',\n",
       " 'I-nam_eve_human',\n",
       " 'I-nam_eve_human',\n",
       " 'I-nam_eve_human']"
      ]
     },
     "execution_count": 29,
     "metadata": {
      "tags": []
     },
     "output_type": "execute_result"
    }
   ],
   "source": [
    "labels = ner_kpwr.process_tokenized([orths])\n",
    "labels[0]"
   ]
  },
  {
   "cell_type": "code",
   "execution_count": null,
   "metadata": {
    "colab": {
     "base_uri": "https://localhost:8080/"
    },
    "id": "x6FdHXYge5-f",
    "outputId": "ca20fcfc-2ea3-4a3a-d1e9-27e3eaca4632"
   },
   "outputs": [
    {
     "data": {
      "text/plain": [
       "[<poldeepner2.utils.annotation.Annotation at 0x7efd9f2f3630>,\n",
       " <poldeepner2.utils.annotation.Annotation at 0x7efd9f2f36d8>]"
      ]
     },
     "execution_count": 30,
     "metadata": {
      "tags": []
     },
     "output_type": "execute_result"
    }
   ],
   "source": [
    "from poldeepner2.utils.data_utils import wrap_annotations\n",
    "\n",
    "names = wrap_annotations(labels)\n",
    "names"
   ]
  },
  {
   "cell_type": "code",
   "execution_count": null,
   "metadata": {
    "colab": {
     "base_uri": "https://localhost:8080/"
    },
    "id": "lLdplY5WfEY_",
    "outputId": "0323c809-0b28-44cf-97eb-bfcf8563ebb8"
   },
   "outputs": [
    {
     "name": "stdout",
     "output_type": "stream",
     "text": [
      "Europie Środkowej\n",
      "Europa środkowy\n",
      "subst:sg:loc:f adj:sg:loc:f:pos\n",
      "True True\n",
      "nam_loc_land_region\n",
      "\n",
      "Międzynarodowym Szlaku Kościołów THETRIS\n",
      "międzynarodowy szlak kościół THETRIS\n",
      "adj:sg:loc:m3:pos subst:sg:loc:m3 subst:pl:gen:m3 interp\n",
      "True True True False\n",
      "nam_eve_human\n",
      "\n"
     ]
    }
   ],
   "source": [
    "phrases = []\n",
    "\n",
    "for an in names:  \n",
    "  orth = \" \".join(doc[n].text for n in an.token_ids)\n",
    "  lemma = \" \".join(doc[n].lemma_ for n in an.token_ids)\n",
    "  ctag = \" \".join(f\"{[doc[n].tag_]}:{doc[n]._.feats}]\".rstrip(\":\") for n in an.token_ids)\n",
    "  ws = \" \".join(str(len(doc[n].whitespace_)>0) for n in an.token_ids)\n",
    "  print(f\"{orth}\\n{lemma}\\n{ctag}\\n{ws}\\n{an.annotation}\\n\")\n",
    "\n",
    "  phrases.append([orth, lemma, ctag, ws, an.annotation])"
   ]
  },
  {
   "cell_type": "code",
   "execution_count": null,
   "metadata": {
    "colab": {
     "base_uri": "https://localhost:8080/",
     "height": 69
    },
    "id": "2Uu3yCmDg8Tz",
    "outputId": "37eb88bd-7dd9-4c1a-d6b5-020d6e608846"
   },
   "outputs": [
    {
     "data": {
      "application/vnd.google.colaboratory.intrinsic+json": {
       "type": "string"
      },
      "text/plain": [
       "'{\"input\":{\"task\":\"all\",\"options\":[],\"lexeme\":\"\",\"lexeme_polem\":[[\"Europie Środkowej\",\"Europa środkowy\",\"subst:sg:loc:f adj:sg:loc:f:pos\",\"True True\",\"nam_loc_land_region\"],[\"Międzynarodowym Szlaku Kościołów THETRIS\",\"międzynarodowy szlak kościół THETRIS\",\"adj:sg:loc:m3:pos subst:sg:loc:m3 subst:pl:gen:m3 interp\",\"True True True False\",\"nam_eve_human\"]],\"tool\":\"polem\"},\"totaltime\":0.015,\"time\":0.007588863372802734,\"error\":\"\",\"results\":[\"Europa Środkowa\",\"Międzynarodowy Szlak Kościołów THETRIS\"]}'"
      ]
     },
     "execution_count": 43,
     "metadata": {
      "tags": []
     },
     "output_type": "execute_result"
    }
   ],
   "source": [
    "payload = {'lexeme_polem': phrases, 'tool': 'polem', 'options': [], 'lexeme':'', 'task':'all'}\n",
    "headers = {'content-type': 'application/json'}\n",
    "url = 'http://ws.clarin-pl.eu/lexrest/lex'\n",
    "\n",
    "response = requests.post(url, data=json.dumps(payload), headers=headers).text\n",
    "response"
   ]
  },
  {
   "cell_type": "code",
   "execution_count": null,
   "metadata": {
    "colab": {
     "base_uri": "https://localhost:8080/"
    },
    "id": "8aBVi4FGhDXy",
    "outputId": "439d8435-925b-4603-c756-ca87e0867586"
   },
   "outputs": [
    {
     "name": "stdout",
     "output_type": "stream",
     "text": [
      "Europie Środkowej                         ->  Europa Środkowa\n",
      "Międzynarodowym Szlaku Kościołów THETRIS  ->  Międzynarodowy Szlak Kościołów THETRIS\n"
     ]
    }
   ],
   "source": [
    "result = json.loads(response)\n",
    "\n",
    "for phrase, lemma in zip(result[\"input\"][\"lexeme_polem\"], result[\"results\"]):\n",
    "  print(f\"{phrase[0]:<40}  ->  {lemma}\")"
   ]
  }
 ],
 "metadata": {
  "accelerator": "GPU",
  "colab": {
   "collapsed_sections": [],
   "name": "L6.4-ner.ipynb",
   "provenance": [],
   "toc_visible": true
  },
  "kernelspec": {
   "display_name": "Python 3",
   "language": "python",
   "name": "python3"
  },
  "language_info": {
   "codemirror_mode": {
    "name": "ipython",
    "version": 3
   },
   "file_extension": ".py",
   "mimetype": "text/x-python",
   "name": "python",
   "nbconvert_exporter": "python",
   "pygments_lexer": "ipython3",
   "version": "3.6.9"
  }
 },
 "nbformat": 4,
 "nbformat_minor": 1
}
