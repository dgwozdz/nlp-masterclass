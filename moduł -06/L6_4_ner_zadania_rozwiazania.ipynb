{
 "cells": [
  {
   "cell_type": "markdown",
   "metadata": {
    "id": "2UShbBsFN0Yo"
   },
   "source": [
    "# Rozpoznawanie jednostek nazewniczych (NER) — Zadania"
   ]
  },
  {
   "cell_type": "markdown",
   "metadata": {
    "id": "jMfuLFFpvWez"
   },
   "source": [
    "## Zadanie"
   ]
  },
  {
   "cell_type": "markdown",
   "metadata": {
    "id": "trxhchv3L6tx"
   },
   "source": [
    "Dla wybranej strony z Wikipedii porównaj rozpoznane jednostki nazewnicze przy użyciu spaCy (gruboziarnisty model NKJP) i PolDeepNer2 (drobnoziarnisty model KPWr).\n",
    "\n",
    "Porównanie powinno uwzględniać:\n",
    "1. Dla 20 najczęstszych form tekstowych rozpoznanych jako jednostki nazewnicze przez spaCy wypisz kategorie oraz liczność ich rozpoznania przez spaCy oraz PolDeepNer2, np. :\n",
    "```\n",
    "Gdańsk  [spaCy] (61) placeName   [PDN2] (58) nam_loc_gpe_city, ( 1) nam_org_institution, ( 1) nam_org_group_team, ( 2) nam_fac_goe_stop\n",
    "```\n",
    "2. Dla jednostki, dla której PolDeepNer2 wskazał więcej niż jedną kategorię, wypisz kontekst wystąpienia jednostki zinterpretowanej jako dana kategoria. Np. dla powyższego przykładu wypisz konteksty, w których `Gdańsk` został uznany za `nam_fac_goe_stop`, tj.\n",
    "```\n",
    "sanitarne lądowisko [Gdańsk]-Zaspa, a rok później\n",
    "i otwarto lądowisko [Gdańsk]-Szpital UCK.\n",
    "```\n",
    "3. Dla jednostki, która nie została znaleziona w wynikach PolDeepNer2 wypisz te jednostki, których częścią może być dana jednostka. Na przykład dla:\n",
    "```\n",
    "Europy               [spaCy] ( 4) geogName                   [PDN2] brak\n",
    "```\n",
    "Można uzyskać:\n",
    "```\n",
    "Mistrzostw Europy w Koszykówce Mężczyzn 2009 [('nam_eve_human_sport', 1)]\n",
    "Mistrzostw Europy w Piłce Nożnej 2012 [('nam_eve_human_sport', 1)]\n",
    "Mistrzostw Europy w Piłce Siatkowej Mężczyzn 2013 [('nam_eve_human_sport', 1)]\n",
    "Mistrzostw Europy w Piłce Ręcznej Mężczyzn 2016 [('nam_eve_human_sport', 1)]\n",
    "```"
   ]
  },
  {
   "cell_type": "markdown",
   "metadata": {
    "id": "ZuRSBSovMpR-"
   },
   "source": [
    "**Wskazówka**\n",
    "\n",
    "Przykładowa storna z Wikipedii:"
   ]
  },
  {
   "cell_type": "code",
   "execution_count": null,
   "metadata": {
    "id": "OMGHx-IsEvu2"
   },
   "outputs": [],
   "source": [
    "url = 'https://pl.wikipedia.org/wiki/Gda%C5%84sk'"
   ]
  },
  {
   "cell_type": "markdown",
   "metadata": {
    "id": "0y2O8IN9E1j-"
   },
   "source": [
    "**Pobranie treści strony**"
   ]
  },
  {
   "cell_type": "code",
   "execution_count": null,
   "metadata": {
    "colab": {
     "base_uri": "https://localhost:8080/"
    },
    "id": "LK-9SmAbGdJX",
    "outputId": "902ab70e-b5a8-41f6-e7ed-967969eec834"
   },
   "outputs": [
    {
     "name": "stdout",
     "output_type": "stream",
     "text": [
      "Requirement already satisfied: beautifulsoup4 in /usr/local/lib/python3.6/dist-packages (4.6.3)\n"
     ]
    }
   ],
   "source": [
    "! pip install beautifulsoup4"
   ]
  },
  {
   "cell_type": "code",
   "execution_count": null,
   "metadata": {
    "colab": {
     "base_uri": "https://localhost:8080/"
    },
    "id": "RXMpLk8CE0oN",
    "outputId": "d120671c-6a05-477c-8787-d9bc280f613b"
   },
   "outputs": [
    {
     "name": "stdout",
     "output_type": "stream",
     "text": [
      "90\n",
      "Gdańsk (kaszub. Gduńsk, niem. Danzig, łac. Gedanum, Dantiscum, nid. Danswijk) – miasto na prawach powiatu w północnej Polsce w województwie pomorskim, położone nad Morzem Bałtyckim u ujścia Motławy do Wisły nad Zatoką Gdańską. Centrum kulturalne, naukowe i gospodarcze oraz węzeł komunikacyjny północnej Polski, stolica województwa pomorskiego. Ośrodek gospodarki morskiej z dużym portem handlowym.\n",
      "Gdańsk z 471 525 mieszkańcami zajmuje szóste miejsce w Polsce pod względem liczby ludności, a siódme miejsce pod względem powierzchni – 263,44 km². Ośrodek aglomeracji trójmiejskiej, nazywaną też gdańską, wraz z Gdynią i Sopotem tworzą Trójmiasto.\n",
      "Jest to miasto o ponadtysiącletniej historii, którego tożsamość na przestrzeni wieków kształtowała się pod wpływem różnych kultur. Gdańsk był również największym miastem Rzeczypospolitej Obojga Narodów, miastem królewskim i hanzeatyckim, posiadał prawo do czynnego uczestnictwa w akcie wyboru króla, w XVI w. był najbogatszym w Rzeczypospolitej. Miasto było też ważnym ośrodkiem kulturalnym. Gdańsk uznawany jest za symboliczne miejsce wybuchu II wojny światowej oraz początku upadku komunizmu w Europie Środkowej. Na terenie miasta znajdują się liczne zabytki architektury, działa w nim wiele instytucji i placówek kulturalnych.\n",
      "W Gdańsku odbywają się największe na świecie międzynarodowe targi bursztynu i wyrobów bursztynowych Amberif.\n",
      "Miasto jest położone nad Zatoką Gdańską, u ujścia Motławy do Wisły. Gdańsk leży na Żuławach Wiślanych, nadbrzeżna jego cześć na Mierzei Wiślanej, a zachodnie jego krańce na Pobrzeżu Kaszubskim i Pojezierzu Kaszubskim. Położenie Gdańska w obrębie czterech odmiennych jednostek fizycznogeograficznych powoduje duże zróżnicowanie przestrzenne warunków środowiska przyrodniczego na jego terenie. Na ukształtowanie terenu, układ hydrograficzny i parametry klimatyczne wpływa ponadto położenie miasta w strefie nadmorskiej, charakteryzującej się specyficznym oddziaływaniem morza na środowisko przyrodnicze lądu.\n",
      "Klimat w rejonie Gdańska uzależniony jest od morza, które działa jak pompa cieplna – latem odbiera ciepło, a zimą je oddaje. Skutkiem tego wiosna zaczyna się stosunkowo późno (w maju), temperatury powietrza latem są niższe od średniej krajowej (odczuwaną temperaturę dodatkowo obniża bryza morska) choć słońce mocno nagrzewa wodę w Zatoce Gdańskiej (do 24 °C). Jesień ciepła i pełna słońca trwa do października, zimy natomiast są raczej łagodne (w niektóre zimowe miesiące nie ma ani dnia mrozu a znaczniejszy opad śniegu nie utrzymuje się zwykle na gruncie dużo dłużej niż przez dwa tygodnie w roku). Wiatry wieją z różnych stron zależnie od pory roku. W lecie najczęściej z zachodu i północnego zachodu, zimą od lądu. Charakterystyczne dla wybrzeża są też wiatry sztormowe, które zasadniczo wieją zimą i osiągają zawrotne prędkości.\n",
      "Do zasobów przyrodniczych miasta należy duża powierzchnia zieleni. Tereny lasów i zieleni[e] zajmują w Gdańsku łącznie 24% powierzchni całkowitej miasta. Do terenów zieleni zalicza się tereny leśne (4589 ha), zieleń miejską (592 ha) i ogrody działkowe (957 ha). Z terenów zieleni urządzonej największe znaczenie mają duże obszary parkowe. Na obszarze miasta znajduje się 21 miejskich, ogólnie dostępnych parków, zajmujących łącznie powierzchnię ponad 180 ha. Największymi są Park im. Ronalda Reagana (62 ha), Park im. Jana Pawła II (25 ha), Park Oruński (19 ha), Park Steffensa (13,6 ha), Park Oliwski (11,3 ha), Park Ferberów (11 ha), Park nad Opływem Motławy (11 ha), Park Brzeźnieński (ok. 10 ha) oraz m.in. Park Jelitkowski, Park im. Jana Pawła II i tereny o charakterze parkowym wzdłuż al. Grunwaldzkiej we Wrzeszczu.\n",
      "W Gdańsku znajdują się duże połacie lasu, rosnącego na obszarach o urozmaiconej rzeźbie terenu, obfitujących w liczne wzniesienia (wyniosłości morenowe) i doliny. Taka rzeźba terenu sprzyja występowaniu unikatowych dla tego regionu, podgórskich gatunków flory. W północno-zachodniej części miasta lasy te sąsiadują bezpośrednio z terenami mieszkalnymi i głównymi ośrodkami miejskimi. Obszary o dużym znaczeniu przyrodniczym i krajobrazowym znajdujące się na terenie Gdańska (w 2008 roku było to w sumie 6005 ha, czyli 22,9% powierzchni miasta) objęte są ochroną prawną w czterech obszarach chronionego krajobrazu (z których największe znaczenie ma południowa część Trójmiejskiego Parku Krajobrazowego i znajdujące się na jego terenie Lasy Oliwskie), pięciu rezerwatach przyrody (położonych w obrębie wyżej wymienionych obszarów chronionych), dwóch zespołach przyrodniczo–krajobrazowych oraz w obrębie trzynastu użytków ekologicznych.\n",
      "W granicach administracyjnych miasta znajdują się 182 pomniki przyrody: 143 pojedyncze drzewa, 28 grup drzew, 1 aleja parkowa, 9 głazów narzutowych i 1 pomnik powierzchniowy. Tak duża ilość stawia je w czołówce Polskich miast pod względem ich ilości. Wśród drzew uznanych za pomniki przyrody najwięcej jest buków i dębów. Pomniki te miejscami skupione są blisko siebie, między innymi w rejonie starego Wrzeszcza, w parku Steffensa i w rejonie starej Oliwy.\n",
      "Położenie miasta w bliskim sąsiedztwie morza i znacznych połaci lasu sprzyja czystości środowiska. W przeglądach większych aglomeracji Gdańsk plasuje się w Polsce jako najczystsze miasto zarówno pod względem czystości powietrza, jak i czystości wody dostarczanej przez sieć wodno-kanalizacyjną.\n"
     ]
    }
   ],
   "source": [
    "import requests\n",
    "from bs4 import BeautifulSoup\n",
    "import re\n",
    "\n",
    "page = requests.get('https://pl.wikipedia.org/wiki/Gda%C5%84sk')\n",
    "soup = BeautifulSoup(page.content)\n",
    "\n",
    "texts = []\n",
    "clean_regex = re.compile(r\"\\[\\d+\\]\") # Do usunięcia przypisów w postaci [1].\n",
    "\n",
    "for p in soup.select(\"div#mw-content-text p\"): \n",
    "  text = p.get_text().strip()\n",
    "  text = clean_regex.sub(\"\", text)\n",
    "  if len(text) > 100:\n",
    "    texts.append(text)\n",
    "\n",
    "print(len(texts))\n",
    "print(*texts[:10], sep=\"\\n\")"
   ]
  },
  {
   "cell_type": "markdown",
   "metadata": {
    "id": "CJX0Bgo8Z9tF"
   },
   "source": [
    "## Rozwiązanie"
   ]
  },
  {
   "cell_type": "markdown",
   "metadata": {
    "id": "V73sI0nC2FmM"
   },
   "source": [
    "### Przygotowanie"
   ]
  },
  {
   "cell_type": "markdown",
   "metadata": {
    "id": "PtzLm3hSGiMf"
   },
   "source": [
    "#### Przygotowanie spaCy"
   ]
  },
  {
   "cell_type": "code",
   "execution_count": null,
   "metadata": {
    "colab": {
     "base_uri": "https://localhost:8080/"
    },
    "id": "CmuoXbbraB8c",
    "outputId": "dec54167-dad1-49de-e787-12a7ede55f1b"
   },
   "outputs": [
    {
     "name": "stdout",
     "output_type": "stream",
     "text": [
      "Collecting spacy==2.3.2\n",
      "\u001b[?25l  Downloading https://files.pythonhosted.org/packages/10/b5/c7a92c7ce5d4b353b70b4b5b4385687206c8b230ddfe08746ab0fd310a3a/spacy-2.3.2-cp36-cp36m-manylinux1_x86_64.whl (9.9MB)\n",
      "\u001b[K     |████████████████████████████████| 10.0MB 14.8MB/s \n",
      "\u001b[?25hRequirement already satisfied, skipping upgrade: srsly<1.1.0,>=1.0.2 in /usr/local/lib/python3.6/dist-packages (from spacy==2.3.2) (1.0.5)\n",
      "Requirement already satisfied, skipping upgrade: wasabi<1.1.0,>=0.4.0 in /usr/local/lib/python3.6/dist-packages (from spacy==2.3.2) (0.8.0)\n",
      "Requirement already satisfied, skipping upgrade: requests<3.0.0,>=2.13.0 in /usr/local/lib/python3.6/dist-packages (from spacy==2.3.2) (2.23.0)\n",
      "Requirement already satisfied, skipping upgrade: preshed<3.1.0,>=3.0.2 in /usr/local/lib/python3.6/dist-packages (from spacy==2.3.2) (3.0.5)\n",
      "Requirement already satisfied, skipping upgrade: blis<0.5.0,>=0.4.0 in /usr/local/lib/python3.6/dist-packages (from spacy==2.3.2) (0.4.1)\n",
      "Requirement already satisfied, skipping upgrade: tqdm<5.0.0,>=4.38.0 in /usr/local/lib/python3.6/dist-packages (from spacy==2.3.2) (4.41.1)\n",
      "Requirement already satisfied, skipping upgrade: murmurhash<1.1.0,>=0.28.0 in /usr/local/lib/python3.6/dist-packages (from spacy==2.3.2) (1.0.5)\n",
      "Requirement already satisfied, skipping upgrade: catalogue<1.1.0,>=0.0.7 in /usr/local/lib/python3.6/dist-packages (from spacy==2.3.2) (1.0.0)\n",
      "Requirement already satisfied, skipping upgrade: cymem<2.1.0,>=2.0.2 in /usr/local/lib/python3.6/dist-packages (from spacy==2.3.2) (2.0.5)\n",
      "Collecting thinc==7.4.1\n",
      "\u001b[?25l  Downloading https://files.pythonhosted.org/packages/10/ae/ef3ae5e93639c0ef8e3eb32e3c18341e511b3c515fcfc603f4b808087651/thinc-7.4.1-cp36-cp36m-manylinux1_x86_64.whl (2.1MB)\n",
      "\u001b[K     |████████████████████████████████| 2.1MB 44.3MB/s \n",
      "\u001b[?25hRequirement already satisfied, skipping upgrade: numpy>=1.15.0 in /usr/local/lib/python3.6/dist-packages (from spacy==2.3.2) (1.19.4)\n",
      "Requirement already satisfied, skipping upgrade: setuptools in /usr/local/lib/python3.6/dist-packages (from spacy==2.3.2) (51.0.0)\n",
      "Requirement already satisfied, skipping upgrade: plac<1.2.0,>=0.9.6 in /usr/local/lib/python3.6/dist-packages (from spacy==2.3.2) (1.1.3)\n",
      "Requirement already satisfied, skipping upgrade: chardet<4,>=3.0.2 in /usr/local/lib/python3.6/dist-packages (from requests<3.0.0,>=2.13.0->spacy==2.3.2) (3.0.4)\n",
      "Requirement already satisfied, skipping upgrade: idna<3,>=2.5 in /usr/local/lib/python3.6/dist-packages (from requests<3.0.0,>=2.13.0->spacy==2.3.2) (2.10)\n",
      "Requirement already satisfied, skipping upgrade: certifi>=2017.4.17 in /usr/local/lib/python3.6/dist-packages (from requests<3.0.0,>=2.13.0->spacy==2.3.2) (2020.12.5)\n",
      "Requirement already satisfied, skipping upgrade: urllib3!=1.25.0,!=1.25.1,<1.26,>=1.21.1 in /usr/local/lib/python3.6/dist-packages (from requests<3.0.0,>=2.13.0->spacy==2.3.2) (1.24.3)\n",
      "Requirement already satisfied, skipping upgrade: importlib-metadata>=0.20; python_version < \"3.8\" in /usr/local/lib/python3.6/dist-packages (from catalogue<1.1.0,>=0.0.7->spacy==2.3.2) (3.3.0)\n",
      "Requirement already satisfied, skipping upgrade: zipp>=0.5 in /usr/local/lib/python3.6/dist-packages (from importlib-metadata>=0.20; python_version < \"3.8\"->catalogue<1.1.0,>=0.0.7->spacy==2.3.2) (3.4.0)\n",
      "Requirement already satisfied, skipping upgrade: typing-extensions>=3.6.4; python_version < \"3.8\" in /usr/local/lib/python3.6/dist-packages (from importlib-metadata>=0.20; python_version < \"3.8\"->catalogue<1.1.0,>=0.0.7->spacy==2.3.2) (3.7.4.3)\n",
      "Installing collected packages: thinc, spacy\n",
      "  Found existing installation: thinc 7.4.0\n",
      "    Uninstalling thinc-7.4.0:\n",
      "      Successfully uninstalled thinc-7.4.0\n",
      "  Found existing installation: spacy 2.2.4\n",
      "    Uninstalling spacy-2.2.4:\n",
      "      Successfully uninstalled spacy-2.2.4\n",
      "Successfully installed spacy-2.3.2 thinc-7.4.1\n",
      "--2021-01-07 06:45:49--  http://download.sgjp.pl/apt/sgjp.gpg.key\n",
      "Resolving download.sgjp.pl (download.sgjp.pl)... 193.0.67.154\n",
      "Connecting to download.sgjp.pl (download.sgjp.pl)|193.0.67.154|:80... connected.\n",
      "HTTP request sent, awaiting response... 200 OK\n",
      "Length: 1029 (1.0K) [application/pgp-keys]\n",
      "Saving to: ‘STDOUT’\n",
      "\n",
      "-                   100%[===================>]   1.00K  --.-KB/s    in 0s      \n",
      "\n",
      "2021-01-07 06:45:49 (207 MB/s) - written to stdout [1029/1029]\n",
      "\n",
      "OK\n",
      "Get:1 http://security.ubuntu.com/ubuntu bionic-security InRelease [88.7 kB]\n",
      "Get:2 https://cloud.r-project.org/bin/linux/ubuntu bionic-cran40/ InRelease [3,626 B]\n",
      "Ign:3 https://developer.download.nvidia.com/compute/cuda/repos/ubuntu1804/x86_64  InRelease\n",
      "Get:4 https://cloud.r-project.org/bin/linux/ubuntu bionic-cran40/ Packages [42.7 kB]\n",
      "Get:5 http://ppa.launchpad.net/c2d4u.team/c2d4u4.0+/ubuntu bionic InRelease [15.9 kB]\n",
      "Hit:6 http://archive.ubuntu.com/ubuntu bionic InRelease\n",
      "Ign:7 https://developer.download.nvidia.com/compute/machine-learning/repos/ubuntu1804/x86_64  InRelease\n",
      "Get:8 http://download.sgjp.pl/apt/ubuntu bionic InRelease [1,979 B]\n",
      "Hit:9 https://developer.download.nvidia.com/compute/cuda/repos/ubuntu1804/x86_64  Release\n",
      "Get:10 https://developer.download.nvidia.com/compute/machine-learning/repos/ubuntu1804/x86_64  Release [564 B]\n",
      "Get:11 http://security.ubuntu.com/ubuntu bionic-security/universe amd64 Packages [1,376 kB]\n",
      "Get:12 https://developer.download.nvidia.com/compute/machine-learning/repos/ubuntu1804/x86_64  Release.gpg [833 B]\n",
      "Get:13 http://archive.ubuntu.com/ubuntu bionic-updates InRelease [88.7 kB]\n",
      "Get:14 http://security.ubuntu.com/ubuntu bionic-security/restricted amd64 Packages [247 kB]\n",
      "Get:15 http://security.ubuntu.com/ubuntu bionic-security/main amd64 Packages [1,846 kB]\n",
      "Get:16 http://security.ubuntu.com/ubuntu bionic-security/multiverse amd64 Packages [14.9 kB]\n",
      "Hit:17 http://ppa.launchpad.net/cran/libgit2/ubuntu bionic InRelease\n",
      "Get:18 http://archive.ubuntu.com/ubuntu bionic-backports InRelease [74.6 kB]\n",
      "Hit:19 http://ppa.launchpad.net/graphics-drivers/ppa/ubuntu bionic InRelease\n",
      "Get:20 http://download.sgjp.pl/apt/ubuntu bionic/main amd64 Packages [1,942 B]\n",
      "Get:22 https://developer.download.nvidia.com/compute/machine-learning/repos/ubuntu1804/x86_64  Packages [66.5 kB]\n",
      "Get:23 http://ppa.launchpad.net/c2d4u.team/c2d4u4.0+/ubuntu bionic/main Sources [1,707 kB]\n",
      "Get:24 http://archive.ubuntu.com/ubuntu bionic-updates/multiverse amd64 Packages [53.4 kB]\n",
      "Get:25 http://archive.ubuntu.com/ubuntu bionic-updates/restricted amd64 Packages [277 kB]\n",
      "Get:26 http://archive.ubuntu.com/ubuntu bionic-updates/universe amd64 Packages [2,140 kB]\n",
      "Get:27 http://archive.ubuntu.com/ubuntu bionic-updates/main amd64 Packages [2,273 kB]\n",
      "Get:28 http://ppa.launchpad.net/c2d4u.team/c2d4u4.0+/ubuntu bionic/main amd64 Packages [874 kB]\n",
      "Fetched 11.2 MB in 2s (5,467 kB/s)\n",
      "Reading package lists... Done\n",
      "Hit:1 https://cloud.r-project.org/bin/linux/ubuntu bionic-cran40/ InRelease\n",
      "Hit:2 http://security.ubuntu.com/ubuntu bionic-security InRelease\n",
      "Ign:3 https://developer.download.nvidia.com/compute/cuda/repos/ubuntu1804/x86_64  InRelease\n",
      "Hit:4 http://ppa.launchpad.net/c2d4u.team/c2d4u4.0+/ubuntu bionic InRelease\n",
      "Hit:5 http://archive.ubuntu.com/ubuntu bionic InRelease\n",
      "Ign:6 https://developer.download.nvidia.com/compute/machine-learning/repos/ubuntu1804/x86_64  InRelease\n",
      "Hit:7 https://developer.download.nvidia.com/compute/cuda/repos/ubuntu1804/x86_64  Release\n",
      "Hit:8 http://download.sgjp.pl/apt/ubuntu bionic InRelease\n",
      "Hit:9 http://archive.ubuntu.com/ubuntu bionic-updates InRelease\n",
      "Hit:10 https://developer.download.nvidia.com/compute/machine-learning/repos/ubuntu1804/x86_64  Release\n",
      "Hit:11 http://archive.ubuntu.com/ubuntu bionic-backports InRelease\n",
      "Hit:12 http://ppa.launchpad.net/cran/libgit2/ubuntu bionic InRelease\n",
      "Hit:14 http://ppa.launchpad.net/graphics-drivers/ppa/ubuntu bionic InRelease\n",
      "Reading package lists... Done\n",
      "Building dependency tree       \n",
      "Reading state information... Done\n",
      "27 packages can be upgraded. Run 'apt list --upgradable' to see them.\n",
      "Reading package lists... Done\n",
      "Building dependency tree       \n",
      "Reading state information... Done\n",
      "The following additional packages will be installed:\n",
      "  morfeusz2-dictionary-sgjp\n",
      "Suggested packages:\n",
      "  morfeusz2-dictionary-polimorf\n",
      "The following NEW packages will be installed:\n",
      "  libmorfeusz2 morfeusz2-dictionary-sgjp\n",
      "0 upgraded, 2 newly installed, 0 to remove and 27 not upgraded.\n",
      "Need to get 4,845 kB of archives.\n",
      "After this operation, 20.0 MB of additional disk space will be used.\n",
      "Get:1 http://download.sgjp.pl/apt/ubuntu bionic/main amd64 morfeusz2-dictionary-sgjp all 20210103 [4,706 kB]\n",
      "Get:2 http://download.sgjp.pl/apt/ubuntu bionic/main amd64 libmorfeusz2 amd64 1.9.17-18.04 [139 kB]\n",
      "Fetched 4,845 kB in 1s (4,258 kB/s)\n",
      "debconf: unable to initialize frontend: Dialog\n",
      "debconf: (No usable dialog-like program is installed, so the dialog based frontend cannot be used. at /usr/share/perl5/Debconf/FrontEnd/Dialog.pm line 76, <> line 2.)\n",
      "debconf: falling back to frontend: Readline\n",
      "debconf: unable to initialize frontend: Readline\n",
      "debconf: (This frontend requires a controlling tty.)\n",
      "debconf: falling back to frontend: Teletype\n",
      "dpkg-preconfigure: unable to re-open stdin: \n",
      "Selecting previously unselected package morfeusz2-dictionary-sgjp.\n",
      "(Reading database ... 145480 files and directories currently installed.)\n",
      "Preparing to unpack .../morfeusz2-dictionary-sgjp_20210103_all.deb ...\n",
      "Unpacking morfeusz2-dictionary-sgjp (20210103) ...\n",
      "Selecting previously unselected package libmorfeusz2.\n",
      "Preparing to unpack .../libmorfeusz2_1.9.17-18.04_amd64.deb ...\n",
      "Unpacking libmorfeusz2 (1.9.17-18.04) ...\n",
      "Setting up morfeusz2-dictionary-sgjp (20210103) ...\n",
      "Setting up libmorfeusz2 (1.9.17-18.04) ...\n",
      "Processing triggers for libc-bin (2.27-3ubuntu1.2) ...\n",
      "/sbin/ldconfig.real: /usr/local/lib/python3.6/dist-packages/ideep4py/lib/libmkldnn.so.0 is not a symbolic link\n",
      "\n",
      "Reading package lists... Done\n",
      "Building dependency tree       \n",
      "Reading state information... Done\n",
      "The following NEW packages will be installed:\n",
      "  python3-morfeusz2\n",
      "0 upgraded, 1 newly installed, 0 to remove and 27 not upgraded.\n",
      "Need to get 120 kB of archives.\n",
      "After this operation, 518 kB of additional disk space will be used.\n",
      "Get:1 http://download.sgjp.pl/apt/ubuntu bionic/main amd64 python3-morfeusz2 amd64 1.9.17-18.04 [120 kB]\n",
      "Fetched 120 kB in 1s (223 kB/s)\n",
      "debconf: unable to initialize frontend: Dialog\n",
      "debconf: (No usable dialog-like program is installed, so the dialog based frontend cannot be used. at /usr/share/perl5/Debconf/FrontEnd/Dialog.pm line 76, <> line 1.)\n",
      "debconf: falling back to frontend: Readline\n",
      "debconf: unable to initialize frontend: Readline\n",
      "debconf: (This frontend requires a controlling tty.)\n",
      "debconf: falling back to frontend: Teletype\n",
      "dpkg-preconfigure: unable to re-open stdin: \n",
      "Selecting previously unselected package python3-morfeusz2.\n",
      "(Reading database ... 145485 files and directories currently installed.)\n",
      "Preparing to unpack .../python3-morfeusz2_1.9.17-18.04_amd64.deb ...\n",
      "Unpacking python3-morfeusz2 (1.9.17-18.04) ...\n",
      "Setting up python3-morfeusz2 (1.9.17-18.04) ...\n",
      "--2021-01-07 06:46:08--  http://mozart.ipipan.waw.pl/~alina/zasoby/data/pl_spacy_model_morfeusz-0.1.3.tar.gz\n",
      "Resolving mozart.ipipan.waw.pl (mozart.ipipan.waw.pl)... 213.135.36.148\n",
      "Connecting to mozart.ipipan.waw.pl (mozart.ipipan.waw.pl)|213.135.36.148|:80... connected.\n",
      "HTTP request sent, awaiting response... 200 OK\n",
      "Length: 229068993 (218M) [application/x-gzip]\n",
      "Saving to: ‘zasoby/pl_spacy_model_morfeusz-0.1.3.tar.gz’\n",
      "\n",
      "pl_spacy_model_morf 100%[===================>] 218.46M  24.0MB/s    in 9.8s    \n",
      "\n",
      "2021-01-07 06:46:19 (22.2 MB/s) - ‘zasoby/pl_spacy_model_morfeusz-0.1.3.tar.gz’ saved [229068993/229068993]\n",
      "\n",
      "Processing ./zasoby/pl_spacy_model_morfeusz-0.1.3.tar.gz\n",
      "Requirement already satisfied: spacy==2.3.2 in /usr/local/lib/python3.6/dist-packages (from pl-spacy-model-morfeusz==0.1.3) (2.3.2)\n",
      "Collecting distance\n",
      "\u001b[?25l  Downloading https://files.pythonhosted.org/packages/5c/1a/883e47df323437aefa0d0a92ccfb38895d9416bd0b56262c2e46a47767b8/Distance-0.1.3.tar.gz (180kB)\n",
      "\u001b[K     |████████████████████████████████| 184kB 18.9MB/s \n",
      "\u001b[?25hRequirement already satisfied: keras==2.4.3 in /usr/local/lib/python3.6/dist-packages (from pl-spacy-model-morfeusz==0.1.3) (2.4.3)\n",
      "Requirement already satisfied: numpy in /usr/local/lib/python3.6/dist-packages (from pl-spacy-model-morfeusz==0.1.3) (1.19.4)\n",
      "Collecting tensorflow==2.3.1\n",
      "\u001b[?25l  Downloading https://files.pythonhosted.org/packages/ad/ad/769c195c72ac72040635c66cd9ba7b0f4b4fc1ac67e59b99fa6988446c22/tensorflow-2.3.1-cp36-cp36m-manylinux2010_x86_64.whl (320.4MB)\n",
      "\u001b[K     |████████████████████████████████| 320.4MB 51kB/s \n",
      "\u001b[?25hRequirement already satisfied: requests<3.0.0,>=2.13.0 in /usr/local/lib/python3.6/dist-packages (from spacy==2.3.2->pl-spacy-model-morfeusz==0.1.3) (2.23.0)\n",
      "Requirement already satisfied: blis<0.5.0,>=0.4.0 in /usr/local/lib/python3.6/dist-packages (from spacy==2.3.2->pl-spacy-model-morfeusz==0.1.3) (0.4.1)\n",
      "Requirement already satisfied: srsly<1.1.0,>=1.0.2 in /usr/local/lib/python3.6/dist-packages (from spacy==2.3.2->pl-spacy-model-morfeusz==0.1.3) (1.0.5)\n",
      "Requirement already satisfied: setuptools in /usr/local/lib/python3.6/dist-packages (from spacy==2.3.2->pl-spacy-model-morfeusz==0.1.3) (51.0.0)\n",
      "Requirement already satisfied: thinc==7.4.1 in /usr/local/lib/python3.6/dist-packages (from spacy==2.3.2->pl-spacy-model-morfeusz==0.1.3) (7.4.1)\n",
      "Requirement already satisfied: preshed<3.1.0,>=3.0.2 in /usr/local/lib/python3.6/dist-packages (from spacy==2.3.2->pl-spacy-model-morfeusz==0.1.3) (3.0.5)\n",
      "Requirement already satisfied: wasabi<1.1.0,>=0.4.0 in /usr/local/lib/python3.6/dist-packages (from spacy==2.3.2->pl-spacy-model-morfeusz==0.1.3) (0.8.0)\n",
      "Requirement already satisfied: plac<1.2.0,>=0.9.6 in /usr/local/lib/python3.6/dist-packages (from spacy==2.3.2->pl-spacy-model-morfeusz==0.1.3) (1.1.3)\n",
      "Requirement already satisfied: catalogue<1.1.0,>=0.0.7 in /usr/local/lib/python3.6/dist-packages (from spacy==2.3.2->pl-spacy-model-morfeusz==0.1.3) (1.0.0)\n",
      "Requirement already satisfied: murmurhash<1.1.0,>=0.28.0 in /usr/local/lib/python3.6/dist-packages (from spacy==2.3.2->pl-spacy-model-morfeusz==0.1.3) (1.0.5)\n",
      "Requirement already satisfied: cymem<2.1.0,>=2.0.2 in /usr/local/lib/python3.6/dist-packages (from spacy==2.3.2->pl-spacy-model-morfeusz==0.1.3) (2.0.5)\n",
      "Requirement already satisfied: tqdm<5.0.0,>=4.38.0 in /usr/local/lib/python3.6/dist-packages (from spacy==2.3.2->pl-spacy-model-morfeusz==0.1.3) (4.41.1)\n",
      "Requirement already satisfied: h5py in /usr/local/lib/python3.6/dist-packages (from keras==2.4.3->pl-spacy-model-morfeusz==0.1.3) (2.10.0)\n",
      "Requirement already satisfied: scipy>=0.14 in /usr/local/lib/python3.6/dist-packages (from keras==2.4.3->pl-spacy-model-morfeusz==0.1.3) (1.4.1)\n",
      "Requirement already satisfied: pyyaml in /usr/local/lib/python3.6/dist-packages (from keras==2.4.3->pl-spacy-model-morfeusz==0.1.3) (3.13)\n",
      "Collecting tensorflow-estimator<2.4.0,>=2.3.0\n",
      "\u001b[?25l  Downloading https://files.pythonhosted.org/packages/e9/ed/5853ec0ae380cba4588eab1524e18ece1583b65f7ae0e97321f5ff9dfd60/tensorflow_estimator-2.3.0-py2.py3-none-any.whl (459kB)\n",
      "\u001b[K     |████████████████████████████████| 460kB 49.5MB/s \n",
      "\u001b[?25hRequirement already satisfied: six>=1.12.0 in /usr/local/lib/python3.6/dist-packages (from tensorflow==2.3.1->pl-spacy-model-morfeusz==0.1.3) (1.15.0)\n",
      "Requirement already satisfied: google-pasta>=0.1.8 in /usr/local/lib/python3.6/dist-packages (from tensorflow==2.3.1->pl-spacy-model-morfeusz==0.1.3) (0.2.0)\n",
      "Requirement already satisfied: absl-py>=0.7.0 in /usr/local/lib/python3.6/dist-packages (from tensorflow==2.3.1->pl-spacy-model-morfeusz==0.1.3) (0.10.0)\n",
      "Requirement already satisfied: keras-preprocessing<1.2,>=1.1.1 in /usr/local/lib/python3.6/dist-packages (from tensorflow==2.3.1->pl-spacy-model-morfeusz==0.1.3) (1.1.2)\n",
      "Requirement already satisfied: gast==0.3.3 in /usr/local/lib/python3.6/dist-packages (from tensorflow==2.3.1->pl-spacy-model-morfeusz==0.1.3) (0.3.3)\n",
      "Requirement already satisfied: wrapt>=1.11.1 in /usr/local/lib/python3.6/dist-packages (from tensorflow==2.3.1->pl-spacy-model-morfeusz==0.1.3) (1.12.1)\n",
      "Requirement already satisfied: opt-einsum>=2.3.2 in /usr/local/lib/python3.6/dist-packages (from tensorflow==2.3.1->pl-spacy-model-morfeusz==0.1.3) (3.3.0)\n",
      "Requirement already satisfied: tensorboard<3,>=2.3.0 in /usr/local/lib/python3.6/dist-packages (from tensorflow==2.3.1->pl-spacy-model-morfeusz==0.1.3) (2.4.0)\n",
      "Requirement already satisfied: termcolor>=1.1.0 in /usr/local/lib/python3.6/dist-packages (from tensorflow==2.3.1->pl-spacy-model-morfeusz==0.1.3) (1.1.0)\n",
      "Requirement already satisfied: wheel>=0.26 in /usr/local/lib/python3.6/dist-packages (from tensorflow==2.3.1->pl-spacy-model-morfeusz==0.1.3) (0.36.2)\n",
      "Requirement already satisfied: protobuf>=3.9.2 in /usr/local/lib/python3.6/dist-packages (from tensorflow==2.3.1->pl-spacy-model-morfeusz==0.1.3) (3.12.4)\n",
      "Requirement already satisfied: astunparse==1.6.3 in /usr/local/lib/python3.6/dist-packages (from tensorflow==2.3.1->pl-spacy-model-morfeusz==0.1.3) (1.6.3)\n",
      "Requirement already satisfied: grpcio>=1.8.6 in /usr/local/lib/python3.6/dist-packages (from tensorflow==2.3.1->pl-spacy-model-morfeusz==0.1.3) (1.32.0)\n",
      "Requirement already satisfied: urllib3!=1.25.0,!=1.25.1,<1.26,>=1.21.1 in /usr/local/lib/python3.6/dist-packages (from requests<3.0.0,>=2.13.0->spacy==2.3.2->pl-spacy-model-morfeusz==0.1.3) (1.24.3)\n",
      "Requirement already satisfied: chardet<4,>=3.0.2 in /usr/local/lib/python3.6/dist-packages (from requests<3.0.0,>=2.13.0->spacy==2.3.2->pl-spacy-model-morfeusz==0.1.3) (3.0.4)\n",
      "Requirement already satisfied: idna<3,>=2.5 in /usr/local/lib/python3.6/dist-packages (from requests<3.0.0,>=2.13.0->spacy==2.3.2->pl-spacy-model-morfeusz==0.1.3) (2.10)\n",
      "Requirement already satisfied: certifi>=2017.4.17 in /usr/local/lib/python3.6/dist-packages (from requests<3.0.0,>=2.13.0->spacy==2.3.2->pl-spacy-model-morfeusz==0.1.3) (2020.12.5)\n",
      "Requirement already satisfied: importlib-metadata>=0.20; python_version < \"3.8\" in /usr/local/lib/python3.6/dist-packages (from catalogue<1.1.0,>=0.0.7->spacy==2.3.2->pl-spacy-model-morfeusz==0.1.3) (3.3.0)\n",
      "Requirement already satisfied: google-auth<2,>=1.6.3 in /usr/local/lib/python3.6/dist-packages (from tensorboard<3,>=2.3.0->tensorflow==2.3.1->pl-spacy-model-morfeusz==0.1.3) (1.17.2)\n",
      "Requirement already satisfied: werkzeug>=0.11.15 in /usr/local/lib/python3.6/dist-packages (from tensorboard<3,>=2.3.0->tensorflow==2.3.1->pl-spacy-model-morfeusz==0.1.3) (1.0.1)\n",
      "Requirement already satisfied: google-auth-oauthlib<0.5,>=0.4.1 in /usr/local/lib/python3.6/dist-packages (from tensorboard<3,>=2.3.0->tensorflow==2.3.1->pl-spacy-model-morfeusz==0.1.3) (0.4.2)\n",
      "Requirement already satisfied: tensorboard-plugin-wit>=1.6.0 in /usr/local/lib/python3.6/dist-packages (from tensorboard<3,>=2.3.0->tensorflow==2.3.1->pl-spacy-model-morfeusz==0.1.3) (1.7.0)\n",
      "Requirement already satisfied: markdown>=2.6.8 in /usr/local/lib/python3.6/dist-packages (from tensorboard<3,>=2.3.0->tensorflow==2.3.1->pl-spacy-model-morfeusz==0.1.3) (3.3.3)\n",
      "Requirement already satisfied: zipp>=0.5 in /usr/local/lib/python3.6/dist-packages (from importlib-metadata>=0.20; python_version < \"3.8\"->catalogue<1.1.0,>=0.0.7->spacy==2.3.2->pl-spacy-model-morfeusz==0.1.3) (3.4.0)\n",
      "Requirement already satisfied: typing-extensions>=3.6.4; python_version < \"3.8\" in /usr/local/lib/python3.6/dist-packages (from importlib-metadata>=0.20; python_version < \"3.8\"->catalogue<1.1.0,>=0.0.7->spacy==2.3.2->pl-spacy-model-morfeusz==0.1.3) (3.7.4.3)\n",
      "Requirement already satisfied: rsa<5,>=3.1.4; python_version >= \"3\" in /usr/local/lib/python3.6/dist-packages (from google-auth<2,>=1.6.3->tensorboard<3,>=2.3.0->tensorflow==2.3.1->pl-spacy-model-morfeusz==0.1.3) (4.6)\n",
      "Requirement already satisfied: cachetools<5.0,>=2.0.0 in /usr/local/lib/python3.6/dist-packages (from google-auth<2,>=1.6.3->tensorboard<3,>=2.3.0->tensorflow==2.3.1->pl-spacy-model-morfeusz==0.1.3) (4.2.0)\n",
      "Requirement already satisfied: pyasn1-modules>=0.2.1 in /usr/local/lib/python3.6/dist-packages (from google-auth<2,>=1.6.3->tensorboard<3,>=2.3.0->tensorflow==2.3.1->pl-spacy-model-morfeusz==0.1.3) (0.2.8)\n",
      "Requirement already satisfied: requests-oauthlib>=0.7.0 in /usr/local/lib/python3.6/dist-packages (from google-auth-oauthlib<0.5,>=0.4.1->tensorboard<3,>=2.3.0->tensorflow==2.3.1->pl-spacy-model-morfeusz==0.1.3) (1.3.0)\n",
      "Requirement already satisfied: pyasn1>=0.1.3 in /usr/local/lib/python3.6/dist-packages (from rsa<5,>=3.1.4; python_version >= \"3\"->google-auth<2,>=1.6.3->tensorboard<3,>=2.3.0->tensorflow==2.3.1->pl-spacy-model-morfeusz==0.1.3) (0.4.8)\n",
      "Requirement already satisfied: oauthlib>=3.0.0 in /usr/local/lib/python3.6/dist-packages (from requests-oauthlib>=0.7.0->google-auth-oauthlib<0.5,>=0.4.1->tensorboard<3,>=2.3.0->tensorflow==2.3.1->pl-spacy-model-morfeusz==0.1.3) (3.1.0)\n",
      "Building wheels for collected packages: pl-spacy-model-morfeusz, distance\n",
      "  Building wheel for pl-spacy-model-morfeusz (setup.py) ... \u001b[?25l\u001b[?25hdone\n",
      "  Created wheel for pl-spacy-model-morfeusz: filename=pl_spacy_model_morfeusz-0.1.3-cp36-none-any.whl size=229138616 sha256=59c285b841449b648747a0fdafa281df110cc891c80afc409f96eb7066340c7f\n",
      "  Stored in directory: /root/.cache/pip/wheels/9c/e8/f2/42317970badff72e337a282a28ad5d714491776d6d8ec1f86d\n",
      "  Building wheel for distance (setup.py) ... \u001b[?25l\u001b[?25hdone\n",
      "  Created wheel for distance: filename=Distance-0.1.3-cp36-none-any.whl size=16261 sha256=1ab1de16bd084b37ca60566f64945d2ef3f868a5ba4c53f1563f151f1eed338a\n",
      "  Stored in directory: /root/.cache/pip/wheels/d5/aa/e1/dbba9e7b6d397d645d0f12db1c66dbae9c5442b39b001db18e\n",
      "Successfully built pl-spacy-model-morfeusz distance\n",
      "\u001b[31mERROR: tensorflow 2.3.1 has requirement numpy<1.19.0,>=1.16.0, but you'll have numpy 1.19.4 which is incompatible.\u001b[0m\n",
      "Installing collected packages: distance, tensorflow-estimator, tensorflow, pl-spacy-model-morfeusz\n",
      "  Found existing installation: tensorflow-estimator 2.4.0\n",
      "    Uninstalling tensorflow-estimator-2.4.0:\n",
      "      Successfully uninstalled tensorflow-estimator-2.4.0\n",
      "  Found existing installation: tensorflow 2.4.0\n",
      "    Uninstalling tensorflow-2.4.0:\n",
      "      Successfully uninstalled tensorflow-2.4.0\n",
      "Successfully installed distance-0.1.3 pl-spacy-model-morfeusz-0.1.3 tensorflow-2.3.1 tensorflow-estimator-2.3.0\n",
      "2021-01-07 06:48:09.704631: I tensorflow/stream_executor/platform/default/dso_loader.cc:48] Successfully opened dynamic library libcudart.so.10.1\n",
      "\u001b[38;5;2m✔ Linking successful\u001b[0m\n",
      "/usr/local/lib/python3.6/dist-packages/pl_spacy_model_morfeusz -->\n",
      "/usr/local/lib/python3.6/dist-packages/spacy/data/pl_spacy_model_morfeusz\n",
      "You can now load the model via spacy.load('pl_spacy_model_morfeusz')\n"
     ]
    }
   ],
   "source": [
    "! pip install spacy==2.3.2 -U\n",
    "! wget -O - http://download.sgjp.pl/apt/sgjp.gpg.key|sudo apt-key add -\n",
    "! sudo apt-add-repository http://download.sgjp.pl/apt/ubuntu\n",
    "! sudo apt update\n",
    "! sudo apt install libmorfeusz2\n",
    "! sudo apt install python3-morfeusz2\n",
    "! wget http://download.sgjp.pl/morfeusz/20210221/Linux/18.04/64/morfeusz2-1.9.17-cp37-cp37m-linux_x86_64.whl -O morfeusz2-1.9.17-cp37-cp37m-linux_x86_64.whl\n",
    "! python3 -m pip install --upgrade --force-reinstall morfeusz2-1.9.17-cp37-cp37m-linux_x86_64.whl\n",
    "! wget -P zasoby http://mozart.ipipan.waw.pl/~alina/zasoby/data/pl_spacy_model_morfeusz-0.1.3.tar.gz\n",
    "! python -m pip install zasoby/pl_spacy_model_morfeusz-0.1.3.tar.gz\n",
    "! python -m spacy link pl_spacy_model_morfeusz pl_spacy_model_morfeusz -f\n",
    "\n",
    "import spacy\n",
    "nlp = spacy.load(\"pl_spacy_model_morfeusz\")"
   ]
  },
  {
   "cell_type": "markdown",
   "metadata": {
    "id": "kAeYEDQNGoFI"
   },
   "source": [
    "#### Przygotowanie PolDeepNer2"
   ]
  },
  {
   "cell_type": "code",
   "execution_count": null,
   "metadata": {
    "colab": {
     "base_uri": "https://localhost:8080/",
     "height": 1000
    },
    "id": "hfePz5rXasKp",
    "outputId": "26af1cbd-4958-4b24-a17a-c73fe05c558f"
   },
   "outputs": [
    {
     "name": "stdout",
     "output_type": "stream",
     "text": [
      "Collecting poldeepner2==0.1.0\n",
      "  Downloading https://pypi.clarin-pl.eu/packages/poldeepner2-0.1.0-py3-none-any.whl\n",
      "Requirement already satisfied: flask==1.1.2 in /usr/local/lib/python3.6/dist-packages (from poldeepner2==0.1.0) (1.1.2)\n",
      "Requirement already satisfied: spacy==2.3.2 in /usr/local/lib/python3.6/dist-packages (from poldeepner2==0.1.0) (2.3.2)\n",
      "Collecting pandas==1.1.1\n",
      "\u001b[?25l  Downloading https://files.pythonhosted.org/packages/a1/c6/9ac4ae44c24c787a1738e5fb34dd987ada6533de5905a041aa6d5bea4553/pandas-1.1.1-cp36-cp36m-manylinux1_x86_64.whl (10.5MB)\n",
      "\u001b[K     |████████████████████████████████| 10.5MB 22.1MB/s \n",
      "\u001b[?25hRequirement already satisfied: tqdm in /usr/local/lib/python3.6/dist-packages (from poldeepner2==0.1.0) (4.41.1)\n",
      "Collecting fairseq==0.9.0\n",
      "\u001b[?25l  Downloading https://files.pythonhosted.org/packages/67/bf/de299e082e7af010d35162cb9a185dc6c17db71624590f2f379aeb2519ff/fairseq-0.9.0.tar.gz (306kB)\n",
      "\u001b[K     |████████████████████████████████| 307kB 50.0MB/s \n",
      "\u001b[?25hCollecting pytest~=6.0.1\n",
      "\u001b[?25l  Downloading https://files.pythonhosted.org/packages/45/2c/7e29215cb19745ad67b6476b73fd1299872563f28329ea01d9d887713aaf/pytest-6.0.2-py3-none-any.whl (270kB)\n",
      "\u001b[K     |████████████████████████████████| 276kB 56.1MB/s \n",
      "\u001b[?25hCollecting nltk==3.5\n",
      "\u001b[?25l  Downloading https://files.pythonhosted.org/packages/92/75/ce35194d8e3022203cca0d2f896dbb88689f9b3fce8e9f9cff942913519d/nltk-3.5.zip (1.4MB)\n",
      "\u001b[K     |████████████████████████████████| 1.4MB 49.9MB/s \n",
      "\u001b[?25hCollecting seqeval==0.0.12\n",
      "  Downloading https://files.pythonhosted.org/packages/34/91/068aca8d60ce56dd9ba4506850e876aba5e66a6f2f29aa223224b50df0de/seqeval-0.0.12.tar.gz\n",
      "Collecting pytorch-transformers==1.2.0\n",
      "\u001b[?25l  Downloading https://files.pythonhosted.org/packages/a3/b7/d3d18008a67e0b968d1ab93ad444fc05699403fa662f634b2f2c318a508b/pytorch_transformers-1.2.0-py3-none-any.whl (176kB)\n",
      "\u001b[K     |████████████████████████████████| 184kB 53.9MB/s \n",
      "\u001b[?25hRequirement already satisfied: Jinja2>=2.10.1 in /usr/local/lib/python3.6/dist-packages (from flask==1.1.2->poldeepner2==0.1.0) (2.11.2)\n",
      "Requirement already satisfied: Werkzeug>=0.15 in /usr/local/lib/python3.6/dist-packages (from flask==1.1.2->poldeepner2==0.1.0) (1.0.1)\n",
      "Requirement already satisfied: click>=5.1 in /usr/local/lib/python3.6/dist-packages (from flask==1.1.2->poldeepner2==0.1.0) (7.1.2)\n",
      "Requirement already satisfied: itsdangerous>=0.24 in /usr/local/lib/python3.6/dist-packages (from flask==1.1.2->poldeepner2==0.1.0) (1.1.0)\n",
      "Requirement already satisfied: plac<1.2.0,>=0.9.6 in /usr/local/lib/python3.6/dist-packages (from spacy==2.3.2->poldeepner2==0.1.0) (1.1.3)\n",
      "Requirement already satisfied: catalogue<1.1.0,>=0.0.7 in /usr/local/lib/python3.6/dist-packages (from spacy==2.3.2->poldeepner2==0.1.0) (1.0.0)\n",
      "Requirement already satisfied: setuptools in /usr/local/lib/python3.6/dist-packages (from spacy==2.3.2->poldeepner2==0.1.0) (51.0.0)\n",
      "Requirement already satisfied: thinc==7.4.1 in /usr/local/lib/python3.6/dist-packages (from spacy==2.3.2->poldeepner2==0.1.0) (7.4.1)\n",
      "Requirement already satisfied: requests<3.0.0,>=2.13.0 in /usr/local/lib/python3.6/dist-packages (from spacy==2.3.2->poldeepner2==0.1.0) (2.23.0)\n",
      "Requirement already satisfied: wasabi<1.1.0,>=0.4.0 in /usr/local/lib/python3.6/dist-packages (from spacy==2.3.2->poldeepner2==0.1.0) (0.8.0)\n",
      "Requirement already satisfied: cymem<2.1.0,>=2.0.2 in /usr/local/lib/python3.6/dist-packages (from spacy==2.3.2->poldeepner2==0.1.0) (2.0.5)\n",
      "Requirement already satisfied: murmurhash<1.1.0,>=0.28.0 in /usr/local/lib/python3.6/dist-packages (from spacy==2.3.2->poldeepner2==0.1.0) (1.0.5)\n",
      "Requirement already satisfied: blis<0.5.0,>=0.4.0 in /usr/local/lib/python3.6/dist-packages (from spacy==2.3.2->poldeepner2==0.1.0) (0.4.1)\n",
      "Requirement already satisfied: preshed<3.1.0,>=3.0.2 in /usr/local/lib/python3.6/dist-packages (from spacy==2.3.2->poldeepner2==0.1.0) (3.0.5)\n",
      "Requirement already satisfied: numpy>=1.15.0 in /usr/local/lib/python3.6/dist-packages (from spacy==2.3.2->poldeepner2==0.1.0) (1.19.4)\n",
      "Requirement already satisfied: srsly<1.1.0,>=1.0.2 in /usr/local/lib/python3.6/dist-packages (from spacy==2.3.2->poldeepner2==0.1.0) (1.0.5)\n",
      "Requirement already satisfied: python-dateutil>=2.7.3 in /usr/local/lib/python3.6/dist-packages (from pandas==1.1.1->poldeepner2==0.1.0) (2.8.1)\n",
      "Requirement already satisfied: pytz>=2017.2 in /usr/local/lib/python3.6/dist-packages (from pandas==1.1.1->poldeepner2==0.1.0) (2018.9)\n",
      "Requirement already satisfied: cffi in /usr/local/lib/python3.6/dist-packages (from fairseq==0.9.0->poldeepner2==0.1.0) (1.14.4)\n",
      "Requirement already satisfied: cython in /usr/local/lib/python3.6/dist-packages (from fairseq==0.9.0->poldeepner2==0.1.0) (0.29.21)\n",
      "Requirement already satisfied: regex in /usr/local/lib/python3.6/dist-packages (from fairseq==0.9.0->poldeepner2==0.1.0) (2019.12.20)\n",
      "Collecting sacrebleu\n",
      "\u001b[?25l  Downloading https://files.pythonhosted.org/packages/a3/c4/8e948f601a4f9609e8b2b58f31966cb13cf17b940b82aa3e767f01c42c52/sacrebleu-1.4.14-py3-none-any.whl (64kB)\n",
      "\u001b[K     |████████████████████████████████| 71kB 11.1MB/s \n",
      "\u001b[?25hRequirement already satisfied: torch in /usr/local/lib/python3.6/dist-packages (from fairseq==0.9.0->poldeepner2==0.1.0) (1.7.0+cu101)\n",
      "Requirement already satisfied: attrs>=17.4.0 in /usr/local/lib/python3.6/dist-packages (from pytest~=6.0.1->poldeepner2==0.1.0) (20.3.0)\n",
      "Requirement already satisfied: iniconfig in /usr/local/lib/python3.6/dist-packages (from pytest~=6.0.1->poldeepner2==0.1.0) (1.1.1)\n",
      "Requirement already satisfied: importlib-metadata>=0.12; python_version < \"3.8\" in /usr/local/lib/python3.6/dist-packages (from pytest~=6.0.1->poldeepner2==0.1.0) (3.3.0)\n",
      "Requirement already satisfied: toml in /usr/local/lib/python3.6/dist-packages (from pytest~=6.0.1->poldeepner2==0.1.0) (0.10.2)\n",
      "Requirement already satisfied: py>=1.8.2 in /usr/local/lib/python3.6/dist-packages (from pytest~=6.0.1->poldeepner2==0.1.0) (1.10.0)\n",
      "Requirement already satisfied: more-itertools>=4.0.0 in /usr/local/lib/python3.6/dist-packages (from pytest~=6.0.1->poldeepner2==0.1.0) (8.6.0)\n",
      "Requirement already satisfied: packaging in /usr/local/lib/python3.6/dist-packages (from pytest~=6.0.1->poldeepner2==0.1.0) (20.8)\n",
      "Collecting pluggy<1.0,>=0.12\n",
      "  Downloading https://files.pythonhosted.org/packages/a0/28/85c7aa31b80d150b772fbe4a229487bc6644da9ccb7e427dd8cc60cb8a62/pluggy-0.13.1-py2.py3-none-any.whl\n",
      "Requirement already satisfied: joblib in /usr/local/lib/python3.6/dist-packages (from nltk==3.5->poldeepner2==0.1.0) (1.0.0)\n",
      "Requirement already satisfied: Keras>=2.2.4 in /usr/local/lib/python3.6/dist-packages (from seqeval==0.0.12->poldeepner2==0.1.0) (2.4.3)\n",
      "Collecting boto3\n",
      "\u001b[?25l  Downloading https://files.pythonhosted.org/packages/c8/c6/b4d9547a493ac2837f296f4a004dff6e7136cf6750d181769b8a61d63813/boto3-1.16.50.tar.gz (100kB)\n",
      "\u001b[K     |████████████████████████████████| 102kB 14.4MB/s \n",
      "\u001b[?25hCollecting sacremoses\n",
      "\u001b[?25l  Downloading https://files.pythonhosted.org/packages/7d/34/09d19aff26edcc8eb2a01bed8e98f13a1537005d31e95233fd48216eed10/sacremoses-0.0.43.tar.gz (883kB)\n",
      "\u001b[K     |████████████████████████████████| 890kB 42.4MB/s \n",
      "\u001b[?25hCollecting sentencepiece\n",
      "\u001b[?25l  Downloading https://files.pythonhosted.org/packages/e5/2d/6d4ca4bef9a67070fa1cac508606328329152b1df10bdf31fb6e4e727894/sentencepiece-0.1.94-cp36-cp36m-manylinux2014_x86_64.whl (1.1MB)\n",
      "\u001b[K     |████████████████████████████████| 1.1MB 42.6MB/s \n",
      "\u001b[?25hRequirement already satisfied: MarkupSafe>=0.23 in /usr/local/lib/python3.6/dist-packages (from Jinja2>=2.10.1->flask==1.1.2->poldeepner2==0.1.0) (1.1.1)\n",
      "Requirement already satisfied: urllib3!=1.25.0,!=1.25.1,<1.26,>=1.21.1 in /usr/local/lib/python3.6/dist-packages (from requests<3.0.0,>=2.13.0->spacy==2.3.2->poldeepner2==0.1.0) (1.24.3)\n",
      "Requirement already satisfied: idna<3,>=2.5 in /usr/local/lib/python3.6/dist-packages (from requests<3.0.0,>=2.13.0->spacy==2.3.2->poldeepner2==0.1.0) (2.10)\n",
      "Requirement already satisfied: certifi>=2017.4.17 in /usr/local/lib/python3.6/dist-packages (from requests<3.0.0,>=2.13.0->spacy==2.3.2->poldeepner2==0.1.0) (2020.12.5)\n",
      "Requirement already satisfied: chardet<4,>=3.0.2 in /usr/local/lib/python3.6/dist-packages (from requests<3.0.0,>=2.13.0->spacy==2.3.2->poldeepner2==0.1.0) (3.0.4)\n",
      "Requirement already satisfied: six>=1.5 in /usr/local/lib/python3.6/dist-packages (from python-dateutil>=2.7.3->pandas==1.1.1->poldeepner2==0.1.0) (1.15.0)\n",
      "Requirement already satisfied: pycparser in /usr/local/lib/python3.6/dist-packages (from cffi->fairseq==0.9.0->poldeepner2==0.1.0) (2.20)\n",
      "Collecting portalocker\n",
      "  Downloading https://files.pythonhosted.org/packages/89/a6/3814b7107e0788040870e8825eebf214d72166adf656ba7d4bf14759a06a/portalocker-2.0.0-py2.py3-none-any.whl\n",
      "Requirement already satisfied: future in /usr/local/lib/python3.6/dist-packages (from torch->fairseq==0.9.0->poldeepner2==0.1.0) (0.16.0)\n",
      "Requirement already satisfied: dataclasses in /usr/local/lib/python3.6/dist-packages (from torch->fairseq==0.9.0->poldeepner2==0.1.0) (0.8)\n",
      "Requirement already satisfied: typing-extensions in /usr/local/lib/python3.6/dist-packages (from torch->fairseq==0.9.0->poldeepner2==0.1.0) (3.7.4.3)\n",
      "Requirement already satisfied: zipp>=0.5 in /usr/local/lib/python3.6/dist-packages (from importlib-metadata>=0.12; python_version < \"3.8\"->pytest~=6.0.1->poldeepner2==0.1.0) (3.4.0)\n",
      "Requirement already satisfied: pyparsing>=2.0.2 in /usr/local/lib/python3.6/dist-packages (from packaging->pytest~=6.0.1->poldeepner2==0.1.0) (2.4.7)\n",
      "Requirement already satisfied: pyyaml in /usr/local/lib/python3.6/dist-packages (from Keras>=2.2.4->seqeval==0.0.12->poldeepner2==0.1.0) (3.13)\n",
      "Requirement already satisfied: scipy>=0.14 in /usr/local/lib/python3.6/dist-packages (from Keras>=2.2.4->seqeval==0.0.12->poldeepner2==0.1.0) (1.4.1)\n",
      "Requirement already satisfied: h5py in /usr/local/lib/python3.6/dist-packages (from Keras>=2.2.4->seqeval==0.0.12->poldeepner2==0.1.0) (2.10.0)\n",
      "Collecting botocore<1.20.0,>=1.19.50\n",
      "\u001b[?25l  Downloading https://files.pythonhosted.org/packages/16/19/113344007b2c1e4401f404f8e809f6151c00b164d78b164e4b688d30fc67/botocore-1.19.50-py2.py3-none-any.whl (7.2MB)\n",
      "\u001b[K     |████████████████████████████████| 7.2MB 46.5MB/s \n",
      "\u001b[?25hCollecting jmespath<1.0.0,>=0.7.1\n",
      "  Downloading https://files.pythonhosted.org/packages/07/cb/5f001272b6faeb23c1c9e0acc04d48eaaf5c862c17709d20e3469c6e0139/jmespath-0.10.0-py2.py3-none-any.whl\n",
      "Collecting s3transfer<0.4.0,>=0.3.0\n",
      "\u001b[?25l  Downloading https://files.pythonhosted.org/packages/69/79/e6afb3d8b0b4e96cefbdc690f741d7dd24547ff1f94240c997a26fa908d3/s3transfer-0.3.3-py2.py3-none-any.whl (69kB)\n",
      "\u001b[K     |████████████████████████████████| 71kB 12.5MB/s \n",
      "\u001b[?25hBuilding wheels for collected packages: fairseq, nltk, seqeval, boto3, sacremoses\n",
      "  Building wheel for fairseq (setup.py) ... \u001b[?25l\u001b[?25hdone\n",
      "  Created wheel for fairseq: filename=fairseq-0.9.0-cp36-cp36m-linux_x86_64.whl size=2064549 sha256=e4baa724083c9b27fd7a828e0a4e172235b9dddae857062f64f4650e20dece1d\n",
      "  Stored in directory: /root/.cache/pip/wheels/37/3e/1b/0fa30695dcba41e4b0088067fa40f3328d1e8ee78c22cd4766\n",
      "  Building wheel for nltk (setup.py) ... \u001b[?25l\u001b[?25hdone\n",
      "  Created wheel for nltk: filename=nltk-3.5-cp36-none-any.whl size=1434677 sha256=33ee4d2be5b0ae375a048352803dd350b4d82193c56f34eec80e918426fe1293\n",
      "  Stored in directory: /root/.cache/pip/wheels/ae/8c/3f/b1fe0ba04555b08b57ab52ab7f86023639a526d8bc8d384306\n",
      "  Building wheel for seqeval (setup.py) ... \u001b[?25l\u001b[?25hdone\n",
      "  Created wheel for seqeval: filename=seqeval-0.0.12-cp36-none-any.whl size=7424 sha256=08dc95adde63b08bb5f1530be3bc229a4da4d152112ac57779ef867b19dd06d5\n",
      "  Stored in directory: /root/.cache/pip/wheels/4f/32/0a/df3b340a82583566975377d65e724895b3fad101a3fb729f68\n",
      "  Building wheel for boto3 (setup.py) ... \u001b[?25l\u001b[?25hdone\n",
      "  Created wheel for boto3: filename=boto3-1.16.50-py2.py3-none-any.whl size=128710 sha256=ba236a922ca98f4de7130b4e4776489cd3c5d2b8fe54929853aba9ab2cb8b758\n",
      "  Stored in directory: /root/.cache/pip/wheels/4d/7a/70/33e66d82b7829099a8f9a9abbb669195cf10e4a7b25ff2bc2a\n",
      "  Building wheel for sacremoses (setup.py) ... \u001b[?25l\u001b[?25hdone\n",
      "  Created wheel for sacremoses: filename=sacremoses-0.0.43-cp36-none-any.whl size=893261 sha256=33c8ebfa8bbdbc6b7a737fd65b605564273820697ed469ada58e3d70ef30298b\n",
      "  Stored in directory: /root/.cache/pip/wheels/29/3c/fd/7ce5c3f0666dab31a50123635e6fb5e19ceb42ce38d4e58f45\n",
      "Successfully built fairseq nltk seqeval boto3 sacremoses\n",
      "\u001b[31mERROR: datascience 0.10.6 has requirement folium==0.2.1, but you'll have folium 0.8.3 which is incompatible.\u001b[0m\n",
      "\u001b[31mERROR: botocore 1.19.50 has requirement urllib3<1.27,>=1.25.4; python_version != \"3.4\", but you'll have urllib3 1.24.3 which is incompatible.\u001b[0m\n",
      "Installing collected packages: pandas, portalocker, sacrebleu, fairseq, pluggy, pytest, nltk, seqeval, jmespath, botocore, s3transfer, boto3, sacremoses, sentencepiece, pytorch-transformers, poldeepner2\n",
      "  Found existing installation: pandas 1.1.5\n",
      "    Uninstalling pandas-1.1.5:\n",
      "      Successfully uninstalled pandas-1.1.5\n",
      "  Found existing installation: pluggy 0.7.1\n",
      "    Uninstalling pluggy-0.7.1:\n",
      "      Successfully uninstalled pluggy-0.7.1\n",
      "  Found existing installation: pytest 3.6.4\n",
      "    Uninstalling pytest-3.6.4:\n",
      "      Successfully uninstalled pytest-3.6.4\n",
      "  Found existing installation: nltk 3.2.5\n",
      "    Uninstalling nltk-3.2.5:\n",
      "      Successfully uninstalled nltk-3.2.5\n",
      "Successfully installed boto3-1.16.50 botocore-1.19.50 fairseq-0.9.0 jmespath-0.10.0 nltk-3.5 pandas-1.1.1 pluggy-0.13.1 poldeepner2-0.1.0 portalocker-2.0.0 pytest-6.0.2 pytorch-transformers-1.2.0 s3transfer-0.3.3 sacrebleu-1.4.14 sacremoses-0.0.43 sentencepiece-0.1.94 seqeval-0.0.12\n"
     ]
    },
    {
     "data": {
      "application/vnd.colab-display-data+json": {
       "pip_warning": {
        "packages": [
         "_pytest",
         "pandas",
         "pluggy",
         "pytest"
        ]
       }
      }
     },
     "metadata": {
      "tags": []
     },
     "output_type": "display_data"
    },
    {
     "name": "stdout",
     "output_type": "stream",
     "text": [
      "Collecting pl_core_news_sm==2.3.0\n",
      "\u001b[?25l  Downloading https://github.com/explosion/spacy-models/releases/download/pl_core_news_sm-2.3.0/pl_core_news_sm-2.3.0.tar.gz (48.7MB)\n",
      "\u001b[K     |████████████████████████████████| 48.7MB 1.2MB/s \n",
      "\u001b[?25hRequirement already satisfied: spacy<2.4.0,>=2.3.0 in /usr/local/lib/python3.6/dist-packages (from pl_core_news_sm==2.3.0) (2.3.2)\n",
      "Requirement already satisfied: cymem<2.1.0,>=2.0.2 in /usr/local/lib/python3.6/dist-packages (from spacy<2.4.0,>=2.3.0->pl_core_news_sm==2.3.0) (2.0.5)\n",
      "Requirement already satisfied: plac<1.2.0,>=0.9.6 in /usr/local/lib/python3.6/dist-packages (from spacy<2.4.0,>=2.3.0->pl_core_news_sm==2.3.0) (1.1.3)\n",
      "Requirement already satisfied: tqdm<5.0.0,>=4.38.0 in /usr/local/lib/python3.6/dist-packages (from spacy<2.4.0,>=2.3.0->pl_core_news_sm==2.3.0) (4.41.1)\n",
      "Requirement already satisfied: blis<0.5.0,>=0.4.0 in /usr/local/lib/python3.6/dist-packages (from spacy<2.4.0,>=2.3.0->pl_core_news_sm==2.3.0) (0.4.1)\n",
      "Requirement already satisfied: requests<3.0.0,>=2.13.0 in /usr/local/lib/python3.6/dist-packages (from spacy<2.4.0,>=2.3.0->pl_core_news_sm==2.3.0) (2.23.0)\n",
      "Requirement already satisfied: wasabi<1.1.0,>=0.4.0 in /usr/local/lib/python3.6/dist-packages (from spacy<2.4.0,>=2.3.0->pl_core_news_sm==2.3.0) (0.8.0)\n",
      "Requirement already satisfied: catalogue<1.1.0,>=0.0.7 in /usr/local/lib/python3.6/dist-packages (from spacy<2.4.0,>=2.3.0->pl_core_news_sm==2.3.0) (1.0.0)\n",
      "Requirement already satisfied: srsly<1.1.0,>=1.0.2 in /usr/local/lib/python3.6/dist-packages (from spacy<2.4.0,>=2.3.0->pl_core_news_sm==2.3.0) (1.0.5)\n",
      "Requirement already satisfied: numpy>=1.15.0 in /usr/local/lib/python3.6/dist-packages (from spacy<2.4.0,>=2.3.0->pl_core_news_sm==2.3.0) (1.19.4)\n",
      "Requirement already satisfied: murmurhash<1.1.0,>=0.28.0 in /usr/local/lib/python3.6/dist-packages (from spacy<2.4.0,>=2.3.0->pl_core_news_sm==2.3.0) (1.0.5)\n",
      "Requirement already satisfied: thinc==7.4.1 in /usr/local/lib/python3.6/dist-packages (from spacy<2.4.0,>=2.3.0->pl_core_news_sm==2.3.0) (7.4.1)\n",
      "Requirement already satisfied: setuptools in /usr/local/lib/python3.6/dist-packages (from spacy<2.4.0,>=2.3.0->pl_core_news_sm==2.3.0) (51.0.0)\n",
      "Requirement already satisfied: preshed<3.1.0,>=3.0.2 in /usr/local/lib/python3.6/dist-packages (from spacy<2.4.0,>=2.3.0->pl_core_news_sm==2.3.0) (3.0.5)\n",
      "Requirement already satisfied: idna<3,>=2.5 in /usr/local/lib/python3.6/dist-packages (from requests<3.0.0,>=2.13.0->spacy<2.4.0,>=2.3.0->pl_core_news_sm==2.3.0) (2.10)\n",
      "Requirement already satisfied: urllib3!=1.25.0,!=1.25.1,<1.26,>=1.21.1 in /usr/local/lib/python3.6/dist-packages (from requests<3.0.0,>=2.13.0->spacy<2.4.0,>=2.3.0->pl_core_news_sm==2.3.0) (1.24.3)\n",
      "Requirement already satisfied: certifi>=2017.4.17 in /usr/local/lib/python3.6/dist-packages (from requests<3.0.0,>=2.13.0->spacy<2.4.0,>=2.3.0->pl_core_news_sm==2.3.0) (2020.12.5)\n",
      "Requirement already satisfied: chardet<4,>=3.0.2 in /usr/local/lib/python3.6/dist-packages (from requests<3.0.0,>=2.13.0->spacy<2.4.0,>=2.3.0->pl_core_news_sm==2.3.0) (3.0.4)\n",
      "Requirement already satisfied: importlib-metadata>=0.20; python_version < \"3.8\" in /usr/local/lib/python3.6/dist-packages (from catalogue<1.1.0,>=0.0.7->spacy<2.4.0,>=2.3.0->pl_core_news_sm==2.3.0) (3.3.0)\n",
      "Requirement already satisfied: zipp>=0.5 in /usr/local/lib/python3.6/dist-packages (from importlib-metadata>=0.20; python_version < \"3.8\"->catalogue<1.1.0,>=0.0.7->spacy<2.4.0,>=2.3.0->pl_core_news_sm==2.3.0) (3.4.0)\n",
      "Requirement already satisfied: typing-extensions>=3.6.4; python_version < \"3.8\" in /usr/local/lib/python3.6/dist-packages (from importlib-metadata>=0.20; python_version < \"3.8\"->catalogue<1.1.0,>=0.0.7->spacy<2.4.0,>=2.3.0->pl_core_news_sm==2.3.0) (3.7.4.3)\n",
      "Building wheels for collected packages: pl-core-news-sm\n",
      "  Building wheel for pl-core-news-sm (setup.py) ... \u001b[?25l\u001b[?25hdone\n",
      "  Created wheel for pl-core-news-sm: filename=pl_core_news_sm-2.3.0-cp36-none-any.whl size=48719490 sha256=a54e4ef92327ce7bbb7c892dc574359f12b0ae0a5d7dfe95cbaf2d559af43776\n",
      "  Stored in directory: /tmp/pip-ephem-wheel-cache-f8hft64h/wheels/ce/7a/53/aab09c53056da9fefa67b44d57202e9bd556825e12ca89fff1\n",
      "Successfully built pl-core-news-sm\n",
      "Installing collected packages: pl-core-news-sm\n",
      "Successfully installed pl-core-news-sm-2.3.0\n",
      "\u001b[38;5;2m✔ Download and installation successful\u001b[0m\n",
      "You can now load the model via spacy.load('pl_core_news_sm')\n",
      "\u001b[38;5;2m✔ Linking successful\u001b[0m\n",
      "/usr/local/lib/python3.6/dist-packages/pl_core_news_sm -->\n",
      "/usr/local/lib/python3.6/dist-packages/spacy/data/pl_core_news_sm\n",
      "You can now load the model via spacy.load('pl_core_news_sm')\n"
     ]
    },
    {
     "name": "stderr",
     "output_type": "stream",
     "text": [
      "kpwr_n82_base.zip: 452MB [00:19, 23.4MB/s]                           \n",
      "roberta_base_fairseq.zip: 231MB [00:03, 71.4MB/s]                           \n"
     ]
    },
    {
     "name": "stdout",
     "output_type": "stream",
     "text": [
      "loading archive file models/roberta_base_fairseq\n",
      "| dictionary: 50000 types\n"
     ]
    }
   ],
   "source": [
    "!pip install https://pypi.clarin-pl.eu/packages/poldeepner2-0.1.0-py3-none-any.whl#md5=333b5d5270c6b1f6cd50df5c4c89f4dd\n",
    "\n",
    "!python -m spacy download pl_core_news_sm\n",
    "!python -m spacy link pl_core_news_sm pl_core_news_sm -f\n",
    "\n",
    "import poldeepner2.models\n",
    "ner_kpwr = poldeepner2.models.load(\"kpwr-n82-base\", device=\"cuda:0\")"
   ]
  },
  {
   "cell_type": "markdown",
   "metadata": {
    "id": "JL_6V0R3Gt6A"
   },
   "source": [
    "### Rozpoznanie jednostek"
   ]
  },
  {
   "cell_type": "markdown",
   "metadata": {
    "id": "KS-R7J2wuct1"
   },
   "source": [
    "#### spaCy (NKJP)"
   ]
  },
  {
   "cell_type": "code",
   "execution_count": null,
   "metadata": {
    "colab": {
     "base_uri": "https://localhost:8080/"
    },
    "id": "NSL-yW_v6yCF",
    "outputId": "944c4c3c-45dc-4358-8ef3-e7ca6a7ed155"
   },
   "outputs": [
    {
     "name": "stdout",
     "output_type": "stream",
     "text": [
      "Gdańsk\n",
      "Gduńsk\n",
      "niem.\n",
      "Gedanum\n",
      "Dantiscum\n",
      "Polsce\n",
      "województwie pomorskim\n",
      "Morzem Bałtyckim\n",
      "Motławy\n",
      "Wisły\n"
     ]
    }
   ],
   "source": [
    "names_spacy = []\n",
    "\n",
    "for text in texts:\n",
    "  names_spacy += nlp(text).ents\n",
    "\n",
    "print(*names_spacy[:10], sep=\"\\n\")"
   ]
  },
  {
   "cell_type": "markdown",
   "metadata": {
    "id": "dEL6WKkBujze"
   },
   "source": [
    "#### PolDeepNer2 (KPWr)"
   ]
  },
  {
   "cell_type": "code",
   "execution_count": null,
   "metadata": {
    "colab": {
     "base_uri": "https://localhost:8080/"
    },
    "id": "ajf2CJCP0JIt",
    "outputId": "6ca9e89c-c7f8-4ca4-fe18-2d5430c5d5a1"
   },
   "outputs": [
    {
     "name": "stdout",
     "output_type": "stream",
     "text": [
      "AnnotationText(begin=0, end=6, label='nam_loc_gpe_city', text='Gdańsk')\n",
      "AnnotationText(begin=16, end=22, label='nam_loc_gpe_city', text='Gduńsk')\n",
      "AnnotationText(begin=30, end=36, label='nam_liv_person', text='Danzig')\n",
      "AnnotationText(begin=68, end=76, label='nam_loc_gpe_city', text='Danswijk')\n",
      "AnnotationText(begin=118, end=124, label='nam_loc_gpe_country', text='Polsce')\n",
      "AnnotationText(begin=140, end=149, label='nam_loc_gpe_admin1', text='pomorskim')\n",
      "AnnotationText(begin=164, end=180, label='nam_loc_hydronym_sea', text='Morzem Bałtyckim')\n",
      "AnnotationText(begin=190, end=197, label='nam_loc_hydronym_river', text='Motławy')\n",
      "AnnotationText(begin=201, end=206, label='nam_loc_hydronym_river', text='Wisły')\n",
      "AnnotationText(begin=211, end=225, label='nam_loc_hydronym', text='Zatoką Gdańską')\n"
     ]
    }
   ],
   "source": [
    "sentence_kpwr_annotations = []\n",
    "names_kpwr = []\n",
    "\n",
    "for text in texts:\n",
    "  names = ner_kpwr.process_text(text)\n",
    "  names_kpwr += names\n",
    "  sentence_kpwr_annotations.append((text, names))\n",
    "\n",
    "print(*names_kpwr[:10], sep=\"\\n\")"
   ]
  },
  {
   "cell_type": "markdown",
   "metadata": {
    "id": "DE2sUP4Jurte"
   },
   "source": [
    "### Porównanie wyników"
   ]
  },
  {
   "cell_type": "markdown",
   "metadata": {
    "id": "9JaJQw1t2Q4U"
   },
   "source": [
    "#### Kategorie dla najczęstszych (wg. spaCy) form tekstowych "
   ]
  },
  {
   "cell_type": "code",
   "execution_count": null,
   "metadata": {
    "colab": {
     "base_uri": "https://localhost:8080/"
    },
    "id": "3cQxbCf6hQQ0",
    "outputId": "be4397d8-add8-4748-b011-4b91852f5892"
   },
   "outputs": [
    {
     "data": {
      "text/plain": [
       "[('Gdańsk', FreqDist({'placeName': 61})),\n",
       " ('Gdańska', FreqDist({'placeName': 34})),\n",
       " ('Gdańsku', FreqDist({'placeName': 23})),\n",
       " ('Polsce', FreqDist({'placeName': 10})),\n",
       " ('Polski', FreqDist({'placeName': 10})),\n",
       " ('Wisły', FreqDist({'geogName': 7})),\n",
       " ('Motławy', FreqDist({'geogName': 5})),\n",
       " ('Sopot', FreqDist({'placeName': 5})),\n",
       " ('Gdynia', FreqDist({'placeName': 4})),\n",
       " ('Westerplatte', FreqDist({'geogName': 4})),\n",
       " ('Europy', FreqDist({'geogName': 4})),\n",
       " ('Gdanczk', FreqDist({'placeName': 3})),\n",
       " ('Gdansk', FreqDist({'placeName': 3})),\n",
       " ('polskim', FreqDist({'placeName': 3})),\n",
       " ('polskich', FreqDist({'placeName': 3})),\n",
       " ('Prus', FreqDist({'geogName': 1, 'placeName': 2})),\n",
       " ('Gdańskie', FreqDist({'placeName': 3})),\n",
       " ('gdańskiej', FreqDist({'placeName': 3})),\n",
       " ('Nowy Port', FreqDist({'placeName': 3})),\n",
       " ('XIX wieku', FreqDist({'date': 3}))]"
      ]
     },
     "execution_count": 9,
     "metadata": {
      "tags": []
     },
     "output_type": "execute_result"
    }
   ],
   "source": [
    "from nltk import FreqDist\n",
    "\n",
    "# Najczęstsze nazwy wskazane przez spaCy\n",
    "names_spacy_lexems = {}\n",
    "for name in names_spacy:\n",
    "  names_spacy_lexems.setdefault(name.text, FreqDist()).update([name.label_])\n",
    "\n",
    "names_spacy_lexems_sorted = sorted(names_spacy_lexems.items(), key=lambda x: x[1].N(), reverse=True)\n",
    "names_spacy_lexems_sorted[:20]"
   ]
  },
  {
   "cell_type": "code",
   "execution_count": null,
   "metadata": {
    "id": "s8QNJXJujDmB"
   },
   "outputs": [],
   "source": [
    "names_kpwr_lexems = {}\n",
    "\n",
    "for name in names_kpwr:\n",
    "  names_kpwr_lexems.setdefault(name.text, FreqDist()).update([name.label])"
   ]
  },
  {
   "cell_type": "code",
   "execution_count": null,
   "metadata": {
    "colab": {
     "base_uri": "https://localhost:8080/"
    },
    "id": "DxpuwxXpn_IF",
    "outputId": "9c982ca2-833c-445a-bc61-a800d51fbad4"
   },
   "outputs": [
    {
     "name": "stdout",
     "output_type": "stream",
     "text": [
      "Gdańsk               [spaCy] (61) placeName                  [PDN2] (58) nam_loc_gpe_city, ( 1) nam_org_institution, ( 1) nam_org_group_team, ( 2) nam_fac_goe_stop\n",
      "Gdańska              [spaCy] (34) placeName                  [PDN2] (28) nam_loc_gpe_city, ( 1) nam_adj_city, ( 1) nam_pro_award\n",
      "Gdańsku              [spaCy] (23) placeName                  [PDN2] (28) nam_loc_gpe_city, ( 1) nam_fac_goe\n",
      "Polsce               [spaCy] (10) placeName                  [PDN2] (10) nam_loc_gpe_country\n",
      "Polski               [spaCy] (10) placeName                  [PDN2] (10) nam_loc_gpe_country\n",
      "Wisły                [spaCy] ( 7) geogName                   [PDN2] ( 7) nam_loc_hydronym_river\n",
      "Motławy              [spaCy] ( 5) geogName                   [PDN2] ( 4) nam_loc_hydronym_river, ( 1) nam_loc_hydronym_lake\n",
      "Sopot                [spaCy] ( 5) placeName                  [PDN2] ( 4) nam_loc_gpe_city\n",
      "Gdynia               [spaCy] ( 4) placeName                  [PDN2] ( 4) nam_loc_gpe_city\n",
      "Westerplatte         [spaCy] ( 4) geogName                   [PDN2] ( 3) nam_loc_gpe_city, ( 1) nam_loc_land_island\n",
      "Europy               [spaCy] ( 4) geogName                   [PDN2] brak\n",
      "Gdanczk              [spaCy] ( 3) placeName                  [PDN2] ( 3) nam_loc_gpe_city\n",
      "Gdansk               [spaCy] ( 3) placeName                  [PDN2] ( 2) nam_loc_gpe_city\n",
      "polskim              [spaCy] ( 3) placeName                  [PDN2] ( 3) nam_adj_country\n",
      "polskich             [spaCy] ( 3) placeName                  [PDN2] ( 2) nam_adj_country\n",
      "Prus                 [spaCy] ( 2) placeName, ( 1) geogName   [PDN2] ( 2) nam_loc_gpe_country\n",
      "Gdańskie             [spaCy] ( 3) placeName                  [PDN2] brak\n",
      "gdańskiej            [spaCy] ( 3) placeName                  [PDN2] ( 2) nam_adj_country, ( 1) nam_loc_gpe_admin1\n",
      "Nowy Port            [spaCy] ( 3) placeName                  [PDN2] ( 2) nam_loc_gpe_city\n",
      "XIX wieku            [spaCy] ( 3) date                       [PDN2] brak\n"
     ]
    }
   ],
   "source": [
    "# Porównanie kategorii spaCy i PolDeepNer2 (KPWr)\n",
    "\n",
    "for name, spacy_categories in names_spacy_lexems_sorted[:20]:\n",
    "  spacy_categories = [\"(%2d) %s\" % (count, name) for name, count in spacy_categories.items()]\n",
    "  kpwr_categories = [\"brak\"]\n",
    "  if name in names_kpwr_lexems:\n",
    "    kpwr_categories = [\"(%2d) %s\" % (count, name) for name, count in names_kpwr_lexems.get(name).items()]\n",
    "\n",
    "  print(\"%-20s [spaCy] %-30s  [PDN2] %s\" % (name, \", \".join(spacy_categories), \", \".join(kpwr_categories)))"
   ]
  },
  {
   "cell_type": "markdown",
   "metadata": {
    "id": "QJmr6MKt2n5O"
   },
   "source": [
    "#### Wypisanie kontekstu"
   ]
  },
  {
   "cell_type": "code",
   "execution_count": null,
   "metadata": {
    "colab": {
     "base_uri": "https://localhost:8080/"
    },
    "id": "mnSExjMis2hD",
    "outputId": "a2d12abb-c651-441e-960b-3852ca9f0bd1"
   },
   "outputs": [
    {
     "name": "stdout",
     "output_type": "stream",
     "text": [
      " sanitarne lądowisko [Gdańsk]-Zaspa, a rok później\n",
      " Dębinki otwarto lądowisko [Gdańsk]-Szpital UCK.\n"
     ]
    }
   ],
   "source": [
    "for sentence, names in sentence_kpwr_annotations:\n",
    "  names_filtered = [name for name in names if name.label == \"nam_fac_goe_stop\" and name.text == \"Gdańsk\"]\n",
    "  for an in names_filtered:\n",
    "    context_begin = an.begin-20\n",
    "    context_begin = (\" \" + sentence[0:context_begin]).rindex(\" \")\n",
    "    context_begin = 0 if context_begin == 0 else context_begin - 1\n",
    "\n",
    "    context_end = an.end+20\n",
    "    context_end += (sentence[context_end:-1] + \" \").index(\" \")\n",
    "\n",
    "    print(sentence[context_begin:an.begin] + \"[\" + sentence[an.begin:an.end] + \"]\" + sentence[an.end:context_end])"
   ]
  },
  {
   "cell_type": "markdown",
   "metadata": {
    "id": "V0RwNVUa2uRI"
   },
   "source": [
    "#### Zawieranie się jednostek"
   ]
  },
  {
   "cell_type": "code",
   "execution_count": null,
   "metadata": {
    "colab": {
     "base_uri": "https://localhost:8080/"
    },
    "id": "PLxKOUupq1um",
    "outputId": "29c45439-1cb3-4ece-f487-b8bb3fc2f2cd"
   },
   "outputs": [
    {
     "name": "stdout",
     "output_type": "stream",
     "text": [
      "Mistrzostw Europy w Koszykówce Mężczyzn 2009 [('nam_eve_human_sport', 1)]\n",
      "Mistrzostw Europy w Piłce Nożnej 2012 [('nam_eve_human_sport', 1)]\n",
      "Mistrzostw Europy w Piłce Siatkowej Mężczyzn 2013 [('nam_eve_human_sport', 1)]\n",
      "Mistrzostw Europy w Piłce Ręcznej Mężczyzn 2016 [('nam_eve_human_sport', 1)]\n"
     ]
    }
   ],
   "source": [
    "for name, freqs in names_kpwr_lexems.items():\n",
    "  if \"Europy\" in name and name not in names_spacy_lexems:\n",
    "    print(f\"{name:<20} {freqs.most_common(5)}\")"
   ]
  },
  {
   "cell_type": "code",
   "execution_count": null,
   "metadata": {
    "colab": {
     "base_uri": "https://localhost:8080/"
    },
    "id": "4VUEYKq7sIcf",
    "outputId": "8c5f4273-84ee-441e-d35f-06e2d4dff0cd"
   },
   "outputs": [
    {
     "name": "stdout",
     "output_type": "stream",
     "text": [
      "Konstytucje Gdańskie [('nam_pro_title_document', 1)]\n",
      "Wojny Rzeczypospolitej z Gdańskiem [('nam_eve_human', 1)]\n",
      "Międzynarodowe Targi Gdańskie [('nam_eve_human', 1)]\n",
      "Gdańskie Autobusy i Tramwaje [('nam_org_company', 1)]\n",
      "Gdańskie Noce Jazsowe [('nam_eve_human_cultural', 1)]\n"
     ]
    }
   ],
   "source": [
    "for name, freqs in names_kpwr_lexems.items():\n",
    "  if \"Gdańskie\" in name and name not in names_spacy_lexems:\n",
    "    print(f\"{name:<20} {freqs.most_common(5)}\")"
   ]
  }
 ],
 "metadata": {
  "accelerator": "GPU",
  "colab": {
   "collapsed_sections": [],
   "name": "L6.4-ner-zadania-rozwiazania.ipynb",
   "provenance": [],
   "toc_visible": true
  },
  "kernelspec": {
   "display_name": "Python 3",
   "language": "python",
   "name": "python3"
  },
  "language_info": {
   "codemirror_mode": {
    "name": "ipython",
    "version": 3
   },
   "file_extension": ".py",
   "mimetype": "text/x-python",
   "name": "python",
   "nbconvert_exporter": "python",
   "pygments_lexer": "ipython3",
   "version": "3.6.9"
  }
 },
 "nbformat": 4,
 "nbformat_minor": 1
}
